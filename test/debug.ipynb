{
  "nbformat": 4,
  "nbformat_minor": 0,
  "metadata": {
    "colab": {
      "name": "debug.ipynb",
      "provenance": [],
      "collapsed_sections": [
        "GpFuUCjXAHCM"
      ],
      "authorship_tag": "ABX9TyOOQb1mfbyKhIMsAwBXzZHk",
      "include_colab_link": true
    },
    "kernelspec": {
      "name": "python3",
      "display_name": "Python 3"
    },
    "language_info": {
      "name": "python"
    }
  },
  "cells": [
    {
      "cell_type": "markdown",
      "metadata": {
        "id": "view-in-github",
        "colab_type": "text"
      },
      "source": [
        "<a href=\"https://colab.research.google.com/github/sbooeshaghi/mx/blob/master/test/debug.ipynb\" target=\"_parent\"><img src=\"https://colab.research.google.com/assets/colab-badge.svg\" alt=\"Open In Colab\"/></a>"
      ]
    },
    {
      "cell_type": "code",
      "metadata": {
        "colab": {
          "base_uri": "https://localhost:8080/"
        },
        "id": "f3sf1jbO4RY6",
        "outputId": "64aaa4ae-61c8-4c6a-dd2e-a1bacfaebb51"
      },
      "source": [
        "!pip install --quiet -U scikit-learn kb_python anndata upsetplot"
      ],
      "execution_count": 159,
      "outputs": [
        {
          "output_type": "stream",
          "name": "stdout",
          "text": [
            "  Building wheel for upsetplot (setup.py) ... \u001b[?25l\u001b[?25hdone\n"
          ]
        }
      ]
    },
    {
      "cell_type": "code",
      "metadata": {
        "colab": {
          "base_uri": "https://localhost:8080/"
        },
        "id": "i3dZpiGf4UQz",
        "outputId": "8de6c2ae-07ec-46cd-8883-a7ebbf32f8f8"
      },
      "source": [
        "!git clone https://github.com/sbooeshaghi/sim.git"
      ],
      "execution_count": 2,
      "outputs": [
        {
          "output_type": "stream",
          "name": "stdout",
          "text": [
            "Cloning into 'sim'...\n",
            "remote: Enumerating objects: 47, done.\u001b[K\n",
            "remote: Counting objects: 100% (47/47), done.\u001b[K\n",
            "remote: Compressing objects: 100% (38/38), done.\u001b[K\n",
            "remote: Total 47 (delta 10), reused 46 (delta 9), pack-reused 0\u001b[K\n",
            "Unpacking objects: 100% (47/47), done.\n"
          ]
        }
      ]
    },
    {
      "cell_type": "code",
      "metadata": {
        "id": "VOq__Nef4Yua"
      },
      "source": [
        "!gunzip -r sim/*"
      ],
      "execution_count": 3,
      "outputs": []
    },
    {
      "cell_type": "code",
      "metadata": {
        "cellView": "form",
        "id": "F5SewR0P4ZUI"
      },
      "source": [
        "#@title sklearn/mixture/_base.py\n",
        "\n",
        "\"\"\"Base class for mixture models.\"\"\"\n",
        "\n",
        "# sklearn/mixture/_base.py\n",
        "\n",
        "# Author: Wei Xue <xuewei4d@gmail.com>\n",
        "# Modified by Thierry Guillemot <thierry.guillemot.work@gmail.com>\n",
        "# License: BSD 3 clause\n",
        "\n",
        "import warnings\n",
        "from abc import ABCMeta, abstractmethod\n",
        "from time import time\n",
        "\n",
        "import numpy as np\n",
        "from scipy.special import logsumexp\n",
        "\n",
        "from sklearn import cluster\n",
        "from sklearn.base import BaseEstimator\n",
        "from sklearn.base import DensityMixin\n",
        "from sklearn.exceptions import ConvergenceWarning\n",
        "from sklearn.utils import check_random_state\n",
        "from sklearn.utils.validation import check_is_fitted\n",
        "\n",
        "\n",
        "def _check_shape(param, param_shape, name):\n",
        "    \"\"\"Validate the shape of the input parameter 'param'.\n",
        "\n",
        "    Parameters\n",
        "    ----------\n",
        "    param : array\n",
        "\n",
        "    param_shape : tuple\n",
        "\n",
        "    name : str\n",
        "    \"\"\"\n",
        "    param = np.array(param)\n",
        "    if param.shape != param_shape:\n",
        "        raise ValueError(\n",
        "            \"The parameter '%s' should have the shape of %s, but got %s\" %\n",
        "            (name, param_shape, param.shape))\n",
        "\n",
        "\n",
        "class BaseMixture(DensityMixin, BaseEstimator, metaclass=ABCMeta):\n",
        "    \"\"\"Base class for mixture models.\n",
        "\n",
        "    This abstract class specifies an interface for all mixture classes and\n",
        "    provides basic common methods for mixture models.\n",
        "    \"\"\"\n",
        "    def __init__(\n",
        "        self,\n",
        "        n_components,\n",
        "        tol,\n",
        "        reg_covar,\n",
        "        max_iter,\n",
        "        n_init,\n",
        "        init_params,\n",
        "        random_state,\n",
        "        warm_start,\n",
        "        verbose,\n",
        "        verbose_interval,\n",
        "    ):\n",
        "        self.n_components = n_components\n",
        "        self.tol = tol\n",
        "        self.reg_covar = reg_covar\n",
        "        self.max_iter = max_iter\n",
        "        self.n_init = n_init\n",
        "        self.init_params = init_params\n",
        "        self.random_state = random_state\n",
        "        self.warm_start = warm_start\n",
        "        self.verbose = verbose\n",
        "        self.verbose_interval = verbose_interval\n",
        "\n",
        "    def _check_initial_parameters(self, X):\n",
        "        \"\"\"Check values of the basic parameters.\n",
        "\n",
        "        Parameters\n",
        "        ----------\n",
        "        X : array-like of shape (n_samples, n_features)\n",
        "        \"\"\"\n",
        "        if self.n_components < 1:\n",
        "            raise ValueError(\"Invalid value for 'n_components': %d \"\n",
        "                             \"Estimation requires at least one component\" %\n",
        "                             self.n_components)\n",
        "\n",
        "        if self.tol < 0.0:\n",
        "            raise ValueError(\"Invalid value for 'tol': %.5f \"\n",
        "                             \"Tolerance used by the EM must be non-negative\" %\n",
        "                             self.tol)\n",
        "\n",
        "        if self.n_init < 1:\n",
        "            raise ValueError(\n",
        "                \"Invalid value for 'n_init': %d Estimation requires at least one run\"\n",
        "                % self.n_init)\n",
        "\n",
        "        if self.max_iter < 1:\n",
        "            raise ValueError(\"Invalid value for 'max_iter': %d \"\n",
        "                             \"Estimation requires at least one iteration\" %\n",
        "                             self.max_iter)\n",
        "\n",
        "        if self.reg_covar < 0.0:\n",
        "            raise ValueError(\"Invalid value for 'reg_covar': %.5f \"\n",
        "                             \"regularization on covariance must be \"\n",
        "                             \"non-negative\" % self.reg_covar)\n",
        "\n",
        "        # Check all the parameters values of the derived class\n",
        "        self._check_parameters(X)\n",
        "\n",
        "    @abstractmethod\n",
        "    def _check_parameters(self, X):\n",
        "        \"\"\"Check initial parameters of the derived class.\n",
        "\n",
        "        Parameters\n",
        "        ----------\n",
        "        X : array-like of shape  (n_samples, n_features)\n",
        "        \"\"\"\n",
        "        pass\n",
        "\n",
        "    def _initialize_parameters(self, X, random_state, B=None, resp=None):\n",
        "        \"\"\"Initialize the model parameters.\n",
        "\n",
        "        Parameters\n",
        "        ----------\n",
        "        X : array-like of shape  (n_samples, n_features)\n",
        "\n",
        "        random_state : RandomState\n",
        "            A random number generator instance that controls the random seed\n",
        "            used for the method chosen to initialize the parameters.\n",
        "        \"\"\"\n",
        "        n_samples, _ = X.shape\n",
        "\n",
        "        if self.init_params == \"kmeans\":\n",
        "            resp = np.zeros((n_samples, self.n_components))\n",
        "            label = (cluster.KMeans(n_clusters=self.n_components,\n",
        "                                    n_init=1,\n",
        "                                    random_state=random_state).fit(X).labels_)\n",
        "            resp[np.arange(n_samples), label] = 1\n",
        "        elif self.init_params == \"random\":\n",
        "          if resp is None:\n",
        "            resp = random_state.rand(n_samples, self.n_components)\n",
        "            resp /= resp.sum(axis=1)[:, np.newaxis]\n",
        "        else:\n",
        "            raise ValueError(\"Unimplemented initialization method '%s'\" %\n",
        "                             self.init_params)\n",
        "\n",
        "        self._initialize(X, resp, B)\n",
        "\n",
        "    @abstractmethod\n",
        "    def _initialize(self, X, resp, B=None):\n",
        "        \"\"\"Initialize the model parameters of the derived class.\n",
        "\n",
        "        Parameters\n",
        "        ----------\n",
        "        X : array-like of shape  (n_samples, n_features)\n",
        "\n",
        "        resp : array-like of shape (n_samples, n_components)\n",
        "        \"\"\"\n",
        "        pass\n",
        "\n",
        "    def fit(self, X, y=None):\n",
        "        \"\"\"Estimate model parameters with the EM algorithm.\n",
        "\n",
        "        The method fits the model ``n_init`` times and sets the parameters with\n",
        "        which the model has the largest likelihood or lower bound. Within each\n",
        "        trial, the method iterates between E-step and M-step for ``max_iter``\n",
        "        times until the change of likelihood or lower bound is less than\n",
        "        ``tol``, otherwise, a ``ConvergenceWarning`` is raised.\n",
        "        If ``warm_start`` is ``True``, then ``n_init`` is ignored and a single\n",
        "        initialization is performed upon the first call. Upon consecutive\n",
        "        calls, training starts where it left off.\n",
        "\n",
        "        Parameters\n",
        "        ----------\n",
        "        X : array-like of shape (n_samples, n_features)\n",
        "            List of n_features-dimensional data points. Each row\n",
        "            corresponds to a single data point.\n",
        "\n",
        "        y : Ignored\n",
        "            Not used, present for API consistency by convention.\n",
        "\n",
        "        Returns\n",
        "        -------\n",
        "        self : object\n",
        "            The fitted mixture.\n",
        "        \"\"\"\n",
        "        self.fit_predict(X, y)\n",
        "        return self\n",
        "\n",
        "    def fit_predict(self, X, y=None, B=None, resp=None):\n",
        "        \"\"\"Estimate model parameters using X and predict the labels for X.\n",
        "\n",
        "        The method fits the model n_init times and sets the parameters with\n",
        "        which the model has the largest likelihood or lower bound. Within each\n",
        "        trial, the method iterates between E-step and M-step for `max_iter`\n",
        "        times until the change of likelihood or lower bound is less than\n",
        "        `tol`, otherwise, a :class:`~sklearn.exceptions.ConvergenceWarning` is\n",
        "        raised. After fitting, it predicts the most probable label for the\n",
        "        input data points.\n",
        "\n",
        "        .. versionadded:: 0.20\n",
        "\n",
        "        Parameters\n",
        "        ----------\n",
        "        X : array-like of shape (n_samples, n_features)\n",
        "            List of n_features-dimensional data points. Each row\n",
        "            corresponds to a single data point.\n",
        "\n",
        "        y : Ignored\n",
        "            Not used, present for API consistency by convention.\n",
        "\n",
        "        Returns\n",
        "        -------\n",
        "        labels : array, shape (n_samples,)\n",
        "            Component labels.\n",
        "        \"\"\"\n",
        "        X = self._validate_data(X,\n",
        "                                dtype=[np.float64, np.float32],\n",
        "                                ensure_min_samples=2)\n",
        "        if X.shape[0] < self.n_components:\n",
        "            raise ValueError(\"Expected n_samples >= n_components \"\n",
        "                             f\"but got n_components = {self.n_components}, \"\n",
        "                             f\"n_samples = {X.shape[0]}\")\n",
        "        self._check_initial_parameters(X)\n",
        "\n",
        "        # if we enable warm_start, we will have a unique initialisation\n",
        "        do_init = not (self.warm_start and hasattr(self, \"converged_\"))\n",
        "        n_init = self.n_init if do_init else 1\n",
        "\n",
        "        max_lower_bound = -np.inf\n",
        "        self.converged_ = False\n",
        "\n",
        "        random_state = check_random_state(self.random_state)\n",
        "\n",
        "        n_samples, _ = X.shape\n",
        "        for init in range(n_init):\n",
        "            self._print_verbose_msg_init_beg(init)\n",
        "\n",
        "            if do_init:\n",
        "                self._initialize_parameters(X, random_state, B=B, resp=resp)\n",
        "\n",
        "            lower_bound = -np.inf if do_init else self.lower_bound_\n",
        "\n",
        "            for n_iter in range(1, self.max_iter + 1):\n",
        "                prev_lower_bound = lower_bound\n",
        "\n",
        "                log_prob_norm, log_resp = self._e_step(X)\n",
        "                self._m_step(X, log_resp, B)\n",
        "                lower_bound = self._compute_lower_bound(\n",
        "                    log_resp, log_prob_norm)\n",
        "\n",
        "                change = lower_bound - prev_lower_bound\n",
        "                self._print_verbose_msg_iter_end(n_iter, change)\n",
        "\n",
        "                if abs(change) < self.tol:\n",
        "                    self.converged_ = True\n",
        "                    break\n",
        "\n",
        "            self._print_verbose_msg_init_end(lower_bound)\n",
        "\n",
        "            if lower_bound > max_lower_bound or max_lower_bound == -np.inf:\n",
        "                max_lower_bound = lower_bound\n",
        "                best_params = self._get_parameters()\n",
        "                best_n_iter = n_iter\n",
        "\n",
        "        if not self.converged_:\n",
        "            warnings.warn(\n",
        "                \"Initialization %d did not converge. \"\n",
        "                \"Try different init parameters, \"\n",
        "                \"or increase max_iter, tol \"\n",
        "                \"or check for degenerate data.\" % (init + 1),\n",
        "                ConvergenceWarning,\n",
        "            )\n",
        "\n",
        "        self._set_parameters(best_params)\n",
        "        self.n_iter_ = best_n_iter\n",
        "        self.lower_bound_ = max_lower_bound\n",
        "\n",
        "        # Always do a final e-step to guarantee that the labels returned by\n",
        "        # fit_predict(X) are always consistent with fit(X).predict(X)\n",
        "        # for any value of max_iter and tol (and any random_state).\n",
        "        _, log_resp = self._e_step(X)\n",
        "\n",
        "        return log_resp.argmax(axis=1)\n",
        "\n",
        "    def _e_step(self, X):\n",
        "        \"\"\"E step.\n",
        "\n",
        "        Parameters\n",
        "        ----------\n",
        "        X : array-like of shape (n_samples, n_features)\n",
        "\n",
        "        Returns\n",
        "        -------\n",
        "        log_prob_norm : float\n",
        "            Mean of the logarithms of the probabilities of each sample in X\n",
        "\n",
        "        log_responsibility : array, shape (n_samples, n_components)\n",
        "            Logarithm of the posterior probabilities (or responsibilities) of\n",
        "            the point of each sample in X.\n",
        "        \"\"\"\n",
        "        log_prob_norm, log_resp = self._estimate_log_prob_resp(X)\n",
        "        return np.mean(log_prob_norm), log_resp\n",
        "\n",
        "    @abstractmethod\n",
        "    def _m_step(self, X, log_resp, B=None):\n",
        "        \"\"\"M step.\n",
        "\n",
        "        Parameters\n",
        "        ----------\n",
        "        X : array-like of shape (n_samples, n_features)\n",
        "\n",
        "        log_resp : array-like of shape (n_samples, n_components)\n",
        "            Logarithm of the posterior probabilities (or responsibilities) of\n",
        "            the point of each sample in X.\n",
        "        \"\"\"\n",
        "        pass\n",
        "\n",
        "    @abstractmethod\n",
        "    def _get_parameters(self):\n",
        "        pass\n",
        "\n",
        "    @abstractmethod\n",
        "    def _set_parameters(self, params):\n",
        "        pass\n",
        "\n",
        "    def score_samples(self, X):\n",
        "        \"\"\"Compute the log-likelihood of each sample.\n",
        "\n",
        "        Parameters\n",
        "        ----------\n",
        "        X : array-like of shape (n_samples, n_features)\n",
        "            List of n_features-dimensional data points. Each row\n",
        "            corresponds to a single data point.\n",
        "\n",
        "        Returns\n",
        "        -------\n",
        "        log_prob : array, shape (n_samples,)\n",
        "            Log-likelihood of each sample in `X` under the current model.\n",
        "        \"\"\"\n",
        "        check_is_fitted(self)\n",
        "        X = self._validate_data(X, reset=False)\n",
        "\n",
        "        return logsumexp(self._estimate_weighted_log_prob(X), axis=1)\n",
        "\n",
        "    def score(self, X, y=None):\n",
        "        \"\"\"Compute the per-sample average log-likelihood of the given data X.\n",
        "\n",
        "        Parameters\n",
        "        ----------\n",
        "        X : array-like of shape (n_samples, n_dimensions)\n",
        "            List of n_features-dimensional data points. Each row\n",
        "            corresponds to a single data point.\n",
        "\n",
        "        y : Ignored\n",
        "            Not used, present for API consistency by convention.\n",
        "\n",
        "        Returns\n",
        "        -------\n",
        "        log_likelihood : float\n",
        "            Log-likelihood of `X` under the Gaussian mixture model.\n",
        "        \"\"\"\n",
        "        return self.score_samples(X).mean()\n",
        "\n",
        "    def predict(self, X):\n",
        "        \"\"\"Predict the labels for the data samples in X using trained model.\n",
        "\n",
        "        Parameters\n",
        "        ----------\n",
        "        X : array-like of shape (n_samples, n_features)\n",
        "            List of n_features-dimensional data points. Each row\n",
        "            corresponds to a single data point.\n",
        "\n",
        "        Returns\n",
        "        -------\n",
        "        labels : array, shape (n_samples,)\n",
        "            Component labels.\n",
        "        \"\"\"\n",
        "        check_is_fitted(self)\n",
        "        X = self._validate_data(X, reset=False)\n",
        "        return self._estimate_weighted_log_prob(X).argmax(axis=1)\n",
        "\n",
        "    def predict_proba(self, X):\n",
        "        \"\"\"Evaluate the components' density for each sample.\n",
        "\n",
        "        Parameters\n",
        "        ----------\n",
        "        X : array-like of shape (n_samples, n_features)\n",
        "            List of n_features-dimensional data points. Each row\n",
        "            corresponds to a single data point.\n",
        "\n",
        "        Returns\n",
        "        -------\n",
        "        resp : array, shape (n_samples, n_components)\n",
        "            Density of each Gaussian component for each sample in X.\n",
        "        \"\"\"\n",
        "        check_is_fitted(self)\n",
        "        X = self._validate_data(X, reset=False)\n",
        "        _, log_resp = self._estimate_log_prob_resp(X)\n",
        "        return np.exp(log_resp)\n",
        "\n",
        "    def sample(self, n_samples=1):\n",
        "        \"\"\"Generate random samples from the fitted Gaussian distribution.\n",
        "\n",
        "        Parameters\n",
        "        ----------\n",
        "        n_samples : int, default=1\n",
        "            Number of samples to generate.\n",
        "\n",
        "        Returns\n",
        "        -------\n",
        "        X : array, shape (n_samples, n_features)\n",
        "            Randomly generated sample.\n",
        "\n",
        "        y : array, shape (nsamples,)\n",
        "            Component labels.\n",
        "        \"\"\"\n",
        "        check_is_fitted(self)\n",
        "\n",
        "        if n_samples < 1:\n",
        "            raise ValueError(\n",
        "                \"Invalid value for 'n_samples': %d . The sampling requires at \"\n",
        "                \"least one sample.\" % (self.n_components))\n",
        "\n",
        "        _, n_features = self.means_.shape\n",
        "        rng = check_random_state(self.random_state)\n",
        "        n_samples_comp = rng.multinomial(n_samples, self.weights_)\n",
        "\n",
        "        if self.covariance_type == \"full\":\n",
        "            X = np.vstack([\n",
        "                rng.multivariate_normal(mean, covariance, int(sample))\n",
        "                for (mean, covariance, sample\n",
        "                     ) in zip(self.means_, self.covariances_, n_samples_comp)\n",
        "            ])\n",
        "        elif self.covariance_type == \"tied\":\n",
        "            X = np.vstack([\n",
        "                rng.multivariate_normal(mean, self.covariances_, int(sample))\n",
        "                for (mean, sample) in zip(self.means_, n_samples_comp)\n",
        "            ])\n",
        "        else:\n",
        "            X = np.vstack([\n",
        "                mean + rng.randn(sample, n_features) * np.sqrt(covariance)\n",
        "                for (mean, covariance, sample\n",
        "                     ) in zip(self.means_, self.covariances_, n_samples_comp)\n",
        "            ])\n",
        "\n",
        "        y = np.concatenate([\n",
        "            np.full(sample, j, dtype=int)\n",
        "            for j, sample in enumerate(n_samples_comp)\n",
        "        ])\n",
        "\n",
        "        return (X, y)\n",
        "\n",
        "    def _estimate_weighted_log_prob(self, X):\n",
        "        \"\"\"Estimate the weighted log-probabilities, log P(X | Z) + log weights.\n",
        "\n",
        "        Parameters\n",
        "        ----------\n",
        "        X : array-like of shape (n_samples, n_features)\n",
        "\n",
        "        Returns\n",
        "        -------\n",
        "        weighted_log_prob : array, shape (n_samples, n_component)\n",
        "        \"\"\"\n",
        "        return self._estimate_log_prob(X) + self._estimate_log_weights()\n",
        "\n",
        "    @abstractmethod\n",
        "    def _estimate_log_weights(self):\n",
        "        \"\"\"Estimate log-weights in EM algorithm, E[ log pi ] in VB algorithm.\n",
        "\n",
        "        Returns\n",
        "        -------\n",
        "        log_weight : array, shape (n_components, )\n",
        "        \"\"\"\n",
        "        pass\n",
        "\n",
        "    @abstractmethod\n",
        "    def _estimate_log_prob(self, X):\n",
        "        \"\"\"Estimate the log-probabilities log P(X | Z).\n",
        "\n",
        "        Compute the log-probabilities per each component for each sample.\n",
        "\n",
        "        Parameters\n",
        "        ----------\n",
        "        X : array-like of shape (n_samples, n_features)\n",
        "\n",
        "        Returns\n",
        "        -------\n",
        "        log_prob : array, shape (n_samples, n_component)\n",
        "        \"\"\"\n",
        "        pass\n",
        "\n",
        "    def _estimate_log_prob_resp(self, X):\n",
        "        \"\"\"Estimate log probabilities and responsibilities for each sample.\n",
        "\n",
        "        Compute the log probabilities, weighted log probabilities per\n",
        "        component and responsibilities for each sample in X with respect to\n",
        "        the current state of the model.\n",
        "\n",
        "        Parameters\n",
        "        ----------\n",
        "        X : array-like of shape (n_samples, n_features)\n",
        "\n",
        "        Returns\n",
        "        -------\n",
        "        log_prob_norm : array, shape (n_samples,)\n",
        "            log p(X)\n",
        "\n",
        "        log_responsibilities : array, shape (n_samples, n_components)\n",
        "            logarithm of the responsibilities\n",
        "        \"\"\"\n",
        "        weighted_log_prob = self._estimate_weighted_log_prob(X)\n",
        "        log_prob_norm = logsumexp(weighted_log_prob, axis=1)\n",
        "        with np.errstate(under=\"ignore\"):\n",
        "            # ignore underflow\n",
        "            log_resp = weighted_log_prob - log_prob_norm[:, np.newaxis]\n",
        "        return log_prob_norm, log_resp\n",
        "\n",
        "    def _print_verbose_msg_init_beg(self, n_init):\n",
        "        \"\"\"Print verbose message on initialization.\"\"\"\n",
        "        if self.verbose == 1:\n",
        "            print(\"Initialization %d\" % n_init)\n",
        "        elif self.verbose >= 2:\n",
        "            print(\"Initialization %d\" % n_init)\n",
        "            self._init_prev_time = time()\n",
        "            self._iter_prev_time = self._init_prev_time\n",
        "\n",
        "    def _print_verbose_msg_iter_end(self, n_iter, diff_ll):\n",
        "        \"\"\"Print verbose message on initialization.\"\"\"\n",
        "        if n_iter % self.verbose_interval == 0:\n",
        "            if self.verbose == 1:\n",
        "                print(\"  Iteration %d\" % n_iter)\n",
        "            elif self.verbose >= 2:\n",
        "                cur_time = time()\n",
        "                print(\"  Iteration %d\\t time lapse %.5fs\\t ll change %.5f\" %\n",
        "                      (n_iter, cur_time - self._iter_prev_time, diff_ll))\n",
        "                self._iter_prev_time = cur_time\n",
        "\n",
        "    def _print_verbose_msg_init_end(self, ll):\n",
        "        \"\"\"Print verbose message on the end of iteration.\"\"\"\n",
        "        if self.verbose == 1:\n",
        "            print(\"Initialization converged: %s\" % self.converged_)\n",
        "        elif self.verbose >= 2:\n",
        "            print(\"Initialization converged: %s\\t time lapse %.5fs\\t ll %.5f\" %\n",
        "                  (self.converged_, time() - self._init_prev_time, ll))"
      ],
      "execution_count": 4,
      "outputs": []
    },
    {
      "cell_type": "code",
      "metadata": {
        "cellView": "form",
        "id": "7nr95-JE5LKh"
      },
      "source": [
        "#@title sklearn/mixture/_gaussian_mixture.py \n",
        "\n",
        "\"\"\"Gaussian Mixture Model.\"\"\"\n",
        "\n",
        "# sklearn/mixture/_gaussian_mixture.py \n",
        "\n",
        "# Author: Wei Xue <xuewei4d@gmail.com>\n",
        "# Modified by Thierry Guillemot <thierry.guillemot.work@gmail.com>\n",
        "# License: BSD 3 clause\n",
        "\n",
        "import numpy as np\n",
        "\n",
        "from scipy import linalg\n",
        "\n",
        "# from ._base import BaseMixture, _check_shape these come from cell above\n",
        "from sklearn.utils import check_array\n",
        "from sklearn.utils.extmath import row_norms\n",
        "\n",
        "###############################################################################\n",
        "# Gaussian mixture shape checkers used by the GaussianMixture class\n",
        "\n",
        "\n",
        "def _check_weights(weights, n_components):\n",
        "    \"\"\"Check the user provided 'weights'.\n",
        "\n",
        "    Parameters\n",
        "    ----------\n",
        "    weights : array-like of shape (n_components,)\n",
        "        The proportions of components of each mixture.\n",
        "\n",
        "    n_components : int\n",
        "        Number of components.\n",
        "\n",
        "    Returns\n",
        "    -------\n",
        "    weights : array, shape (n_components,)\n",
        "    \"\"\"\n",
        "    weights = check_array(weights,\n",
        "                          dtype=[np.float64, np.float32],\n",
        "                          ensure_2d=False)\n",
        "    _check_shape(weights, (n_components, ), \"weights\")\n",
        "\n",
        "    # check range\n",
        "    if any(np.less(weights, 0.0)) or any(np.greater(weights, 1.0)):\n",
        "        raise ValueError(\"The parameter 'weights' should be in the range \"\n",
        "                         \"[0, 1], but got max value %.5f, min value %.5f\" %\n",
        "                         (np.min(weights), np.max(weights)))\n",
        "\n",
        "    # check normalization\n",
        "    if not np.allclose(np.abs(1.0 - np.sum(weights)), 0.0):\n",
        "        raise ValueError(\n",
        "            \"The parameter 'weights' should be normalized, but got sum(weights) = %.5f\"\n",
        "            % np.sum(weights))\n",
        "    return weights\n",
        "\n",
        "\n",
        "def _check_means(means, n_components, n_features):\n",
        "    \"\"\"Validate the provided 'means'.\n",
        "\n",
        "    Parameters\n",
        "    ----------\n",
        "    means : array-like of shape (n_components, n_features)\n",
        "        The centers of the current components.\n",
        "\n",
        "    n_components : int\n",
        "        Number of components.\n",
        "\n",
        "    n_features : int\n",
        "        Number of features.\n",
        "\n",
        "    Returns\n",
        "    -------\n",
        "    means : array, (n_components, n_features)\n",
        "    \"\"\"\n",
        "    means = check_array(means, dtype=[np.float64, np.float32], ensure_2d=False)\n",
        "    _check_shape(means, (n_components, n_features), \"means\")\n",
        "    return means\n",
        "\n",
        "\n",
        "def _check_precision_positivity(precision, covariance_type):\n",
        "    \"\"\"Check a precision vector is positive-definite.\"\"\"\n",
        "    if np.any(np.less_equal(precision, 0.0)):\n",
        "        raise ValueError(\"'%s precision' should be positive\" % covariance_type)\n",
        "\n",
        "\n",
        "def _check_precision_matrix(precision, covariance_type):\n",
        "    \"\"\"Check a precision matrix is symmetric and positive-definite.\"\"\"\n",
        "    if not (np.allclose(precision, precision.T)\n",
        "            and np.all(linalg.eigvalsh(precision) > 0.0)):\n",
        "        raise ValueError(\n",
        "            \"'%s precision' should be symmetric, positive-definite\" %\n",
        "            covariance_type)\n",
        "\n",
        "\n",
        "def _check_precisions_full(precisions, covariance_type):\n",
        "    \"\"\"Check the precision matrices are symmetric and positive-definite.\"\"\"\n",
        "    for prec in precisions:\n",
        "        _check_precision_matrix(prec, covariance_type)\n",
        "\n",
        "\n",
        "def _check_precisions(precisions, covariance_type, n_components, n_features):\n",
        "    \"\"\"Validate user provided precisions.\n",
        "\n",
        "    Parameters\n",
        "    ----------\n",
        "    precisions : array-like\n",
        "        'full' : shape of (n_components, n_features, n_features)\n",
        "        'tied' : shape of (n_features, n_features)\n",
        "        'diag' : shape of (n_components, n_features)\n",
        "        'spherical' : shape of (n_components,)\n",
        "\n",
        "    covariance_type : str\n",
        "\n",
        "    n_components : int\n",
        "        Number of components.\n",
        "\n",
        "    n_features : int\n",
        "        Number of features.\n",
        "\n",
        "    Returns\n",
        "    -------\n",
        "    precisions : array\n",
        "    \"\"\"\n",
        "    precisions = check_array(\n",
        "        precisions,\n",
        "        dtype=[np.float64, np.float32],\n",
        "        ensure_2d=False,\n",
        "        allow_nd=covariance_type == \"full\",\n",
        "    )\n",
        "\n",
        "    precisions_shape = {\n",
        "        \"full\": (n_components, n_features, n_features),\n",
        "        \"tied\": (n_features, n_features),\n",
        "        \"diag\": (n_components, n_features),\n",
        "        \"spherical\": (n_components, ),\n",
        "    }\n",
        "    _check_shape(precisions, precisions_shape[covariance_type],\n",
        "                 \"%s precision\" % covariance_type)\n",
        "\n",
        "    _check_precisions = {\n",
        "        \"full\": _check_precisions_full,\n",
        "        \"tied\": _check_precision_matrix,\n",
        "        \"diag\": _check_precision_positivity,\n",
        "        \"spherical\": _check_precision_positivity,\n",
        "    }\n",
        "    _check_precisions[covariance_type](precisions, covariance_type)\n",
        "    return precisions\n",
        "\n",
        "\n",
        "###############################################################################\n",
        "# Gaussian mixture parameters estimators (used by the M-Step)\n",
        "\n",
        "\n",
        "def _estimate_gaussian_covariances_full(resp, X, nk, means, reg_covar):\n",
        "    \"\"\"Estimate the full covariance matrices.\n",
        "\n",
        "    Parameters\n",
        "    ----------\n",
        "    resp : array-like of shape (n_samples, n_components)\n",
        "\n",
        "    X : array-like of shape (n_samples, n_features)\n",
        "\n",
        "    nk : array-like of shape (n_components,)\n",
        "\n",
        "    means : array-like of shape (n_components, n_features)\n",
        "\n",
        "    reg_covar : float\n",
        "\n",
        "    Returns\n",
        "    -------\n",
        "    covariances : array, shape (n_components, n_features, n_features)\n",
        "        The covariance matrix of the current components.\n",
        "    \"\"\"\n",
        "    n_components, n_features = means.shape\n",
        "    covariances = np.empty((n_components, n_features, n_features))\n",
        "    for k in range(n_components):\n",
        "        diff = X - means[k]\n",
        "        covariances[k] = np.dot(resp[:, k] * diff.T, diff) / nk[k]\n",
        "        covariances[k].flat[::n_features + 1] += reg_covar\n",
        "    return covariances\n",
        "\n",
        "\n",
        "def _estimate_gaussian_covariances_tied(resp, X, nk, means, reg_covar):\n",
        "    \"\"\"Estimate the tied covariance matrix.\n",
        "\n",
        "    Parameters\n",
        "    ----------\n",
        "    resp : array-like of shape (n_samples, n_components)\n",
        "\n",
        "    X : array-like of shape (n_samples, n_features)\n",
        "\n",
        "    nk : array-like of shape (n_components,)\n",
        "\n",
        "    means : array-like of shape (n_components, n_features)\n",
        "\n",
        "    reg_covar : float\n",
        "\n",
        "    Returns\n",
        "    -------\n",
        "    covariance : array, shape (n_features, n_features)\n",
        "        The tied covariance matrix of the components.\n",
        "    \"\"\"\n",
        "    avg_X2 = np.dot(X.T, X)\n",
        "    avg_means2 = np.dot(nk * means.T, means)\n",
        "    covariance = avg_X2 - avg_means2\n",
        "    covariance /= nk.sum()\n",
        "    covariance.flat[::len(covariance) + 1] += reg_covar\n",
        "    return covariance\n",
        "\n",
        "\n",
        "def _estimate_gaussian_covariances_diag(resp, X, nk, means, reg_covar):\n",
        "    \"\"\"Estimate the diagonal covariance vectors.\n",
        "\n",
        "    Parameters\n",
        "    ----------\n",
        "    responsibilities : array-like of shape (n_samples, n_components)\n",
        "\n",
        "    X : array-like of shape (n_samples, n_features)\n",
        "\n",
        "    nk : array-like of shape (n_components,)\n",
        "\n",
        "    means : array-like of shape (n_components, n_features)\n",
        "\n",
        "    reg_covar : float\n",
        "\n",
        "    Returns\n",
        "    -------\n",
        "    covariances : array, shape (n_components, n_features)\n",
        "        The covariance vector of the current components.\n",
        "    \"\"\"\n",
        "    avg_X2 = np.dot(resp.T, X * X) / nk[:, np.newaxis]\n",
        "    avg_means2 = means**2\n",
        "    avg_X_means = means * np.dot(resp.T, X) / nk[:, np.newaxis]\n",
        "    return avg_X2 - 2 * avg_X_means + avg_means2 + reg_covar\n",
        "\n",
        "\n",
        "def _estimate_gaussian_covariances_spherical(resp, X, nk, means, reg_covar):\n",
        "    \"\"\"Estimate the spherical variance values.\n",
        "\n",
        "    Parameters\n",
        "    ----------\n",
        "    responsibilities : array-like of shape (n_samples, n_components)\n",
        "\n",
        "    X : array-like of shape (n_samples, n_features)\n",
        "\n",
        "    nk : array-like of shape (n_components,)\n",
        "\n",
        "    means : array-like of shape (n_components, n_features)\n",
        "\n",
        "    reg_covar : float\n",
        "\n",
        "    Returns\n",
        "    -------\n",
        "    variances : array, shape (n_components,)\n",
        "        The variance values of each components.\n",
        "    \"\"\"\n",
        "    return _estimate_gaussian_covariances_diag(resp, X, nk, means,\n",
        "                                               reg_covar).mean(1)\n",
        "\n",
        "\n",
        "def _estimate_gaussian_parameters(X, resp, reg_covar, covariance_type, B=None):\n",
        "    \"\"\"Estimate the Gaussian distribution parameters.\n",
        "\n",
        "    Parameters\n",
        "    ----------\n",
        "    X : array-like of shape (n_samples, n_features)\n",
        "        The input data array.\n",
        "\n",
        "    resp : array-like of shape (n_samples, n_components)\n",
        "        The responsibilities for each data sample in X.\n",
        "\n",
        "    reg_covar : float\n",
        "        The regularization added to the diagonal of the covariance matrices.\n",
        "\n",
        "    covariance_type : {'full', 'tied', 'diag', 'spherical'}\n",
        "        The type of precision matrices.\n",
        "\n",
        "    Returns\n",
        "    -------\n",
        "    nk : array-like of shape (n_components,)\n",
        "        The numbers of data samples in the current components.\n",
        "\n",
        "    means : array-like of shape (n_components, n_features)\n",
        "        The centers of the current components.\n",
        "\n",
        "    covariances : array-like\n",
        "        The covariance matrix of the current components.\n",
        "        The shape depends of the covariance_type.\n",
        "    \"\"\"\n",
        "    # print(\"Doing the thing..\")\n",
        "    nk = resp.sum(axis=0) + 10 * np.finfo(resp.dtype).eps\n",
        "    means = np.dot(resp.T, X) / nk[:, np.newaxis]\n",
        "\n",
        "    # frankie\n",
        "    # get the mins for the marker genes\n",
        "    # ct_mins = [means[:, i].min() for i in B]\n",
        "    # marker_gene_indices = [set(np.where(i)[0]) for i in B]\n",
        "    ct_mins = [means[i][B[i]].min() for i in range(means.shape[0])]\n",
        "    marker_gene_indices = [set(B[i]) for i in range(means.shape[0])]\n",
        "    # modify based on the min/f\n",
        "    f = 2.\n",
        "    for idx, i in enumerate(means):\n",
        "        ct_min = ct_mins[idx]\n",
        "        betas = means[idx]\n",
        "        for jdx, b in enumerate(betas):\n",
        "            if jdx not in marker_gene_indices[idx]:\n",
        "                new = min(b, ct_min / f)\n",
        "                means[idx][jdx] = new\n",
        "\n",
        "    covariances = {\n",
        "        \"full\": _estimate_gaussian_covariances_full,\n",
        "        \"tied\": _estimate_gaussian_covariances_tied,\n",
        "        \"diag\": _estimate_gaussian_covariances_diag,\n",
        "        \"spherical\": _estimate_gaussian_covariances_spherical,\n",
        "    }[covariance_type](resp, X, nk, means, reg_covar)\n",
        "    return nk, means, covariances\n",
        "\n",
        "\n",
        "def _compute_precision_cholesky(covariances, covariance_type):\n",
        "    \"\"\"Compute the Cholesky decomposition of the precisions.\n",
        "\n",
        "    Parameters\n",
        "    ----------\n",
        "    covariances : array-like\n",
        "        The covariance matrix of the current components.\n",
        "        The shape depends of the covariance_type.\n",
        "\n",
        "    covariance_type : {'full', 'tied', 'diag', 'spherical'}\n",
        "        The type of precision matrices.\n",
        "\n",
        "    Returns\n",
        "    -------\n",
        "    precisions_cholesky : array-like\n",
        "        The cholesky decomposition of sample precisions of the current\n",
        "        components. The shape depends of the covariance_type.\n",
        "    \"\"\"\n",
        "    estimate_precision_error_message = (\n",
        "        \"Fitting the mixture model failed because some components have \"\n",
        "        \"ill-defined empirical covariance (for instance caused by singleton \"\n",
        "        \"or collapsed samples). Try to decrease the number of components, \"\n",
        "        \"or increase reg_covar.\")\n",
        "\n",
        "    if covariance_type == \"full\":\n",
        "        n_components, n_features, _ = covariances.shape\n",
        "        precisions_chol = np.empty((n_components, n_features, n_features))\n",
        "        for k, covariance in enumerate(covariances):\n",
        "            try:\n",
        "                cov_chol = linalg.cholesky(covariance, lower=True)\n",
        "            except linalg.LinAlgError:\n",
        "                raise ValueError(estimate_precision_error_message)\n",
        "            precisions_chol[k] = linalg.solve_triangular(cov_chol,\n",
        "                                                         np.eye(n_features),\n",
        "                                                         lower=True).T\n",
        "    elif covariance_type == \"tied\":\n",
        "        _, n_features = covariances.shape\n",
        "        try:\n",
        "            cov_chol = linalg.cholesky(covariances, lower=True)\n",
        "        except linalg.LinAlgError:\n",
        "            raise ValueError(estimate_precision_error_message)\n",
        "        precisions_chol = linalg.solve_triangular(cov_chol,\n",
        "                                                  np.eye(n_features),\n",
        "                                                  lower=True).T\n",
        "    else:\n",
        "        if np.any(np.less_equal(covariances, 0.0)):\n",
        "            raise ValueError(estimate_precision_error_message)\n",
        "        precisions_chol = 1.0 / np.sqrt(covariances)\n",
        "    return precisions_chol\n",
        "\n",
        "\n",
        "###############################################################################\n",
        "# Gaussian mixture probability estimators\n",
        "def _compute_log_det_cholesky(matrix_chol, covariance_type, n_features):\n",
        "    \"\"\"Compute the log-det of the cholesky decomposition of matrices.\n",
        "\n",
        "    Parameters\n",
        "    ----------\n",
        "    matrix_chol : array-like\n",
        "        Cholesky decompositions of the matrices.\n",
        "        'full' : shape of (n_components, n_features, n_features)\n",
        "        'tied' : shape of (n_features, n_features)\n",
        "        'diag' : shape of (n_components, n_features)\n",
        "        'spherical' : shape of (n_components,)\n",
        "\n",
        "    covariance_type : {'full', 'tied', 'diag', 'spherical'}\n",
        "\n",
        "    n_features : int\n",
        "        Number of features.\n",
        "\n",
        "    Returns\n",
        "    -------\n",
        "    log_det_precision_chol : array-like of shape (n_components,)\n",
        "        The determinant of the precision matrix for each component.\n",
        "    \"\"\"\n",
        "    if covariance_type == \"full\":\n",
        "        n_components, _, _ = matrix_chol.shape\n",
        "        log_det_chol = np.sum(\n",
        "            np.log(matrix_chol.reshape(n_components, -1)[:, ::n_features + 1]),\n",
        "            1)\n",
        "\n",
        "    elif covariance_type == \"tied\":\n",
        "        log_det_chol = np.sum(np.log(np.diag(matrix_chol)))\n",
        "\n",
        "    elif covariance_type == \"diag\":\n",
        "        log_det_chol = np.sum(np.log(matrix_chol), axis=1)\n",
        "\n",
        "    else:\n",
        "        log_det_chol = n_features * (np.log(matrix_chol))\n",
        "\n",
        "    return log_det_chol\n",
        "\n",
        "\n",
        "def _estimate_log_gaussian_prob(X, means, precisions_chol, covariance_type):\n",
        "    \"\"\"Estimate the log Gaussian probability.\n",
        "\n",
        "    Parameters\n",
        "    ----------\n",
        "    X : array-like of shape (n_samples, n_features)\n",
        "\n",
        "    means : array-like of shape (n_components, n_features)\n",
        "\n",
        "    precisions_chol : array-like\n",
        "        Cholesky decompositions of the precision matrices.\n",
        "        'full' : shape of (n_components, n_features, n_features)\n",
        "        'tied' : shape of (n_features, n_features)\n",
        "        'diag' : shape of (n_components, n_features)\n",
        "        'spherical' : shape of (n_components,)\n",
        "\n",
        "    covariance_type : {'full', 'tied', 'diag', 'spherical'}\n",
        "\n",
        "    Returns\n",
        "    -------\n",
        "    log_prob : array, shape (n_samples, n_components)\n",
        "    \"\"\"\n",
        "    n_samples, n_features = X.shape\n",
        "    n_components, _ = means.shape\n",
        "    # det(precision_chol) is half of det(precision)\n",
        "    log_det = _compute_log_det_cholesky(precisions_chol, covariance_type,\n",
        "                                        n_features)\n",
        "\n",
        "    if covariance_type == \"full\":\n",
        "        log_prob = np.empty((n_samples, n_components))\n",
        "        for k, (mu, prec_chol) in enumerate(zip(means, precisions_chol)):\n",
        "            y = np.dot(X, prec_chol) - np.dot(mu, prec_chol)\n",
        "            log_prob[:, k] = np.sum(np.square(y), axis=1)\n",
        "\n",
        "    elif covariance_type == \"tied\":\n",
        "        log_prob = np.empty((n_samples, n_components))\n",
        "        for k, mu in enumerate(means):\n",
        "            y = np.dot(X, precisions_chol) - np.dot(mu, precisions_chol)\n",
        "            log_prob[:, k] = np.sum(np.square(y), axis=1)\n",
        "\n",
        "    elif covariance_type == \"diag\":\n",
        "        precisions = precisions_chol**2\n",
        "        log_prob = (np.sum((means**2 * precisions), 1) -\n",
        "                    2.0 * np.dot(X, (means * precisions).T) +\n",
        "                    np.dot(X**2, precisions.T))\n",
        "\n",
        "    elif covariance_type == \"spherical\":\n",
        "        precisions = precisions_chol**2\n",
        "        log_prob = (np.sum(means**2, 1) * precisions -\n",
        "                    2 * np.dot(X, means.T * precisions) +\n",
        "                    np.outer(row_norms(X, squared=True), precisions))\n",
        "    return -0.5 * (n_features * np.log(2 * np.pi) + log_prob) + log_det\n",
        "\n",
        "\n",
        "class ImprovedGaussianMixture(BaseMixture):\n",
        "    \"\"\"Gaussian Mixture.\n",
        "\n",
        "    Representation of a Gaussian mixture model probability distribution.\n",
        "    This class allows to estimate the parameters of a Gaussian mixture\n",
        "    distribution.\n",
        "\n",
        "    Read more in the :ref:`User Guide <gmm>`.\n",
        "\n",
        "    .. versionadded:: 0.18\n",
        "\n",
        "    Parameters\n",
        "    ----------\n",
        "    n_components : int, default=1\n",
        "        The number of mixture components.\n",
        "\n",
        "    covariance_type : {'full', 'tied', 'diag', 'spherical'}, default='full'\n",
        "        String describing the type of covariance parameters to use.\n",
        "        Must be one of:\n",
        "\n",
        "        'full'\n",
        "            each component has its own general covariance matrix\n",
        "        'tied'\n",
        "            all components share the same general covariance matrix\n",
        "        'diag'\n",
        "            each component has its own diagonal covariance matrix\n",
        "        'spherical'\n",
        "            each component has its own single variance\n",
        "\n",
        "    tol : float, default=1e-3\n",
        "        The convergence threshold. EM iterations will stop when the\n",
        "        lower bound average gain is below this threshold.\n",
        "\n",
        "    reg_covar : float, default=1e-6\n",
        "        Non-negative regularization added to the diagonal of covariance.\n",
        "        Allows to assure that the covariance matrices are all positive.\n",
        "\n",
        "    max_iter : int, default=100\n",
        "        The number of EM iterations to perform.\n",
        "\n",
        "    n_init : int, default=1\n",
        "        The number of initializations to perform. The best results are kept.\n",
        "\n",
        "    init_params : {'kmeans', 'random'}, default='kmeans'\n",
        "        The method used to initialize the weights, the means and the\n",
        "        precisions.\n",
        "        Must be one of::\n",
        "\n",
        "            'kmeans' : responsibilities are initialized using kmeans.\n",
        "            'random' : responsibilities are initialized randomly.\n",
        "\n",
        "    weights_init : array-like of shape (n_components, ), default=None\n",
        "        The user-provided initial weights.\n",
        "        If it is None, weights are initialized using the `init_params` method.\n",
        "\n",
        "    means_init : array-like of shape (n_components, n_features), default=None\n",
        "        The user-provided initial means,\n",
        "        If it is None, means are initialized using the `init_params` method.\n",
        "\n",
        "    precisions_init : array-like, default=None\n",
        "        The user-provided initial precisions (inverse of the covariance\n",
        "        matrices).\n",
        "        If it is None, precisions are initialized using the 'init_params'\n",
        "        method.\n",
        "        The shape depends on 'covariance_type'::\n",
        "\n",
        "            (n_components,)                        if 'spherical',\n",
        "            (n_features, n_features)               if 'tied',\n",
        "            (n_components, n_features)             if 'diag',\n",
        "            (n_components, n_features, n_features) if 'full'\n",
        "\n",
        "    random_state : int, RandomState instance or None, default=None\n",
        "        Controls the random seed given to the method chosen to initialize the\n",
        "        parameters (see `init_params`).\n",
        "        In addition, it controls the generation of random samples from the\n",
        "        fitted distribution (see the method `sample`).\n",
        "        Pass an int for reproducible output across multiple function calls.\n",
        "        See :term:`Glossary <random_state>`.\n",
        "\n",
        "    warm_start : bool, default=False\n",
        "        If 'warm_start' is True, the solution of the last fitting is used as\n",
        "        initialization for the next call of fit(). This can speed up\n",
        "        convergence when fit is called several times on similar problems.\n",
        "        In that case, 'n_init' is ignored and only a single initialization\n",
        "        occurs upon the first call.\n",
        "        See :term:`the Glossary <warm_start>`.\n",
        "\n",
        "    verbose : int, default=0\n",
        "        Enable verbose output. If 1 then it prints the current\n",
        "        initialization and each iteration step. If greater than 1 then\n",
        "        it prints also the log probability and the time needed\n",
        "        for each step.\n",
        "\n",
        "    verbose_interval : int, default=10\n",
        "        Number of iteration done before the next print.\n",
        "\n",
        "    Attributes\n",
        "    ----------\n",
        "    weights_ : array-like of shape (n_components,)\n",
        "        The weights of each mixture components.\n",
        "\n",
        "    means_ : array-like of shape (n_components, n_features)\n",
        "        The mean of each mixture component.\n",
        "\n",
        "    covariances_ : array-like\n",
        "        The covariance of each mixture component.\n",
        "        The shape depends on `covariance_type`::\n",
        "\n",
        "            (n_components,)                        if 'spherical',\n",
        "            (n_features, n_features)               if 'tied',\n",
        "            (n_components, n_features)             if 'diag',\n",
        "            (n_components, n_features, n_features) if 'full'\n",
        "\n",
        "    precisions_ : array-like\n",
        "        The precision matrices for each component in the mixture. A precision\n",
        "        matrix is the inverse of a covariance matrix. A covariance matrix is\n",
        "        symmetric positive definite so the mixture of Gaussian can be\n",
        "        equivalently parameterized by the precision matrices. Storing the\n",
        "        precision matrices instead of the covariance matrices makes it more\n",
        "        efficient to compute the log-likelihood of new samples at test time.\n",
        "        The shape depends on `covariance_type`::\n",
        "\n",
        "            (n_components,)                        if 'spherical',\n",
        "            (n_features, n_features)               if 'tied',\n",
        "            (n_components, n_features)             if 'diag',\n",
        "            (n_components, n_features, n_features) if 'full'\n",
        "\n",
        "    precisions_cholesky_ : array-like\n",
        "        The cholesky decomposition of the precision matrices of each mixture\n",
        "        component. A precision matrix is the inverse of a covariance matrix.\n",
        "        A covariance matrix is symmetric positive definite so the mixture of\n",
        "        Gaussian can be equivalently parameterized by the precision matrices.\n",
        "        Storing the precision matrices instead of the covariance matrices makes\n",
        "        it more efficient to compute the log-likelihood of new samples at test\n",
        "        time. The shape depends on `covariance_type`::\n",
        "\n",
        "            (n_components,)                        if 'spherical',\n",
        "            (n_features, n_features)               if 'tied',\n",
        "            (n_components, n_features)             if 'diag',\n",
        "            (n_components, n_features, n_features) if 'full'\n",
        "\n",
        "    converged_ : bool\n",
        "        True when convergence was reached in fit(), False otherwise.\n",
        "\n",
        "    n_iter_ : int\n",
        "        Number of step used by the best fit of EM to reach the convergence.\n",
        "\n",
        "    lower_bound_ : float\n",
        "        Lower bound value on the log-likelihood (of the training data with\n",
        "        respect to the model) of the best fit of EM.\n",
        "\n",
        "    n_features_in_ : int\n",
        "        Number of features seen during :term:`fit`.\n",
        "\n",
        "        .. versionadded:: 0.24\n",
        "\n",
        "    feature_names_in_ : ndarray of shape (`n_features_in_`,)\n",
        "        Names of features seen during :term:`fit`. Defined only when `X`\n",
        "        has feature names that are all strings.\n",
        "\n",
        "        .. versionadded:: 1.0\n",
        "\n",
        "    See Also\n",
        "    --------\n",
        "    BayesianGaussianMixture : Gaussian mixture model fit with a variational\n",
        "        inference.\n",
        "\n",
        "    Examples\n",
        "    --------\n",
        "    >>> import numpy as np\n",
        "    >>> from sklearn.mixture import GaussianMixture\n",
        "    >>> X = np.array([[1, 2], [1, 4], [1, 0], [10, 2], [10, 4], [10, 0]])\n",
        "    >>> gm = GaussianMixture(n_components=2, random_state=0).fit(X)\n",
        "    >>> gm.means_\n",
        "    array([[10.,  2.],\n",
        "           [ 1.,  2.]])\n",
        "    >>> gm.predict([[0, 0], [12, 3]])\n",
        "    array([1, 0])\n",
        "    \"\"\"\n",
        "    def __init__(\n",
        "        self,\n",
        "        n_components=1,\n",
        "        *,\n",
        "        covariance_type=\"full\",\n",
        "        tol=1e-3,\n",
        "        reg_covar=1e-6,\n",
        "        max_iter=100,\n",
        "        n_init=1,\n",
        "        init_params=\"kmeans\",\n",
        "        weights_init=None,\n",
        "        means_init=None,\n",
        "        precisions_init=None,\n",
        "        random_state=None,\n",
        "        warm_start=False,\n",
        "        verbose=0,\n",
        "        verbose_interval=10,\n",
        "    ):\n",
        "        super().__init__(\n",
        "            n_components=n_components,\n",
        "            tol=tol,\n",
        "            reg_covar=reg_covar,\n",
        "            max_iter=max_iter,\n",
        "            n_init=n_init,\n",
        "            init_params=init_params,\n",
        "            random_state=random_state,\n",
        "            warm_start=warm_start,\n",
        "            verbose=verbose,\n",
        "            verbose_interval=verbose_interval,\n",
        "        )\n",
        "\n",
        "        self.covariance_type = covariance_type\n",
        "        self.weights_init = weights_init\n",
        "        self.means_init = means_init\n",
        "        self.precisions_init = precisions_init\n",
        "\n",
        "    def _check_parameters(self, X):\n",
        "        \"\"\"Check the Gaussian mixture parameters are well defined.\"\"\"\n",
        "        _, n_features = X.shape\n",
        "        if self.covariance_type not in [\"spherical\", \"tied\", \"diag\", \"full\"]:\n",
        "            raise ValueError(\"Invalid value for 'covariance_type': %s \"\n",
        "                             \"'covariance_type' should be in \"\n",
        "                             \"['spherical', 'tied', 'diag', 'full']\" %\n",
        "                             self.covariance_type)\n",
        "\n",
        "        if self.weights_init is not None:\n",
        "            self.weights_init = _check_weights(self.weights_init,\n",
        "                                               self.n_components)\n",
        "\n",
        "        if self.means_init is not None:\n",
        "            self.means_init = _check_means(self.means_init, self.n_components,\n",
        "                                           n_features)\n",
        "\n",
        "        if self.precisions_init is not None:\n",
        "            self.precisions_init = _check_precisions(\n",
        "                self.precisions_init,\n",
        "                self.covariance_type,\n",
        "                self.n_components,\n",
        "                n_features,\n",
        "            )\n",
        "\n",
        "    def _initialize(self, X, resp, B=None):\n",
        "        \"\"\"Initialization of the Gaussian mixture parameters.\n",
        "\n",
        "        Parameters\n",
        "        ----------\n",
        "        X : array-like of shape (n_samples, n_features)\n",
        "\n",
        "        resp : array-like of shape (n_samples, n_components)\n",
        "        \"\"\"\n",
        "        n_samples, _ = X.shape\n",
        "\n",
        "        weights, means, covariances = _estimate_gaussian_parameters(\n",
        "            X, resp, self.reg_covar, self.covariance_type, B=B)\n",
        "        weights /= n_samples\n",
        "\n",
        "        self.weights_ = weights if self.weights_init is None else self.weights_init\n",
        "        self.means_ = means if self.means_init is None else self.means_init\n",
        "\n",
        "        if self.precisions_init is None:\n",
        "            self.covariances_ = covariances\n",
        "            self.precisions_cholesky_ = _compute_precision_cholesky(\n",
        "                covariances, self.covariance_type)\n",
        "        elif self.covariance_type == \"full\":\n",
        "            self.precisions_cholesky_ = np.array([\n",
        "                linalg.cholesky(prec_init, lower=True)\n",
        "                for prec_init in self.precisions_init\n",
        "            ])\n",
        "        elif self.covariance_type == \"tied\":\n",
        "            self.precisions_cholesky_ = linalg.cholesky(self.precisions_init,\n",
        "                                                        lower=True)\n",
        "        else:\n",
        "            self.precisions_cholesky_ = self.precisions_init\n",
        "\n",
        "    def _m_step(self, X, log_resp, B=None):\n",
        "        \"\"\"M step.\n",
        "\n",
        "        Parameters\n",
        "        ----------\n",
        "        X : array-like of shape (n_samples, n_features)\n",
        "\n",
        "        log_resp : array-like of shape (n_samples, n_components)\n",
        "            Logarithm of the posterior probabilities (or responsibilities) of\n",
        "            the point of each sample in X.\n",
        "        \"\"\"\n",
        "        n_samples, _ = X.shape\n",
        "        self.weights_, self.means_, self.covariances_ = _estimate_gaussian_parameters(\n",
        "            X, np.exp(log_resp), self.reg_covar, self.covariance_type, B=B)\n",
        "        self.weights_ /= n_samples\n",
        "        self.precisions_cholesky_ = _compute_precision_cholesky(\n",
        "            self.covariances_, self.covariance_type)\n",
        "\n",
        "    def _estimate_log_prob(self, X):\n",
        "        return _estimate_log_gaussian_prob(X, self.means_,\n",
        "                                           self.precisions_cholesky_,\n",
        "                                           self.covariance_type)\n",
        "\n",
        "    def _estimate_log_weights(self):\n",
        "        return np.log(self.weights_)\n",
        "\n",
        "    def _compute_lower_bound(self, _, log_prob_norm):\n",
        "        return log_prob_norm\n",
        "\n",
        "    def _get_parameters(self):\n",
        "        return (\n",
        "            self.weights_,\n",
        "            self.means_,\n",
        "            self.covariances_,\n",
        "            self.precisions_cholesky_,\n",
        "        )\n",
        "\n",
        "    def _set_parameters(self, params):\n",
        "        (\n",
        "            self.weights_,\n",
        "            self.means_,\n",
        "            self.covariances_,\n",
        "            self.precisions_cholesky_,\n",
        "        ) = params\n",
        "\n",
        "        # Attributes computation\n",
        "        _, n_features = self.means_.shape\n",
        "\n",
        "        if self.covariance_type == \"full\":\n",
        "            self.precisions_ = np.empty(self.precisions_cholesky_.shape)\n",
        "            for k, prec_chol in enumerate(self.precisions_cholesky_):\n",
        "                self.precisions_[k] = np.dot(prec_chol, prec_chol.T)\n",
        "\n",
        "        elif self.covariance_type == \"tied\":\n",
        "            self.precisions_ = np.dot(self.precisions_cholesky_,\n",
        "                                      self.precisions_cholesky_.T)\n",
        "        else:\n",
        "            self.precisions_ = self.precisions_cholesky_**2\n",
        "\n",
        "    def _n_parameters(self):\n",
        "        \"\"\"Return the number of free parameters in the model.\"\"\"\n",
        "        _, n_features = self.means_.shape\n",
        "        if self.covariance_type == \"full\":\n",
        "            cov_params = self.n_components * n_features * (n_features +\n",
        "                                                           1) / 2.0\n",
        "        elif self.covariance_type == \"diag\":\n",
        "            cov_params = self.n_components * n_features\n",
        "        elif self.covariance_type == \"tied\":\n",
        "            cov_params = n_features * (n_features + 1) / 2.0\n",
        "        elif self.covariance_type == \"spherical\":\n",
        "            cov_params = self.n_components\n",
        "        mean_params = n_features * self.n_components\n",
        "        return int(cov_params + mean_params + self.n_components - 1)\n",
        "\n",
        "    def bic(self, X):\n",
        "        \"\"\"Bayesian information criterion for the current model on the input X.\n",
        "\n",
        "        Parameters\n",
        "        ----------\n",
        "        X : array of shape (n_samples, n_dimensions)\n",
        "            The input samples.\n",
        "\n",
        "        Returns\n",
        "        -------\n",
        "        bic : float\n",
        "            The lower the better.\n",
        "        \"\"\"\n",
        "        return -2 * self.score(X) * X.shape[0] + self._n_parameters() * np.log(\n",
        "            X.shape[0])\n",
        "\n",
        "    def aic(self, X):\n",
        "        \"\"\"Akaike information criterion for the current model on the input X.\n",
        "\n",
        "        Parameters\n",
        "        ----------\n",
        "        X : array of shape (n_samples, n_dimensions)\n",
        "            The input samples.\n",
        "\n",
        "        Returns\n",
        "        -------\n",
        "        aic : float\n",
        "            The lower the better.\n",
        "        \"\"\"\n",
        "        return -2 * self.score(X) * X.shape[0] + 2 * self._n_parameters()"
      ],
      "execution_count": 250,
      "outputs": []
    },
    {
      "cell_type": "code",
      "metadata": {
        "cellView": "form",
        "id": "6TYoMX2dL_LC"
      },
      "source": [
        "#@title violinplot\n",
        "def violinplot(data, ax, **kwd): \n",
        "    xticklabels = kwd.get(\"xticklabels\", [])\n",
        "    xticks = kwd.get(\"xticks\", [])\n",
        "    selected = kwd.get(\"selected\", None)\n",
        "    color = kwd.get(\"color\", \"grey\")\n",
        "    \n",
        "    if  len(xticks)==0: xticks = np.arange(len(data))+1;\n",
        "    if  len(xticklabels)==0: xticklabels = np.arange(len(data))+1;\n",
        "    assert(len(xticks) == len(xticklabels))\n",
        "        \n",
        "    violins = ax.violinplot(data, positions=xticks, showmeans=False, showmedians=False, showextrema=False)\n",
        "    \n",
        "    for vidx, v in enumerate(violins['bodies']):\n",
        "        v.set_facecolor(color)\n",
        "        v.set_edgecolor('black')\n",
        "        v.set_alpha(1)\n",
        "        if selected == vidx:\n",
        "            v.set_facecolor(\"#D43F3A\")\n",
        "\n",
        "            \n",
        "    \n",
        "    for didx, d in enumerate(data):\n",
        "        x = xticks[didx]\n",
        "        xx = np.random.normal(x, 0.04, size=len(d))\n",
        "        \n",
        "        # actual points\n",
        "        ax.scatter(xx, d, s = 5, color=\"white\", edgecolor=\"black\", linewidth=1)\n",
        "        \n",
        "        # mean and error bars\n",
        "        mean = np.mean(d)\n",
        "        stdev = np.sqrt(np.var(d))\n",
        "        ax.scatter(x, mean, color=\"lightgrey\", edgecolor=\"black\", linewidth=1, zorder=10)    \n",
        "        ax.vlines(x, mean - stdev, mean+stdev, color='lightgrey', linestyle='-', lw=2, zorder=9)\n",
        "        \n",
        "    ax.set(**{\"xticks\": xticks, \"xticklabels\":xticklabels})\n",
        "    \n",
        "    return ax"
      ],
      "execution_count": 172,
      "outputs": []
    },
    {
      "cell_type": "code",
      "metadata": {
        "id": "sx_LRtGc5aWH"
      },
      "source": [
        "import json\n",
        "import numpy as np\n",
        "import pandas as pd\n",
        "import matplotlib.pyplot as plt\n",
        "\n",
        "\n",
        "from upsetplot import from_memberships, plot as upsetplot, from_contents\n",
        "from scipy.io import mmread, mmwrite\n",
        "from scipy.spatial.distance import cdist\n",
        "from collections import defaultdict\n",
        "\n",
        "from scipy.stats import entropy\n",
        "\n",
        "from sklearn.metrics import adjusted_rand_score, rand_score\n",
        "from sklearn.datasets import make_blobs\n",
        "from sklearn.preprocessing import normalize\n",
        "from sklearn.mixture import GaussianMixture as StandardGaussianMixture\n",
        "from sklearn.cluster import KMeans as KMeans\n",
        "from sklearn.mixture._gaussian_mixture import _estimate_gaussian_parameters as est_gaus_params \n",
        "from sklearn.metrics.pairwise import euclidean_distances\n",
        "from mpl_toolkits.axes_grid1 import make_axes_locatable\n",
        "from sklearn.neighbors import KDTree\n",
        "\n",
        "def nd(arr):\n",
        "    return np.asarray(arr).reshape(-1)\n",
        "\n",
        "def yex(ax):\n",
        "  lims = [\n",
        "      np.min([ax.get_xlim(), ax.get_ylim()]),  # min of both axes\n",
        "      np.max([ax.get_xlim(), ax.get_ylim()]),  # max of both axes\n",
        "  ]\n",
        "\n",
        "  # now plot both limits against eachother\n",
        "  ax.plot(lims, lims, 'k-', alpha=0.75, zorder=0)\n",
        "  ax.set(**{\n",
        "      \"xlim\": lims,\n",
        "      \"ylim\": lims,\n",
        "      \"aspect\": \"equal\"\n",
        "  })\n",
        "  return ax\n",
        "\n",
        "fsize=20\n",
        "\n",
        "plt.rcParams.update({'font.size': fsize})\n",
        "%config InlineBackend.figure_format = 'retina'"
      ],
      "execution_count": 164,
      "outputs": []
    },
    {
      "cell_type": "markdown",
      "metadata": {
        "id": "rXtmyiZB8fRJ"
      },
      "source": [
        "# Preprocess splatter"
      ]
    },
    {
      "cell_type": "code",
      "metadata": {
        "id": "x-2DlBol5fCX"
      },
      "source": [
        "# preprocess splatter file into markers file\n",
        "def write_markers(fname, markers):\n",
        "    with open(fname, \"w\") as f:\n",
        "        for k, v in markers.items():\n",
        "            f.write(f\"{k}\\t\")\n",
        "            n = len(v)\n",
        "            for idx, i in enumerate(v):\n",
        "                f.write(f\"{i}\")\n",
        "                if idx < n - 1:\n",
        "                    f.write(\",\")\n",
        "            f.write(\"\\n\")"
      ],
      "execution_count": 7,
      "outputs": []
    },
    {
      "cell_type": "code",
      "metadata": {
        "id": "VnCtIqMI5jVx"
      },
      "source": [
        "ds = \"1_evenCell_evenDE\"\n",
        "# ds = \"0_defaultparams\"\n",
        "genes_metadata_fname = f\"sim/{ds}/genes_metadata.txt\"\n",
        "matrix_fname = f\"sim/{ds}/matrix.mtx\"\n",
        "genes_fname = f\"sim/{ds}/genes.txt\"\n",
        "labels_fname = f\"sim/{ds}/labels.txt\""
      ],
      "execution_count": 115,
      "outputs": []
    },
    {
      "cell_type": "code",
      "metadata": {
        "id": "OXaYskTI5pwC"
      },
      "source": [
        "df = pd.read_csv(genes_metadata_fname)"
      ],
      "execution_count": 116,
      "outputs": []
    },
    {
      "cell_type": "code",
      "metadata": {
        "id": "jo5-v0Gq5lBv"
      },
      "source": [
        "n_sample = 10\n",
        "\n",
        "# splatter get marker genes\n",
        "markers = defaultdict(list)\n",
        "groups = df.columns[df.columns.str.contains(\"DEFacGroup\")].values\n",
        "\n",
        "for group in groups:\n",
        "    # genes = df[df[f\"DEFacGroup{i}\"] > 1.5].sample(n_sample, random_state=0)[\"Gene\"].values\n",
        "    genes = df[np.logical_and((df[group] > 1.7).values, (df[\"GeneMean\"] > 1e-3).values)][\"Gene\"].values\n",
        "    for j in genes:\n",
        "        markers[group].append(j)\n",
        "write_markers(\"markers.txt\", markers)"
      ],
      "execution_count": 117,
      "outputs": []
    },
    {
      "cell_type": "code",
      "metadata": {
        "colab": {
          "base_uri": "https://localhost:8080/"
        },
        "id": "ZJoFNJzw6HLX",
        "outputId": "8860975c-caba-4c5b-c6cd-5b22e451581e"
      },
      "source": [
        "np.unique(sum(list(markers.values()), [])).shape[0]"
      ],
      "execution_count": 118,
      "outputs": [
        {
          "output_type": "execute_result",
          "data": {
            "text/plain": [
              "87"
            ]
          },
          "metadata": {},
          "execution_count": 118
        }
      ]
    },
    {
      "cell_type": "code",
      "metadata": {
        "id": "qdWMCTiF6JKP"
      },
      "source": [
        "def write_dict(fname, d):\n",
        "  inv_d = {v:k for k,v in d.items()}\n",
        "  with open(fname, \"w\") as f:\n",
        "    for idx in range(len(d)):\n",
        "      f.write(f'{inv_d[idx]}\\n')"
      ],
      "execution_count": 119,
      "outputs": []
    },
    {
      "cell_type": "markdown",
      "metadata": {
        "id": "PCL8Selo8hyZ"
      },
      "source": [
        "# Read in markers"
      ]
    },
    {
      "cell_type": "code",
      "metadata": {
        "id": "4t6KiOji6Kor"
      },
      "source": [
        "def read_markers(fname, markers_ec=defaultdict(list), celltype=defaultdict(), marker_genes=defaultdict()):\n",
        "  with open(fname, \"r\") as f:\n",
        "    for idx, line in enumerate(f.readlines()):\n",
        "      ct, genes = line.strip().split('\\t')\n",
        "      celltype[ct] = idx\n",
        "      \n",
        "      # two things\n",
        "      # 1. make marker_genes list\n",
        "      # 2. make markers_ec\n",
        "      for g in genes.split(','):\n",
        "        gidx = len(marker_genes)\n",
        "        \n",
        "        # check if the gene has been added already\n",
        "        if g in marker_genes.keys(): # gene repeated\n",
        "          gidx = marker_genes[g]\n",
        "        else:\n",
        "          marker_genes[g] = gidx\n",
        "        \n",
        "        # for the cell type index, add the marker gene index \n",
        "        markers_ec[celltype[ct]].append(marker_genes[g])\n",
        "      \n",
        "      # sort the marker genes\n",
        "      markers_ec[celltype[ct]] = sorted(markers_ec[celltype[ct]])"
      ],
      "execution_count": 120,
      "outputs": []
    },
    {
      "cell_type": "code",
      "metadata": {
        "id": "fKUJaYG-6MkR"
      },
      "source": [
        "markers_ec=defaultdict(list)\n",
        "celltypes=defaultdict()\n",
        "marker_genes=defaultdict()\n",
        "read_markers(\"markers.txt\", markers_ec, celltypes, marker_genes)\n",
        "\n",
        "write_markers(\"markers.ec\", markers_ec)\n",
        "write_dict(\"types.txt\", celltypes)\n",
        "write_dict(\"marker_genes.txt\", marker_genes)"
      ],
      "execution_count": 121,
      "outputs": []
    },
    {
      "cell_type": "code",
      "metadata": {
        "id": "v6SXb7L26PX7"
      },
      "source": [
        "mtx = mmread(matrix_fname).tocsr()"
      ],
      "execution_count": 123,
      "outputs": []
    },
    {
      "cell_type": "code",
      "metadata": {
        "id": "jJIcfxSL6SUk"
      },
      "source": [
        "genes = defaultdict()\n",
        "\n",
        "with open(genes_fname) as f:\n",
        "  for idx, line in enumerate(f.readlines()):\n",
        "    gene = line.strip()\n",
        "    genes[gene] = idx\n",
        "\n",
        "mg_inv = {v:k for k,v in marker_genes.items()}\n",
        "\n",
        "sel = []\n",
        "for idx in range(len(mg_inv)):\n",
        "  # this maps the marker gene name index to the gene index\n",
        "  # in order of the marker_genes file\n",
        "  sel.append(genes[mg_inv[idx]])"
      ],
      "execution_count": 124,
      "outputs": []
    },
    {
      "cell_type": "code",
      "metadata": {
        "colab": {
          "base_uri": "https://localhost:8080/"
        },
        "id": "NUnwE3to6VWR",
        "outputId": "8f0da03f-a20e-47f3-9ca0-10baee159698"
      },
      "source": [
        "len(sel)"
      ],
      "execution_count": 125,
      "outputs": [
        {
          "output_type": "execute_result",
          "data": {
            "text/plain": [
              "87"
            ]
          },
          "metadata": {},
          "execution_count": 125
        }
      ]
    },
    {
      "cell_type": "code",
      "metadata": {
        "id": "Tpw7TW1I6YqQ"
      },
      "source": [
        "a = np.array(\n",
        "    [[1,1, 4],\n",
        "     [2,1, 3],\n",
        "     [2,3, 2]]\n",
        ")"
      ],
      "execution_count": 126,
      "outputs": []
    },
    {
      "cell_type": "code",
      "metadata": {
        "colab": {
          "base_uri": "https://localhost:8080/"
        },
        "id": "0dDueKfL6dqX",
        "outputId": "60b48914-e936-46e5-d134-4e43b9175a5c"
      },
      "source": [
        "a[:,[2,1]]"
      ],
      "execution_count": 127,
      "outputs": [
        {
          "output_type": "execute_result",
          "data": {
            "text/plain": [
              "array([[4, 1],\n",
              "       [3, 1],\n",
              "       [2, 3]])"
            ]
          },
          "metadata": {},
          "execution_count": 127
        }
      ]
    },
    {
      "cell_type": "code",
      "metadata": {
        "id": "R25GriYt6WFl"
      },
      "source": [
        "mmwrite(\"matrix_select.mtx\", mtx[:,sel])"
      ],
      "execution_count": 128,
      "outputs": []
    },
    {
      "cell_type": "code",
      "metadata": {
        "id": "OnXWejRk68Bi"
      },
      "source": [
        "def mec2b(markers_ec):\n",
        "  n_clusters = len(list(markers_ec.keys()))\n",
        "  n_features = np.unique(sum(list(markers_ec.values()), [])).shape[0]\n",
        "  B = np.zeros((n_clusters, n_features))\n",
        "  for k,v in markers_ec.items():\n",
        "    B[k][v] = 1\n",
        "  return B"
      ],
      "execution_count": 129,
      "outputs": []
    },
    {
      "cell_type": "code",
      "metadata": {
        "id": "mlmZP6QJ8Ujd"
      },
      "source": [
        "B = mec2b(markers_ec).astype(bool)"
      ],
      "execution_count": 130,
      "outputs": []
    },
    {
      "cell_type": "markdown",
      "metadata": {
        "id": "oUUf83VB8lt9"
      },
      "source": [
        "# Read in matrix"
      ]
    },
    {
      "cell_type": "code",
      "metadata": {
        "cellView": "form",
        "id": "qZbTp05avvqS"
      },
      "source": [
        "#@title compute real centroids and marker gene centroids\n",
        "\n",
        "def get_centroids(X, z):\n",
        "  clusters = np.sort(np.unique(z))\n",
        "  \n",
        "  n_clusters, = clusters.shape\n",
        "  _, n_features = X.shape\n",
        "\n",
        "  centroids = np.ones((n_clusters, n_features))\n",
        "  for i, g in enumerate(clusters):\n",
        "    centroids[i] = (X[np.where(z==g)[0]].mean(0))\n",
        "  return centroids\n",
        "\n",
        "def get_marker_centroids(X, markers_ec, method=\"mean\"):\n",
        "  n_clusters = len(list(markers_ec.keys()))\n",
        "  _, n_features = X.shape\n",
        "\n",
        "  marker_centroids = np.ones((n_clusters, n_features))*1e-5\n",
        "\n",
        "  for k, v in markers_ec.items():\n",
        "    submx = X[:, v]\n",
        "    if method == 'max':\n",
        "      repl = submx.max(0)\n",
        "    else:\n",
        "      repl = submx.mean(0)\n",
        "    marker_centroids[k][v] = repl\n",
        "  return marker_centroids"
      ],
      "execution_count": 131,
      "outputs": []
    },
    {
      "cell_type": "code",
      "metadata": {
        "colab": {
          "base_uri": "https://localhost:8080/"
        },
        "id": "ky8xtxff8nWT",
        "outputId": "447f1bcf-c59f-4d63-b37a-dc1b3027942e"
      },
      "source": [
        "G = mmread(\"matrix_select.mtx\").toarray()\n",
        "\n",
        "labels = pd.read_csv(labels_fname, sep=\"\\t\", header=None, names=[\"cell\", \"celltype\"])\n",
        "z = labels[\"celltype\"].astype(\"category\").cat.codes.values\n",
        "\n",
        "print(np.unique(z).shape[0], *G.shape, sep=\", \")\n",
        "\n",
        "count_mask          = G.sum(1)     > 0\n",
        "genes_detected_mask = (G>0).sum(1) > 0 \n",
        "cells_detected_mask = (G>0).sum(0) > 0 # handle when genes are dropped (remove from markers_ec)\n",
        "mask = np.logical_and(count_mask, genes_detected_mask)\n",
        "\n",
        "G = G[mask][:,cells_detected_mask]\n",
        "z = z[mask]\n",
        "\n",
        "n_clusters = np.unique(z).shape[0]\n",
        "n_samples, n_features = G.shape\n",
        "\n",
        "print(n_clusters, n_samples, n_features, sep=\", \")"
      ],
      "execution_count": 132,
      "outputs": [
        {
          "output_type": "stream",
          "name": "stdout",
          "text": [
            "10, 11843, 87\n",
            "10, 11843, 87\n"
          ]
        }
      ]
    },
    {
      "cell_type": "markdown",
      "metadata": {
        "id": "3hqbNABfIs9e"
      },
      "source": [
        "# QC on matrix and marker genes"
      ]
    },
    {
      "cell_type": "code",
      "metadata": {
        "id": "QNcG7sEwFNGe"
      },
      "source": [
        "# Average fractional amount of UMIs per celltype for the genes that mark that celltype\n",
        "tot = G.sum()\n",
        "d = [(k, (G.sum(0)/tot)[v]*100) for k,v in markers_ec.items()]\n",
        "d = pd.DataFrame(d, columns=[\"group\", \"sum_counts\"])"
      ],
      "execution_count": 188,
      "outputs": []
    },
    {
      "cell_type": "code",
      "metadata": {
        "colab": {
          "base_uri": "https://localhost:8080/",
          "height": 363
        },
        "id": "AVeCKatgMRBv",
        "outputId": "23d6f4e2-a275-4c7b-efcc-92fda06636d7"
      },
      "source": [
        "d"
      ],
      "execution_count": 189,
      "outputs": [
        {
          "output_type": "execute_result",
          "data": {
            "text/html": [
              "<div>\n",
              "<style scoped>\n",
              "    .dataframe tbody tr th:only-of-type {\n",
              "        vertical-align: middle;\n",
              "    }\n",
              "\n",
              "    .dataframe tbody tr th {\n",
              "        vertical-align: top;\n",
              "    }\n",
              "\n",
              "    .dataframe thead th {\n",
              "        text-align: right;\n",
              "    }\n",
              "</style>\n",
              "<table border=\"1\" class=\"dataframe\">\n",
              "  <thead>\n",
              "    <tr style=\"text-align: right;\">\n",
              "      <th></th>\n",
              "      <th>group</th>\n",
              "      <th>sum_counts</th>\n",
              "    </tr>\n",
              "  </thead>\n",
              "  <tbody>\n",
              "    <tr>\n",
              "      <th>0</th>\n",
              "      <td>0</td>\n",
              "      <td>[0.05839378644157257, 0.02315425205855772, 0.5...</td>\n",
              "    </tr>\n",
              "    <tr>\n",
              "      <th>1</th>\n",
              "      <td>1</td>\n",
              "      <td>[0.08525978883012811, 7.711161310570436, 8.273...</td>\n",
              "    </tr>\n",
              "    <tr>\n",
              "      <th>2</th>\n",
              "      <td>2</td>\n",
              "      <td>[0.23600545848236032, 0.19931878334568556, 1.3...</td>\n",
              "    </tr>\n",
              "    <tr>\n",
              "      <th>3</th>\n",
              "      <td>3</td>\n",
              "      <td>[1.0341532950676915, 0.03487498747560436, 0.68...</td>\n",
              "    </tr>\n",
              "    <tr>\n",
              "      <th>4</th>\n",
              "      <td>4</td>\n",
              "      <td>[1.111989583237824, 1.4733328966135029, 0.9611...</td>\n",
              "    </tr>\n",
              "    <tr>\n",
              "      <th>5</th>\n",
              "      <td>5</td>\n",
              "      <td>[0.09983061825056591, 0.16974629634150665, 0.4...</td>\n",
              "    </tr>\n",
              "    <tr>\n",
              "      <th>6</th>\n",
              "      <td>6</td>\n",
              "      <td>[0.0073572194041027885, 0.08023346025825608, 0...</td>\n",
              "    </tr>\n",
              "    <tr>\n",
              "      <th>7</th>\n",
              "      <td>7</td>\n",
              "      <td>[0.1493206226505366, 2.8651950828587505, 1.544...</td>\n",
              "    </tr>\n",
              "    <tr>\n",
              "      <th>8</th>\n",
              "      <td>8</td>\n",
              "      <td>[0.0620503023916597, 0.05670361441630572, 0.01...</td>\n",
              "    </tr>\n",
              "    <tr>\n",
              "      <th>9</th>\n",
              "      <td>9</td>\n",
              "      <td>[3.6488383712795365, 2.0112273819356843, 0.905...</td>\n",
              "    </tr>\n",
              "  </tbody>\n",
              "</table>\n",
              "</div>"
            ],
            "text/plain": [
              "   group                                         sum_counts\n",
              "0      0  [0.05839378644157257, 0.02315425205855772, 0.5...\n",
              "1      1  [0.08525978883012811, 7.711161310570436, 8.273...\n",
              "2      2  [0.23600545848236032, 0.19931878334568556, 1.3...\n",
              "3      3  [1.0341532950676915, 0.03487498747560436, 0.68...\n",
              "4      4  [1.111989583237824, 1.4733328966135029, 0.9611...\n",
              "5      5  [0.09983061825056591, 0.16974629634150665, 0.4...\n",
              "6      6  [0.0073572194041027885, 0.08023346025825608, 0...\n",
              "7      7  [0.1493206226505366, 2.8651950828587505, 1.544...\n",
              "8      8  [0.0620503023916597, 0.05670361441630572, 0.01...\n",
              "9      9  [3.6488383712795365, 2.0112273819356843, 0.905..."
            ]
          },
          "metadata": {},
          "execution_count": 189
        }
      ]
    },
    {
      "cell_type": "code",
      "metadata": {
        "colab": {
          "base_uri": "https://localhost:8080/",
          "height": 376
        },
        "id": "SQd5n9O8L1Bp",
        "outputId": "9b02a4bf-2130-4c35-f9b2-a483e092c3ec"
      },
      "source": [
        "# Fractional UMI counts (dividied by whole ds umi counts) for marker gene sets per cell type\n",
        "fig, ax = plt.subplots()\n",
        "\n",
        "violinplot(d[\"sum_counts\"].tolist(), ax, xticklabels=d[\"group\"].values)\n",
        "ax.set(**{\n",
        "    \"ylabel\": \"Sum fractional UMI counts\",\n",
        "    \"xlabel\": \"Cell type\"\n",
        "})\n",
        "\n",
        "fig.show()"
      ],
      "execution_count": 192,
      "outputs": [
        {
          "output_type": "stream",
          "name": "stderr",
          "text": [
            "/usr/local/lib/python3.7/dist-packages/numpy/core/_asarray.py:83: VisibleDeprecationWarning: Creating an ndarray from ragged nested sequences (which is a list-or-tuple of lists-or-tuples-or ndarrays with different lengths or shapes) is deprecated. If you meant to do this, you must specify 'dtype=object' when creating the ndarray\n",
            "  return array(a, dtype, copy=False, order=order)\n"
          ]
        },
        {
          "output_type": "display_data",
          "data": {
            "image/png": "[encoded data removed]",
            "text/plain": [
              "<Figure size 432x288 with 1 Axes>"
            ]
          },
          "metadata": {
            "image/png": {
              "width": 405,
              "height": 305
            },
            "needs_background": "light"
          }
        }
      ]
    },
    {
      "cell_type": "code",
      "metadata": {
        "colab": {
          "base_uri": "https://localhost:8080/"
        },
        "id": "0ts612tbaOKQ",
        "outputId": "9ec154e4-9bc4-4f33-decd-682102427727"
      },
      "source": [
        "G.mean(0).astype(int)"
      ],
      "execution_count": 275,
      "outputs": [
        {
          "output_type": "execute_result",
          "data": {
            "text/plain": [
              "array([ 0,  0,  4,  0,  5,  2, 14, 10,  1,  5,  4,  0,  0, 58, 63,  1, 14,\n",
              "        4, 39,  7,  1,  1, 10, 40,  3,  1,  2,  1,  4,  1,  0,  5, 12,  4,\n",
              "        0, 16,  0,  1,  8, 11,  7, 11, 31,  3, 18,  0,  0,  1,  3, 96, 46,\n",
              "       43,  0,  0,  0,  1,  1,  0,  0,  0,  0,  1, 21, 11,  1,  0,  0,  0,\n",
              "        0,  0,  0,  9,  7,  0,  3,  0,  0,  0, 27, 15,  6,  0,  0,  7,  0,\n",
              "        1,  1])"
            ]
          },
          "metadata": {},
          "execution_count": 275
        }
      ]
    },
    {
      "cell_type": "code",
      "metadata": {
        "colab": {
          "base_uri": "https://localhost:8080/"
        },
        "id": "0Id__keLU6iE",
        "outputId": "3847f060-997d-4abe-cab2-ee5cb3e18297"
      },
      "source": [
        "d.sum_counts.apply(lambda x: x.mean())"
      ],
      "execution_count": 259,
      "outputs": [
        {
          "output_type": "execute_result",
          "data": {
            "text/plain": [
              "0    0.537876\n",
              "1    3.126927\n",
              "2    0.923348\n",
              "3    0.718221\n",
              "4    1.500729\n",
              "5    3.607457\n",
              "6    0.074604\n",
              "7    0.712011\n",
              "8    0.289629\n",
              "9    0.903503\n",
              "Name: sum_counts, dtype: float64"
            ]
          },
          "metadata": {},
          "execution_count": 259
        }
      ]
    },
    {
      "cell_type": "code",
      "metadata": {
        "colab": {
          "base_uri": "https://localhost:8080/"
        },
        "id": "IK-dSGzQVG1V",
        "outputId": "b401215f-ad73-4eeb-95c9-a4f2ba6ed94d"
      },
      "source": [
        " 3.607457/0.074604"
      ],
      "execution_count": 260,
      "outputs": [
        {
          "output_type": "execute_result",
          "data": {
            "text/plain": [
              "48.3547396922417"
            ]
          },
          "metadata": {},
          "execution_count": 260
        }
      ]
    },
    {
      "cell_type": "code",
      "metadata": {
        "colab": {
          "base_uri": "https://localhost:8080/"
        },
        "id": "EEyToZiY8WNa",
        "outputId": "19177838-f28a-41bd-eb85-19e4d55b4e64"
      },
      "source": [
        "# number of marker genes per cell type\n",
        "pd.Series(markers_ec).apply(lambda x: len(x))"
      ],
      "execution_count": 158,
      "outputs": [
        {
          "output_type": "execute_result",
          "data": {
            "text/plain": [
              "0    12\n",
              "1     8\n",
              "2    10\n",
              "3     9\n",
              "4     8\n",
              "5     7\n",
              "6     8\n",
              "7     7\n",
              "8    10\n",
              "9     9\n",
              "dtype: int64"
            ]
          },
          "metadata": {},
          "execution_count": 158
        }
      ]
    },
    {
      "cell_type": "code",
      "metadata": {
        "colab": {
          "base_uri": "https://localhost:8080/",
          "height": 458
        },
        "id": "vVQarGk4JUs7",
        "outputId": "62c34178-f05b-4fb0-a245-32553ff78aad"
      },
      "source": [
        "# are marker genes shared between celltypes?\n",
        "fig = plt.figure()\n",
        "upsetplot(from_contents(markers_ec), fig=fig)\n",
        "fig.show()"
      ],
      "execution_count": 169,
      "outputs": [
        {
          "output_type": "display_data",
          "data": {
            "image/png": "[encoded data removed]",
            "text/plain": [
              "<Figure size 480x512 with 4 Axes>"
            ]
          },
          "metadata": {
            "image/png": {
              "width": 391,
              "height": 441
            },
            "needs_background": "light"
          }
        }
      ]
    },
    {
      "cell_type": "code",
      "metadata": {
        "colab": {
          "base_uri": "https://localhost:8080/",
          "height": 35
        },
        "id": "o3aKgh2fFWiw",
        "outputId": "319c55b7-d308-44b7-bff2-516b49c9823d"
      },
      "source": [
        "mg_inv[(G>0).sum(0).argmin()]"
      ],
      "execution_count": 134,
      "outputs": [
        {
          "output_type": "execute_result",
          "data": {
            "application/vnd.google.colaboratory.intrinsic+json": {
              "type": "string"
            },
            "text/plain": [
              "'Gene203'"
            ]
          },
          "metadata": {},
          "execution_count": 134
        }
      ]
    },
    {
      "cell_type": "code",
      "metadata": {
        "colab": {
          "base_uri": "https://localhost:8080/",
          "height": 101
        },
        "id": "X9OJ1XBQFeVT",
        "outputId": "553838a6-e20b-4f0c-9ca1-68163832ec6d"
      },
      "source": [
        "df.query(\"ID == 'Gene203'\")"
      ],
      "execution_count": 135,
      "outputs": [
        {
          "output_type": "execute_result",
          "data": {
            "text/html": [
              "<div>\n",
              "<style scoped>\n",
              "    .dataframe tbody tr th:only-of-type {\n",
              "        vertical-align: middle;\n",
              "    }\n",
              "\n",
              "    .dataframe tbody tr th {\n",
              "        vertical-align: top;\n",
              "    }\n",
              "\n",
              "    .dataframe thead th {\n",
              "        text-align: right;\n",
              "    }\n",
              "</style>\n",
              "<table border=\"1\" class=\"dataframe\">\n",
              "  <thead>\n",
              "    <tr style=\"text-align: right;\">\n",
              "      <th></th>\n",
              "      <th>ID</th>\n",
              "      <th>Gene</th>\n",
              "      <th>BaseGeneMean</th>\n",
              "      <th>OutlierFactor</th>\n",
              "      <th>GeneMean</th>\n",
              "      <th>DEFacGroup1</th>\n",
              "      <th>DEFacGroup2</th>\n",
              "      <th>DEFacGroup3</th>\n",
              "      <th>DEFacGroup4</th>\n",
              "      <th>DEFacGroup5</th>\n",
              "      <th>DEFacGroup6</th>\n",
              "      <th>DEFacGroup7</th>\n",
              "      <th>DEFacGroup8</th>\n",
              "      <th>DEFacGroup9</th>\n",
              "      <th>DEFacGroup10</th>\n",
              "    </tr>\n",
              "  </thead>\n",
              "  <tbody>\n",
              "    <tr>\n",
              "      <th>202</th>\n",
              "      <td>Gene203</td>\n",
              "      <td>Gene203</td>\n",
              "      <td>0.001101</td>\n",
              "      <td>1</td>\n",
              "      <td>0.001101</td>\n",
              "      <td>1.0</td>\n",
              "      <td>1.0</td>\n",
              "      <td>1.0</td>\n",
              "      <td>1.0</td>\n",
              "      <td>1.0</td>\n",
              "      <td>1.0</td>\n",
              "      <td>1.921261</td>\n",
              "      <td>1.0</td>\n",
              "      <td>1.0</td>\n",
              "      <td>1.0</td>\n",
              "    </tr>\n",
              "  </tbody>\n",
              "</table>\n",
              "</div>"
            ],
            "text/plain": [
              "          ID     Gene  BaseGeneMean  ...  DEFacGroup8  DEFacGroup9  DEFacGroup10\n",
              "202  Gene203  Gene203      0.001101  ...          1.0          1.0           1.0\n",
              "\n",
              "[1 rows x 15 columns]"
            ]
          },
          "metadata": {},
          "execution_count": 135
        }
      ]
    },
    {
      "cell_type": "markdown",
      "metadata": {
        "id": "PBhsFHASKPh9"
      },
      "source": [
        "# Creating analysis matrices"
      ]
    },
    {
      "cell_type": "code",
      "metadata": {
        "id": "It5P4K_u-MFr"
      },
      "source": [
        "norm = 1\n",
        "\n",
        "X = normalize(G, norm=\"l1\")*norm\n",
        "\n",
        "# get the centroids for the existing data\n",
        "gt = {\n",
        "    \"X\": {\n",
        "        \"norm\": X,\n",
        "        \"center\": X - X.mean(0),\n",
        "        \"norm_log1p\": np.log1p(X),\n",
        "        \"norm_log1p_center\": np.log1p(X) - np.log1p(X).mean(0),\n",
        "        \"raw_center\": G - G.mean(0),\n",
        "        \"raw_log1p\": np.log1p(G),\n",
        "        \"raw_log1p_center\": np.log1p(G) - np.log1p(G).mean(0)\n",
        "    }\n",
        "}\n",
        "\n",
        "gt.update({\n",
        "    \"centroids\": {\n",
        "        \"norm\": get_centroids(gt[\"X\"][\"norm\"], z), \n",
        "        \"center\": get_centroids(gt[\"X\"][\"center\"], z), \n",
        "        \"norm_log1p\": get_centroids(gt[\"X\"][\"norm_log1p\"], z),\n",
        "        \"norm_log1p_center\": get_centroids(gt[\"X\"][\"norm_log1p_center\"], z),\n",
        "        \"raw_center\": get_centroids(gt[\"X\"][\"raw_center\"], z),\n",
        "        \"raw_log1p\": get_centroids(gt[\"X\"][\"raw_log1p\"], z),\n",
        "        \"raw_log1p_center\": get_centroids(gt[\"X\"][\"raw_log1p_center\"], z),\n",
        "        },\n",
        "      \"marker_centroids\":{\n",
        "          \"norm\": get_marker_centroids(gt[\"X\"][\"norm\"], markers_ec),\n",
        "          \"center\": get_marker_centroids(gt[\"X\"][\"center\"], markers_ec, \"max\"), # these will all be zero if using mean\n",
        "          \"norm_log1p\": get_marker_centroids(gt[\"X\"][\"norm_log1p\"], markers_ec),\n",
        "          \"norm_log1p_center\": get_marker_centroids(gt[\"X\"][\"norm_log1p_center\"], markers_ec, \"max\"),\n",
        "          \"raw_center\": get_marker_centroids(gt[\"X\"][\"raw_center\"], markers_ec, \"max\"),\n",
        "          \"raw_log1p\": get_marker_centroids(gt[\"X\"][\"raw_log1p\"], markers_ec, \"max\"),\n",
        "          \"raw_log1p_center\": get_marker_centroids(gt[\"X\"][\"raw_log1p_center\"], markers_ec, \"max\")\n",
        "      }\n",
        "    }\n",
        ")"
      ],
      "execution_count": 261,
      "outputs": []
    },
    {
      "cell_type": "code",
      "metadata": {
        "id": "xhuHdmYA-SK8"
      },
      "source": [
        "method = \"raw_log1p\"\n",
        "# log(G + 1) recommended by Huber.\n",
        "# for assignment we do\n",
        "# log(G + 1) - log(G + 1).mean(0)"
      ],
      "execution_count": 262,
      "outputs": []
    },
    {
      "cell_type": "code",
      "metadata": {
        "colab": {
          "base_uri": "https://localhost:8080/"
        },
        "id": "TsBlAI8uDVfC",
        "outputId": "e5dc5bd7-8c19-424f-ad79-9820eb2e44b5"
      },
      "source": [
        "gt[\"X\"][method].shape"
      ],
      "execution_count": 234,
      "outputs": [
        {
          "output_type": "execute_result",
          "data": {
            "text/plain": [
              "(11843, 87)"
            ]
          },
          "metadata": {},
          "execution_count": 234
        }
      ]
    },
    {
      "cell_type": "code",
      "metadata": {
        "colab": {
          "base_uri": "https://localhost:8080/"
        },
        "id": "8ykOHQH0DfAk",
        "outputId": "8b6e2a0d-9706-4795-eb68-fed90062cf26"
      },
      "source": [
        "gt[\"X\"][method][:, markers_ec[6]].max(0)"
      ],
      "execution_count": 220,
      "outputs": [
        {
          "output_type": "execute_result",
          "data": {
            "text/plain": [
              "array([2.56494936, 3.55534806, 3.98898405, 3.29583687, 3.04452244,\n",
              "       3.13549422, 2.48490665, 2.89037176])"
            ]
          },
          "metadata": {},
          "execution_count": 220
        }
      ]
    },
    {
      "cell_type": "code",
      "metadata": {
        "colab": {
          "base_uri": "https://localhost:8080/",
          "height": 300
        },
        "id": "bV6_L39wEZtY",
        "outputId": "52b38a12-749f-423f-89c4-8d714a702e6d"
      },
      "source": [
        "g = 6\n",
        "plt.imshow(G[np.where(z == g)], aspect=\"auto\")\n",
        "plt.colorbar()"
      ],
      "execution_count": 221,
      "outputs": [
        {
          "output_type": "execute_result",
          "data": {
            "text/plain": [
              "<matplotlib.colorbar.Colorbar at 0x7fdc48b6b890>"
            ]
          },
          "metadata": {},
          "execution_count": 221
        },
        {
          "output_type": "display_data",
          "data": {
            "image/png": "[encoded data removed]",
            "text/plain": [
              "<Figure size 432x288 with 2 Axes>"
            ]
          },
          "metadata": {
            "image/png": {
              "width": 425,
              "height": 266
            },
            "needs_background": "light"
          }
        }
      ]
    },
    {
      "cell_type": "markdown",
      "metadata": {
        "id": "2Q6hSJgcPAgY"
      },
      "source": [
        "the 6th cluster has low expression in the marker genes selected for it but has high expression in the marker genes not selected for it!"
      ]
    },
    {
      "cell_type": "code",
      "metadata": {
        "colab": {
          "base_uri": "https://localhost:8080/"
        },
        "id": "-ZJ-DesPOvc2",
        "outputId": "e1ef4010-d7d3-4531-ebcf-933921e7f666"
      },
      "source": [
        "pd.Series(G[np.where(z == g)].argmax(1)).value_counts()"
      ],
      "execution_count": 198,
      "outputs": [
        {
          "output_type": "execute_result",
          "data": {
            "text/plain": [
              "49    925\n",
              "51    100\n",
              "50     91\n",
              "14     34\n",
              "18      5\n",
              "13      5\n",
              "42      2\n",
              "38      1\n",
              "35      1\n",
              "23      1\n",
              "21      1\n",
              "dtype: int64"
            ]
          },
          "metadata": {},
          "execution_count": 198
        }
      ]
    },
    {
      "cell_type": "code",
      "metadata": {
        "colab": {
          "base_uri": "https://localhost:8080/",
          "height": 320
        },
        "id": "vtJpcgbPCZvv",
        "outputId": "91be89dd-8603-45d9-d855-d553faa13799"
      },
      "source": [
        "group = \"DEFacGroup7\"\n",
        "df[np.logical_and((df[group] > 1.7).values, (df[\"GeneMean\"] > 1e-3).values)]"
      ],
      "execution_count": 199,
      "outputs": [
        {
          "output_type": "execute_result",
          "data": {
            "text/html": [
              "<div>\n",
              "<style scoped>\n",
              "    .dataframe tbody tr th:only-of-type {\n",
              "        vertical-align: middle;\n",
              "    }\n",
              "\n",
              "    .dataframe tbody tr th {\n",
              "        vertical-align: top;\n",
              "    }\n",
              "\n",
              "    .dataframe thead th {\n",
              "        text-align: right;\n",
              "    }\n",
              "</style>\n",
              "<table border=\"1\" class=\"dataframe\">\n",
              "  <thead>\n",
              "    <tr style=\"text-align: right;\">\n",
              "      <th></th>\n",
              "      <th>ID</th>\n",
              "      <th>Gene</th>\n",
              "      <th>BaseGeneMean</th>\n",
              "      <th>OutlierFactor</th>\n",
              "      <th>GeneMean</th>\n",
              "      <th>DEFacGroup1</th>\n",
              "      <th>DEFacGroup2</th>\n",
              "      <th>DEFacGroup3</th>\n",
              "      <th>DEFacGroup4</th>\n",
              "      <th>DEFacGroup5</th>\n",
              "      <th>DEFacGroup6</th>\n",
              "      <th>DEFacGroup7</th>\n",
              "      <th>DEFacGroup8</th>\n",
              "      <th>DEFacGroup9</th>\n",
              "      <th>DEFacGroup10</th>\n",
              "    </tr>\n",
              "  </thead>\n",
              "  <tbody>\n",
              "    <tr>\n",
              "      <th>202</th>\n",
              "      <td>Gene203</td>\n",
              "      <td>Gene203</td>\n",
              "      <td>0.001101</td>\n",
              "      <td>1</td>\n",
              "      <td>0.001101</td>\n",
              "      <td>1.000000</td>\n",
              "      <td>1.000000</td>\n",
              "      <td>1.000000</td>\n",
              "      <td>1.0</td>\n",
              "      <td>1.0</td>\n",
              "      <td>1.000000</td>\n",
              "      <td>1.921261</td>\n",
              "      <td>1.0</td>\n",
              "      <td>1.0</td>\n",
              "      <td>1.000000</td>\n",
              "    </tr>\n",
              "    <tr>\n",
              "      <th>217</th>\n",
              "      <td>Gene218</td>\n",
              "      <td>Gene218</td>\n",
              "      <td>0.013522</td>\n",
              "      <td>1</td>\n",
              "      <td>0.013522</td>\n",
              "      <td>1.000000</td>\n",
              "      <td>1.110748</td>\n",
              "      <td>1.000000</td>\n",
              "      <td>1.0</td>\n",
              "      <td>1.0</td>\n",
              "      <td>1.194127</td>\n",
              "      <td>1.739432</td>\n",
              "      <td>1.0</td>\n",
              "      <td>1.0</td>\n",
              "      <td>1.000000</td>\n",
              "    </tr>\n",
              "    <tr>\n",
              "      <th>390</th>\n",
              "      <td>Gene391</td>\n",
              "      <td>Gene391</td>\n",
              "      <td>0.029576</td>\n",
              "      <td>1</td>\n",
              "      <td>0.029576</td>\n",
              "      <td>1.084909</td>\n",
              "      <td>1.000000</td>\n",
              "      <td>1.000000</td>\n",
              "      <td>1.0</td>\n",
              "      <td>1.0</td>\n",
              "      <td>1.000000</td>\n",
              "      <td>2.756960</td>\n",
              "      <td>1.0</td>\n",
              "      <td>1.0</td>\n",
              "      <td>1.000000</td>\n",
              "    </tr>\n",
              "    <tr>\n",
              "      <th>459</th>\n",
              "      <td>Gene460</td>\n",
              "      <td>Gene460</td>\n",
              "      <td>0.024510</td>\n",
              "      <td>1</td>\n",
              "      <td>0.024510</td>\n",
              "      <td>1.000000</td>\n",
              "      <td>1.000000</td>\n",
              "      <td>1.000000</td>\n",
              "      <td>1.0</td>\n",
              "      <td>1.0</td>\n",
              "      <td>1.000000</td>\n",
              "      <td>2.146833</td>\n",
              "      <td>1.0</td>\n",
              "      <td>1.0</td>\n",
              "      <td>1.000000</td>\n",
              "    </tr>\n",
              "    <tr>\n",
              "      <th>482</th>\n",
              "      <td>Gene483</td>\n",
              "      <td>Gene483</td>\n",
              "      <td>0.008250</td>\n",
              "      <td>1</td>\n",
              "      <td>0.008250</td>\n",
              "      <td>1.000000</td>\n",
              "      <td>1.000000</td>\n",
              "      <td>1.000000</td>\n",
              "      <td>1.0</td>\n",
              "      <td>1.0</td>\n",
              "      <td>1.000000</td>\n",
              "      <td>1.750120</td>\n",
              "      <td>1.0</td>\n",
              "      <td>1.0</td>\n",
              "      <td>1.000000</td>\n",
              "    </tr>\n",
              "    <tr>\n",
              "      <th>716</th>\n",
              "      <td>Gene717</td>\n",
              "      <td>Gene717</td>\n",
              "      <td>0.005687</td>\n",
              "      <td>1</td>\n",
              "      <td>0.005687</td>\n",
              "      <td>1.000000</td>\n",
              "      <td>1.000000</td>\n",
              "      <td>1.000000</td>\n",
              "      <td>1.0</td>\n",
              "      <td>1.0</td>\n",
              "      <td>1.000000</td>\n",
              "      <td>1.758381</td>\n",
              "      <td>1.0</td>\n",
              "      <td>1.0</td>\n",
              "      <td>1.000000</td>\n",
              "    </tr>\n",
              "    <tr>\n",
              "      <th>808</th>\n",
              "      <td>Gene809</td>\n",
              "      <td>Gene809</td>\n",
              "      <td>0.002058</td>\n",
              "      <td>1</td>\n",
              "      <td>0.002058</td>\n",
              "      <td>1.000000</td>\n",
              "      <td>1.000000</td>\n",
              "      <td>1.036569</td>\n",
              "      <td>1.0</td>\n",
              "      <td>1.0</td>\n",
              "      <td>1.000000</td>\n",
              "      <td>1.853971</td>\n",
              "      <td>1.0</td>\n",
              "      <td>1.0</td>\n",
              "      <td>1.000000</td>\n",
              "    </tr>\n",
              "    <tr>\n",
              "      <th>861</th>\n",
              "      <td>Gene862</td>\n",
              "      <td>Gene862</td>\n",
              "      <td>0.011378</td>\n",
              "      <td>1</td>\n",
              "      <td>0.011378</td>\n",
              "      <td>1.000000</td>\n",
              "      <td>1.000000</td>\n",
              "      <td>1.000000</td>\n",
              "      <td>1.0</td>\n",
              "      <td>1.0</td>\n",
              "      <td>1.000000</td>\n",
              "      <td>2.092370</td>\n",
              "      <td>1.0</td>\n",
              "      <td>1.0</td>\n",
              "      <td>0.417784</td>\n",
              "    </tr>\n",
              "  </tbody>\n",
              "</table>\n",
              "</div>"
            ],
            "text/plain": [
              "          ID     Gene  BaseGeneMean  ...  DEFacGroup8  DEFacGroup9  DEFacGroup10\n",
              "202  Gene203  Gene203      0.001101  ...          1.0          1.0      1.000000\n",
              "217  Gene218  Gene218      0.013522  ...          1.0          1.0      1.000000\n",
              "390  Gene391  Gene391      0.029576  ...          1.0          1.0      1.000000\n",
              "459  Gene460  Gene460      0.024510  ...          1.0          1.0      1.000000\n",
              "482  Gene483  Gene483      0.008250  ...          1.0          1.0      1.000000\n",
              "716  Gene717  Gene717      0.005687  ...          1.0          1.0      1.000000\n",
              "808  Gene809  Gene809      0.002058  ...          1.0          1.0      1.000000\n",
              "861  Gene862  Gene862      0.011378  ...          1.0          1.0      0.417784\n",
              "\n",
              "[8 rows x 15 columns]"
            ]
          },
          "metadata": {},
          "execution_count": 199
        }
      ]
    },
    {
      "cell_type": "code",
      "metadata": {
        "colab": {
          "base_uri": "https://localhost:8080/",
          "height": 165
        },
        "id": "r-Ftjf5DC0vE",
        "outputId": "22d1a94c-581b-40e6-f75f-15636132ac42"
      },
      "source": [
        "marker_genes[\"Gene7\"]"
      ],
      "execution_count": 200,
      "outputs": [
        {
          "output_type": "error",
          "ename": "KeyError",
          "evalue": "ignored",
          "traceback": [
            "\u001b[0;31m---------------------------------------------------------------------------\u001b[0m",
            "\u001b[0;31mKeyError\u001b[0m                                  Traceback (most recent call last)",
            "\u001b[0;32m<ipython-input-200-b979c9815266>\u001b[0m in \u001b[0;36m<module>\u001b[0;34m()\u001b[0m\n\u001b[0;32m----> 1\u001b[0;31m \u001b[0mmarker_genes\u001b[0m\u001b[0;34m[\u001b[0m\u001b[0;34m\"Gene7\"\u001b[0m\u001b[0;34m]\u001b[0m\u001b[0;34m\u001b[0m\u001b[0;34m\u001b[0m\u001b[0m\n\u001b[0m",
            "\u001b[0;31mKeyError\u001b[0m: 'Gene7'"
          ]
        }
      ]
    },
    {
      "cell_type": "code",
      "metadata": {
        "colab": {
          "base_uri": "https://localhost:8080/"
        },
        "id": "4t7J1-HYO1b3",
        "outputId": "c8a0e021-3569-45bc-d46c-c0603a53fbcc"
      },
      "source": [
        "markers_ec[6]"
      ],
      "execution_count": 32,
      "outputs": [
        {
          "output_type": "execute_result",
          "data": {
            "text/plain": [
              "[53, 54, 55, 56, 57, 58, 59, 60]"
            ]
          },
          "metadata": {},
          "execution_count": 32
        }
      ]
    },
    {
      "cell_type": "code",
      "metadata": {
        "colab": {
          "base_uri": "https://localhost:8080/"
        },
        "id": "Fh_vUh_qCOhl",
        "outputId": "a7d55f25-9d59-4349-c265-10ec6226bcdc"
      },
      "source": [
        "markers_ec"
      ],
      "execution_count": 56,
      "outputs": [
        {
          "output_type": "execute_result",
          "data": {
            "text/plain": [
              "defaultdict(list,\n",
              "            {0: [0, 1, 2, 3, 4, 5, 6, 7, 8, 9, 10, 11],\n",
              "             1: [12, 13, 14, 15, 16, 17, 18, 19],\n",
              "             2: [20, 21, 22, 23, 24, 25, 26, 27, 28, 29],\n",
              "             3: [19, 30, 31, 32, 33, 34, 35, 36, 37],\n",
              "             4: [38, 39, 40, 41, 42, 43, 44, 45],\n",
              "             5: [46, 47, 48, 49, 50, 51, 52],\n",
              "             6: [53, 54, 55, 56, 57, 58, 59, 60],\n",
              "             7: [61, 62, 63, 64, 65, 66, 67],\n",
              "             8: [68, 69, 70, 71, 72, 73, 74, 75, 76, 77],\n",
              "             9: [78, 79, 80, 81, 82, 83, 84, 85, 86]})"
            ]
          },
          "metadata": {},
          "execution_count": 56
        }
      ]
    },
    {
      "cell_type": "code",
      "metadata": {
        "colab": {
          "base_uri": "https://localhost:8080/"
        },
        "id": "trozAPuqGOX5",
        "outputId": "3c6c1105-3287-43d6-bdcf-a89ba9afbc4e"
      },
      "source": [
        "np.sum(G.sum(1) > 500)"
      ],
      "execution_count": 33,
      "outputs": [
        {
          "output_type": "execute_result",
          "data": {
            "text/plain": [
              "6238"
            ]
          },
          "metadata": {},
          "execution_count": 33
        }
      ]
    },
    {
      "cell_type": "code",
      "metadata": {
        "colab": {
          "base_uri": "https://localhost:8080/"
        },
        "id": "V1UVp2VaE4Ng",
        "outputId": "1eeaf6af-7c71-4a05-9d45-0aef9bbebe0c"
      },
      "source": [
        "g = 6\n",
        "G[np.where(z == g)][:, markers_ec[g]].sum()"
      ],
      "execution_count": 34,
      "outputs": [
        {
          "output_type": "execute_result",
          "data": {
            "text/plain": [
              "4825"
            ]
          },
          "metadata": {},
          "execution_count": 34
        }
      ]
    },
    {
      "cell_type": "code",
      "metadata": {
        "colab": {
          "base_uri": "https://localhost:8080/"
        },
        "id": "Yt3QsluZFAYW",
        "outputId": "927a8ba7-8ebc-46df-9d69-05a9d15f7289"
      },
      "source": [
        "pd.Series([(g, G[np.where(z == g)][:, markers_ec[g]].sum()) for g in np.unique(z)])"
      ],
      "execution_count": 35,
      "outputs": [
        {
          "output_type": "execute_result",
          "data": {
            "text/plain": [
              "0    (0, 106094)\n",
              "1    (1, 172561)\n",
              "2     (2, 71802)\n",
              "3     (3, 49600)\n",
              "4     (4, 96553)\n",
              "5    (5, 203401)\n",
              "6      (6, 4825)\n",
              "7     (7, 39002)\n",
              "8     (8, 24327)\n",
              "9     (9, 82305)\n",
              "dtype: object"
            ]
          },
          "metadata": {},
          "execution_count": 35
        }
      ]
    },
    {
      "cell_type": "code",
      "metadata": {
        "colab": {
          "base_uri": "https://localhost:8080/",
          "height": 625
        },
        "cellView": "form",
        "id": "HPv7goOj_FFq",
        "outputId": "68675db2-9c87-4af4-efa7-8d76792d4806"
      },
      "source": [
        "#@title QC plots\n",
        "fig, axs = plt.subplots(figsize=(10,10), ncols=2, nrows=2)\n",
        "\n",
        "# Genes detected\n",
        "ax = axs[0, 0]\n",
        "x = np.sort(nd((gt[\"X\"][method]>0).sum(1)))[::-1]\n",
        "y = np.arange(gt[\"X\"][method].shape[0])\n",
        "\n",
        "ax.scatter(x,y, color=\"k\", s=0.5)\n",
        "\n",
        "ax.set(**{\n",
        "    \"xlabel\": \"Marker genes detected\",\n",
        "    \"ylabel\": \"Number of cells\"\n",
        "})\n",
        "\n",
        "##############\n",
        "ax = axs[0, 1]\n",
        "x = np.sort(nd(G.sum(1)))[::-1]\n",
        "\n",
        "ax.scatter(x,y, color=\"k\", s=0.5)\n",
        "\n",
        "ax.set(**{\n",
        "    \"xlabel\": \"UMI count\",\n",
        "    \"ylabel\": \"Marker genes detected\",\n",
        "    \"xscale\":\"log\",\n",
        "    \"yscale\": \"log\",\n",
        "    \"ylim\": 1\n",
        "})\n",
        "\n",
        "##############\n",
        "# Centroids\n",
        "ax = axs[1, 0]\n",
        "ax.imshow(gt[\"centroids\"][method], aspect=\"auto\")\n",
        "ax.set(**{\n",
        "    \"xlabel\": \"genes\",\n",
        "    \"ylabel\": \"cell type\"\n",
        "})\n",
        "\n",
        "# Norm Centroids\n",
        "ax = axs[1,1]\n",
        "ax.imshow(gt[\"centroids\"][method], aspect=\"auto\")\n",
        "ax.set(**{\n",
        "    \"xlabel\": \"genes\",\n",
        "    \"ylabel\": \"cell type\"\n",
        "})\n",
        "fig.show()"
      ],
      "execution_count": 263,
      "outputs": [
        {
          "output_type": "display_data",
          "data": {
            "image/png": "[encoded data removed]",
            "text/plain": [
              "<Figure size 720x720 with 4 Axes>"
            ]
          },
          "metadata": {
            "image/png": {
              "width": 668,
              "height": 608
            },
            "needs_background": "light"
          }
        }
      ]
    },
    {
      "cell_type": "markdown",
      "metadata": {
        "id": "ThHxU_be_6CA"
      },
      "source": [
        "# GMM"
      ]
    },
    {
      "cell_type": "markdown",
      "metadata": {
        "id": "GpFuUCjXAHCM"
      },
      "source": [
        "### Initialization"
      ]
    },
    {
      "cell_type": "code",
      "metadata": {
        "id": "koZYF0qsAKcB"
      },
      "source": [
        "tree = KDTree(gt[\"marker_centroids\"][method], metric=\"euclidean\")\n",
        "nearest_dist, nearest_ind = tree.query(gt[\"X\"][method], k=1)\n",
        "\n",
        "# assign cells to clusters\n",
        "p = 1\n",
        "resp = np.ones((n_samples, n_clusters))*(1-p)/(n_clusters-1)\n",
        "resp[np.arange(n_samples), nd(nearest_ind)] = p\n",
        "\n",
        "# initialize params\n",
        "nk = resp.sum(axis=0) + 10 * np.finfo(resp.dtype).eps\n",
        "\n",
        "means_init = np.dot(resp.T, gt[\"X\"][method]) / nk[:, np.newaxis]\n",
        "uniform_weights = np.array([1./n_clusters]*n_clusters)\n",
        "identity_precisions = np.repeat(np.array([np.eye(X.shape[1])]), n_clusters, 0)"
      ],
      "execution_count": 264,
      "outputs": []
    },
    {
      "cell_type": "code",
      "metadata": {
        "colab": {
          "base_uri": "https://localhost:8080/"
        },
        "id": "H_0EegeQ8qkB",
        "outputId": "60eb7980-9be6-47b1-d6ee-dd71dc8df89c"
      },
      "source": [
        "pd.Series(nd(nearest_ind)).value_counts()"
      ],
      "execution_count": 265,
      "outputs": [
        {
          "output_type": "execute_result",
          "data": {
            "text/plain": [
              "5    4502\n",
              "1    1883\n",
              "6    1722\n",
              "4    1343\n",
              "7    1168\n",
              "9     328\n",
              "8     324\n",
              "2     238\n",
              "3     189\n",
              "0     146\n",
              "dtype: int64"
            ]
          },
          "metadata": {},
          "execution_count": 265
        }
      ]
    },
    {
      "cell_type": "markdown",
      "metadata": {
        "id": "R7hrj_MSFaw4"
      },
      "source": [
        "### Gmm"
      ]
    },
    {
      "cell_type": "code",
      "metadata": {
        "id": "MmMBTFS9_I5i"
      },
      "source": [
        "gmm_params = {\n",
        "            \"n_components\": n_clusters,\n",
        "            \"means_init\": None, # to be added\n",
        "            \"weights_init\": None, # to be added\n",
        "            \"precisions_init\": None, # to be added\n",
        "            \"random_state\": 0,\n",
        "            \"reg_covar\": 1e-8,\n",
        "            \"verbose\": 2,\n",
        "            \"n_init\": 1,\n",
        "            \"max_iter\": 100,\n",
        "            \"tol\": 1e-3,\n",
        "            \"init_params\": \"random\"\n",
        "  }\n",
        "\n",
        "params = {**gmm_params, \n",
        "          \"means_init\": means_init, # centroids,\n",
        "          \"weights_init\": uniform_weights, \n",
        "          \"precisions_init\": identity_precisions\n",
        "          }\n",
        "\n",
        "gmm = ImprovedGaussianMixture(**params)"
      ],
      "execution_count": 266,
      "outputs": []
    },
    {
      "cell_type": "code",
      "metadata": {
        "colab": {
          "base_uri": "https://localhost:8080/"
        },
        "id": "QLF6X8I95r9K",
        "outputId": "50ec7fec-3877-43ca-dcc6-b92ffc459c01"
      },
      "source": [
        "print(method, json.dumps(params, indent=4, default=str))\n",
        "\n",
        "labels = gmm.fit_predict(gt[\"X\"][method], B=markers_ec)\n",
        "means = gmm.means_\n",
        "prob = gmm.predict_proba(gt[\"X\"][method])\n",
        "entr = entropy(prob, axis=1)\n",
        "rand = rand_score(z, labels)\n",
        "dist = cdist(gt[\"centroids\"][method], means)#, metric=\"cityblock\")\n",
        "close = np.argmin(dist, axis=0)"
      ],
      "execution_count": 267,
      "outputs": [
        {
          "output_type": "stream",
          "name": "stdout",
          "text": [
            "raw_log1p {\n",
            "    \"n_components\": 10,\n",
            "    \"means_init\": \"[[7.12761000e-01 3.46061919e-01 2.61524354e+00 9.45171785e-01\\n  2.64588962e+00 1.91429596e+00 3.65908047e+00 3.59274591e+00\\n  1.60295077e+00 2.81227496e+00 2.88826745e+00 1.99135926e-01\\n  5.23138055e-01 4.10009024e+00 4.39068078e+00 6.48805766e-01\\n  2.91060014e+00 1.72722850e+00 3.84101149e+00 2.10562428e+00\\n  1.00666333e+00 7.19907611e-01 2.43968608e+00 3.83626328e+00\\n  1.51598683e+00 8.17506560e-01 1.27450108e+00 7.80109585e-01\\n  1.89884158e+00 1.02251328e+00 2.06016377e-01 1.83962997e+00\\n  2.75459272e+00 1.74325526e+00 2.69001553e-01 2.87955515e+00\\n  1.12778310e-01 9.11784777e-01 2.35513161e+00 2.59851182e+00\\n  2.18499321e+00 2.36078336e+00 3.63821904e+00 1.19662160e+00\\n  3.31704485e+00 3.80435915e-01 4.96520080e-01 8.15926876e-01\\n  1.55364925e+00 4.75475763e+00 3.95109541e+00 3.84633128e+00\\n  5.31173679e-01 4.03157810e-02 4.02992919e-01 1.05048804e+00\\n  8.37530126e-01 3.07608698e-01 2.31390540e-01 4.55054091e-02\\n  3.31099087e-01 7.94511377e-01 3.24893127e+00 2.50710587e+00\\n  1.02815210e+00 4.06650174e-01 4.11370030e-01 3.43802489e-01\\n  4.04453435e-01 2.99362309e-01 8.33782111e-02 2.51107159e+00\\n  2.27005228e+00 5.30301508e-02 1.47329511e+00 4.11201953e-01\\n  2.08459356e-01 9.73718679e-02 3.57323500e+00 2.99855335e+00\\n  2.22531310e+00 2.75259703e-01 1.03175278e-01 2.16660512e+00\\n  6.25253177e-02 9.00006220e-01 1.07579992e+00]\\n [3.25767413e-01 1.44343486e-01 1.53175680e+00 4.65265771e-01\\n  1.79042924e+00 1.17322923e+00 2.70829735e+00 2.40078038e+00\\n  7.49444465e-01 1.84384924e+00 1.70386077e+00 7.66168882e-02\\n  6.53788374e-01 4.76583821e+00 4.66249260e+00 1.00269210e+00\\n  3.15030999e+00 2.12153823e+00 4.14036211e+00 2.71529535e+00\\n  9.20459279e-01 6.98954789e-01 2.35853519e+00 3.74742083e+00\\n  1.39065309e+00 7.72815675e-01 1.16083336e+00 8.94135245e-01\\n  1.60946463e+00 9.35167772e-01 2.04465217e-01 1.78963123e+00\\n  2.61078413e+00 1.69214385e+00 2.03722456e-01 2.92170095e+00\\n  1.53948119e-01 8.53722796e-01 2.18406211e+00 2.72269534e+00\\n  2.03859716e+00 2.23125076e+00 3.45054525e+00 1.01285037e+00\\n  2.81034267e+00 2.64005281e-01 4.85999790e-01 7.34548778e-01\\n  1.46681463e+00 4.63340576e+00 3.84114614e+00 3.60425613e+00\\n  4.26071247e-01 4.73216147e-02 3.95522884e-01 8.71010117e-01\\n  7.56378401e-01 3.30021730e-01 1.84485856e-01 7.93105238e-02\\n  3.65679654e-01 7.06286067e-01 3.07286639e+00 2.48090912e+00\\n  8.88816616e-01 3.40989822e-01 5.76456664e-01 3.25525620e-01\\n  3.68192972e-01 3.41831199e-01 8.41074374e-02 2.36973647e+00\\n  2.14181208e+00 6.27594302e-02 1.37011013e+00 3.76399717e-01\\n  2.69371080e-01 8.46143476e-02 3.19444703e+00 2.73301218e+00\\n  2.05893309e+00 2.50635127e-01 1.33048615e-01 2.13194563e+00\\n  6.01418033e-02 9.15711247e-01 1.03704495e+00]\\n [3.79225228e-01 2.51003758e-01 1.23372003e+00 6.30890597e-01\\n  1.93344690e+00 1.24757134e+00 2.77543613e+00 2.40126252e+00\\n  8.50462755e-01 1.96748225e+00 1.78588659e+00 1.21816932e-01\\n  4.82052542e-01 4.09731521e+00 4.35220125e+00 6.66963184e-01\\n  2.80920598e+00 1.75689977e+00 3.84490634e+00 2.03318187e+00\\n  1.71496937e+00 1.50985978e+00 3.39810670e+00 4.89051214e+00\\n  2.13709448e+00 1.58188465e+00 2.12952117e+00 1.77077525e+00\\n  2.69856691e+00 1.65863827e+00 2.28418554e-01 1.86461562e+00\\n  2.60734257e+00 1.73480935e+00 2.10130745e-01 2.89090449e+00\\n  1.26717134e-01 7.46577200e-01 2.28083036e+00 2.60395573e+00\\n  2.28216843e+00 2.40062141e+00 3.54902394e+00 1.39274418e+00\\n  2.87442039e+00 3.01912295e-01 5.55502984e-01 7.34612111e-01\\n  1.59053184e+00 4.76320508e+00 3.95332944e+00 3.79869356e+00\\n  3.86289176e-01 5.23567264e-02 3.79535580e-01 8.38285857e-01\\n  7.36934642e-01 3.13733349e-01 2.30291724e-01 1.06070210e-01\\n  3.95606097e-01 7.74326235e-01 3.29446141e+00 2.53666594e+00\\n  8.91265352e-01 3.35367960e-01 5.97601056e-01 3.09913821e-01\\n  4.02080641e-01 3.68411703e-01 7.50080994e-02 2.63470370e+00\\n  2.26532962e+00 7.08869681e-02 1.40138599e+00 4.37616463e-01\\n  2.21080390e-01 1.00948377e-01 3.45580796e+00 2.82720486e+00\\n  2.18771664e+00 2.28470750e-01 1.50906323e-01 1.98223984e+00\\n  1.03146899e-01 8.47236076e-01 1.05283500e+00]\\n [2.04483977e-01 6.74763879e-02 1.09556974e+00 3.22796477e-01\\n  1.43953959e+00 8.88346421e-01 2.22465338e+00 1.94947509e+00\\n  5.19912105e-01 1.44757569e+00 1.21112206e+00 1.58504353e-02\\n  2.78737792e-01 3.51259915e+00 3.76837741e+00 3.55311750e-01\\n  2.31016810e+00 1.18334866e+00 3.30005196e+00 2.54440684e+00\\n  6.33109490e-01 5.14664326e-01 1.94598866e+00 3.29892641e+00\\n  1.11104516e+00 5.25309960e-01 8.42685670e-01 5.67551795e-01\\n  1.46720636e+00 6.85300564e-01 3.31029553e-01 2.28295176e+00\\n  3.03244039e+00 2.08873133e+00 3.34165065e-01 3.53764105e+00\\n  2.06331190e-01 1.46637957e+00 1.72125002e+00 2.08356039e+00\\n  1.41517066e+00 1.78025772e+00 3.05624445e+00 9.35660908e-01\\n  2.29817659e+00 2.04699966e-01 2.18806314e-01 4.74090214e-01\\n  1.08603548e+00 4.22371874e+00 3.31856568e+00 2.99250014e+00\\n  2.16043776e-01 2.29830975e-02 2.19502412e-01 6.50650605e-01\\n  4.88053481e-01 2.16666967e-01 1.34090028e-01 6.28864378e-02\\n  2.43094940e-01 4.55203314e-01 2.45955520e+00 2.06691634e+00\\n  5.73731804e-01 1.85523559e-01 3.29131124e-01 2.05730358e-01\\n  2.05857052e-01 2.33051297e-01 5.52933980e-02 1.98900263e+00\\n  1.67349441e+00 3.36301993e-02 9.69063804e-01 1.54937614e-01\\n  1.31285330e-01 5.04452989e-02 2.98324341e+00 2.40403551e+00\\n  1.70330374e+00 1.52151509e-01 1.25040588e-01 1.71055402e+00\\n  1.89604177e-02 5.01130348e-01 6.51980778e-01]\\n [3.21732157e-01 1.47823526e-01 1.50671677e+00 4.30998558e-01\\n  1.73929390e+00 1.07391184e+00 2.64332201e+00 2.34257825e+00\\n  6.91120277e-01 1.71830071e+00 1.64169733e+00 6.96996682e-02\\n  3.99238656e-01 3.87889022e+00 4.11390989e+00 5.83236643e-01\\n  2.65204801e+00 1.56972073e+00 3.53375691e+00 1.88033000e+00\\n  8.73703956e-01 6.53577526e-01 2.29187620e+00 3.69026219e+00\\n  1.34633454e+00 7.31196869e-01 1.12879348e+00 9.74451617e-01\\n  1.55822607e+00 8.40015991e-01 1.55200456e-01 1.67580971e+00\\n  2.47534688e+00 1.53958374e+00 1.67784150e-01 2.77447680e+00\\n  1.08922870e-01 7.88828526e-01 2.71326764e+00 2.81716941e+00\\n  2.53840175e+00 2.93983604e+00 3.90820171e+00 1.80515618e+00\\n  3.40917512e+00 4.16165256e-01 4.26374967e-01 6.95130647e-01\\n  1.38387887e+00 4.54815016e+00 3.74472676e+00 3.53452528e+00\\n  3.29430796e-01 3.31480471e-02 3.18602585e-01 7.97523225e-01\\n  7.12042999e-01 2.66877185e-01 1.84961692e-01 7.63621641e-02\\n  3.39455068e-01 6.61255661e-01 3.00455587e+00 2.38131514e+00\\n  7.92734794e-01 2.89995522e-01 5.49490048e-01 3.11800858e-01\\n  3.18337122e-01 2.94775352e-01 6.10600300e-02 2.30512449e+00\\n  2.07049094e+00 5.46621889e-02 1.31341704e+00 3.46640407e-01\\n  2.33480461e-01 6.93673621e-02 3.40261255e+00 2.66536067e+00\\n  2.03437989e+00 2.69117967e-01 1.20173267e-01 2.08907867e+00\\n  5.79950952e-02 7.64770606e-01 9.91070129e-01]\\n [2.29437463e-01 1.03166135e-01 1.21512809e+00 3.32965399e-01\\n  1.41497014e+00 8.73842888e-01 2.33067870e+00 2.00863962e+00\\n  5.45967132e-01 1.50017752e+00 1.35000202e+00 4.72108088e-02\\n  2.95689367e-01 3.53807490e+00 3.70062694e+00 4.40643063e-01\\n  2.28978517e+00 1.28021745e+00 3.26180617e+00 1.58956029e+00\\n  6.80957236e-01 5.27690614e-01 1.95953248e+00 3.38754813e+00\\n  1.09629474e+00 5.49707957e-01 8.92877234e-01 6.67166408e-01\\n  1.27648725e+00 6.95333716e-01 1.21871241e-01 1.39905497e+00\\n  2.16576807e+00 1.31145471e+00 1.19995059e-01 2.45841224e+00\\n  7.23619687e-02 5.95441411e-01 1.78462125e+00 2.06957321e+00\\n  1.67433321e+00 1.77735686e+00 3.05582030e+00 8.97218457e-01\\n  2.40806915e+00 1.83763063e-01 4.71337541e-01 7.29984481e-01\\n  1.38505349e+00 4.43931533e+00 3.71812299e+00 3.68422455e+00\\n  3.67826896e-01 2.29245853e-02 2.41161963e-01 5.72551028e-01\\n  5.19172845e-01 1.83424242e-01 1.14637963e-01 4.04564722e-02\\n  2.18481660e-01 4.95360784e-01 2.65119804e+00 2.02918109e+00\\n  6.20431867e-01 2.16373483e-01 3.77613283e-01 1.98544909e-01\\n  2.55795395e-01 2.22902244e-01 4.78263137e-02 1.98505134e+00\\n  1.75075743e+00 3.60017427e-02 1.06832629e+00 2.52099955e-01\\n  1.66933929e-01 6.03027390e-02 3.05069233e+00 2.45187484e+00\\n  1.71070637e+00 1.70971647e-01 8.76222931e-02 1.74885426e+00\\n  3.75454356e-02 5.83032303e-01 7.66320873e-01]\\n [5.98605059e-02 2.77820595e-02 4.38718170e-01 1.09503224e-01\\n  5.82195705e-01 3.20413370e-01 1.17011764e+00 9.13427307e-01\\n  1.57268798e-01 6.21994015e-01 5.23678056e-01 1.44751778e-02\\n  9.15579607e-02 2.34530833e+00 2.48490677e+00 1.32423914e-01\\n  1.18317824e+00 5.12230585e-01 1.99056565e+00 7.39758549e-01\\n  2.22952788e-01 1.61148918e-01 9.39052869e-01 2.10223389e+00\\n  3.85490214e-01 1.85184302e-01 3.13765761e-01 2.34582311e-01\\n  5.04331718e-01 2.08393815e-01 3.73210656e-02 5.89354916e-01\\n  1.06265537e+00 5.25253816e-01 2.91028576e-02 1.30506178e+00\\n  1.94579737e-02 1.91756065e-01 8.43293467e-01 1.01177182e+00\\n  7.47073539e-01 8.00292102e-01 1.82235474e+00 3.38381306e-01\\n  1.27137828e+00 5.13645973e-02 7.53049668e-02 1.48124324e-01\\n  3.82631442e-01 2.94213914e+00 2.08876684e+00 1.78424442e+00\\n  5.96487503e-02 1.52874408e-02 1.25293868e-01 3.25678139e-01\\n  2.29124687e-01 8.61115880e-02 5.26920791e-02 1.72105449e-02\\n  9.94453521e-02 1.48619741e-01 1.27881916e+00 7.79712814e-01\\n  1.58046178e-01 6.06535809e-02 9.35935012e-02 5.87843150e-02\\n  5.77747244e-02 6.51222040e-02 9.63032307e-03 8.69673888e-01\\n  7.50486883e-01 4.09364393e-03 3.25713777e-01 6.04697377e-02\\n  5.33780079e-02 1.45290160e-02 1.78559377e+00 1.20029664e+00\\n  7.54043372e-01 3.24452907e-02 2.81307458e-02 7.80775763e-01\\n  9.60481829e-03 1.90891539e-01 2.61252742e-01]\\n [1.14123431e-01 5.15969518e-02 7.69779510e-01 1.99473190e-01\\n  9.14515595e-01 5.45997977e-01 1.75778849e+00 1.47182510e+00\\n  3.05701910e-01 1.04287417e+00 9.11332359e-01 3.10416365e-02\\n  1.67675283e-01 2.98380591e+00 3.21250340e+00 2.43366726e-01\\n  1.76794563e+00 8.70978749e-01 2.69350204e+00 1.13705476e+00\\n  4.36775891e-01 3.19713794e-01 1.47936131e+00 2.81693994e+00\\n  7.20612923e-01 3.48570828e-01 5.93329752e-01 4.31091481e-01\\n  7.36927285e-01 4.20931390e-01 6.15965226e-02 9.83451657e-01\\n  1.64937226e+00 9.13124720e-01 6.78057900e-02 1.98672732e+00\\n  4.05571086e-02 3.68339856e-01 1.29694987e+00 1.50981368e+00\\n  1.21291077e+00 1.30718052e+00 2.53263595e+00 5.82339313e-01\\n  1.87105192e+00 1.05940121e-01 1.15008769e-01 2.39472778e-01\\n  6.47097381e-01 3.66205691e+00 2.80359425e+00 2.49216310e+00\\n  1.06064311e-01 1.72973484e-02 1.18936481e-01 3.65809558e-01\\n  2.93323328e-01 1.03801997e-01 5.85927457e-02 2.17298899e-02\\n  1.38820561e-01 5.61722381e-01 2.79614109e+00 2.29041259e+00\\n  6.91881715e-01 2.08001251e-01 4.34223522e-01 2.20886041e-01\\n  1.35603814e-01 1.05084954e-01 2.91807563e-02 1.47608784e+00\\n  1.24483037e+00 1.51833430e-02 7.22780206e-01 1.45041172e-01\\n  9.13777446e-02 3.72776745e-02 2.49575606e+00 1.80153684e+00\\n  1.19911452e+00 8.77230375e-02 4.74739530e-02 1.29865550e+00\\n  2.41306480e-02 3.91688383e-01 4.98910693e-01]\\n [1.24085386e-01 6.86616568e-02 7.52951322e-01 1.79173663e-01\\n  9.37145203e-01 5.31209919e-01 1.66537604e+00 1.38596298e+00\\n  2.64598753e-01 9.39013125e-01 8.84734774e-01 1.96176162e-02\\n  1.44992779e-01 2.86993635e+00 2.85718575e+00 2.74811668e-01\\n  1.68822358e+00 8.73000649e-01 2.63268476e+00 9.77802736e-01\\n  3.09944100e-01 3.64698345e-01 1.37795513e+00 2.69758512e+00\\n  6.83841368e-01 3.01216300e-01 5.37931543e-01 3.94480775e-01\\n  8.74497921e-01 3.67046747e-01 6.93503715e-02 7.83669421e-01\\n  1.47293343e+00 9.50200211e-01 7.24777882e-02 1.84164240e+00\\n  4.65411696e-02 3.52630957e-01 1.19740439e+00 1.53888078e+00\\n  1.17833013e+00 1.29539861e+00 2.40791401e+00 4.78427924e-01\\n  1.73607611e+00 7.43526305e-02 1.31754851e-01 2.18219967e-01\\n  5.99892561e-01 3.51107981e+00 2.53240520e+00 2.46266288e+00\\n  1.28528407e-01 9.80880812e-03 1.02293568e-01 2.59347450e-01\\n  2.16997314e-01 8.46858184e-02 3.28172030e-02 1.28360589e-02\\n  8.41265806e-02 2.83980367e-01 1.82943794e+00 1.29187085e+00\\n  2.82796055e-01 1.02042286e-01 1.51861989e-01 9.28831461e-02\\n  3.58102430e-01 2.70610369e-01 4.26260111e-02 2.06174871e+00\\n  1.83133258e+00 2.90628965e-02 1.53815260e+00 2.64468215e-01\\n  2.16759074e-01 4.99319482e-02 2.53258883e+00 1.61963756e+00\\n  1.15574725e+00 1.00304812e-01 4.29511979e-02 1.17587584e+00\\n  2.38963025e-02 3.20702464e-01 4.18932984e-01]\\n [2.87997797e-01 7.54002545e-02 1.30783287e+00 3.19595167e-01\\n  1.56059913e+00 9.15736447e-01 2.41388457e+00 2.09443984e+00\\n  5.10891144e-01 1.56752644e+00 1.39783996e+00 7.18161894e-02\\n  3.22302850e-01 3.67597673e+00 3.54808531e+00 5.24427590e-01\\n  2.42813573e+00 1.36442779e+00 3.45193036e+00 1.66881717e+00\\n  7.15244719e-01 5.27400690e-01 2.02411693e+00 3.44215402e+00\\n  1.09674245e+00 5.65268226e-01 9.58239629e-01 6.83311445e-01\\n  1.43808566e+00 7.80926920e-01 1.39334138e-01 1.84510016e+00\\n  2.28670813e+00 1.39935076e+00 1.35058348e-01 2.54035585e+00\\n  1.03342523e-01 5.79691123e-01 1.87196465e+00 2.21388375e+00\\n  1.74324947e+00 1.91469592e+00 3.20100282e+00 9.82703919e-01\\n  2.55008419e+00 1.83141755e-01 3.41547327e-01 5.21146331e-01\\n  6.94995337e-01 4.36176487e+00 3.56034882e+00 3.37330744e+00\\n  2.17020117e-01 3.88812113e-02 2.58784922e-01 6.54989425e-01\\n  5.47265181e-01 1.98604706e-01 1.31568099e-01 5.27969070e-02\\n  1.19063831e-01 5.07666174e-01 3.00546070e+00 1.83892464e+00\\n  5.80955453e-01 1.56387648e-01 3.87003247e-01 2.57835190e-01\\n  2.88801176e-01 2.15869830e-01 3.90779751e-02 2.08177532e+00\\n  1.88031424e+00 3.32940727e-02 1.17523845e+00 2.77193066e-01\\n  1.77113076e-01 5.91366678e-02 3.93814029e+00 3.30980664e+00\\n  2.54093696e+00 4.84799014e-01 1.78798720e-01 2.98397983e+00\\n  9.57665879e-02 1.13709241e+00 1.42307505e+00]]\",\n",
            "    \"weights_init\": \"[0.1 0.1 0.1 0.1 0.1 0.1 0.1 0.1 0.1 0.1]\",\n",
            "    \"precisions_init\": \"[[[1. 0. 0. ... 0. 0. 0.]\\n  [0. 1. 0. ... 0. 0. 0.]\\n  [0. 0. 1. ... 0. 0. 0.]\\n  ...\\n  [0. 0. 0. ... 1. 0. 0.]\\n  [0. 0. 0. ... 0. 1. 0.]\\n  [0. 0. 0. ... 0. 0. 1.]]\\n\\n [[1. 0. 0. ... 0. 0. 0.]\\n  [0. 1. 0. ... 0. 0. 0.]\\n  [0. 0. 1. ... 0. 0. 0.]\\n  ...\\n  [0. 0. 0. ... 1. 0. 0.]\\n  [0. 0. 0. ... 0. 1. 0.]\\n  [0. 0. 0. ... 0. 0. 1.]]\\n\\n [[1. 0. 0. ... 0. 0. 0.]\\n  [0. 1. 0. ... 0. 0. 0.]\\n  [0. 0. 1. ... 0. 0. 0.]\\n  ...\\n  [0. 0. 0. ... 1. 0. 0.]\\n  [0. 0. 0. ... 0. 1. 0.]\\n  [0. 0. 0. ... 0. 0. 1.]]\\n\\n ...\\n\\n [[1. 0. 0. ... 0. 0. 0.]\\n  [0. 1. 0. ... 0. 0. 0.]\\n  [0. 0. 1. ... 0. 0. 0.]\\n  ...\\n  [0. 0. 0. ... 1. 0. 0.]\\n  [0. 0. 0. ... 0. 1. 0.]\\n  [0. 0. 0. ... 0. 0. 1.]]\\n\\n [[1. 0. 0. ... 0. 0. 0.]\\n  [0. 1. 0. ... 0. 0. 0.]\\n  [0. 0. 1. ... 0. 0. 0.]\\n  ...\\n  [0. 0. 0. ... 1. 0. 0.]\\n  [0. 0. 0. ... 0. 1. 0.]\\n  [0. 0. 0. ... 0. 0. 1.]]\\n\\n [[1. 0. 0. ... 0. 0. 0.]\\n  [0. 1. 0. ... 0. 0. 0.]\\n  [0. 0. 1. ... 0. 0. 0.]\\n  ...\\n  [0. 0. 0. ... 1. 0. 0.]\\n  [0. 0. 0. ... 0. 1. 0.]\\n  [0. 0. 0. ... 0. 0. 1.]]]\",\n",
            "    \"random_state\": 0,\n",
            "    \"reg_covar\": 1e-08,\n",
            "    \"verbose\": 2,\n",
            "    \"n_init\": 1,\n",
            "    \"max_iter\": 100,\n",
            "    \"tol\": 0.001,\n",
            "    \"init_params\": \"random\"\n",
            "}\n",
            "Initialization 0\n",
            "  Iteration 10\t time lapse 3.72154s\t ll change 0.70946\n",
            "  Iteration 20\t time lapse 3.51280s\t ll change 0.00514\n",
            "Initialization converged: True\t time lapse 7.92373s\t ll -2.42947\n"
          ]
        }
      ]
    },
    {
      "cell_type": "code",
      "metadata": {
        "colab": {
          "base_uri": "https://localhost:8080/"
        },
        "id": "GqmuACDT5YoY",
        "outputId": "a17a35a8-3c97-4a98-e351-bea819ce9903"
      },
      "source": [
        "print(\"Rand score: \", rand)\n",
        "print(\"Closest : \", close)"
      ],
      "execution_count": 268,
      "outputs": [
        {
          "output_type": "stream",
          "name": "stdout",
          "text": [
            "Rand score:  0.6294400093505067\n",
            "Closest :  [0 2 3 4 5 7 7 7 7 7]\n"
          ]
        }
      ]
    },
    {
      "cell_type": "code",
      "metadata": {
        "colab": {
          "base_uri": "https://localhost:8080/"
        },
        "id": "zfJCveFtBwjb",
        "outputId": "a61417fb-649a-4e11-f778-48a3dfb17d61"
      },
      "source": [
        "pd.Series(labels).value_counts()"
      ],
      "execution_count": 269,
      "outputs": [
        {
          "output_type": "execute_result",
          "data": {
            "text/plain": [
              "6    6256\n",
              "8    2531\n",
              "3     960\n",
              "7     699\n",
              "5     664\n",
              "0     271\n",
              "2     136\n",
              "1     135\n",
              "4     110\n",
              "9      81\n",
              "dtype: int64"
            ]
          },
          "metadata": {},
          "execution_count": 269
        }
      ]
    },
    {
      "cell_type": "code",
      "metadata": {
        "colab": {
          "base_uri": "https://localhost:8080/"
        },
        "id": "OG7htEspBz6Z",
        "outputId": "c1026792-bf5d-4de1-bd65-be4348905c0a"
      },
      "source": [
        "pd.Series(z).value_counts()"
      ],
      "execution_count": 270,
      "outputs": [
        {
          "output_type": "execute_result",
          "data": {
            "text/plain": [
              "4    1228\n",
              "0    1198\n",
              "2    1196\n",
              "9    1193\n",
              "5    1184\n",
              "8    1183\n",
              "1    1181\n",
              "3    1178\n",
              "6    1166\n",
              "7    1136\n",
              "dtype: int64"
            ]
          },
          "metadata": {},
          "execution_count": 270
        }
      ]
    },
    {
      "cell_type": "code",
      "metadata": {
        "colab": {
          "base_uri": "https://localhost:8080/",
          "height": 953
        },
        "cellView": "form",
        "id": "VXDtCkQJAoig",
        "outputId": "897efb53-d214-404a-c601-505a9268d70b"
      },
      "source": [
        "#@title Check centroids\n",
        "fig, axs = plt.subplots(figsize=(10,15), ncols=2, nrows=3, constrained_layout=True)\n",
        "fig.subplots_adjust(wspace=0.25, hspace=0.5)\n",
        "ax = axs[0,0]\n",
        "im = ax.imshow(gt[\"centroids\"][method], aspect=\"auto\")\n",
        "ax.set(**{\n",
        "    \"xlabel\": \"genes\",\n",
        "    \"ylabel\": \"cell type\",\n",
        "    \"title\": \"Cell type centroids\"\n",
        "})\n",
        "\n",
        "divider = make_axes_locatable(ax)\n",
        "cax = divider.append_axes(\"right\", size=\"5%\", pad=0.05)\n",
        "\n",
        "plt.colorbar(im, cax=cax)\n",
        "\n",
        "\n",
        "ax = axs[0,1]\n",
        "im = ax.imshow(gt[\"marker_centroids\"][method], aspect=\"auto\")\n",
        "ax.set(**{\n",
        "    \"xlabel\": \"genes\",\n",
        "    \"ylabel\": \"cell type\",\n",
        "    \"title\": \"Marker-derived centroids\"\n",
        "})\n",
        "\n",
        "divider = make_axes_locatable(ax)\n",
        "cax = divider.append_axes(\"right\", size=\"5%\", pad=0.05)\n",
        "\n",
        "plt.colorbar(im, cax=cax)\n",
        "\n",
        "ax = axs[1,0]\n",
        "im = ax.imshow(means_init, aspect=\"auto\")\n",
        "ax.set(**{\n",
        "    \"xlabel\": \"genes\",\n",
        "    \"ylabel\": \"cell type\",\n",
        "    \"title\": \"Initialized means\"\n",
        "})\n",
        "\n",
        "divider = make_axes_locatable(ax)\n",
        "cax = divider.append_axes(\"right\", size=\"5%\", pad=0.05)\n",
        "\n",
        "plt.colorbar(im, cax=cax)\n",
        "\n",
        "ax = axs[1,1]\n",
        "im = ax.imshow(means, aspect=\"auto\")\n",
        "ax.set(**{\n",
        "    \"xlabel\": \"genes\",\n",
        "    \"ylabel\": \"cell type\",\n",
        "    \"title\": \"GMM centroids\"\n",
        "})\n",
        "\n",
        "divider = make_axes_locatable(ax)\n",
        "cax = divider.append_axes(\"right\", size=\"5%\", pad=0.05)\n",
        "\n",
        "plt.colorbar(im, cax=cax)\n",
        "\n",
        "\n",
        "ax = axs[2,0]\n",
        "ax.matshow(dist, cmap='Reds')\n",
        "ax.set(**{\n",
        "    \"xlabel\":\"computed means\",\n",
        "    \"ylabel\": \"true means\",\n",
        "    \"title\": \"Dist of means(real, gmm) \"\n",
        "    })\n",
        "\n",
        "\n",
        "\n",
        "\n",
        "\n",
        "fig.show()"
      ],
      "execution_count": 271,
      "outputs": [
        {
          "output_type": "stream",
          "name": "stderr",
          "text": [
            "/usr/local/lib/python3.7/dist-packages/ipykernel_launcher.py:3: UserWarning: This figure was using constrained_layout==True, but that is incompatible with subplots_adjust and or tight_layout: setting constrained_layout==False. \n",
            "  This is separate from the ipykernel package so we can avoid doing imports until\n"
          ]
        },
        {
          "output_type": "display_data",
          "data": {
            "image/png": "[encoded data removed]",
            "text/plain": [
              "<Figure size 720x1080 with 10 Axes>"
            ]
          },
          "metadata": {
            "image/png": {
              "width": 638,
              "height": 881
            },
            "needs_background": "light"
          }
        }
      ]
    },
    {
      "cell_type": "code",
      "metadata": {
        "colab": {
          "base_uri": "https://localhost:8080/"
        },
        "id": "jRX5gzQcH-pW",
        "outputId": "ab2bea62-bb07-41c2-edb9-a84f55de3a08"
      },
      "source": [
        "[gt[\"centroids\"][method][i][markers_ec[i]].min() for i in range(gt[\"centroids\"][method].shape[0])]"
      ],
      "execution_count": 45,
      "outputs": [
        {
          "output_type": "execute_result",
          "data": {
            "text/plain": [
              "[0.02897267176401254,\n",
              " -0.40975106399877725,\n",
              " -0.1585204580571924,\n",
              " -0.14940834314165635,\n",
              " -0.22154758049136106,\n",
              " -0.1337003018651442,\n",
              " -0.07144935261434411,\n",
              " -0.13161372463814835,\n",
              " -0.04847897122912384,\n",
              " -0.08231467611437748]"
            ]
          },
          "metadata": {},
          "execution_count": 45
        }
      ]
    },
    {
      "cell_type": "code",
      "metadata": {
        "id": "gO3qtjVeI6DY"
      },
      "source": [
        "group = 0\n",
        "gmtx = gt[\"X\"][method][np.where(z==group)[0]]"
      ],
      "execution_count": 46,
      "outputs": []
    },
    {
      "cell_type": "code",
      "metadata": {
        "colab": {
          "base_uri": "https://localhost:8080/"
        },
        "id": "A1c-83pPCVEB",
        "outputId": "34599337-d090-445b-d9cf-10a2e05df101"
      },
      "source": [
        "gt[\"centroids\"][method][0]"
      ],
      "execution_count": 47,
      "outputs": [
        {
          "output_type": "execute_result",
          "data": {
            "text/plain": [
              "array([ 0.1432926 ,  0.07209796,  0.4822387 ,  0.13519892,  0.47243275,\n",
              "        0.31114339,  0.50217838,  0.74226224,  0.36689448,  0.52048426,\n",
              "        0.5883215 ,  0.02897267, -0.02409914, -0.13995138,  0.01584323,\n",
              "       -0.0606185 , -0.06840636, -0.07641068, -0.02405775, -0.17500621,\n",
              "        0.01387387, -0.02820689, -0.08793247, -0.10115059, -0.06096104,\n",
              "       -0.03240442, -0.03445412, -0.20045331,  0.00251179, -0.02199902,\n",
              "       -0.00162297, -0.06947428, -0.07449701, -0.08354606, -0.00698479,\n",
              "       -0.14425417, -0.00226054, -0.03553488, -0.0477761 , -0.10064041,\n",
              "       -0.05557229, -0.05570729, -0.05801762, -0.0441464 ,  0.17804978,\n",
              "       -0.00928999, -0.03783637, -0.03333086, -0.00483372, -0.05111019,\n",
              "       -0.04642381,  0.03339135, -0.00688547, -0.00101771, -0.00455389,\n",
              "       -0.04876666, -0.02788949, -0.03588497, -0.01192217, -0.00621669,\n",
              "       -0.01589636, -0.06065971, -0.09792165, -0.05152298, -0.03381799,\n",
              "        0.0064996 , -0.13314673, -0.01701588, -0.02424061, -0.04055476,\n",
              "       -0.00343594, -0.06166413, -0.05638337, -0.004769  , -0.08635625,\n",
              "       -0.02268193, -0.01418769, -0.00478848, -0.0610935 , -0.10188476,\n",
              "       -0.07039074, -0.00949331, -0.01354227, -0.16231335, -0.01080334,\n",
              "       -0.05709941, -0.06602131])"
            ]
          },
          "metadata": {},
          "execution_count": 47
        }
      ]
    },
    {
      "cell_type": "code",
      "metadata": {
        "colab": {
          "base_uri": "https://localhost:8080/"
        },
        "id": "MleYaTHuI2av",
        "outputId": "370daeda-5c0d-4381-fb0a-5249d7029745"
      },
      "source": [
        "X[np.where(z==0)[0]][0].astype(int)"
      ],
      "execution_count": 48,
      "outputs": [
        {
          "output_type": "execute_result",
          "data": {
            "text/plain": [
              "array([0, 0, 0, 0, 0, 0, 0, 0, 0, 0, 0, 0, 0, 0, 0, 0, 0, 0, 0, 0, 0, 0,\n",
              "       0, 0, 0, 0, 0, 0, 0, 0, 0, 0, 0, 0, 0, 0, 0, 0, 0, 0, 0, 0, 0, 0,\n",
              "       0, 0, 0, 0, 0, 0, 0, 0, 0, 0, 0, 0, 0, 0, 0, 0, 0, 0, 0, 0, 0, 0,\n",
              "       0, 0, 0, 0, 0, 0, 0, 0, 0, 0, 0, 0, 0, 0, 0, 0, 0, 0, 0, 0, 0])"
            ]
          },
          "metadata": {},
          "execution_count": 48
        }
      ]
    },
    {
      "cell_type": "code",
      "metadata": {
        "colab": {
          "base_uri": "https://localhost:8080/"
        },
        "id": "9h_7Rd4ZItVk",
        "outputId": "1e2c8f65-3974-4406-c0b9-ecbc0469e711"
      },
      "source": [
        "gt[\"X\"][method][np.where(z==0)[0]][0].astype(int)"
      ],
      "execution_count": 49,
      "outputs": [
        {
          "output_type": "execute_result",
          "data": {
            "text/plain": [
              "array([ 0,  0,  0,  0,  0,  0,  0,  0,  0,  0,  0,  0,  0,  0,  0,  0,  0,\n",
              "        0,  0, -1,  0,  0, -1,  0, -1,  0,  0,  0, -1,  0,  0, -1, -2,  0,\n",
              "        0,  0,  0,  0,  0, -2,  0,  0, -1,  1,  0,  0,  0,  0, -1,  0, -1,\n",
              "        0,  0,  0,  0,  0,  0,  0,  0,  0,  0,  0,  0,  0,  0,  0,  0,  0,\n",
              "        0,  0,  0,  0, -1,  0, -1,  0,  0,  0,  0, -1,  0,  0,  0,  0,  0,\n",
              "        0,  0])"
            ]
          },
          "metadata": {},
          "execution_count": 49
        }
      ]
    },
    {
      "cell_type": "code",
      "metadata": {
        "id": "4OMoBh6NAgLb"
      },
      "source": [
        "ct_mins = [means[i][markers_ec[i]].min() for i in range(means.shape[0])]\n",
        "marker_gene_indices = [set(markers_ec[i]) for i in range(means.shape[0])]\n",
        "# modify based on the min/f\n",
        "f = 2.\n",
        "for idx, i in enumerate(means):\n",
        "    ct_min = ct_mins[idx]\n",
        "    betas = means[idx]\n",
        "    for jdx, b in enumerate(betas):\n",
        "        if jdx not in marker_gene_indices[idx]:\n",
        "            new = min(b, ct_min / f)\n",
        "            means[idx][jdx] = new"
      ],
      "execution_count": 50,
      "outputs": []
    },
    {
      "cell_type": "code",
      "metadata": {
        "colab": {
          "base_uri": "https://localhost:8080/"
        },
        "id": "ElVYupqxBSl1",
        "outputId": "d7379981-2238-4cff-8712-fe9d5b0acb9b"
      },
      "source": [
        "ct_mins"
      ],
      "execution_count": 51,
      "outputs": [
        {
          "output_type": "execute_result",
          "data": {
            "text/plain": [
              "[0.30146939583381366,\n",
              " 0.3827633663603939,\n",
              " 1.1118626758440808,\n",
              " 0.14165027754618892,\n",
              " 0.3163783688934042,\n",
              " 0.04459919587570532,\n",
              " -0.1293210951287622,\n",
              " 0.05108698813263898,\n",
              " 0.02804943226256015,\n",
              " 0.10249881847531499]"
            ]
          },
          "metadata": {},
          "execution_count": 51
        }
      ]
    },
    {
      "cell_type": "code",
      "metadata": {
        "colab": {
          "base_uri": "https://localhost:8080/"
        },
        "id": "BpkWA0qMBLkH",
        "outputId": "5ba42511-247b-4548-e438-28145fa08aad"
      },
      "source": [
        "means[1][B[1].astype(bool)]"
      ],
      "execution_count": 52,
      "outputs": [
        {
          "output_type": "execute_result",
          "data": {
            "text/plain": [
              "array([0.38276337, 1.54252084, 1.08339355, 0.54599047, 1.07054847,\n",
              "       0.92807269, 1.07450975, 1.21275677])"
            ]
          },
          "metadata": {},
          "execution_count": 52
        }
      ]
    },
    {
      "cell_type": "code",
      "metadata": {
        "colab": {
          "base_uri": "https://localhost:8080/"
        },
        "id": "IYEODPSIBMoR",
        "outputId": "1f5dd7eb-50aa-4904-f7e7-0ed300a93c77"
      },
      "source": [
        "means_init[1].astype(int)"
      ],
      "execution_count": 53,
      "outputs": [
        {
          "output_type": "execute_result",
          "data": {
            "text/plain": [
              "array([0, 0, 0, 0, 0, 0, 0, 0, 0, 0, 0, 0, 0, 1, 1, 0, 1, 1, 1, 1, 0, 0,\n",
              "       0, 0, 0, 0, 0, 0, 0, 0, 0, 0, 0, 0, 0, 0, 0, 0, 0, 1, 0, 0, 0, 0,\n",
              "       0, 0, 0, 0, 0, 0, 0, 0, 0, 0, 0, 0, 0, 0, 0, 0, 0, 0, 0, 0, 0, 0,\n",
              "       0, 0, 0, 0, 0, 0, 0, 0, 0, 0, 0, 0, 0, 0, 0, 0, 0, 0, 0, 0, 0])"
            ]
          },
          "metadata": {},
          "execution_count": 53
        }
      ]
    },
    {
      "cell_type": "code",
      "metadata": {
        "colab": {
          "base_uri": "https://localhost:8080/"
        },
        "id": "6E9kTYeNBf-r",
        "outputId": "44e86764-3318-4f9c-917e-f65b27cc3245"
      },
      "source": [
        "gt[\"centroids\"][method][1].astype(int)"
      ],
      "execution_count": 54,
      "outputs": [
        {
          "output_type": "execute_result",
          "data": {
            "text/plain": [
              "array([0, 0, 0, 0, 0, 0, 0, 0, 0, 0, 0, 0, 0, 0, 0, 0, 0, 0, 0, 0, 0, 0,\n",
              "       0, 0, 0, 0, 0, 0, 0, 0, 0, 0, 0, 0, 0, 0, 0, 0, 0, 0, 0, 0, 0, 0,\n",
              "       0, 0, 0, 0, 0, 0, 0, 0, 0, 0, 0, 0, 0, 0, 0, 0, 0, 0, 0, 0, 0, 0,\n",
              "       0, 0, 0, 0, 0, 0, 0, 0, 0, 0, 0, 0, 0, 0, 0, 0, 0, 0, 0, 0, 0])"
            ]
          },
          "metadata": {},
          "execution_count": 54
        }
      ]
    },
    {
      "cell_type": "code",
      "metadata": {
        "colab": {
          "base_uri": "https://localhost:8080/"
        },
        "id": "-cCbaxInBw1h",
        "outputId": "44c86559-7bd5-442c-85db-c15b1abdc6c3"
      },
      "source": [
        "resp.sum(0)"
      ],
      "execution_count": 55,
      "outputs": [
        {
          "output_type": "execute_result",
          "data": {
            "text/plain": [
              "array([ 222.,  525.,  271.,  292.,  876., 1245., 4597., 2626.,  900.,\n",
              "        289.])"
            ]
          },
          "metadata": {},
          "execution_count": 55
        }
      ]
    },
    {
      "cell_type": "code",
      "metadata": {
        "id": "KYUxHfJsDbYj"
      },
      "source": [
        ""
      ],
      "execution_count": 55,
      "outputs": []
    }
  ]
}