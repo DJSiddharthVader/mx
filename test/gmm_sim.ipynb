{
  "nbformat": 4,
  "nbformat_minor": 0,
  "metadata": {
    "colab": {
      "name": "gmm_sim.ipynb",
      "provenance": [],
      "toc_visible": true,
      "authorship_tag": "ABX9TyPq373ltS2vOEzTxUbRwz0U",
      "include_colab_link": true
    },
    "kernelspec": {
      "name": "python3",
      "display_name": "Python 3"
    },
    "language_info": {
      "name": "python"
    }
  },
  "cells": [
    {
      "cell_type": "markdown",
      "metadata": {
        "id": "view-in-github",
        "colab_type": "text"
      },
      "source": [
        "<a href=\"https://colab.research.google.com/github/sbooeshaghi/mx/blob/master/test/gmm_sim.ipynb\" target=\"_parent\"><img src=\"https://colab.research.google.com/assets/colab-badge.svg\" alt=\"Open In Colab\"/></a>"
      ]
    },
    {
      "cell_type": "code",
      "metadata": {
        "colab": {
          "base_uri": "https://localhost:8080/"
        },
        "id": "lRHcc5VIANWY",
        "outputId": "a1ee42d5-3cae-4193-b797-982e582da606"
      },
      "source": [
        "!pip install --quiet -U scikit-learn kb_python anndata"
      ],
      "execution_count": 1,
      "outputs": [
        {
          "output_type": "stream",
          "name": "stdout",
          "text": [
            "\u001b[K     |████████████████████████████████| 23.1 MB 5.0 kB/s \n",
            "\u001b[K     |████████████████████████████████| 7.4 MB 39.7 MB/s \n",
            "\u001b[K     |████████████████████████████████| 127 kB 51.9 MB/s \n",
            "\u001b[K     |████████████████████████████████| 41 kB 111 kB/s \n",
            "\u001b[K     |████████████████████████████████| 51.7 MB 16 kB/s \n",
            "\u001b[K     |████████████████████████████████| 23.9 MB 15 kB/s \n",
            "\u001b[K     |████████████████████████████████| 2.0 MB 50.6 MB/s \n",
            "\u001b[K     |████████████████████████████████| 48 kB 5.1 MB/s \n",
            "\u001b[K     |████████████████████████████████| 3.3 MB 49.0 MB/s \n",
            "\u001b[K     |████████████████████████████████| 12.3 MB 44.9 MB/s \n",
            "\u001b[K     |████████████████████████████████| 26.3 MB 93 kB/s \n",
            "\u001b[K     |████████████████████████████████| 80 kB 8.0 MB/s \n",
            "\u001b[K     |████████████████████████████████| 1.1 MB 52.4 MB/s \n",
            "\u001b[K     |████████████████████████████████| 63 kB 2.0 MB/s \n",
            "\u001b[?25h  Building wheel for kb-python (setup.py) ... \u001b[?25l\u001b[?25hdone\n",
            "  Building wheel for loompy (setup.py) ... \u001b[?25l\u001b[?25hdone\n",
            "  Building wheel for ngs-tools (setup.py) ... \u001b[?25l\u001b[?25hdone\n",
            "  Building wheel for umap-learn (setup.py) ... \u001b[?25l\u001b[?25hdone\n",
            "  Building wheel for pynndescent (setup.py) ... \u001b[?25l\u001b[?25hdone\n",
            "  Building wheel for numpy-groupies (setup.py) ... \u001b[?25l\u001b[?25hdone\n",
            "  Building wheel for sinfo (setup.py) ... \u001b[?25l\u001b[?25hdone\n"
          ]
        }
      ]
    },
    {
      "cell_type": "code",
      "metadata": {
        "colab": {
          "base_uri": "https://localhost:8080/"
        },
        "id": "2H0l6cckAVS5",
        "outputId": "ac94be10-e08f-4ff0-a60b-3838327b982f"
      },
      "source": [
        "!git clone https://github.com/sbooeshaghi/sim.git"
      ],
      "execution_count": 2,
      "outputs": [
        {
          "output_type": "stream",
          "name": "stdout",
          "text": [
            "Cloning into 'sim'...\n",
            "remote: Enumerating objects: 47, done.\u001b[K\n",
            "remote: Counting objects: 100% (47/47), done.\u001b[K\n",
            "remote: Compressing objects: 100% (38/38), done.\u001b[K\n",
            "remote: Total 47 (delta 10), reused 46 (delta 9), pack-reused 0\u001b[K\n",
            "Unpacking objects: 100% (47/47), done.\n"
          ]
        }
      ]
    },
    {
      "cell_type": "code",
      "metadata": {
        "id": "rRR6ZLlK_U9w"
      },
      "source": [
        "!gunzip -r sim/*"
      ],
      "execution_count": 3,
      "outputs": []
    },
    {
      "cell_type": "code",
      "metadata": {
        "id": "CT5Hse_wASJ1"
      },
      "source": [
        "import anndata\n",
        "import json\n",
        "import numpy as np\n",
        "import pandas as pd\n",
        "import matplotlib.pyplot as plt\n",
        "from kb_python.utils import import_matrix_as_anndata\n",
        "\n",
        "from scipy.io import mmread, mmwrite\n",
        "from scipy.spatial.distance import cdist\n",
        "from collections import defaultdict\n",
        "\n",
        "from sklearn.metrics import adjusted_rand_score, rand_score\n",
        "from sklearn.datasets import make_blobs\n",
        "from sklearn.preprocessing import normalize\n",
        "from sklearn.mixture import GaussianMixture as StandardGaussianMixture\n",
        "from sklearn.cluster import KMeans as KMeans\n",
        "from sklearn.mixture._gaussian_mixture import _estimate_gaussian_parameters as est_gaus_params \n",
        "from sklearn.metrics.pairwise import euclidean_distances\n",
        "\n",
        "from sklearn.neighbors import KDTree\n",
        "\n",
        "def nd(arr):\n",
        "    return np.asarray(arr).reshape(-1)\n",
        "\n",
        "fsize=20\n",
        "\n",
        "plt.rcParams.update({'font.size': fsize})\n",
        "%config InlineBackend.figure_format = 'retina'"
      ],
      "execution_count": 4,
      "outputs": []
    },
    {
      "cell_type": "code",
      "metadata": {
        "id": "s2yqAmAKDib-"
      },
      "source": [
        "# preprocess splatter file into markers file\n",
        "def write_markers(fname, markers):\n",
        "    with open(fname, \"w\") as f:\n",
        "        for k, v in markers.items():\n",
        "            f.write(f\"{k}\\t\")\n",
        "            n = len(v)\n",
        "            for idx, i in enumerate(v):\n",
        "                f.write(f\"{i}\")\n",
        "                if idx < n - 1:\n",
        "                    f.write(\",\")\n",
        "            f.write(\"\\n\")"
      ],
      "execution_count": 5,
      "outputs": []
    },
    {
      "cell_type": "code",
      "metadata": {
        "id": "qSizHvAE_sIn"
      },
      "source": [
        "ds = \"0_defaultparams\"\n",
        "genes_metadata_fname = f\"sim/{ds}/genes_metadata.txt\"\n",
        "matrix_fname = f\"sim/{ds}/matrix.mtx\"\n",
        "genes_fname = f\"sim/{ds}/genes.txt\"\n",
        "labels_fname = f\"sim/{ds}/labels.txt\""
      ],
      "execution_count": 6,
      "outputs": []
    },
    {
      "cell_type": "code",
      "metadata": {
        "id": "giwl0iSWkY5u"
      },
      "source": [
        "n_sample = 10\n",
        "\n",
        "df = pd.read_csv(genes_metadata_fname)\n",
        "# splatter get marker genes\n",
        "markers = defaultdict(list)\n",
        "for i in range(1,11):\n",
        "    # genes = df[df[f\"DEFacGroup{i}\"] > 1.5].sample(n_sample, random_state=0)[\"Gene\"].values\n",
        "    genes = df[df[f\"DEFacGroup{i}\"] > 1.5][\"Gene\"].values\n",
        "    for j in genes:\n",
        "        markers[f\"group{i}\"].append(j)\n",
        "write_markers(\"markers.txt\", markers)"
      ],
      "execution_count": 7,
      "outputs": []
    },
    {
      "cell_type": "code",
      "metadata": {
        "id": "KU6mba9MGAyJ"
      },
      "source": [
        "def write_dict(fname, d):\n",
        "  inv_d = {v:k for k,v in d.items()}\n",
        "  with open(fname, \"w\") as f:\n",
        "    for idx in range(len(d)):\n",
        "      f.write(f'{inv_d[idx]}\\n')"
      ],
      "execution_count": 8,
      "outputs": []
    },
    {
      "cell_type": "code",
      "metadata": {
        "id": "LZmUx-okAUMP"
      },
      "source": [
        "def read_markers(fname, markers_ec=defaultdict(list), celltype=defaultdict(), marker_genes=defaultdict()):\n",
        "  with open(fname, \"r\") as f:\n",
        "    for idx, line in enumerate(f.readlines()):\n",
        "      ct, genes = line.strip().split('\\t')\n",
        "      celltype[ct] = idx\n",
        "      \n",
        "      # two things\n",
        "      # 1. make marker_genes list\n",
        "      # 2. make markers_ec\n",
        "      for g in genes.split(','):\n",
        "        gidx = len(marker_genes)\n",
        "        \n",
        "        # check if the gene has been added already\n",
        "        if g in marker_genes.keys(): # gene repeated\n",
        "          gidx = marker_genes[g]\n",
        "        else:\n",
        "          marker_genes[g] = gidx\n",
        "        \n",
        "        # for the cell type index, add the marker gene index \n",
        "        markers_ec[celltype[ct]].append(marker_genes[g])\n",
        "      \n",
        "      # sort the marker genes\n",
        "      markers_ec[celltype[ct]] = sorted(markers_ec[celltype[ct]])"
      ],
      "execution_count": 9,
      "outputs": []
    },
    {
      "cell_type": "code",
      "metadata": {
        "id": "ERYKj5sIByei"
      },
      "source": [
        "markers_ec=defaultdict(list)\n",
        "celltypes=defaultdict()\n",
        "marker_genes=defaultdict()\n",
        "read_markers(\"markers.txt\", markers_ec, celltypes, marker_genes)"
      ],
      "execution_count": 10,
      "outputs": []
    },
    {
      "cell_type": "code",
      "metadata": {
        "id": "xXwAzVf4D5is"
      },
      "source": [
        "write_markers(\"markers.ec\", markers_ec)\n",
        "write_dict(\"types.txt\", celltypes)\n",
        "write_dict(\"marker_genes.txt\", marker_genes)"
      ],
      "execution_count": 11,
      "outputs": []
    },
    {
      "cell_type": "code",
      "metadata": {
        "id": "tJaioUtwFNWN"
      },
      "source": [
        "# # simple way to verify that the markers are consistent\n",
        "# mg_inv = {v:k for k,v in marker_genes.items()}\n",
        "# i = 1\n",
        "# for idx in markers_ec[i]:\n",
        "#   check = mg_inv[idx] in markers[f\"group{i+1}\"]\n",
        "#   if not check:\n",
        "#     print(\"bad\")"
      ],
      "execution_count": 12,
      "outputs": []
    },
    {
      "cell_type": "code",
      "metadata": {
        "id": "7HpzaXApk9E3"
      },
      "source": [
        "# adata = anndata.read_h5ad(\"adata.h5ad\")\n",
        "# mmwrite(\"matrix.mtx\", adata.X.astype(int))\n",
        "# adata.obs.to_csv(\"barcodes.txt\", header=False, index=True, columns=[])\n",
        "# adata.var.to_csv(\"genes.txt\", header=False, index=True, columns=[])\n",
        "# adata.obs.to_csv(\"labels.txt\", header=False, index=True, columns=[\"cell_type\"], sep=\"\\t\")"
      ],
      "execution_count": 13,
      "outputs": []
    },
    {
      "cell_type": "markdown",
      "metadata": {
        "id": "i_LF4AnPMlSK"
      },
      "source": [
        "# Select the marker genes from the matrix and save the matrix"
      ]
    },
    {
      "cell_type": "code",
      "metadata": {
        "id": "ANR_bP2MIhSh"
      },
      "source": [
        "mtx = mmread(matrix_fname).tocsr()"
      ],
      "execution_count": 14,
      "outputs": []
    },
    {
      "cell_type": "code",
      "metadata": {
        "id": "bz7Scm1JM2aL"
      },
      "source": [
        "genes = defaultdict()\n",
        "\n",
        "with open(genes_fname) as f:\n",
        "  for idx, line in enumerate(f.readlines()):\n",
        "    gene = line.strip()\n",
        "    genes[gene] = idx"
      ],
      "execution_count": 15,
      "outputs": []
    },
    {
      "cell_type": "code",
      "metadata": {
        "id": "qxWlrZ8TNAYM"
      },
      "source": [
        "mg_inv = {v:k for k,v in marker_genes.items()}\n",
        "\n",
        "sel = []\n",
        "for idx in range(len(mg_inv)):\n",
        "  # this maps the marker gene name index to the gene index\n",
        "  # in order of the marker_genes file\n",
        "  sel.append(genes[mg_inv[idx]])"
      ],
      "execution_count": 16,
      "outputs": []
    },
    {
      "cell_type": "code",
      "metadata": {
        "colab": {
          "base_uri": "https://localhost:8080/"
        },
        "id": "NgMjxxyPpibD",
        "outputId": "6a546b68-eae1-4e07-f5c3-726b2613aaa8"
      },
      "source": [
        "len(sel)"
      ],
      "execution_count": 17,
      "outputs": [
        {
          "output_type": "execute_result",
          "data": {
            "text/plain": [
              "153"
            ]
          },
          "metadata": {},
          "execution_count": 17
        }
      ]
    },
    {
      "cell_type": "code",
      "metadata": {
        "id": "q6eUIPGLPIUk"
      },
      "source": [
        "mmwrite(\"matrix_select.mtx\", mtx[:,sel])"
      ],
      "execution_count": 18,
      "outputs": []
    },
    {
      "cell_type": "code",
      "metadata": {
        "id": "N1DdDv-GU9b5"
      },
      "source": [
        "if np.array([1,1]) is None:\n",
        "  print(\"helo\")"
      ],
      "execution_count": 19,
      "outputs": []
    },
    {
      "cell_type": "code",
      "metadata": {
        "id": "8Ik0TEODsizp",
        "outputId": "867229b5-8262-41dd-90e7-25ec101f9564",
        "colab": {
          "base_uri": "https://localhost:8080/"
        }
      },
      "source": [
        "list(markers_ec.keys())"
      ],
      "execution_count": 20,
      "outputs": [
        {
          "output_type": "execute_result",
          "data": {
            "text/plain": [
              "[0, 1, 2, 3, 4, 5, 6, 7, 8, 9]"
            ]
          },
          "metadata": {},
          "execution_count": 20
        }
      ]
    },
    {
      "cell_type": "code",
      "metadata": {
        "id": "gtq3QOTP6fGq"
      },
      "source": [
        "def mec2b(markers_ec):\n",
        "  n_clusters = len(list(markers_ec.keys()))\n",
        "  n_features = np.unique(sum(list(markers_ec.values()), [])).shape[0]\n",
        "  B = np.zeros((n_clusters, n_features))\n",
        "  for k,v in markers_ec.items():\n",
        "    B[k][v] = 1\n",
        "  return B"
      ],
      "execution_count": 22,
      "outputs": []
    },
    {
      "cell_type": "code",
      "metadata": {
        "id": "YZWK5_Vn6iFJ"
      },
      "source": [
        "B = mec2b(markers_ec)"
      ],
      "execution_count": 23,
      "outputs": []
    },
    {
      "cell_type": "markdown",
      "metadata": {
        "id": "pXFiwwTwQJFz"
      },
      "source": [
        "# Test out the GMM"
      ]
    },
    {
      "cell_type": "code",
      "metadata": {
        "id": "ZlxOecVtPgYg",
        "cellView": "form"
      },
      "source": [
        "#@title sklearn/mixture/_base.py\n",
        "\n",
        "\"\"\"Base class for mixture models.\"\"\"\n",
        "\n",
        "# sklearn/mixture/_base.py\n",
        "\n",
        "# Author: Wei Xue <xuewei4d@gmail.com>\n",
        "# Modified by Thierry Guillemot <thierry.guillemot.work@gmail.com>\n",
        "# License: BSD 3 clause\n",
        "\n",
        "import warnings\n",
        "from abc import ABCMeta, abstractmethod\n",
        "from time import time\n",
        "\n",
        "import numpy as np\n",
        "from scipy.special import logsumexp\n",
        "\n",
        "from sklearn import cluster\n",
        "from sklearn.base import BaseEstimator\n",
        "from sklearn.base import DensityMixin\n",
        "from sklearn.exceptions import ConvergenceWarning\n",
        "from sklearn.utils import check_random_state\n",
        "from sklearn.utils.validation import check_is_fitted\n",
        "\n",
        "\n",
        "def _check_shape(param, param_shape, name):\n",
        "    \"\"\"Validate the shape of the input parameter 'param'.\n",
        "\n",
        "    Parameters\n",
        "    ----------\n",
        "    param : array\n",
        "\n",
        "    param_shape : tuple\n",
        "\n",
        "    name : str\n",
        "    \"\"\"\n",
        "    param = np.array(param)\n",
        "    if param.shape != param_shape:\n",
        "        raise ValueError(\n",
        "            \"The parameter '%s' should have the shape of %s, but got %s\" %\n",
        "            (name, param_shape, param.shape))\n",
        "\n",
        "\n",
        "class BaseMixture(DensityMixin, BaseEstimator, metaclass=ABCMeta):\n",
        "    \"\"\"Base class for mixture models.\n",
        "\n",
        "    This abstract class specifies an interface for all mixture classes and\n",
        "    provides basic common methods for mixture models.\n",
        "    \"\"\"\n",
        "    def __init__(\n",
        "        self,\n",
        "        n_components,\n",
        "        tol,\n",
        "        reg_covar,\n",
        "        max_iter,\n",
        "        n_init,\n",
        "        init_params,\n",
        "        random_state,\n",
        "        warm_start,\n",
        "        verbose,\n",
        "        verbose_interval,\n",
        "    ):\n",
        "        self.n_components = n_components\n",
        "        self.tol = tol\n",
        "        self.reg_covar = reg_covar\n",
        "        self.max_iter = max_iter\n",
        "        self.n_init = n_init\n",
        "        self.init_params = init_params\n",
        "        self.random_state = random_state\n",
        "        self.warm_start = warm_start\n",
        "        self.verbose = verbose\n",
        "        self.verbose_interval = verbose_interval\n",
        "\n",
        "    def _check_initial_parameters(self, X):\n",
        "        \"\"\"Check values of the basic parameters.\n",
        "\n",
        "        Parameters\n",
        "        ----------\n",
        "        X : array-like of shape (n_samples, n_features)\n",
        "        \"\"\"\n",
        "        if self.n_components < 1:\n",
        "            raise ValueError(\"Invalid value for 'n_components': %d \"\n",
        "                             \"Estimation requires at least one component\" %\n",
        "                             self.n_components)\n",
        "\n",
        "        if self.tol < 0.0:\n",
        "            raise ValueError(\"Invalid value for 'tol': %.5f \"\n",
        "                             \"Tolerance used by the EM must be non-negative\" %\n",
        "                             self.tol)\n",
        "\n",
        "        if self.n_init < 1:\n",
        "            raise ValueError(\n",
        "                \"Invalid value for 'n_init': %d Estimation requires at least one run\"\n",
        "                % self.n_init)\n",
        "\n",
        "        if self.max_iter < 1:\n",
        "            raise ValueError(\"Invalid value for 'max_iter': %d \"\n",
        "                             \"Estimation requires at least one iteration\" %\n",
        "                             self.max_iter)\n",
        "\n",
        "        if self.reg_covar < 0.0:\n",
        "            raise ValueError(\"Invalid value for 'reg_covar': %.5f \"\n",
        "                             \"regularization on covariance must be \"\n",
        "                             \"non-negative\" % self.reg_covar)\n",
        "\n",
        "        # Check all the parameters values of the derived class\n",
        "        self._check_parameters(X)\n",
        "\n",
        "    @abstractmethod\n",
        "    def _check_parameters(self, X):\n",
        "        \"\"\"Check initial parameters of the derived class.\n",
        "\n",
        "        Parameters\n",
        "        ----------\n",
        "        X : array-like of shape  (n_samples, n_features)\n",
        "        \"\"\"\n",
        "        pass\n",
        "\n",
        "    def _initialize_parameters(self, X, random_state, B=None, resp=None):\n",
        "        \"\"\"Initialize the model parameters.\n",
        "\n",
        "        Parameters\n",
        "        ----------\n",
        "        X : array-like of shape  (n_samples, n_features)\n",
        "\n",
        "        random_state : RandomState\n",
        "            A random number generator instance that controls the random seed\n",
        "            used for the method chosen to initialize the parameters.\n",
        "        \"\"\"\n",
        "        n_samples, _ = X.shape\n",
        "\n",
        "        if self.init_params == \"kmeans\":\n",
        "            resp = np.zeros((n_samples, self.n_components))\n",
        "            label = (cluster.KMeans(n_clusters=self.n_components,\n",
        "                                    n_init=1,\n",
        "                                    random_state=random_state).fit(X).labels_)\n",
        "            resp[np.arange(n_samples), label] = 1\n",
        "        elif self.init_params == \"random\":\n",
        "          if resp is None:\n",
        "            resp = random_state.rand(n_samples, self.n_components)\n",
        "            resp /= resp.sum(axis=1)[:, np.newaxis]\n",
        "        else:\n",
        "            raise ValueError(\"Unimplemented initialization method '%s'\" %\n",
        "                             self.init_params)\n",
        "\n",
        "        self._initialize(X, resp, B)\n",
        "\n",
        "    @abstractmethod\n",
        "    def _initialize(self, X, resp, B=None):\n",
        "        \"\"\"Initialize the model parameters of the derived class.\n",
        "\n",
        "        Parameters\n",
        "        ----------\n",
        "        X : array-like of shape  (n_samples, n_features)\n",
        "\n",
        "        resp : array-like of shape (n_samples, n_components)\n",
        "        \"\"\"\n",
        "        pass\n",
        "\n",
        "    def fit(self, X, y=None):\n",
        "        \"\"\"Estimate model parameters with the EM algorithm.\n",
        "\n",
        "        The method fits the model ``n_init`` times and sets the parameters with\n",
        "        which the model has the largest likelihood or lower bound. Within each\n",
        "        trial, the method iterates between E-step and M-step for ``max_iter``\n",
        "        times until the change of likelihood or lower bound is less than\n",
        "        ``tol``, otherwise, a ``ConvergenceWarning`` is raised.\n",
        "        If ``warm_start`` is ``True``, then ``n_init`` is ignored and a single\n",
        "        initialization is performed upon the first call. Upon consecutive\n",
        "        calls, training starts where it left off.\n",
        "\n",
        "        Parameters\n",
        "        ----------\n",
        "        X : array-like of shape (n_samples, n_features)\n",
        "            List of n_features-dimensional data points. Each row\n",
        "            corresponds to a single data point.\n",
        "\n",
        "        y : Ignored\n",
        "            Not used, present for API consistency by convention.\n",
        "\n",
        "        Returns\n",
        "        -------\n",
        "        self : object\n",
        "            The fitted mixture.\n",
        "        \"\"\"\n",
        "        self.fit_predict(X, y)\n",
        "        return self\n",
        "\n",
        "    def fit_predict(self, X, y=None, B=None, resp=None):\n",
        "        \"\"\"Estimate model parameters using X and predict the labels for X.\n",
        "\n",
        "        The method fits the model n_init times and sets the parameters with\n",
        "        which the model has the largest likelihood or lower bound. Within each\n",
        "        trial, the method iterates between E-step and M-step for `max_iter`\n",
        "        times until the change of likelihood or lower bound is less than\n",
        "        `tol`, otherwise, a :class:`~sklearn.exceptions.ConvergenceWarning` is\n",
        "        raised. After fitting, it predicts the most probable label for the\n",
        "        input data points.\n",
        "\n",
        "        .. versionadded:: 0.20\n",
        "\n",
        "        Parameters\n",
        "        ----------\n",
        "        X : array-like of shape (n_samples, n_features)\n",
        "            List of n_features-dimensional data points. Each row\n",
        "            corresponds to a single data point.\n",
        "\n",
        "        y : Ignored\n",
        "            Not used, present for API consistency by convention.\n",
        "\n",
        "        Returns\n",
        "        -------\n",
        "        labels : array, shape (n_samples,)\n",
        "            Component labels.\n",
        "        \"\"\"\n",
        "        X = self._validate_data(X,\n",
        "                                dtype=[np.float64, np.float32],\n",
        "                                ensure_min_samples=2)\n",
        "        if X.shape[0] < self.n_components:\n",
        "            raise ValueError(\"Expected n_samples >= n_components \"\n",
        "                             f\"but got n_components = {self.n_components}, \"\n",
        "                             f\"n_samples = {X.shape[0]}\")\n",
        "        self._check_initial_parameters(X)\n",
        "\n",
        "        # if we enable warm_start, we will have a unique initialisation\n",
        "        do_init = not (self.warm_start and hasattr(self, \"converged_\"))\n",
        "        n_init = self.n_init if do_init else 1\n",
        "\n",
        "        max_lower_bound = -np.inf\n",
        "        self.converged_ = False\n",
        "\n",
        "        random_state = check_random_state(self.random_state)\n",
        "\n",
        "        n_samples, _ = X.shape\n",
        "        for init in range(n_init):\n",
        "            self._print_verbose_msg_init_beg(init)\n",
        "\n",
        "            if do_init:\n",
        "                self._initialize_parameters(X, random_state, B=B, resp=resp)\n",
        "\n",
        "            lower_bound = -np.inf if do_init else self.lower_bound_\n",
        "\n",
        "            for n_iter in range(1, self.max_iter + 1):\n",
        "                prev_lower_bound = lower_bound\n",
        "\n",
        "                log_prob_norm, log_resp = self._e_step(X)\n",
        "                self._m_step(X, log_resp, B)\n",
        "                lower_bound = self._compute_lower_bound(\n",
        "                    log_resp, log_prob_norm)\n",
        "\n",
        "                change = lower_bound - prev_lower_bound\n",
        "                self._print_verbose_msg_iter_end(n_iter, change)\n",
        "\n",
        "                if abs(change) < self.tol:\n",
        "                    self.converged_ = True\n",
        "                    break\n",
        "\n",
        "            self._print_verbose_msg_init_end(lower_bound)\n",
        "\n",
        "            if lower_bound > max_lower_bound or max_lower_bound == -np.inf:\n",
        "                max_lower_bound = lower_bound\n",
        "                best_params = self._get_parameters()\n",
        "                best_n_iter = n_iter\n",
        "\n",
        "        if not self.converged_:\n",
        "            warnings.warn(\n",
        "                \"Initialization %d did not converge. \"\n",
        "                \"Try different init parameters, \"\n",
        "                \"or increase max_iter, tol \"\n",
        "                \"or check for degenerate data.\" % (init + 1),\n",
        "                ConvergenceWarning,\n",
        "            )\n",
        "\n",
        "        self._set_parameters(best_params)\n",
        "        self.n_iter_ = best_n_iter\n",
        "        self.lower_bound_ = max_lower_bound\n",
        "\n",
        "        # Always do a final e-step to guarantee that the labels returned by\n",
        "        # fit_predict(X) are always consistent with fit(X).predict(X)\n",
        "        # for any value of max_iter and tol (and any random_state).\n",
        "        _, log_resp = self._e_step(X)\n",
        "\n",
        "        return log_resp.argmax(axis=1)\n",
        "\n",
        "    def _e_step(self, X):\n",
        "        \"\"\"E step.\n",
        "\n",
        "        Parameters\n",
        "        ----------\n",
        "        X : array-like of shape (n_samples, n_features)\n",
        "\n",
        "        Returns\n",
        "        -------\n",
        "        log_prob_norm : float\n",
        "            Mean of the logarithms of the probabilities of each sample in X\n",
        "\n",
        "        log_responsibility : array, shape (n_samples, n_components)\n",
        "            Logarithm of the posterior probabilities (or responsibilities) of\n",
        "            the point of each sample in X.\n",
        "        \"\"\"\n",
        "        log_prob_norm, log_resp = self._estimate_log_prob_resp(X)\n",
        "        return np.mean(log_prob_norm), log_resp\n",
        "\n",
        "    @abstractmethod\n",
        "    def _m_step(self, X, log_resp, B=None):\n",
        "        \"\"\"M step.\n",
        "\n",
        "        Parameters\n",
        "        ----------\n",
        "        X : array-like of shape (n_samples, n_features)\n",
        "\n",
        "        log_resp : array-like of shape (n_samples, n_components)\n",
        "            Logarithm of the posterior probabilities (or responsibilities) of\n",
        "            the point of each sample in X.\n",
        "        \"\"\"\n",
        "        pass\n",
        "\n",
        "    @abstractmethod\n",
        "    def _get_parameters(self):\n",
        "        pass\n",
        "\n",
        "    @abstractmethod\n",
        "    def _set_parameters(self, params):\n",
        "        pass\n",
        "\n",
        "    def score_samples(self, X):\n",
        "        \"\"\"Compute the log-likelihood of each sample.\n",
        "\n",
        "        Parameters\n",
        "        ----------\n",
        "        X : array-like of shape (n_samples, n_features)\n",
        "            List of n_features-dimensional data points. Each row\n",
        "            corresponds to a single data point.\n",
        "\n",
        "        Returns\n",
        "        -------\n",
        "        log_prob : array, shape (n_samples,)\n",
        "            Log-likelihood of each sample in `X` under the current model.\n",
        "        \"\"\"\n",
        "        check_is_fitted(self)\n",
        "        X = self._validate_data(X, reset=False)\n",
        "\n",
        "        return logsumexp(self._estimate_weighted_log_prob(X), axis=1)\n",
        "\n",
        "    def score(self, X, y=None):\n",
        "        \"\"\"Compute the per-sample average log-likelihood of the given data X.\n",
        "\n",
        "        Parameters\n",
        "        ----------\n",
        "        X : array-like of shape (n_samples, n_dimensions)\n",
        "            List of n_features-dimensional data points. Each row\n",
        "            corresponds to a single data point.\n",
        "\n",
        "        y : Ignored\n",
        "            Not used, present for API consistency by convention.\n",
        "\n",
        "        Returns\n",
        "        -------\n",
        "        log_likelihood : float\n",
        "            Log-likelihood of `X` under the Gaussian mixture model.\n",
        "        \"\"\"\n",
        "        return self.score_samples(X).mean()\n",
        "\n",
        "    def predict(self, X):\n",
        "        \"\"\"Predict the labels for the data samples in X using trained model.\n",
        "\n",
        "        Parameters\n",
        "        ----------\n",
        "        X : array-like of shape (n_samples, n_features)\n",
        "            List of n_features-dimensional data points. Each row\n",
        "            corresponds to a single data point.\n",
        "\n",
        "        Returns\n",
        "        -------\n",
        "        labels : array, shape (n_samples,)\n",
        "            Component labels.\n",
        "        \"\"\"\n",
        "        check_is_fitted(self)\n",
        "        X = self._validate_data(X, reset=False)\n",
        "        return self._estimate_weighted_log_prob(X).argmax(axis=1)\n",
        "\n",
        "    def predict_proba(self, X):\n",
        "        \"\"\"Evaluate the components' density for each sample.\n",
        "\n",
        "        Parameters\n",
        "        ----------\n",
        "        X : array-like of shape (n_samples, n_features)\n",
        "            List of n_features-dimensional data points. Each row\n",
        "            corresponds to a single data point.\n",
        "\n",
        "        Returns\n",
        "        -------\n",
        "        resp : array, shape (n_samples, n_components)\n",
        "            Density of each Gaussian component for each sample in X.\n",
        "        \"\"\"\n",
        "        check_is_fitted(self)\n",
        "        X = self._validate_data(X, reset=False)\n",
        "        _, log_resp = self._estimate_log_prob_resp(X)\n",
        "        return np.exp(log_resp)\n",
        "\n",
        "    def sample(self, n_samples=1):\n",
        "        \"\"\"Generate random samples from the fitted Gaussian distribution.\n",
        "\n",
        "        Parameters\n",
        "        ----------\n",
        "        n_samples : int, default=1\n",
        "            Number of samples to generate.\n",
        "\n",
        "        Returns\n",
        "        -------\n",
        "        X : array, shape (n_samples, n_features)\n",
        "            Randomly generated sample.\n",
        "\n",
        "        y : array, shape (nsamples,)\n",
        "            Component labels.\n",
        "        \"\"\"\n",
        "        check_is_fitted(self)\n",
        "\n",
        "        if n_samples < 1:\n",
        "            raise ValueError(\n",
        "                \"Invalid value for 'n_samples': %d . The sampling requires at \"\n",
        "                \"least one sample.\" % (self.n_components))\n",
        "\n",
        "        _, n_features = self.means_.shape\n",
        "        rng = check_random_state(self.random_state)\n",
        "        n_samples_comp = rng.multinomial(n_samples, self.weights_)\n",
        "\n",
        "        if self.covariance_type == \"full\":\n",
        "            X = np.vstack([\n",
        "                rng.multivariate_normal(mean, covariance, int(sample))\n",
        "                for (mean, covariance, sample\n",
        "                     ) in zip(self.means_, self.covariances_, n_samples_comp)\n",
        "            ])\n",
        "        elif self.covariance_type == \"tied\":\n",
        "            X = np.vstack([\n",
        "                rng.multivariate_normal(mean, self.covariances_, int(sample))\n",
        "                for (mean, sample) in zip(self.means_, n_samples_comp)\n",
        "            ])\n",
        "        else:\n",
        "            X = np.vstack([\n",
        "                mean + rng.randn(sample, n_features) * np.sqrt(covariance)\n",
        "                for (mean, covariance, sample\n",
        "                     ) in zip(self.means_, self.covariances_, n_samples_comp)\n",
        "            ])\n",
        "\n",
        "        y = np.concatenate([\n",
        "            np.full(sample, j, dtype=int)\n",
        "            for j, sample in enumerate(n_samples_comp)\n",
        "        ])\n",
        "\n",
        "        return (X, y)\n",
        "\n",
        "    def _estimate_weighted_log_prob(self, X):\n",
        "        \"\"\"Estimate the weighted log-probabilities, log P(X | Z) + log weights.\n",
        "\n",
        "        Parameters\n",
        "        ----------\n",
        "        X : array-like of shape (n_samples, n_features)\n",
        "\n",
        "        Returns\n",
        "        -------\n",
        "        weighted_log_prob : array, shape (n_samples, n_component)\n",
        "        \"\"\"\n",
        "        return self._estimate_log_prob(X) + self._estimate_log_weights()\n",
        "\n",
        "    @abstractmethod\n",
        "    def _estimate_log_weights(self):\n",
        "        \"\"\"Estimate log-weights in EM algorithm, E[ log pi ] in VB algorithm.\n",
        "\n",
        "        Returns\n",
        "        -------\n",
        "        log_weight : array, shape (n_components, )\n",
        "        \"\"\"\n",
        "        pass\n",
        "\n",
        "    @abstractmethod\n",
        "    def _estimate_log_prob(self, X):\n",
        "        \"\"\"Estimate the log-probabilities log P(X | Z).\n",
        "\n",
        "        Compute the log-probabilities per each component for each sample.\n",
        "\n",
        "        Parameters\n",
        "        ----------\n",
        "        X : array-like of shape (n_samples, n_features)\n",
        "\n",
        "        Returns\n",
        "        -------\n",
        "        log_prob : array, shape (n_samples, n_component)\n",
        "        \"\"\"\n",
        "        pass\n",
        "\n",
        "    def _estimate_log_prob_resp(self, X):\n",
        "        \"\"\"Estimate log probabilities and responsibilities for each sample.\n",
        "\n",
        "        Compute the log probabilities, weighted log probabilities per\n",
        "        component and responsibilities for each sample in X with respect to\n",
        "        the current state of the model.\n",
        "\n",
        "        Parameters\n",
        "        ----------\n",
        "        X : array-like of shape (n_samples, n_features)\n",
        "\n",
        "        Returns\n",
        "        -------\n",
        "        log_prob_norm : array, shape (n_samples,)\n",
        "            log p(X)\n",
        "\n",
        "        log_responsibilities : array, shape (n_samples, n_components)\n",
        "            logarithm of the responsibilities\n",
        "        \"\"\"\n",
        "        weighted_log_prob = self._estimate_weighted_log_prob(X)\n",
        "        log_prob_norm = logsumexp(weighted_log_prob, axis=1)\n",
        "        with np.errstate(under=\"ignore\"):\n",
        "            # ignore underflow\n",
        "            log_resp = weighted_log_prob - log_prob_norm[:, np.newaxis]\n",
        "        return log_prob_norm, log_resp\n",
        "\n",
        "    def _print_verbose_msg_init_beg(self, n_init):\n",
        "        \"\"\"Print verbose message on initialization.\"\"\"\n",
        "        if self.verbose == 1:\n",
        "            print(\"Initialization %d\" % n_init)\n",
        "        elif self.verbose >= 2:\n",
        "            print(\"Initialization %d\" % n_init)\n",
        "            self._init_prev_time = time()\n",
        "            self._iter_prev_time = self._init_prev_time\n",
        "\n",
        "    def _print_verbose_msg_iter_end(self, n_iter, diff_ll):\n",
        "        \"\"\"Print verbose message on initialization.\"\"\"\n",
        "        if n_iter % self.verbose_interval == 0:\n",
        "            if self.verbose == 1:\n",
        "                print(\"  Iteration %d\" % n_iter)\n",
        "            elif self.verbose >= 2:\n",
        "                cur_time = time()\n",
        "                print(\"  Iteration %d\\t time lapse %.5fs\\t ll change %.5f\" %\n",
        "                      (n_iter, cur_time - self._iter_prev_time, diff_ll))\n",
        "                self._iter_prev_time = cur_time\n",
        "\n",
        "    def _print_verbose_msg_init_end(self, ll):\n",
        "        \"\"\"Print verbose message on the end of iteration.\"\"\"\n",
        "        if self.verbose == 1:\n",
        "            print(\"Initialization converged: %s\" % self.converged_)\n",
        "        elif self.verbose >= 2:\n",
        "            print(\"Initialization converged: %s\\t time lapse %.5fs\\t ll %.5f\" %\n",
        "                  (self.converged_, time() - self._init_prev_time, ll))"
      ],
      "execution_count": 24,
      "outputs": []
    },
    {
      "cell_type": "code",
      "metadata": {
        "id": "3hy995UuP95A",
        "cellView": "form"
      },
      "source": [
        "#@title sklearn/mixture/_gaussian_mixture.py \n",
        "\n",
        "\"\"\"Gaussian Mixture Model.\"\"\"\n",
        "\n",
        "# sklearn/mixture/_gaussian_mixture.py \n",
        "\n",
        "# Author: Wei Xue <xuewei4d@gmail.com>\n",
        "# Modified by Thierry Guillemot <thierry.guillemot.work@gmail.com>\n",
        "# License: BSD 3 clause\n",
        "\n",
        "import numpy as np\n",
        "\n",
        "from scipy import linalg\n",
        "\n",
        "# from ._base import BaseMixture, _check_shape these come from cell above\n",
        "from sklearn.utils import check_array\n",
        "from sklearn.utils.extmath import row_norms\n",
        "\n",
        "###############################################################################\n",
        "# Gaussian mixture shape checkers used by the GaussianMixture class\n",
        "\n",
        "\n",
        "def _check_weights(weights, n_components):\n",
        "    \"\"\"Check the user provided 'weights'.\n",
        "\n",
        "    Parameters\n",
        "    ----------\n",
        "    weights : array-like of shape (n_components,)\n",
        "        The proportions of components of each mixture.\n",
        "\n",
        "    n_components : int\n",
        "        Number of components.\n",
        "\n",
        "    Returns\n",
        "    -------\n",
        "    weights : array, shape (n_components,)\n",
        "    \"\"\"\n",
        "    weights = check_array(weights,\n",
        "                          dtype=[np.float64, np.float32],\n",
        "                          ensure_2d=False)\n",
        "    _check_shape(weights, (n_components, ), \"weights\")\n",
        "\n",
        "    # check range\n",
        "    if any(np.less(weights, 0.0)) or any(np.greater(weights, 1.0)):\n",
        "        raise ValueError(\"The parameter 'weights' should be in the range \"\n",
        "                         \"[0, 1], but got max value %.5f, min value %.5f\" %\n",
        "                         (np.min(weights), np.max(weights)))\n",
        "\n",
        "    # check normalization\n",
        "    if not np.allclose(np.abs(1.0 - np.sum(weights)), 0.0):\n",
        "        raise ValueError(\n",
        "            \"The parameter 'weights' should be normalized, but got sum(weights) = %.5f\"\n",
        "            % np.sum(weights))\n",
        "    return weights\n",
        "\n",
        "\n",
        "def _check_means(means, n_components, n_features):\n",
        "    \"\"\"Validate the provided 'means'.\n",
        "\n",
        "    Parameters\n",
        "    ----------\n",
        "    means : array-like of shape (n_components, n_features)\n",
        "        The centers of the current components.\n",
        "\n",
        "    n_components : int\n",
        "        Number of components.\n",
        "\n",
        "    n_features : int\n",
        "        Number of features.\n",
        "\n",
        "    Returns\n",
        "    -------\n",
        "    means : array, (n_components, n_features)\n",
        "    \"\"\"\n",
        "    means = check_array(means, dtype=[np.float64, np.float32], ensure_2d=False)\n",
        "    _check_shape(means, (n_components, n_features), \"means\")\n",
        "    return means\n",
        "\n",
        "\n",
        "def _check_precision_positivity(precision, covariance_type):\n",
        "    \"\"\"Check a precision vector is positive-definite.\"\"\"\n",
        "    if np.any(np.less_equal(precision, 0.0)):\n",
        "        raise ValueError(\"'%s precision' should be positive\" % covariance_type)\n",
        "\n",
        "\n",
        "def _check_precision_matrix(precision, covariance_type):\n",
        "    \"\"\"Check a precision matrix is symmetric and positive-definite.\"\"\"\n",
        "    if not (np.allclose(precision, precision.T)\n",
        "            and np.all(linalg.eigvalsh(precision) > 0.0)):\n",
        "        raise ValueError(\n",
        "            \"'%s precision' should be symmetric, positive-definite\" %\n",
        "            covariance_type)\n",
        "\n",
        "\n",
        "def _check_precisions_full(precisions, covariance_type):\n",
        "    \"\"\"Check the precision matrices are symmetric and positive-definite.\"\"\"\n",
        "    for prec in precisions:\n",
        "        _check_precision_matrix(prec, covariance_type)\n",
        "\n",
        "\n",
        "def _check_precisions(precisions, covariance_type, n_components, n_features):\n",
        "    \"\"\"Validate user provided precisions.\n",
        "\n",
        "    Parameters\n",
        "    ----------\n",
        "    precisions : array-like\n",
        "        'full' : shape of (n_components, n_features, n_features)\n",
        "        'tied' : shape of (n_features, n_features)\n",
        "        'diag' : shape of (n_components, n_features)\n",
        "        'spherical' : shape of (n_components,)\n",
        "\n",
        "    covariance_type : str\n",
        "\n",
        "    n_components : int\n",
        "        Number of components.\n",
        "\n",
        "    n_features : int\n",
        "        Number of features.\n",
        "\n",
        "    Returns\n",
        "    -------\n",
        "    precisions : array\n",
        "    \"\"\"\n",
        "    precisions = check_array(\n",
        "        precisions,\n",
        "        dtype=[np.float64, np.float32],\n",
        "        ensure_2d=False,\n",
        "        allow_nd=covariance_type == \"full\",\n",
        "    )\n",
        "\n",
        "    precisions_shape = {\n",
        "        \"full\": (n_components, n_features, n_features),\n",
        "        \"tied\": (n_features, n_features),\n",
        "        \"diag\": (n_components, n_features),\n",
        "        \"spherical\": (n_components, ),\n",
        "    }\n",
        "    _check_shape(precisions, precisions_shape[covariance_type],\n",
        "                 \"%s precision\" % covariance_type)\n",
        "\n",
        "    _check_precisions = {\n",
        "        \"full\": _check_precisions_full,\n",
        "        \"tied\": _check_precision_matrix,\n",
        "        \"diag\": _check_precision_positivity,\n",
        "        \"spherical\": _check_precision_positivity,\n",
        "    }\n",
        "    _check_precisions[covariance_type](precisions, covariance_type)\n",
        "    return precisions\n",
        "\n",
        "\n",
        "###############################################################################\n",
        "# Gaussian mixture parameters estimators (used by the M-Step)\n",
        "\n",
        "\n",
        "def _estimate_gaussian_covariances_full(resp, X, nk, means, reg_covar):\n",
        "    \"\"\"Estimate the full covariance matrices.\n",
        "\n",
        "    Parameters\n",
        "    ----------\n",
        "    resp : array-like of shape (n_samples, n_components)\n",
        "\n",
        "    X : array-like of shape (n_samples, n_features)\n",
        "\n",
        "    nk : array-like of shape (n_components,)\n",
        "\n",
        "    means : array-like of shape (n_components, n_features)\n",
        "\n",
        "    reg_covar : float\n",
        "\n",
        "    Returns\n",
        "    -------\n",
        "    covariances : array, shape (n_components, n_features, n_features)\n",
        "        The covariance matrix of the current components.\n",
        "    \"\"\"\n",
        "    n_components, n_features = means.shape\n",
        "    covariances = np.empty((n_components, n_features, n_features))\n",
        "    for k in range(n_components):\n",
        "        diff = X - means[k]\n",
        "        covariances[k] = np.dot(resp[:, k] * diff.T, diff) / nk[k]\n",
        "        covariances[k].flat[::n_features + 1] += reg_covar\n",
        "    return covariances\n",
        "\n",
        "\n",
        "def _estimate_gaussian_covariances_tied(resp, X, nk, means, reg_covar):\n",
        "    \"\"\"Estimate the tied covariance matrix.\n",
        "\n",
        "    Parameters\n",
        "    ----------\n",
        "    resp : array-like of shape (n_samples, n_components)\n",
        "\n",
        "    X : array-like of shape (n_samples, n_features)\n",
        "\n",
        "    nk : array-like of shape (n_components,)\n",
        "\n",
        "    means : array-like of shape (n_components, n_features)\n",
        "\n",
        "    reg_covar : float\n",
        "\n",
        "    Returns\n",
        "    -------\n",
        "    covariance : array, shape (n_features, n_features)\n",
        "        The tied covariance matrix of the components.\n",
        "    \"\"\"\n",
        "    avg_X2 = np.dot(X.T, X)\n",
        "    avg_means2 = np.dot(nk * means.T, means)\n",
        "    covariance = avg_X2 - avg_means2\n",
        "    covariance /= nk.sum()\n",
        "    covariance.flat[::len(covariance) + 1] += reg_covar\n",
        "    return covariance\n",
        "\n",
        "\n",
        "def _estimate_gaussian_covariances_diag(resp, X, nk, means, reg_covar):\n",
        "    \"\"\"Estimate the diagonal covariance vectors.\n",
        "\n",
        "    Parameters\n",
        "    ----------\n",
        "    responsibilities : array-like of shape (n_samples, n_components)\n",
        "\n",
        "    X : array-like of shape (n_samples, n_features)\n",
        "\n",
        "    nk : array-like of shape (n_components,)\n",
        "\n",
        "    means : array-like of shape (n_components, n_features)\n",
        "\n",
        "    reg_covar : float\n",
        "\n",
        "    Returns\n",
        "    -------\n",
        "    covariances : array, shape (n_components, n_features)\n",
        "        The covariance vector of the current components.\n",
        "    \"\"\"\n",
        "    avg_X2 = np.dot(resp.T, X * X) / nk[:, np.newaxis]\n",
        "    avg_means2 = means**2\n",
        "    avg_X_means = means * np.dot(resp.T, X) / nk[:, np.newaxis]\n",
        "    return avg_X2 - 2 * avg_X_means + avg_means2 + reg_covar\n",
        "\n",
        "\n",
        "def _estimate_gaussian_covariances_spherical(resp, X, nk, means, reg_covar):\n",
        "    \"\"\"Estimate the spherical variance values.\n",
        "\n",
        "    Parameters\n",
        "    ----------\n",
        "    responsibilities : array-like of shape (n_samples, n_components)\n",
        "\n",
        "    X : array-like of shape (n_samples, n_features)\n",
        "\n",
        "    nk : array-like of shape (n_components,)\n",
        "\n",
        "    means : array-like of shape (n_components, n_features)\n",
        "\n",
        "    reg_covar : float\n",
        "\n",
        "    Returns\n",
        "    -------\n",
        "    variances : array, shape (n_components,)\n",
        "        The variance values of each components.\n",
        "    \"\"\"\n",
        "    return _estimate_gaussian_covariances_diag(resp, X, nk, means,\n",
        "                                               reg_covar).mean(1)\n",
        "\n",
        "\n",
        "def _estimate_gaussian_parameters(X, resp, reg_covar, covariance_type, B=None):\n",
        "    \"\"\"Estimate the Gaussian distribution parameters.\n",
        "\n",
        "    Parameters\n",
        "    ----------\n",
        "    X : array-like of shape (n_samples, n_features)\n",
        "        The input data array.\n",
        "\n",
        "    resp : array-like of shape (n_samples, n_components)\n",
        "        The responsibilities for each data sample in X.\n",
        "\n",
        "    reg_covar : float\n",
        "        The regularization added to the diagonal of the covariance matrices.\n",
        "\n",
        "    covariance_type : {'full', 'tied', 'diag', 'spherical'}\n",
        "        The type of precision matrices.\n",
        "\n",
        "    Returns\n",
        "    -------\n",
        "    nk : array-like of shape (n_components,)\n",
        "        The numbers of data samples in the current components.\n",
        "\n",
        "    means : array-like of shape (n_components, n_features)\n",
        "        The centers of the current components.\n",
        "\n",
        "    covariances : array-like\n",
        "        The covariance matrix of the current components.\n",
        "        The shape depends of the covariance_type.\n",
        "    \"\"\"\n",
        "    # print(\"Doing the thing..\")\n",
        "    nk = resp.sum(axis=0) + 10 * np.finfo(resp.dtype).eps\n",
        "    means = np.dot(resp.T, X) / nk[:, np.newaxis]\n",
        "\n",
        "    # frankie\n",
        "    # get the mins for the marker genes\n",
        "    # ct_mins = [means[:, i].min() for i in B]\n",
        "    # marker_gene_indices = [set(np.where(i)[0]) for i in B]\n",
        "    ct_mins = [means[i][B[i]].min() for i in range(means.shape[0])]\n",
        "    marker_gene_indices = [set(B[i]) for i in range(means.shape[0])]\n",
        "    # modify based on the min/f\n",
        "    f = 2.\n",
        "    for idx, i in enumerate(means):\n",
        "        ct_min = ct_mins[idx]\n",
        "        betas = means[idx]\n",
        "        for jdx, b in enumerate(betas):\n",
        "            if jdx not in marker_gene_indices[idx]:\n",
        "                new = min(b, ct_min / f)\n",
        "                means[idx][jdx] = new\n",
        "\n",
        "    covariances = {\n",
        "        \"full\": _estimate_gaussian_covariances_full,\n",
        "        \"tied\": _estimate_gaussian_covariances_tied,\n",
        "        \"diag\": _estimate_gaussian_covariances_diag,\n",
        "        \"spherical\": _estimate_gaussian_covariances_spherical,\n",
        "    }[covariance_type](resp, X, nk, means, reg_covar)\n",
        "    return nk, means, covariances\n",
        "\n",
        "\n",
        "def _compute_precision_cholesky(covariances, covariance_type):\n",
        "    \"\"\"Compute the Cholesky decomposition of the precisions.\n",
        "\n",
        "    Parameters\n",
        "    ----------\n",
        "    covariances : array-like\n",
        "        The covariance matrix of the current components.\n",
        "        The shape depends of the covariance_type.\n",
        "\n",
        "    covariance_type : {'full', 'tied', 'diag', 'spherical'}\n",
        "        The type of precision matrices.\n",
        "\n",
        "    Returns\n",
        "    -------\n",
        "    precisions_cholesky : array-like\n",
        "        The cholesky decomposition of sample precisions of the current\n",
        "        components. The shape depends of the covariance_type.\n",
        "    \"\"\"\n",
        "    estimate_precision_error_message = (\n",
        "        \"Fitting the mixture model failed because some components have \"\n",
        "        \"ill-defined empirical covariance (for instance caused by singleton \"\n",
        "        \"or collapsed samples). Try to decrease the number of components, \"\n",
        "        \"or increase reg_covar.\")\n",
        "\n",
        "    if covariance_type == \"full\":\n",
        "        n_components, n_features, _ = covariances.shape\n",
        "        precisions_chol = np.empty((n_components, n_features, n_features))\n",
        "        for k, covariance in enumerate(covariances):\n",
        "            try:\n",
        "                cov_chol = linalg.cholesky(covariance, lower=True)\n",
        "            except linalg.LinAlgError:\n",
        "                raise ValueError(estimate_precision_error_message)\n",
        "            precisions_chol[k] = linalg.solve_triangular(cov_chol,\n",
        "                                                         np.eye(n_features),\n",
        "                                                         lower=True).T\n",
        "    elif covariance_type == \"tied\":\n",
        "        _, n_features = covariances.shape\n",
        "        try:\n",
        "            cov_chol = linalg.cholesky(covariances, lower=True)\n",
        "        except linalg.LinAlgError:\n",
        "            raise ValueError(estimate_precision_error_message)\n",
        "        precisions_chol = linalg.solve_triangular(cov_chol,\n",
        "                                                  np.eye(n_features),\n",
        "                                                  lower=True).T\n",
        "    else:\n",
        "        if np.any(np.less_equal(covariances, 0.0)):\n",
        "            raise ValueError(estimate_precision_error_message)\n",
        "        precisions_chol = 1.0 / np.sqrt(covariances)\n",
        "    return precisions_chol\n",
        "\n",
        "\n",
        "###############################################################################\n",
        "# Gaussian mixture probability estimators\n",
        "def _compute_log_det_cholesky(matrix_chol, covariance_type, n_features):\n",
        "    \"\"\"Compute the log-det of the cholesky decomposition of matrices.\n",
        "\n",
        "    Parameters\n",
        "    ----------\n",
        "    matrix_chol : array-like\n",
        "        Cholesky decompositions of the matrices.\n",
        "        'full' : shape of (n_components, n_features, n_features)\n",
        "        'tied' : shape of (n_features, n_features)\n",
        "        'diag' : shape of (n_components, n_features)\n",
        "        'spherical' : shape of (n_components,)\n",
        "\n",
        "    covariance_type : {'full', 'tied', 'diag', 'spherical'}\n",
        "\n",
        "    n_features : int\n",
        "        Number of features.\n",
        "\n",
        "    Returns\n",
        "    -------\n",
        "    log_det_precision_chol : array-like of shape (n_components,)\n",
        "        The determinant of the precision matrix for each component.\n",
        "    \"\"\"\n",
        "    if covariance_type == \"full\":\n",
        "        n_components, _, _ = matrix_chol.shape\n",
        "        log_det_chol = np.sum(\n",
        "            np.log(matrix_chol.reshape(n_components, -1)[:, ::n_features + 1]),\n",
        "            1)\n",
        "\n",
        "    elif covariance_type == \"tied\":\n",
        "        log_det_chol = np.sum(np.log(np.diag(matrix_chol)))\n",
        "\n",
        "    elif covariance_type == \"diag\":\n",
        "        log_det_chol = np.sum(np.log(matrix_chol), axis=1)\n",
        "\n",
        "    else:\n",
        "        log_det_chol = n_features * (np.log(matrix_chol))\n",
        "\n",
        "    return log_det_chol\n",
        "\n",
        "\n",
        "def _estimate_log_gaussian_prob(X, means, precisions_chol, covariance_type):\n",
        "    \"\"\"Estimate the log Gaussian probability.\n",
        "\n",
        "    Parameters\n",
        "    ----------\n",
        "    X : array-like of shape (n_samples, n_features)\n",
        "\n",
        "    means : array-like of shape (n_components, n_features)\n",
        "\n",
        "    precisions_chol : array-like\n",
        "        Cholesky decompositions of the precision matrices.\n",
        "        'full' : shape of (n_components, n_features, n_features)\n",
        "        'tied' : shape of (n_features, n_features)\n",
        "        'diag' : shape of (n_components, n_features)\n",
        "        'spherical' : shape of (n_components,)\n",
        "\n",
        "    covariance_type : {'full', 'tied', 'diag', 'spherical'}\n",
        "\n",
        "    Returns\n",
        "    -------\n",
        "    log_prob : array, shape (n_samples, n_components)\n",
        "    \"\"\"\n",
        "    n_samples, n_features = X.shape\n",
        "    n_components, _ = means.shape\n",
        "    # det(precision_chol) is half of det(precision)\n",
        "    log_det = _compute_log_det_cholesky(precisions_chol, covariance_type,\n",
        "                                        n_features)\n",
        "\n",
        "    if covariance_type == \"full\":\n",
        "        log_prob = np.empty((n_samples, n_components))\n",
        "        for k, (mu, prec_chol) in enumerate(zip(means, precisions_chol)):\n",
        "            y = np.dot(X, prec_chol) - np.dot(mu, prec_chol)\n",
        "            log_prob[:, k] = np.sum(np.square(y), axis=1)\n",
        "\n",
        "    elif covariance_type == \"tied\":\n",
        "        log_prob = np.empty((n_samples, n_components))\n",
        "        for k, mu in enumerate(means):\n",
        "            y = np.dot(X, precisions_chol) - np.dot(mu, precisions_chol)\n",
        "            log_prob[:, k] = np.sum(np.square(y), axis=1)\n",
        "\n",
        "    elif covariance_type == \"diag\":\n",
        "        precisions = precisions_chol**2\n",
        "        log_prob = (np.sum((means**2 * precisions), 1) -\n",
        "                    2.0 * np.dot(X, (means * precisions).T) +\n",
        "                    np.dot(X**2, precisions.T))\n",
        "\n",
        "    elif covariance_type == \"spherical\":\n",
        "        precisions = precisions_chol**2\n",
        "        log_prob = (np.sum(means**2, 1) * precisions -\n",
        "                    2 * np.dot(X, means.T * precisions) +\n",
        "                    np.outer(row_norms(X, squared=True), precisions))\n",
        "    return -0.5 * (n_features * np.log(2 * np.pi) + log_prob) + log_det\n",
        "\n",
        "\n",
        "class ImprovedGaussianMixture(BaseMixture):\n",
        "    \"\"\"Gaussian Mixture.\n",
        "\n",
        "    Representation of a Gaussian mixture model probability distribution.\n",
        "    This class allows to estimate the parameters of a Gaussian mixture\n",
        "    distribution.\n",
        "\n",
        "    Read more in the :ref:`User Guide <gmm>`.\n",
        "\n",
        "    .. versionadded:: 0.18\n",
        "\n",
        "    Parameters\n",
        "    ----------\n",
        "    n_components : int, default=1\n",
        "        The number of mixture components.\n",
        "\n",
        "    covariance_type : {'full', 'tied', 'diag', 'spherical'}, default='full'\n",
        "        String describing the type of covariance parameters to use.\n",
        "        Must be one of:\n",
        "\n",
        "        'full'\n",
        "            each component has its own general covariance matrix\n",
        "        'tied'\n",
        "            all components share the same general covariance matrix\n",
        "        'diag'\n",
        "            each component has its own diagonal covariance matrix\n",
        "        'spherical'\n",
        "            each component has its own single variance\n",
        "\n",
        "    tol : float, default=1e-3\n",
        "        The convergence threshold. EM iterations will stop when the\n",
        "        lower bound average gain is below this threshold.\n",
        "\n",
        "    reg_covar : float, default=1e-6\n",
        "        Non-negative regularization added to the diagonal of covariance.\n",
        "        Allows to assure that the covariance matrices are all positive.\n",
        "\n",
        "    max_iter : int, default=100\n",
        "        The number of EM iterations to perform.\n",
        "\n",
        "    n_init : int, default=1\n",
        "        The number of initializations to perform. The best results are kept.\n",
        "\n",
        "    init_params : {'kmeans', 'random'}, default='kmeans'\n",
        "        The method used to initialize the weights, the means and the\n",
        "        precisions.\n",
        "        Must be one of::\n",
        "\n",
        "            'kmeans' : responsibilities are initialized using kmeans.\n",
        "            'random' : responsibilities are initialized randomly.\n",
        "\n",
        "    weights_init : array-like of shape (n_components, ), default=None\n",
        "        The user-provided initial weights.\n",
        "        If it is None, weights are initialized using the `init_params` method.\n",
        "\n",
        "    means_init : array-like of shape (n_components, n_features), default=None\n",
        "        The user-provided initial means,\n",
        "        If it is None, means are initialized using the `init_params` method.\n",
        "\n",
        "    precisions_init : array-like, default=None\n",
        "        The user-provided initial precisions (inverse of the covariance\n",
        "        matrices).\n",
        "        If it is None, precisions are initialized using the 'init_params'\n",
        "        method.\n",
        "        The shape depends on 'covariance_type'::\n",
        "\n",
        "            (n_components,)                        if 'spherical',\n",
        "            (n_features, n_features)               if 'tied',\n",
        "            (n_components, n_features)             if 'diag',\n",
        "            (n_components, n_features, n_features) if 'full'\n",
        "\n",
        "    random_state : int, RandomState instance or None, default=None\n",
        "        Controls the random seed given to the method chosen to initialize the\n",
        "        parameters (see `init_params`).\n",
        "        In addition, it controls the generation of random samples from the\n",
        "        fitted distribution (see the method `sample`).\n",
        "        Pass an int for reproducible output across multiple function calls.\n",
        "        See :term:`Glossary <random_state>`.\n",
        "\n",
        "    warm_start : bool, default=False\n",
        "        If 'warm_start' is True, the solution of the last fitting is used as\n",
        "        initialization for the next call of fit(). This can speed up\n",
        "        convergence when fit is called several times on similar problems.\n",
        "        In that case, 'n_init' is ignored and only a single initialization\n",
        "        occurs upon the first call.\n",
        "        See :term:`the Glossary <warm_start>`.\n",
        "\n",
        "    verbose : int, default=0\n",
        "        Enable verbose output. If 1 then it prints the current\n",
        "        initialization and each iteration step. If greater than 1 then\n",
        "        it prints also the log probability and the time needed\n",
        "        for each step.\n",
        "\n",
        "    verbose_interval : int, default=10\n",
        "        Number of iteration done before the next print.\n",
        "\n",
        "    Attributes\n",
        "    ----------\n",
        "    weights_ : array-like of shape (n_components,)\n",
        "        The weights of each mixture components.\n",
        "\n",
        "    means_ : array-like of shape (n_components, n_features)\n",
        "        The mean of each mixture component.\n",
        "\n",
        "    covariances_ : array-like\n",
        "        The covariance of each mixture component.\n",
        "        The shape depends on `covariance_type`::\n",
        "\n",
        "            (n_components,)                        if 'spherical',\n",
        "            (n_features, n_features)               if 'tied',\n",
        "            (n_components, n_features)             if 'diag',\n",
        "            (n_components, n_features, n_features) if 'full'\n",
        "\n",
        "    precisions_ : array-like\n",
        "        The precision matrices for each component in the mixture. A precision\n",
        "        matrix is the inverse of a covariance matrix. A covariance matrix is\n",
        "        symmetric positive definite so the mixture of Gaussian can be\n",
        "        equivalently parameterized by the precision matrices. Storing the\n",
        "        precision matrices instead of the covariance matrices makes it more\n",
        "        efficient to compute the log-likelihood of new samples at test time.\n",
        "        The shape depends on `covariance_type`::\n",
        "\n",
        "            (n_components,)                        if 'spherical',\n",
        "            (n_features, n_features)               if 'tied',\n",
        "            (n_components, n_features)             if 'diag',\n",
        "            (n_components, n_features, n_features) if 'full'\n",
        "\n",
        "    precisions_cholesky_ : array-like\n",
        "        The cholesky decomposition of the precision matrices of each mixture\n",
        "        component. A precision matrix is the inverse of a covariance matrix.\n",
        "        A covariance matrix is symmetric positive definite so the mixture of\n",
        "        Gaussian can be equivalently parameterized by the precision matrices.\n",
        "        Storing the precision matrices instead of the covariance matrices makes\n",
        "        it more efficient to compute the log-likelihood of new samples at test\n",
        "        time. The shape depends on `covariance_type`::\n",
        "\n",
        "            (n_components,)                        if 'spherical',\n",
        "            (n_features, n_features)               if 'tied',\n",
        "            (n_components, n_features)             if 'diag',\n",
        "            (n_components, n_features, n_features) if 'full'\n",
        "\n",
        "    converged_ : bool\n",
        "        True when convergence was reached in fit(), False otherwise.\n",
        "\n",
        "    n_iter_ : int\n",
        "        Number of step used by the best fit of EM to reach the convergence.\n",
        "\n",
        "    lower_bound_ : float\n",
        "        Lower bound value on the log-likelihood (of the training data with\n",
        "        respect to the model) of the best fit of EM.\n",
        "\n",
        "    n_features_in_ : int\n",
        "        Number of features seen during :term:`fit`.\n",
        "\n",
        "        .. versionadded:: 0.24\n",
        "\n",
        "    feature_names_in_ : ndarray of shape (`n_features_in_`,)\n",
        "        Names of features seen during :term:`fit`. Defined only when `X`\n",
        "        has feature names that are all strings.\n",
        "\n",
        "        .. versionadded:: 1.0\n",
        "\n",
        "    See Also\n",
        "    --------\n",
        "    BayesianGaussianMixture : Gaussian mixture model fit with a variational\n",
        "        inference.\n",
        "\n",
        "    Examples\n",
        "    --------\n",
        "    >>> import numpy as np\n",
        "    >>> from sklearn.mixture import GaussianMixture\n",
        "    >>> X = np.array([[1, 2], [1, 4], [1, 0], [10, 2], [10, 4], [10, 0]])\n",
        "    >>> gm = GaussianMixture(n_components=2, random_state=0).fit(X)\n",
        "    >>> gm.means_\n",
        "    array([[10.,  2.],\n",
        "           [ 1.,  2.]])\n",
        "    >>> gm.predict([[0, 0], [12, 3]])\n",
        "    array([1, 0])\n",
        "    \"\"\"\n",
        "    def __init__(\n",
        "        self,\n",
        "        n_components=1,\n",
        "        *,\n",
        "        covariance_type=\"full\",\n",
        "        tol=1e-3,\n",
        "        reg_covar=1e-6,\n",
        "        max_iter=100,\n",
        "        n_init=1,\n",
        "        init_params=\"kmeans\",\n",
        "        weights_init=None,\n",
        "        means_init=None,\n",
        "        precisions_init=None,\n",
        "        random_state=None,\n",
        "        warm_start=False,\n",
        "        verbose=0,\n",
        "        verbose_interval=10,\n",
        "    ):\n",
        "        super().__init__(\n",
        "            n_components=n_components,\n",
        "            tol=tol,\n",
        "            reg_covar=reg_covar,\n",
        "            max_iter=max_iter,\n",
        "            n_init=n_init,\n",
        "            init_params=init_params,\n",
        "            random_state=random_state,\n",
        "            warm_start=warm_start,\n",
        "            verbose=verbose,\n",
        "            verbose_interval=verbose_interval,\n",
        "        )\n",
        "\n",
        "        self.covariance_type = covariance_type\n",
        "        self.weights_init = weights_init\n",
        "        self.means_init = means_init\n",
        "        self.precisions_init = precisions_init\n",
        "\n",
        "    def _check_parameters(self, X):\n",
        "        \"\"\"Check the Gaussian mixture parameters are well defined.\"\"\"\n",
        "        _, n_features = X.shape\n",
        "        if self.covariance_type not in [\"spherical\", \"tied\", \"diag\", \"full\"]:\n",
        "            raise ValueError(\"Invalid value for 'covariance_type': %s \"\n",
        "                             \"'covariance_type' should be in \"\n",
        "                             \"['spherical', 'tied', 'diag', 'full']\" %\n",
        "                             self.covariance_type)\n",
        "\n",
        "        if self.weights_init is not None:\n",
        "            self.weights_init = _check_weights(self.weights_init,\n",
        "                                               self.n_components)\n",
        "\n",
        "        if self.means_init is not None:\n",
        "            self.means_init = _check_means(self.means_init, self.n_components,\n",
        "                                           n_features)\n",
        "\n",
        "        if self.precisions_init is not None:\n",
        "            self.precisions_init = _check_precisions(\n",
        "                self.precisions_init,\n",
        "                self.covariance_type,\n",
        "                self.n_components,\n",
        "                n_features,\n",
        "            )\n",
        "\n",
        "    def _initialize(self, X, resp, B=None):\n",
        "        \"\"\"Initialization of the Gaussian mixture parameters.\n",
        "\n",
        "        Parameters\n",
        "        ----------\n",
        "        X : array-like of shape (n_samples, n_features)\n",
        "\n",
        "        resp : array-like of shape (n_samples, n_components)\n",
        "        \"\"\"\n",
        "        n_samples, _ = X.shape\n",
        "\n",
        "        weights, means, covariances = _estimate_gaussian_parameters(\n",
        "            X, resp, self.reg_covar, self.covariance_type, B=B)\n",
        "        weights /= n_samples\n",
        "\n",
        "        self.weights_ = weights if self.weights_init is None else self.weights_init\n",
        "        self.means_ = means if self.means_init is None else self.means_init\n",
        "\n",
        "        if self.precisions_init is None:\n",
        "            self.covariances_ = covariances\n",
        "            self.precisions_cholesky_ = _compute_precision_cholesky(\n",
        "                covariances, self.covariance_type)\n",
        "        elif self.covariance_type == \"full\":\n",
        "            self.precisions_cholesky_ = np.array([\n",
        "                linalg.cholesky(prec_init, lower=True)\n",
        "                for prec_init in self.precisions_init\n",
        "            ])\n",
        "        elif self.covariance_type == \"tied\":\n",
        "            self.precisions_cholesky_ = linalg.cholesky(self.precisions_init,\n",
        "                                                        lower=True)\n",
        "        else:\n",
        "            self.precisions_cholesky_ = self.precisions_init\n",
        "\n",
        "    def _m_step(self, X, log_resp, B=None):\n",
        "        \"\"\"M step.\n",
        "\n",
        "        Parameters\n",
        "        ----------\n",
        "        X : array-like of shape (n_samples, n_features)\n",
        "\n",
        "        log_resp : array-like of shape (n_samples, n_components)\n",
        "            Logarithm of the posterior probabilities (or responsibilities) of\n",
        "            the point of each sample in X.\n",
        "        \"\"\"\n",
        "        n_samples, _ = X.shape\n",
        "        self.weights_, self.means_, self.covariances_ = _estimate_gaussian_parameters(\n",
        "            X, np.exp(log_resp), self.reg_covar, self.covariance_type, B=B)\n",
        "        self.weights_ /= n_samples\n",
        "        self.precisions_cholesky_ = _compute_precision_cholesky(\n",
        "            self.covariances_, self.covariance_type)\n",
        "\n",
        "    def _estimate_log_prob(self, X):\n",
        "        return _estimate_log_gaussian_prob(X, self.means_,\n",
        "                                           self.precisions_cholesky_,\n",
        "                                           self.covariance_type)\n",
        "\n",
        "    def _estimate_log_weights(self):\n",
        "        return np.log(self.weights_)\n",
        "\n",
        "    def _compute_lower_bound(self, _, log_prob_norm):\n",
        "        return log_prob_norm\n",
        "\n",
        "    def _get_parameters(self):\n",
        "        return (\n",
        "            self.weights_,\n",
        "            self.means_,\n",
        "            self.covariances_,\n",
        "            self.precisions_cholesky_,\n",
        "        )\n",
        "\n",
        "    def _set_parameters(self, params):\n",
        "        (\n",
        "            self.weights_,\n",
        "            self.means_,\n",
        "            self.covariances_,\n",
        "            self.precisions_cholesky_,\n",
        "        ) = params\n",
        "\n",
        "        # Attributes computation\n",
        "        _, n_features = self.means_.shape\n",
        "\n",
        "        if self.covariance_type == \"full\":\n",
        "            self.precisions_ = np.empty(self.precisions_cholesky_.shape)\n",
        "            for k, prec_chol in enumerate(self.precisions_cholesky_):\n",
        "                self.precisions_[k] = np.dot(prec_chol, prec_chol.T)\n",
        "\n",
        "        elif self.covariance_type == \"tied\":\n",
        "            self.precisions_ = np.dot(self.precisions_cholesky_,\n",
        "                                      self.precisions_cholesky_.T)\n",
        "        else:\n",
        "            self.precisions_ = self.precisions_cholesky_**2\n",
        "\n",
        "    def _n_parameters(self):\n",
        "        \"\"\"Return the number of free parameters in the model.\"\"\"\n",
        "        _, n_features = self.means_.shape\n",
        "        if self.covariance_type == \"full\":\n",
        "            cov_params = self.n_components * n_features * (n_features +\n",
        "                                                           1) / 2.0\n",
        "        elif self.covariance_type == \"diag\":\n",
        "            cov_params = self.n_components * n_features\n",
        "        elif self.covariance_type == \"tied\":\n",
        "            cov_params = n_features * (n_features + 1) / 2.0\n",
        "        elif self.covariance_type == \"spherical\":\n",
        "            cov_params = self.n_components\n",
        "        mean_params = n_features * self.n_components\n",
        "        return int(cov_params + mean_params + self.n_components - 1)\n",
        "\n",
        "    def bic(self, X):\n",
        "        \"\"\"Bayesian information criterion for the current model on the input X.\n",
        "\n",
        "        Parameters\n",
        "        ----------\n",
        "        X : array of shape (n_samples, n_dimensions)\n",
        "            The input samples.\n",
        "\n",
        "        Returns\n",
        "        -------\n",
        "        bic : float\n",
        "            The lower the better.\n",
        "        \"\"\"\n",
        "        return -2 * self.score(X) * X.shape[0] + self._n_parameters() * np.log(\n",
        "            X.shape[0])\n",
        "\n",
        "    def aic(self, X):\n",
        "        \"\"\"Akaike information criterion for the current model on the input X.\n",
        "\n",
        "        Parameters\n",
        "        ----------\n",
        "        X : array of shape (n_samples, n_dimensions)\n",
        "            The input samples.\n",
        "\n",
        "        Returns\n",
        "        -------\n",
        "        aic : float\n",
        "            The lower the better.\n",
        "        \"\"\"\n",
        "        return -2 * self.score(X) * X.shape[0] + 2 * self._n_parameters()"
      ],
      "execution_count": 25,
      "outputs": []
    },
    {
      "cell_type": "code",
      "metadata": {
        "id": "ectxGFd6QCRo",
        "colab": {
          "base_uri": "https://localhost:8080/"
        },
        "outputId": "90b957fb-2f16-41b4-8ce6-4b8b3850d2d4"
      },
      "source": [
        "G = mmread(\"matrix_select.mtx\").toarray()\n",
        "\n",
        "labels = pd.read_csv(labels_fname, sep=\"\\t\", header=None, names=[\"cell\", \"celltype\"])\n",
        "z = labels[\"celltype\"].astype(\"category\").cat.codes.values\n",
        "\n",
        "\n",
        "count_mask          = G.sum(1)     > 0\n",
        "genes_detected_mask = (G>0).sum(1) > 0\n",
        "cells_detected_mask = (G>0).sum(0) > 0\n",
        "mask = np.logical_and(count_mask, genes_detected_mask)\n",
        "\n",
        "G = G[mask][:,cells_detected_mask]\n",
        "z = z[mask]\n",
        "\n",
        "n_clusters = np.unique(z).shape[0]\n",
        "n_samples, n_features = G.shape\n",
        "\n",
        "X = normalize(G, norm=\"l1\")*1e5\n",
        "\n",
        "print(n_clusters, n_samples, n_features, sep=\", \")"
      ],
      "execution_count": 26,
      "outputs": [
        {
          "output_type": "stream",
          "name": "stdout",
          "text": [
            "10, 5000, 153\n"
          ]
        }
      ]
    },
    {
      "cell_type": "code",
      "metadata": {
        "id": "QuvzJL2rty54"
      },
      "source": [
        "from sklearn.preprocessing import StandardScaler"
      ],
      "execution_count": 27,
      "outputs": []
    },
    {
      "cell_type": "code",
      "metadata": {
        "id": "mhRLqGmRQ3sK"
      },
      "source": [
        "X_mean = X.mean(0)\n",
        "X_norm = X - X_mean\n",
        "X_max = X_norm.max(0)\n",
        "# X_scale = StandardScaler(np.log1p(X))\n",
        "\n",
        "gt_means = np.zeros((n_clusters, n_features))\n",
        "gt_means_norm = np.zeros((n_clusters, n_features))\n",
        "for i, g in enumerate(np.unique(z)):\n",
        "  gt_means[i] = (X[np.where(z==g)[0]].mean(0))\n",
        "  gt_means_norm[i] = (X_norm[np.where(z==g)[0]].mean(0))"
      ],
      "execution_count": 28,
      "outputs": []
    },
    {
      "cell_type": "code",
      "metadata": {
        "colab": {
          "base_uri": "https://localhost:8080/",
          "height": 354
        },
        "id": "q5qoqNe3PbUZ",
        "outputId": "1915c0ad-69d2-4df7-cf8e-f41117e0b47f"
      },
      "source": [
        "fig, ax = plt.subplots(figsize=(5,5))\n",
        "\n",
        "x = np.sort(nd((X>0).sum(1)))[::-1]\n",
        "y = np.arange(X.shape[0])\n",
        "\n",
        "ax.scatter(x,y, color=\"k\", s=0.5)\n",
        "\n",
        "ax.set(**{\n",
        "    \"xlabel\": \"Marker genes detected\",\n",
        "    \"ylabel\": \"Number of cells\"\n",
        "})\n",
        "\n",
        "fig.show()"
      ],
      "execution_count": 29,
      "outputs": [
        {
          "output_type": "display_data",
          "data": {
            "image/png": "[encoded data removed]",
            "text/plain": [
              "<Figure size 360x360 with 1 Axes>"
            ]
          },
          "metadata": {
            "image/png": {
              "width": 375,
              "height": 337
            },
            "needs_background": "light"
          }
        }
      ]
    },
    {
      "cell_type": "code",
      "metadata": {
        "colab": {
          "base_uri": "https://localhost:8080/",
          "height": 361
        },
        "id": "kR-mcuuMYglJ",
        "outputId": "c38c9d78-d89a-4cf9-e07a-867904e1bac9"
      },
      "source": [
        "fig, ax = plt.subplots(figsize=(5,5))\n",
        "\n",
        "x = nd(G.sum(1))\n",
        "y = nd((X>0).sum(1))\n",
        "\n",
        "ax.scatter(x,y, color=\"k\", s=0.5)\n",
        "\n",
        "ax.set(**{\n",
        "    \"xlabel\": \"UMI count\",\n",
        "    \"ylabel\": \"Marker genes detected\",\n",
        "    \"ylim\": (110,150)\n",
        "})\n",
        "\n",
        "fig.show()"
      ],
      "execution_count": 30,
      "outputs": [
        {
          "output_type": "display_data",
          "data": {
            "image/png": "[encoded data removed]",
            "text/plain": [
              "<Figure size 360x360 with 1 Axes>"
            ]
          },
          "metadata": {
            "image/png": {
              "width": 362,
              "height": 344
            },
            "needs_background": "light"
          }
        }
      ]
    },
    {
      "cell_type": "code",
      "metadata": {
        "colab": {
          "base_uri": "https://localhost:8080/",
          "height": 354
        },
        "id": "dwzebvRxRuM2",
        "outputId": "b0d44485-82f1-442c-c4aa-8acce59122f3"
      },
      "source": [
        "fig, axs = plt.subplots(figsize=(10,5), ncols=2)\n",
        "\n",
        "ax = axs[0]\n",
        "ax.imshow(gt_means, aspect=\"auto\")\n",
        "ax.set(**{\n",
        "    \"xlabel\": \"genes\",\n",
        "    \"ylabel\": \"cell type\"\n",
        "})\n",
        "ax = axs[1]\n",
        "ax.imshow(gt_means_norm, aspect=\"auto\")\n",
        "ax.set(**{\n",
        "    \"xlabel\": \"genes\",\n",
        "    \"ylabel\": \"cell type\"\n",
        "})\n",
        "fig.show()"
      ],
      "execution_count": 31,
      "outputs": [
        {
          "output_type": "display_data",
          "data": {
            "image/png": "[encoded data removed]",
            "text/plain": [
              "<Figure size 720x360 with 2 Axes>"
            ]
          },
          "metadata": {
            "image/png": {
              "width": 631,
              "height": 337
            },
            "needs_background": "light"
          }
        }
      ]
    },
    {
      "cell_type": "code",
      "metadata": {
        "id": "Qg11TwEqMo0V"
      },
      "source": [
        "gmm_params = {\n",
        "            \"n_components\": n_clusters,\n",
        "            \"means_init\": None, # added\n",
        "            \"weights_init\": None, # added\n",
        "            \"precisions_init\": None, # added\n",
        "            \"random_state\": 0,\n",
        "            \"reg_covar\": 1e-8,\n",
        "            \"verbose\": 2,\n",
        "            \"n_init\": 1,\n",
        "            \"max_iter\": 100,\n",
        "            \"tol\": 1e-3,\n",
        "            \"init_params\": \"random\"\n",
        "  }\n",
        "\n",
        "# init_types = [\"kmeans\", \"manual\", \"random\"]\n",
        "# models = [\"standard\", \"mine\"]  "
      ],
      "execution_count": 32,
      "outputs": []
    },
    {
      "cell_type": "code",
      "metadata": {
        "id": "kvIlBgunDEQm"
      },
      "source": [
        "def prec_good(precision):\n",
        "  print(\"Sym, Pos: \", np.allclose(precision, precision.T), \", \", np.all(linalg.eigvalsh(precision) > 0.0))"
      ],
      "execution_count": 33,
      "outputs": []
    },
    {
      "cell_type": "markdown",
      "metadata": {
        "id": "Mem0j5xJM2B5"
      },
      "source": [
        "# Init: Standard KMeans, GMM: Standard"
      ]
    },
    {
      "cell_type": "code",
      "metadata": {
        "colab": {
          "base_uri": "https://localhost:8080/"
        },
        "id": "QRLQxOIwM3AH",
        "outputId": "f5b8299c-1336-4825-c598-5dbb11d6e41b"
      },
      "source": [
        "params = {**gmm_params, \"init_params\":\"kmeans\"}\n",
        "print(json.dumps(params, indent=4))\n",
        "\n",
        "gmm = StandardGaussianMixture(**params)\n",
        "\n",
        "labels = gmm.fit_predict(X)\n",
        "means = gmm.means_\n",
        "print(\"Rand score: \", rand_score(z, labels))"
      ],
      "execution_count": 34,
      "outputs": [
        {
          "output_type": "stream",
          "name": "stdout",
          "text": [
            "{\n",
            "    \"n_components\": 10,\n",
            "    \"means_init\": null,\n",
            "    \"weights_init\": null,\n",
            "    \"precisions_init\": null,\n",
            "    \"random_state\": 0,\n",
            "    \"reg_covar\": 1e-08,\n",
            "    \"verbose\": 2,\n",
            "    \"n_init\": 1,\n",
            "    \"max_iter\": 100,\n",
            "    \"tol\": 0.001,\n",
            "    \"init_params\": \"kmeans\"\n",
            "}\n",
            "Initialization 0\n",
            "  Iteration 10\t time lapse 5.70799s\t ll change 0.02766\n",
            "Initialization converged: True\t time lapse 10.44894s\t ll -807.83862\n",
            "Rand score:  0.9299890378075615\n"
          ]
        }
      ]
    },
    {
      "cell_type": "code",
      "metadata": {
        "id": "AJEU7UrIuh4H",
        "outputId": "03baa8ec-faa2-4aea-a275-e0e4e2c4aab7",
        "colab": {
          "base_uri": "https://localhost:8080/"
        }
      },
      "source": [
        "params = {**gmm_params, \"init_params\":\"kmeans\"}\n",
        "print(json.dumps(params, indent=4))\n",
        "\n",
        "gmm = StandardGaussianMixture(**params)\n",
        "\n",
        "labels = gmm.fit_predict(X_norm)\n",
        "means = gmm.means_\n",
        "print(\"Rand score: \", rand_score(z, labels))"
      ],
      "execution_count": 68,
      "outputs": [
        {
          "output_type": "stream",
          "name": "stdout",
          "text": [
            "{\n",
            "    \"n_components\": 10,\n",
            "    \"means_init\": null,\n",
            "    \"weights_init\": null,\n",
            "    \"precisions_init\": null,\n",
            "    \"random_state\": 0,\n",
            "    \"reg_covar\": 1e-08,\n",
            "    \"verbose\": 2,\n",
            "    \"n_init\": 1,\n",
            "    \"max_iter\": 100,\n",
            "    \"tol\": 0.001,\n",
            "    \"init_params\": \"kmeans\"\n",
            "}\n",
            "Initialization 0\n",
            "  Iteration 10\t time lapse 5.65013s\t ll change 0.02738\n",
            "Initialization converged: True\t time lapse 10.38200s\t ll -807.83858\n",
            "Rand score:  0.9299890378075615\n"
          ]
        }
      ]
    },
    {
      "cell_type": "code",
      "metadata": {
        "colab": {
          "base_uri": "https://localhost:8080/"
        },
        "id": "DOjNzakB-W1G",
        "outputId": "2fe33779-321f-4d4f-db8d-5bd7398c77d5"
      },
      "source": [
        "dist = cdist(gt_means_norm, means)#, metric=\"cityblock\")\n",
        "print(np.argmin(dist, axis=0))"
      ],
      "execution_count": 35,
      "outputs": [
        {
          "output_type": "stream",
          "name": "stdout",
          "text": [
            "[7 3 2 7 2 2 2 2 3 7]\n"
          ]
        }
      ]
    },
    {
      "cell_type": "code",
      "metadata": {
        "colab": {
          "base_uri": "https://localhost:8080/",
          "height": 372
        },
        "id": "qu-SAnOVele8",
        "outputId": "1badc11c-9196-4a74-a74e-c4518388d89b"
      },
      "source": [
        "fig, axs = plt.subplots(figsize=(10,5), ncols=2)\n",
        "\n",
        "ax = axs[0]\n",
        "\n",
        "ax.matshow(dist, cmap='Reds')\n",
        "ax.set(**{\n",
        "    \"xlabel\":\"computed means\",\n",
        "    \"ylabel\": \"true means\"\n",
        "    })\n",
        "\n",
        "ax = axs[1]\n",
        "ax.imshow(means, aspect=\"auto\")\n",
        "ax.set(**{\n",
        "    \"xlabel\": \"genes\",\n",
        "    \"ylabel\": \"cell type\"\n",
        "})\n",
        "fig.show()"
      ],
      "execution_count": 36,
      "outputs": [
        {
          "output_type": "display_data",
          "data": {
            "image/png": "[encoded data removed]",
            "text/plain": [
              "<Figure size 720x360 with 2 Axes>"
            ]
          },
          "metadata": {
            "image/png": {
              "width": 631,
              "height": 355
            },
            "needs_background": "light"
          }
        }
      ]
    },
    {
      "cell_type": "markdown",
      "metadata": {
        "id": "0Nz2XdvGsyyk"
      },
      "source": [
        "# Init: Standard KMeans, GMM: Improved"
      ]
    },
    {
      "cell_type": "code",
      "metadata": {
        "colab": {
          "base_uri": "https://localhost:8080/"
        },
        "id": "k2qscT9GQQsq",
        "outputId": "47e42a27-2188-4ffe-a068-551e312882e8"
      },
      "source": [
        "params = {**gmm_params, \"init_params\": \"kmeans\"}\n",
        "print(json.dumps(params, indent=4))\n",
        "\n",
        "gmm = ImprovedGaussianMixture(**params)\n",
        "\n",
        "labels = gmm.fit_predict(X, B=markers_ec)\n",
        "means = gmm.means_\n",
        "\n",
        "print(\"Rand score: \", rand_score(z, labels))"
      ],
      "execution_count": 37,
      "outputs": [
        {
          "output_type": "stream",
          "name": "stdout",
          "text": [
            "{\n",
            "    \"n_components\": 10,\n",
            "    \"means_init\": null,\n",
            "    \"weights_init\": null,\n",
            "    \"precisions_init\": null,\n",
            "    \"random_state\": 0,\n",
            "    \"reg_covar\": 1e-08,\n",
            "    \"verbose\": 2,\n",
            "    \"n_init\": 1,\n",
            "    \"max_iter\": 100,\n",
            "    \"tol\": 0.001,\n",
            "    \"init_params\": \"kmeans\"\n",
            "}\n",
            "Initialization 0\n",
            "  Iteration 10\t time lapse 5.73448s\t ll change 0.03312\n",
            "Initialization converged: True\t time lapse 10.43959s\t ll -826.39428\n",
            "Rand score:  0.9299938387677535\n"
          ]
        }
      ]
    },
    {
      "cell_type": "code",
      "metadata": {
        "colab": {
          "base_uri": "https://localhost:8080/"
        },
        "id": "a1XMPfzJ-Urw",
        "outputId": "36a314bd-4563-474d-e428-72f107b313fc"
      },
      "source": [
        "dist = cdist(gt_means_norm, means)#, metric=\"cityblock\")\n",
        "print(np.argmin(dist, axis=0))"
      ],
      "execution_count": 38,
      "outputs": [
        {
          "output_type": "stream",
          "name": "stdout",
          "text": [
            "[6 2 3 4 6 6 7 6 6 6]\n"
          ]
        }
      ]
    },
    {
      "cell_type": "code",
      "metadata": {
        "colab": {
          "base_uri": "https://localhost:8080/",
          "height": 372
        },
        "id": "fwMYvpiMSm34",
        "outputId": "a07ee736-ff3e-41dc-c9a1-2457b6dc6e01"
      },
      "source": [
        "fig, axs = plt.subplots(figsize=(10,5), ncols=2)\n",
        "\n",
        "ax = axs[0]\n",
        "\n",
        "ax.matshow(dist, cmap='Reds')\n",
        "ax.set(**{\n",
        "    \"xlabel\":\"computed means\",\n",
        "    \"ylabel\": \"true means\"\n",
        "    })\n",
        "\n",
        "ax = axs[1]\n",
        "ax.imshow(means, aspect=\"auto\")\n",
        "ax.set(**{\n",
        "    \"xlabel\": \"genes\",\n",
        "    \"ylabel\": \"cell type\"\n",
        "})\n",
        "fig.show()"
      ],
      "execution_count": 39,
      "outputs": [
        {
          "output_type": "display_data",
          "data": {
            "image/png": "[encoded data removed]",
            "text/plain": [
              "<Figure size 720x360 with 2 Axes>"
            ]
          },
          "metadata": {
            "image/png": {
              "width": 631,
              "height": 355
            },
            "needs_background": "light"
          }
        }
      ]
    },
    {
      "cell_type": "markdown",
      "metadata": {
        "id": "cLUq6IEIsEXv"
      },
      "source": [
        "# Init: Manual KMeans, GMM: Standard"
      ]
    },
    {
      "cell_type": "code",
      "metadata": {
        "id": "gUyQbTX6Ks0H"
      },
      "source": [
        "def make_precisions(covariances):\n",
        "  n_components, n_features, _ = covariances.shape\n",
        "  precisions = np.empty((n_components, n_features, n_features))\n",
        "  for k, covariance in enumerate(covariances):\n",
        "      # cov_chol = linalg.cholesky(covariance, lower=True)\n",
        "      # precisions[k] = linalg.solve(cov_chol,\n",
        "      #                              np.eye(n_features),\n",
        "      #                              lower=True).T\n",
        "      precisions[k] = linalg.inv(covariance)\n",
        "  return precisions"
      ],
      "execution_count": 40,
      "outputs": []
    },
    {
      "cell_type": "code",
      "metadata": {
        "colab": {
          "base_uri": "https://localhost:8080/"
        },
        "id": "BU92xNIEM4hw",
        "outputId": "00d1961a-a5a5-47d3-9a6f-3037e0474dce"
      },
      "source": [
        "# https://stackoverflow.com/a/63801808/13731947\n",
        "\n",
        "n_samples, n_features = X.shape\n",
        "\n",
        "## own kmeans initialization\n",
        "\n",
        "km = KMeans(n_clusters=n_clusters, n_init=1, random_state=0)\n",
        "km.fit(X)\n",
        "km_labels = km.labels_\n",
        "centroids = km.cluster_centers_\n",
        "\n",
        "# calculate the weights\n",
        "resp = np.zeros((n_samples, n_clusters))\n",
        "resp[np.arange(n_samples), km_labels] = 1\n",
        "\n",
        "# run gmm initialization of paramaters with given responsibilities and centroids\n",
        "\n",
        "weights_init, means_init, covariances = est_gaus_params(\n",
        "    X, resp, reg_covar=gmm_params[\"reg_covar\"], covariance_type=\"full\")\n",
        "weights_init /= n_samples\n",
        "\n",
        "# set the precision\n",
        "# the _compute_precision_cholesky uses a lower trangular solver that makes the matrices not symmetric\n",
        "precisions_init = make_precisions(covariances)\n",
        "\n",
        "print([np.allclose(i, i.T) for i in precisions_init])\n",
        "print([np.all(linalg.eigvalsh(i) > 0.0) for i in precisions_init])"
      ],
      "execution_count": 41,
      "outputs": [
        {
          "output_type": "stream",
          "name": "stdout",
          "text": [
            "[True, True, True, True, True, True, True, True, True, True]\n",
            "[True, True, True, True, True, True, True, True, True, True]\n"
          ]
        }
      ]
    },
    {
      "cell_type": "code",
      "metadata": {
        "colab": {
          "base_uri": "https://localhost:8080/"
        },
        "id": "FA5fszzGsDnZ",
        "outputId": "32473083-add6-4c18-a999-49f03fa13bfc"
      },
      "source": [
        "params = {**gmm_params, \n",
        "          \"means_init\": means_init,\n",
        "          \"weights_init\": weights_init, \n",
        "          \"precisions_init\": precisions_init\n",
        "          }\n",
        "print(json.dumps(params, indent=4, default=str))\n",
        "\n",
        "gmm = StandardGaussianMixture(**params)\n",
        "\n",
        "labels = gmm.fit_predict(X)\n",
        "means = gmm.means_\n",
        "print(\"Rand score: \", rand_score(z, labels))"
      ],
      "execution_count": 42,
      "outputs": [
        {
          "output_type": "stream",
          "name": "stdout",
          "text": [
            "{\n",
            "    \"n_components\": 10,\n",
            "    \"means_init\": \"[[297.60464174 188.92268109 310.83471646 ... 199.23614238  99.50896783\\n  137.78330033]\\n [287.08242963 186.40781007 306.47682947 ... 201.52386087 104.13833135\\n  131.54760629]\\n [497.64847802 242.15208157 374.65232255 ... 342.0727616  202.74359738\\n  334.07667651]\\n ...\\n [339.69763422 206.19577178 371.76130699 ... 234.80016093 112.47850492\\n  152.43481098]\\n [382.1125234  242.0287198  384.30159605 ... 262.13603917 130.63701896\\n  177.8753184 ]\\n [281.07483818 179.29349978 297.27532752 ... 193.57602366  99.56221326\\n  126.80801332]]\",\n",
            "    \"weights_init\": \"[0.0468 0.1054 0.1848 0.0976 0.0534 0.191  0.1096 0.0464 0.118  0.047 ]\",\n",
            "    \"precisions_init\": \"[[[658305.10624825 658305.10559122 658305.10560892 ... 658305.1056973\\n   658305.10546731 658305.10557817]\\n  [658305.10559136 658305.10629797 658305.10554218 ... 658305.10562865\\n   658305.10562364 658305.10575642]\\n  [658305.10560896 658305.10554209 658305.10588206 ... 658305.10567627\\n   658305.10554649 658305.10568559]\\n  ...\\n  [658305.10569734 658305.10562855 658305.10567627 ... 658305.10605348\\n   658305.10559359 658305.10566037]\\n  [658305.10546752 658305.10562371 658305.10554666 ... 658305.10559376\\n   658305.10659624 658305.10564912]\\n  [658305.10557815 658305.10575626 658305.10568553 ... 658305.10566031\\n   658305.10564888 658305.10651251]]\\n\\n [[653863.06430238 653863.06407336 653863.06407006 ... 653863.06406909\\n   653863.06404785 653863.06408473]\\n  [653863.06407321 653863.06442538 653863.06403769 ... 653863.06404709\\n   653863.06404065 653863.06405882]\\n  [653863.06407002 653863.0640378  653863.06424437 ... 653863.0640474\\n   653863.06404867 653863.06404357]\\n  ...\\n  [653863.06406907 653863.06404722 653863.06404743 ... 653863.06426225\\n   653863.06406291 653863.0640233 ]\\n  [653863.06404784 653863.06404079 653863.0640487  ... 653863.06406292\\n   653863.06449527 653863.06403588]\\n  [653863.0640847  653863.06405894 653863.06404359 ... 653863.0640233\\n   653863.06403586 653863.06447734]]\\n\\n [[654320.17567091 654320.17560677 654320.17559518 ... 654320.17560347\\n   654320.17560153 654320.17560053]\\n  [654320.17560676 654320.17577907 654320.17559965 ... 654320.17560564\\n   654320.17561659 654320.17560851]\\n  [654320.1755952  654320.17559967 654320.17569733 ... 654320.17560599\\n   654320.17560161 654320.17560294]\\n  ...\\n  [654320.17560348 654320.17560566 654320.17560598 ... 654320.17568905\\n   654320.17560223 654320.17560066]\\n  [654320.17560154 654320.17561661 654320.17560161 ... 654320.17560224\\n   654320.17575335 654320.1756028 ]\\n  [654320.17560055 654320.17560854 654320.17560294 ... 654320.17560066\\n   654320.1756028  654320.17568326]]\\n\\n ...\\n\\n [[653369.55274898 653369.55231318 653369.55234414 ... 653369.55229241\\n   653369.55225908 653369.5523799 ]\\n  [653369.55231314 653369.5527771  653369.55222472 ... 653369.55225448\\n   653369.5522781  653369.55229782]\\n  [653369.55234414 653369.55222476 653369.5524839  ... 653369.55226883\\n   653369.55221    653369.55224021]\\n  ...\\n  [653369.55229241 653369.55225452 653369.55226883 ... 653369.55259104\\n   653369.55225896 653369.55221151]\\n  [653369.55225909 653369.55227815 653369.55221001 ... 653369.55225897\\n   653369.55297147 653369.55228173]\\n  [653369.55237994 653369.5522979  653369.55224025 ... 653369.55221155\\n   653369.55228176 653369.55290804]]\\n\\n [[654180.89606635 654180.89595265 654180.89595643 ... 654180.89596211\\n   654180.89594785 654180.89596923]\\n  [654180.89595266 654180.89614172 654180.89596372 ... 654180.89597081\\n   654180.89595403 654180.89597317]\\n  [654180.89595644 654180.89596373 654180.89608226 ... 654180.89595311\\n   654180.89593145 654180.89594188]\\n  ...\\n  [654180.89596213 654180.89597081 654180.89595311 ... 654180.89609322\\n   654180.89595178 654180.89597334]\\n  [654180.89594788 654180.89595405 654180.89593146 ... 654180.8959518\\n   654180.89621742 654180.89593804]\\n  [654180.89596925 654180.89597317 654180.89594187 ... 654180.89597335\\n   654180.89593802 654180.8962111 ]]\\n\\n [[653807.9586447  653807.95790115 653807.95798015 ... 653807.95803734\\n   653807.95807217 653807.95803706]\\n  [653807.95790121 653807.95879549 653807.95790226 ... 653807.95775979\\n   653807.95791979 653807.95804876]\\n  [653807.95798025 653807.95790231 653807.95825455 ... 653807.95793343\\n   653807.95800331 653807.95796768]\\n  ...\\n  [653807.95803744 653807.95775983 653807.95793343 ... 653807.95854547\\n   653807.95812643 653807.9578322 ]\\n  [653807.9580722  653807.95791976 653807.95800323 ... 653807.95812636\\n   653807.95910911 653807.95789396]\\n  [653807.95803713 653807.95804877 653807.95796765 ... 653807.95783217\\n   653807.957894   653807.95892864]]]\",\n",
            "    \"random_state\": 0,\n",
            "    \"reg_covar\": 1e-08,\n",
            "    \"verbose\": 2,\n",
            "    \"n_init\": 1,\n",
            "    \"max_iter\": 100,\n",
            "    \"tol\": 0.001,\n",
            "    \"init_params\": \"random\"\n",
            "}\n",
            "Initialization 0\n",
            "  Iteration 10\t time lapse 5.53131s\t ll change 0.02782\n",
            "Initialization converged: True\t time lapse 10.31598s\t ll -807.83861\n",
            "Rand score:  0.9299890378075615\n"
          ]
        }
      ]
    },
    {
      "cell_type": "code",
      "metadata": {
        "colab": {
          "base_uri": "https://localhost:8080/"
        },
        "id": "rIl5EJIK-SCY",
        "outputId": "5868244b-495f-4162-c3d0-36d9cbc5cea9"
      },
      "source": [
        "dist = cdist(gt_means_norm, means)#, metric=\"cityblock\")\n",
        "print(np.argmin(dist, axis=0))"
      ],
      "execution_count": 43,
      "outputs": [
        {
          "output_type": "stream",
          "name": "stdout",
          "text": [
            "[7 3 2 7 2 2 2 2 3 7]\n"
          ]
        }
      ]
    },
    {
      "cell_type": "code",
      "metadata": {
        "colab": {
          "base_uri": "https://localhost:8080/",
          "height": 372
        },
        "id": "_H0lEcK1uNl5",
        "outputId": "4431aeb3-fc61-4c44-8f4e-0980edecf98b"
      },
      "source": [
        "fig, axs = plt.subplots(figsize=(10,5), ncols=2)\n",
        "\n",
        "ax = axs[0]\n",
        "\n",
        "ax.matshow(dist, cmap='Reds')\n",
        "ax.set(**{\n",
        "    \"xlabel\":\"computed means\",\n",
        "    \"ylabel\": \"true means\"\n",
        "    })\n",
        "\n",
        "ax = axs[1]\n",
        "ax.imshow(means, aspect=\"auto\")\n",
        "ax.set(**{\n",
        "    \"xlabel\": \"genes\",\n",
        "    \"ylabel\": \"cell type\"\n",
        "})\n",
        "fig.show()"
      ],
      "execution_count": 44,
      "outputs": [
        {
          "output_type": "display_data",
          "data": {
            "image/png": "[encoded data removed]",
            "text/plain": [
              "<Figure size 720x360 with 2 Axes>"
            ]
          },
          "metadata": {
            "image/png": {
              "width": 631,
              "height": 355
            },
            "needs_background": "light"
          }
        }
      ]
    },
    {
      "cell_type": "markdown",
      "metadata": {
        "id": "8Gnyodxl-4TW"
      },
      "source": [
        "# Init: Manual KMeans, GMM: Improved"
      ]
    },
    {
      "cell_type": "code",
      "metadata": {
        "colab": {
          "base_uri": "https://localhost:8080/"
        },
        "id": "1_Vnstp5thMQ",
        "outputId": "eb3cf2f8-aff0-4ee5-d6a0-a3d7533ede6c"
      },
      "source": [
        "params = {**gmm_params, \n",
        "          \"means_init\": means_init,\n",
        "          \"weights_init\": weights_init, \n",
        "          \"precisions_init\": precisions_init\n",
        "          }\n",
        "print(json.dumps(params, indent=4, default=str))\n",
        "\n",
        "gmm = ImprovedGaussianMixture(**params)\n",
        "\n",
        "labels = gmm.fit_predict(X, B=markers_ec)\n",
        "means = gmm.means_\n",
        "print(\"Rand score: \", rand_score(z, labels))"
      ],
      "execution_count": 45,
      "outputs": [
        {
          "output_type": "stream",
          "name": "stdout",
          "text": [
            "{\n",
            "    \"n_components\": 10,\n",
            "    \"means_init\": \"[[297.60464174 188.92268109 310.83471646 ... 199.23614238  99.50896783\\n  137.78330033]\\n [287.08242963 186.40781007 306.47682947 ... 201.52386087 104.13833135\\n  131.54760629]\\n [497.64847802 242.15208157 374.65232255 ... 342.0727616  202.74359738\\n  334.07667651]\\n ...\\n [339.69763422 206.19577178 371.76130699 ... 234.80016093 112.47850492\\n  152.43481098]\\n [382.1125234  242.0287198  384.30159605 ... 262.13603917 130.63701896\\n  177.8753184 ]\\n [281.07483818 179.29349978 297.27532752 ... 193.57602366  99.56221326\\n  126.80801332]]\",\n",
            "    \"weights_init\": \"[0.0468 0.1054 0.1848 0.0976 0.0534 0.191  0.1096 0.0464 0.118  0.047 ]\",\n",
            "    \"precisions_init\": \"[[[658305.10624825 658305.10559122 658305.10560892 ... 658305.1056973\\n   658305.10546731 658305.10557817]\\n  [658305.10559136 658305.10629797 658305.10554218 ... 658305.10562865\\n   658305.10562364 658305.10575642]\\n  [658305.10560896 658305.10554209 658305.10588206 ... 658305.10567627\\n   658305.10554649 658305.10568559]\\n  ...\\n  [658305.10569734 658305.10562855 658305.10567627 ... 658305.10605348\\n   658305.10559359 658305.10566037]\\n  [658305.10546752 658305.10562371 658305.10554666 ... 658305.10559376\\n   658305.10659624 658305.10564912]\\n  [658305.10557815 658305.10575626 658305.10568553 ... 658305.10566031\\n   658305.10564888 658305.10651251]]\\n\\n [[653863.06430238 653863.06407336 653863.06407006 ... 653863.06406909\\n   653863.06404785 653863.06408473]\\n  [653863.06407321 653863.06442538 653863.06403769 ... 653863.06404709\\n   653863.06404065 653863.06405882]\\n  [653863.06407002 653863.0640378  653863.06424437 ... 653863.0640474\\n   653863.06404867 653863.06404357]\\n  ...\\n  [653863.06406907 653863.06404722 653863.06404743 ... 653863.06426225\\n   653863.06406291 653863.0640233 ]\\n  [653863.06404784 653863.06404079 653863.0640487  ... 653863.06406292\\n   653863.06449527 653863.06403588]\\n  [653863.0640847  653863.06405894 653863.06404359 ... 653863.0640233\\n   653863.06403586 653863.06447734]]\\n\\n [[654320.17567091 654320.17560677 654320.17559518 ... 654320.17560347\\n   654320.17560153 654320.17560053]\\n  [654320.17560676 654320.17577907 654320.17559965 ... 654320.17560564\\n   654320.17561659 654320.17560851]\\n  [654320.1755952  654320.17559967 654320.17569733 ... 654320.17560599\\n   654320.17560161 654320.17560294]\\n  ...\\n  [654320.17560348 654320.17560566 654320.17560598 ... 654320.17568905\\n   654320.17560223 654320.17560066]\\n  [654320.17560154 654320.17561661 654320.17560161 ... 654320.17560224\\n   654320.17575335 654320.1756028 ]\\n  [654320.17560055 654320.17560854 654320.17560294 ... 654320.17560066\\n   654320.1756028  654320.17568326]]\\n\\n ...\\n\\n [[653369.55274898 653369.55231318 653369.55234414 ... 653369.55229241\\n   653369.55225908 653369.5523799 ]\\n  [653369.55231314 653369.5527771  653369.55222472 ... 653369.55225448\\n   653369.5522781  653369.55229782]\\n  [653369.55234414 653369.55222476 653369.5524839  ... 653369.55226883\\n   653369.55221    653369.55224021]\\n  ...\\n  [653369.55229241 653369.55225452 653369.55226883 ... 653369.55259104\\n   653369.55225896 653369.55221151]\\n  [653369.55225909 653369.55227815 653369.55221001 ... 653369.55225897\\n   653369.55297147 653369.55228173]\\n  [653369.55237994 653369.5522979  653369.55224025 ... 653369.55221155\\n   653369.55228176 653369.55290804]]\\n\\n [[654180.89606635 654180.89595265 654180.89595643 ... 654180.89596211\\n   654180.89594785 654180.89596923]\\n  [654180.89595266 654180.89614172 654180.89596372 ... 654180.89597081\\n   654180.89595403 654180.89597317]\\n  [654180.89595644 654180.89596373 654180.89608226 ... 654180.89595311\\n   654180.89593145 654180.89594188]\\n  ...\\n  [654180.89596213 654180.89597081 654180.89595311 ... 654180.89609322\\n   654180.89595178 654180.89597334]\\n  [654180.89594788 654180.89595405 654180.89593146 ... 654180.8959518\\n   654180.89621742 654180.89593804]\\n  [654180.89596925 654180.89597317 654180.89594187 ... 654180.89597335\\n   654180.89593802 654180.8962111 ]]\\n\\n [[653807.9586447  653807.95790115 653807.95798015 ... 653807.95803734\\n   653807.95807217 653807.95803706]\\n  [653807.95790121 653807.95879549 653807.95790226 ... 653807.95775979\\n   653807.95791979 653807.95804876]\\n  [653807.95798025 653807.95790231 653807.95825455 ... 653807.95793343\\n   653807.95800331 653807.95796768]\\n  ...\\n  [653807.95803744 653807.95775983 653807.95793343 ... 653807.95854547\\n   653807.95812643 653807.9578322 ]\\n  [653807.9580722  653807.95791976 653807.95800323 ... 653807.95812636\\n   653807.95910911 653807.95789396]\\n  [653807.95803713 653807.95804877 653807.95796765 ... 653807.95783217\\n   653807.957894   653807.95892864]]]\",\n",
            "    \"random_state\": 0,\n",
            "    \"reg_covar\": 1e-08,\n",
            "    \"verbose\": 2,\n",
            "    \"n_init\": 1,\n",
            "    \"max_iter\": 100,\n",
            "    \"tol\": 0.001,\n",
            "    \"init_params\": \"random\"\n",
            "}\n",
            "Initialization 0\n",
            "  Iteration 10\t time lapse 5.51105s\t ll change 0.03061\n",
            "Initialization converged: True\t time lapse 10.21239s\t ll -826.39689\n",
            "Rand score:  0.9300047209441888\n"
          ]
        }
      ]
    },
    {
      "cell_type": "code",
      "metadata": {
        "colab": {
          "base_uri": "https://localhost:8080/"
        },
        "id": "38DpK0ZT-PRV",
        "outputId": "d2d20d80-557f-4128-f93c-3a184bc859be"
      },
      "source": [
        "dist = cdist(gt_means_norm, means)#, metric=\"cityblock\")\n",
        "print(np.argmin(dist, axis=0))"
      ],
      "execution_count": 46,
      "outputs": [
        {
          "output_type": "stream",
          "name": "stdout",
          "text": [
            "[6 2 3 4 6 6 7 6 6 6]\n"
          ]
        }
      ]
    },
    {
      "cell_type": "code",
      "metadata": {
        "colab": {
          "base_uri": "https://localhost:8080/",
          "height": 372
        },
        "id": "wBVk1QACuLz1",
        "outputId": "b18c8aa9-ef43-4fc5-a3ad-9646cb93d9bf"
      },
      "source": [
        "fig, axs = plt.subplots(figsize=(10,5), ncols=2)\n",
        "\n",
        "ax = axs[0]\n",
        "\n",
        "ax.matshow(dist, cmap='Reds')\n",
        "ax.set(**{\n",
        "    \"xlabel\":\"computed means\",\n",
        "    \"ylabel\": \"true means\"\n",
        "    })\n",
        "\n",
        "ax = axs[1]\n",
        "ax.imshow(normalize(means, 'l1'), aspect=\"auto\", cmap=\"Reds\")\n",
        "ax.set(**{\n",
        "    \"xlabel\": \"genes\",\n",
        "    \"ylabel\": \"cell type\"\n",
        "})\n",
        "fig.show()"
      ],
      "execution_count": 47,
      "outputs": [
        {
          "output_type": "display_data",
          "data": {
            "image/png": "[encoded data removed]",
            "text/plain": [
              "<Figure size 720x360 with 2 Axes>"
            ]
          },
          "metadata": {
            "image/png": {
              "width": 631,
              "height": 355
            },
            "needs_background": "light"
          }
        }
      ]
    },
    {
      "cell_type": "markdown",
      "metadata": {
        "id": "Vz6XBPaQsON6"
      },
      "source": [
        "# Init: Manual Self GMM: Standard"
      ]
    },
    {
      "cell_type": "code",
      "metadata": {
        "colab": {
          "base_uri": "https://localhost:8080/"
        },
        "id": "vGdvznJX_yPq",
        "outputId": "c45b9155-7aa6-4907-c781-455f01656aa6"
      },
      "source": [
        "centroids = np.ones((n_clusters, n_features))*1e-5\n",
        "\n",
        "for i in list(markers_ec.keys()):\n",
        "  for j in markers_ec[i]:\n",
        "    centroids[i][j] = X_max[j]\n",
        " \n",
        "tree = KDTree(centroids)\n",
        "nearest_dist, nearest_ind = tree.query(X_norm, k=1)\n",
        "\n",
        "# assign cells to clusters\n",
        "p = 0.95\n",
        "resp = np.ones((n_samples, n_clusters))*(1-p)/(n_clusters-1)\n",
        "resp[np.arange(n_samples), nd(nearest_ind)] = p\n",
        "\n",
        "# M step from GMM code\n",
        "weights_init, means_init, covariances = est_gaus_params(\n",
        "    X_norm, resp, reg_covar=gmm_params[\"reg_covar\"], covariance_type=\"full\")\n",
        "weights_init /= n_samples\n",
        "\n",
        "# set the precision\n",
        "precisions_init = make_precisions(covariances)\n",
        "print([np.allclose(i, i.T) for i in precisions_init])\n",
        "print([np.all(linalg.eigvalsh(i) > 0.0) for i in precisions_init])\n",
        "\n",
        "# actually used params\n",
        "nk = resp.sum(axis=0) + 10 * np.finfo(resp.dtype).eps\n",
        "means_init = np.dot(resp.T, X_norm) / nk[:, np.newaxis]\n",
        "uniform_weights = np.array([1./n_clusters]*n_clusters)\n",
        "identity_precisions = np.repeat(np.array([np.eye(X.shape[1])]), n_clusters, 0)"
      ],
      "execution_count": 48,
      "outputs": [
        {
          "output_type": "stream",
          "name": "stdout",
          "text": [
            "[True, True, True, True, True, True, True, True, True, True]\n",
            "[True, True, True, True, True, True, True, True, True, True]\n"
          ]
        }
      ]
    },
    {
      "cell_type": "code",
      "metadata": {
        "colab": {
          "base_uri": "https://localhost:8080/"
        },
        "id": "FwqHkk0YLR55",
        "outputId": "0e10f380-d65d-45a5-ef9d-4ea1de5495b1"
      },
      "source": [
        "params = {**gmm_params, \n",
        "          \"means_init\": means_init,\n",
        "          \"weights_init\": weights_init, \n",
        "          \"precisions_init\": precisions_init\n",
        "          }\n",
        "print(json.dumps(params, indent=4, default=str))\n",
        "\n",
        "gmm = StandardGaussianMixture(**params)\n",
        "\n",
        "labels = gmm.fit_predict(X_norm)\n",
        "means = gmm.means_\n",
        "print(\"Rand score: \", rand_score(z, labels))"
      ],
      "execution_count": 49,
      "outputs": [
        {
          "output_type": "stream",
          "name": "stdout",
          "text": [
            "{\n",
            "    \"n_components\": 10,\n",
            "    \"means_init\": \"[[ 238.72510121  190.48060822  244.45532808 ...   11.0036206\\n    -8.29141679  -17.00780322]\\n [ -72.33905323  -36.28344979   -9.82599986 ...  -30.27732606\\n   -27.8005842   -42.70022228]\\n [-103.7006304   -62.63216218  -74.38796069 ...  -48.45137566\\n   -33.281143    -56.4607159 ]\\n ...\\n [ -24.90122262    2.59877489   25.36614654 ...    6.56094708\\n    -1.3247786   -21.47865117]\\n [ -29.40109476   -9.27878332   17.29316195 ...   11.0301959\\n    -5.98094823  -17.58646126]\\n [ 194.60068922  -12.32323617    2.82494799 ...  164.94931902\\n   125.20291816  280.92910932]]\",\n",
            "    \"weights_init\": \"[0.06864444 0.03785556 0.03728889 0.05183333 0.083      0.42205556\\n 0.02803333 0.09773333 0.10604444 0.06751111]\",\n",
            "    \"precisions_init\": \"[[[654523.87607084 654523.87598712 654523.87596683 ... 654523.87598212\\n   654523.87597598 654523.87598663]\\n  [654523.87598708 654523.87607853 654523.87595811 ... 654523.87598916\\n   654523.87597793 654523.87598704]\\n  [654523.87596681 654523.87595813 654523.87603007 ... 654523.87597486\\n   654523.87596784 654523.87597141]\\n  ...\\n  [654523.8759821  654523.87598918 654523.87597486 ... 654523.87613051\\n   654523.8759962  654523.87598262]\\n  [654523.87597597 654523.87597796 654523.87596785 ... 654523.87599621\\n   654523.87635873 654523.87598644]\\n  [654523.87598661 654523.87598706 654523.87597142 ... 654523.87598263\\n   654523.87598643 654523.87620145]]\\n\\n [[652376.48553678 652376.48530482 652376.48531692 ... 652376.48531776\\n   652376.48527902 652376.48530746]\\n  [652376.48530489 652376.48560602 652376.48530359 ... 652376.48528702\\n   652376.48532114 652376.48532257]\\n  [652376.48531691 652376.4853035  652376.48551307 ... 652376.48531934\\n   652376.48528192 652376.48529648]\\n  ...\\n  [652376.48531773 652376.48528692 652376.48531932 ... 652376.48555707\\n   652376.48530778 652376.48531389]\\n  [652376.48527904 652376.48532108 652376.48528195 ... 652376.48530783\\n   652376.48591578 652376.48526584]\\n  [652376.48530748 652376.48532253 652376.48529651 ... 652376.48531394\\n   652376.48526585 652376.4857067 ]]\\n\\n [[653510.53167566 653510.53140878 653510.53143254 ... 653510.53145617\\n   653510.53142425 653510.53141093]\\n  [653510.5314089  653510.53181574 653510.53140653 ... 653510.53145966\\n   653510.53144818 653510.53141249]\\n  [653510.53143254 653510.53140641 653510.53164335 ... 653510.53144255\\n   653510.53146318 653510.53142893]\\n  ...\\n  [653510.53145623 653510.5314596  653510.53144261 ... 653510.5316975\\n   653510.53146072 653510.53142763]\\n  [653510.53142436 653510.53144817 653510.53146329 ... 653510.53146076\\n   653510.53198755 653510.53139487]\\n  [653510.53141095 653510.53141239 653510.53142895 ... 653510.53142759\\n   653510.53139478 653510.53184808]]\\n\\n ...\\n\\n [[653354.31955924 653354.31944494 653354.31941278 ... 653354.31940989\\n   653354.31942838 653354.31943702]\\n  [653354.31944492 653354.31960183 653354.31941793 ... 653354.31938549\\n   653354.31942062 653354.31944592]\\n  [653354.31941276 653354.31941793 653354.31951826 ... 653354.31939212\\n   653354.31941412 653354.31942034]\\n  ...\\n  [653354.31940984 653354.31938547 653354.31939209 ... 653354.31953001\\n   653354.31939967 653354.31939699]\\n  [653354.31942833 653354.3194206  653354.3194141  ... 653354.31939967\\n   653354.31967362 653354.31941593]\\n  [653354.31943698 653354.3194459  653354.31942032 ... 653354.319397\\n   653354.31941593 653354.31962575]]\\n\\n [[653619.72638757 653619.7262788  653619.72628048 ... 653619.72628359\\n   653619.72627393 653619.72628189]\\n  [653619.72627874 653619.72646973 653619.72628779 ... 653619.72629271\\n   653619.72628474 653619.7263048 ]\\n  [653619.72628044 653619.7262878  653619.72639901 ... 653619.72627947\\n   653619.72626634 653619.72627503]\\n  ...\\n  [653619.72628354 653619.72629272 653619.72627947 ... 653619.7264126\\n   653619.72628373 653619.72629698]\\n  [653619.72627388 653619.72628475 653619.72626634 ... 653619.72628373\\n   653619.72654821 653619.72626724]\\n  [653619.72628181 653619.72630478 653619.726275   ... 653619.72629696\\n   653619.72626722 653619.72651156]]\\n\\n [[654201.99431234 654201.99426874 654201.99424765 ... 654201.9942616\\n   654201.99424724 654201.99425567]\\n  [654201.99426873 654201.99455391 654201.99423739 ... 654201.99428524\\n   654201.99428149 654201.99428027]\\n  [654201.99424767 654201.99423743 654201.99437865 ... 654201.99426499\\n   654201.99423631 654201.994247  ]\\n  ...\\n  [654201.99426158 654201.99428523 654201.99426495 ... 654201.99436522\\n   654201.99425999 654201.99427115]\\n  [654201.99424723 654201.9942815  654201.99423628 ... 654201.99426\\n   654201.99440964 654201.99424916]\\n  [654201.99425565 654201.99428026 654201.99424696 ... 654201.99427115\\n   654201.99424915 654201.99434077]]]\",\n",
            "    \"random_state\": 0,\n",
            "    \"reg_covar\": 1e-08,\n",
            "    \"verbose\": 2,\n",
            "    \"n_init\": 1,\n",
            "    \"max_iter\": 100,\n",
            "    \"tol\": 0.001,\n",
            "    \"init_params\": \"random\"\n",
            "}\n",
            "Initialization 0\n",
            "Initialization converged: True\t time lapse 3.24479s\t ll -802.61206\n",
            "Rand score:  0.82219899979996\n"
          ]
        }
      ]
    },
    {
      "cell_type": "markdown",
      "metadata": {
        "id": "uwhiQdB3_CsN"
      },
      "source": [
        "# Init: Means, uniform weights, identify precisions, GMM: Standard"
      ]
    },
    {
      "cell_type": "code",
      "metadata": {
        "colab": {
          "base_uri": "https://localhost:8080/"
        },
        "id": "bysgyIX55mHU",
        "outputId": "56a144ad-5495-4ff7-f880-2c08fc4160f1"
      },
      "source": [
        "params = {**gmm_params, \n",
        "          \"means_init\": means_init, # centroids,\n",
        "          \"weights_init\": uniform_weights,\n",
        "          \"precisions_init\": identity_precisions\n",
        "          }\n",
        "print(json.dumps(params, indent=4, default=str))\n",
        "\n",
        "gmm = StandardGaussianMixture(**params)\n",
        "\n",
        "labels = gmm.fit_predict(X_norm)\n",
        "means = gmm.means_\n",
        "print(\"Rand score: \", rand_score(z, labels))"
      ],
      "execution_count": 50,
      "outputs": [
        {
          "output_type": "stream",
          "name": "stdout",
          "text": [
            "{\n",
            "    \"n_components\": 10,\n",
            "    \"means_init\": \"[[ 238.72510121  190.48060822  244.45532808 ...   11.0036206\\n    -8.29141679  -17.00780322]\\n [ -72.33905323  -36.28344979   -9.82599986 ...  -30.27732606\\n   -27.8005842   -42.70022228]\\n [-103.7006304   -62.63216218  -74.38796069 ...  -48.45137566\\n   -33.281143    -56.4607159 ]\\n ...\\n [ -24.90122262    2.59877489   25.36614654 ...    6.56094708\\n    -1.3247786   -21.47865117]\\n [ -29.40109476   -9.27878332   17.29316195 ...   11.0301959\\n    -5.98094823  -17.58646126]\\n [ 194.60068922  -12.32323617    2.82494799 ...  164.94931902\\n   125.20291816  280.92910932]]\",\n",
            "    \"weights_init\": \"[0.1 0.1 0.1 0.1 0.1 0.1 0.1 0.1 0.1 0.1]\",\n",
            "    \"precisions_init\": \"[[[1. 0. 0. ... 0. 0. 0.]\\n  [0. 1. 0. ... 0. 0. 0.]\\n  [0. 0. 1. ... 0. 0. 0.]\\n  ...\\n  [0. 0. 0. ... 1. 0. 0.]\\n  [0. 0. 0. ... 0. 1. 0.]\\n  [0. 0. 0. ... 0. 0. 1.]]\\n\\n [[1. 0. 0. ... 0. 0. 0.]\\n  [0. 1. 0. ... 0. 0. 0.]\\n  [0. 0. 1. ... 0. 0. 0.]\\n  ...\\n  [0. 0. 0. ... 1. 0. 0.]\\n  [0. 0. 0. ... 0. 1. 0.]\\n  [0. 0. 0. ... 0. 0. 1.]]\\n\\n [[1. 0. 0. ... 0. 0. 0.]\\n  [0. 1. 0. ... 0. 0. 0.]\\n  [0. 0. 1. ... 0. 0. 0.]\\n  ...\\n  [0. 0. 0. ... 1. 0. 0.]\\n  [0. 0. 0. ... 0. 1. 0.]\\n  [0. 0. 0. ... 0. 0. 1.]]\\n\\n ...\\n\\n [[1. 0. 0. ... 0. 0. 0.]\\n  [0. 1. 0. ... 0. 0. 0.]\\n  [0. 0. 1. ... 0. 0. 0.]\\n  ...\\n  [0. 0. 0. ... 1. 0. 0.]\\n  [0. 0. 0. ... 0. 1. 0.]\\n  [0. 0. 0. ... 0. 0. 1.]]\\n\\n [[1. 0. 0. ... 0. 0. 0.]\\n  [0. 1. 0. ... 0. 0. 0.]\\n  [0. 0. 1. ... 0. 0. 0.]\\n  ...\\n  [0. 0. 0. ... 1. 0. 0.]\\n  [0. 0. 0. ... 0. 1. 0.]\\n  [0. 0. 0. ... 0. 0. 1.]]\\n\\n [[1. 0. 0. ... 0. 0. 0.]\\n  [0. 1. 0. ... 0. 0. 0.]\\n  [0. 0. 1. ... 0. 0. 0.]\\n  ...\\n  [0. 0. 0. ... 1. 0. 0.]\\n  [0. 0. 0. ... 0. 1. 0.]\\n  [0. 0. 0. ... 0. 0. 1.]]]\",\n",
            "    \"random_state\": 0,\n",
            "    \"reg_covar\": 1e-08,\n",
            "    \"verbose\": 2,\n",
            "    \"n_init\": 1,\n",
            "    \"max_iter\": 100,\n",
            "    \"tol\": 0.001,\n",
            "    \"init_params\": \"random\"\n",
            "}\n",
            "Initialization 0\n",
            "  Iteration 10\t time lapse 3.83752s\t ll change 0.06299\n",
            "Initialization converged: True\t time lapse 7.02120s\t ll -806.62131\n",
            "Rand score:  0.9723972794558912\n"
          ]
        }
      ]
    },
    {
      "cell_type": "code",
      "metadata": {
        "colab": {
          "base_uri": "https://localhost:8080/"
        },
        "id": "v6NR3all9d12",
        "outputId": "b3200800-4f1b-4ef5-a19e-a55aac6ddb45"
      },
      "source": [
        "dist = cdist(gt_means_norm, means)#, metric=\"cityblock\")\n",
        "print(np.argmin(dist, axis=0))"
      ],
      "execution_count": 51,
      "outputs": [
        {
          "output_type": "stream",
          "name": "stdout",
          "text": [
            "[0 2 3 4 5 6 7 8 9 1]\n"
          ]
        }
      ]
    },
    {
      "cell_type": "code",
      "metadata": {
        "colab": {
          "base_uri": "https://localhost:8080/",
          "height": 372
        },
        "id": "62R7Fexn6jXF",
        "outputId": "b0c69c8d-3195-4bbd-fa66-5f91656079e7"
      },
      "source": [
        "fig, axs = plt.subplots(figsize=(10,5), ncols=2)\n",
        "\n",
        "ax = axs[0]\n",
        "\n",
        "ax.matshow(dist, cmap='Reds')\n",
        "ax.set(**{\n",
        "    \"xlabel\":\"computed means\",\n",
        "    \"ylabel\": \"true means\"\n",
        "    })\n",
        "\n",
        "ax = axs[1]\n",
        "ax.imshow(means, aspect=\"auto\", cmap=\"viridis_r\")\n",
        "ax.set(**{\n",
        "    \"xlabel\": \"genes\",\n",
        "    \"ylabel\": \"cell type\"\n",
        "})\n",
        "fig.show()"
      ],
      "execution_count": 52,
      "outputs": [
        {
          "output_type": "display_data",
          "data": {
            "image/png": "[encoded data removed]",
            "text/plain": [
              "<Figure size 720x360 with 2 Axes>"
            ]
          },
          "metadata": {
            "image/png": {
              "width": 631,
              "height": 355
            },
            "needs_background": "light"
          }
        }
      ]
    },
    {
      "cell_type": "code",
      "metadata": {
        "id": "8_LDR0mhTY6q"
      },
      "source": [
        "pr = gmm.predict_proba(X_norm)\n",
        "pr_plot = np.zeros((n_samples, n_clusters))\n",
        "n = 0\n",
        "for i in np.unique(labels):\n",
        "  inds = np.where(labels == i)[0]\n",
        "  pr_plot[n:n+len(inds)] = pr[inds]\n",
        "  n += len(inds)"
      ],
      "execution_count": 53,
      "outputs": []
    },
    {
      "cell_type": "code",
      "metadata": {
        "colab": {
          "base_uri": "https://localhost:8080/",
          "height": 361
        },
        "id": "ojHg1-TXT92G",
        "outputId": "fbe2ee77-d50b-42f3-b138-8791918b0143"
      },
      "source": [
        "fig, ax = plt.subplots(figsize=(5,5))\n",
        "ax.imshow(pr_plot, aspect=\"auto\",cmap=\"binary\")\n",
        "ax.set(**{\n",
        "    \"xlabel\": \"Cell type\",\n",
        "    \"ylabel\": \"Cells\"\n",
        "})\n",
        "fig.show()"
      ],
      "execution_count": 54,
      "outputs": [
        {
          "output_type": "display_data",
          "data": {
            "image/png": "[encoded data removed]",
            "text/plain": [
              "<Figure size 360x360 with 1 Axes>"
            ]
          },
          "metadata": {
            "image/png": {
              "width": 375,
              "height": 344
            },
            "needs_background": "light"
          }
        }
      ]
    },
    {
      "cell_type": "markdown",
      "metadata": {
        "id": "ftqsPsK0tZOh"
      },
      "source": [
        "# Init: Means, uniform weights, identify precisions , GMM: Improved"
      ]
    },
    {
      "cell_type": "code",
      "metadata": {
        "colab": {
          "base_uri": "https://localhost:8080/"
        },
        "id": "vs9krqm8si9K",
        "outputId": "0d5e9d8e-b8b3-4ece-eb51-6e5798c63584"
      },
      "source": [
        "params = {**gmm_params, \n",
        "          \"means_init\": means_init, # centroids,\n",
        "          \"weights_init\": uniform_weights, \n",
        "          \"precisions_init\": identity_precisions\n",
        "          }\n",
        "print(json.dumps(params, indent=4, default=str))\n",
        "\n",
        "gmm = ImprovedGaussianMixture(**params)\n",
        "\n",
        "labels = gmm.fit_predict(X_norm, B=markers_ec)\n",
        "means = gmm.means_\n",
        "print(\"Rand score: \", rand_score(z, labels))"
      ],
      "execution_count": 55,
      "outputs": [
        {
          "output_type": "stream",
          "name": "stdout",
          "text": [
            "{\n",
            "    \"n_components\": 10,\n",
            "    \"means_init\": \"[[ 238.72510121  190.48060822  244.45532808 ...   11.0036206\\n    -8.29141679  -17.00780322]\\n [ -72.33905323  -36.28344979   -9.82599986 ...  -30.27732606\\n   -27.8005842   -42.70022228]\\n [-103.7006304   -62.63216218  -74.38796069 ...  -48.45137566\\n   -33.281143    -56.4607159 ]\\n ...\\n [ -24.90122262    2.59877489   25.36614654 ...    6.56094708\\n    -1.3247786   -21.47865117]\\n [ -29.40109476   -9.27878332   17.29316195 ...   11.0301959\\n    -5.98094823  -17.58646126]\\n [ 194.60068922  -12.32323617    2.82494799 ...  164.94931902\\n   125.20291816  280.92910932]]\",\n",
            "    \"weights_init\": \"[0.1 0.1 0.1 0.1 0.1 0.1 0.1 0.1 0.1 0.1]\",\n",
            "    \"precisions_init\": \"[[[1. 0. 0. ... 0. 0. 0.]\\n  [0. 1. 0. ... 0. 0. 0.]\\n  [0. 0. 1. ... 0. 0. 0.]\\n  ...\\n  [0. 0. 0. ... 1. 0. 0.]\\n  [0. 0. 0. ... 0. 1. 0.]\\n  [0. 0. 0. ... 0. 0. 1.]]\\n\\n [[1. 0. 0. ... 0. 0. 0.]\\n  [0. 1. 0. ... 0. 0. 0.]\\n  [0. 0. 1. ... 0. 0. 0.]\\n  ...\\n  [0. 0. 0. ... 1. 0. 0.]\\n  [0. 0. 0. ... 0. 1. 0.]\\n  [0. 0. 0. ... 0. 0. 1.]]\\n\\n [[1. 0. 0. ... 0. 0. 0.]\\n  [0. 1. 0. ... 0. 0. 0.]\\n  [0. 0. 1. ... 0. 0. 0.]\\n  ...\\n  [0. 0. 0. ... 1. 0. 0.]\\n  [0. 0. 0. ... 0. 1. 0.]\\n  [0. 0. 0. ... 0. 0. 1.]]\\n\\n ...\\n\\n [[1. 0. 0. ... 0. 0. 0.]\\n  [0. 1. 0. ... 0. 0. 0.]\\n  [0. 0. 1. ... 0. 0. 0.]\\n  ...\\n  [0. 0. 0. ... 1. 0. 0.]\\n  [0. 0. 0. ... 0. 1. 0.]\\n  [0. 0. 0. ... 0. 0. 1.]]\\n\\n [[1. 0. 0. ... 0. 0. 0.]\\n  [0. 1. 0. ... 0. 0. 0.]\\n  [0. 0. 1. ... 0. 0. 0.]\\n  ...\\n  [0. 0. 0. ... 1. 0. 0.]\\n  [0. 0. 0. ... 0. 1. 0.]\\n  [0. 0. 0. ... 0. 0. 1.]]\\n\\n [[1. 0. 0. ... 0. 0. 0.]\\n  [0. 1. 0. ... 0. 0. 0.]\\n  [0. 0. 1. ... 0. 0. 0.]\\n  ...\\n  [0. 0. 0. ... 1. 0. 0.]\\n  [0. 0. 0. ... 0. 1. 0.]\\n  [0. 0. 0. ... 0. 0. 1.]]]\",\n",
            "    \"random_state\": 0,\n",
            "    \"reg_covar\": 1e-08,\n",
            "    \"verbose\": 2,\n",
            "    \"n_init\": 1,\n",
            "    \"max_iter\": 100,\n",
            "    \"tol\": 0.001,\n",
            "    \"init_params\": \"random\"\n",
            "}\n",
            "Initialization 0\n",
            "  Iteration 10\t time lapse 3.87148s\t ll change 0.04807\n",
            "  Iteration 20\t time lapse 3.80419s\t ll change 0.01323\n",
            "Initialization converged: True\t time lapse 8.45492s\t ll -820.35443\n",
            "Rand score:  0.9725433086617323\n"
          ]
        }
      ]
    },
    {
      "cell_type": "code",
      "metadata": {
        "id": "p_K76L577075"
      },
      "source": [
        "# dist = np.zeros((n_clusters, n_clusters))\n",
        "# for idx in np.arange(B.shape[0]):\n",
        "#   for jdx in np.arange(B.shape[0]):\n",
        "#     mask = B[idx].astype(bool)\n",
        "#     a,b = gt_means_norm[idx][mask].reshape(1,-1), means[jdx][mask].reshape(1,-1)\n",
        "#     dist[idx, jdx] = euclidean_distances(a,b)"
      ],
      "execution_count": 56,
      "outputs": []
    },
    {
      "cell_type": "code",
      "metadata": {
        "colab": {
          "base_uri": "https://localhost:8080/"
        },
        "id": "rFrUbixI9SXm",
        "outputId": "6eda2691-4860-4034-b8a0-d3aaa3e353ad"
      },
      "source": [
        "dist = cdist(gt_means_norm, means)#, metric=\"cityblock\")\n",
        "print(np.argmin(dist, axis=0))"
      ],
      "execution_count": 57,
      "outputs": [
        {
          "output_type": "stream",
          "name": "stdout",
          "text": [
            "[0 2 3 4 5 6 7 8 9 1]\n"
          ]
        }
      ]
    },
    {
      "cell_type": "code",
      "metadata": {
        "colab": {
          "base_uri": "https://localhost:8080/",
          "height": 372
        },
        "id": "HfEsioXjQk--",
        "outputId": "52a9850b-0cff-4189-818f-d868aafae7b7"
      },
      "source": [
        "fig, axs = plt.subplots(figsize=(10,5), ncols=2)\n",
        "\n",
        "ax = axs[0]\n",
        "ax.matshow(dist, cmap='Reds')\n",
        "ax.set(**{\n",
        "    \"xlabel\":\"computed means\",\n",
        "    \"ylabel\": \"true means\"\n",
        "    })\n",
        "\n",
        "ax = axs[1]\n",
        "ax.imshow(means, aspect=\"auto\")\n",
        "ax.set(**{\n",
        "    \"xlabel\": \"genes\",\n",
        "    \"ylabel\": \"cell type\"\n",
        "})\n",
        "fig.show()"
      ],
      "execution_count": 58,
      "outputs": [
        {
          "output_type": "display_data",
          "data": {
            "image/png": "[encoded data removed]",
            "text/plain": [
              "<Figure size 720x360 with 2 Axes>"
            ]
          },
          "metadata": {
            "image/png": {
              "width": 631,
              "height": 355
            },
            "needs_background": "light"
          }
        }
      ]
    },
    {
      "cell_type": "code",
      "metadata": {
        "colab": {
          "base_uri": "https://localhost:8080/"
        },
        "id": "7JwIXZC3_myg",
        "outputId": "d1bbb12f-7ffc-4f44-c5ab-098b3e05e8a1"
      },
      "source": [
        "gt_means_norm[0].astype(int)"
      ],
      "execution_count": 59,
      "outputs": [
        {
          "output_type": "execute_result",
          "data": {
            "text/plain": [
              "array([  255,   204,   249,    13,   257,   141,   858,    66,     8,\n",
              "          79,    89,   412,     1,     1,     1,     2,     2,     6,\n",
              "          21,    -4,    -5,     3,  -639,   -80,     0,  1231,     5,\n",
              "          40,   -83,    30,     0,    17, -2047,     1,     8,     6,\n",
              "          -1,     1,   137,     0,     0,     1,    16,     0,   -11,\n",
              "          -1,    13,     5,    -8,    -8,    29,     1,    -2,  -266,\n",
              "          13,     4,   146,    -4,     0,    -1,     9,    12,     3,\n",
              "           0,    -9,     2,    -6,   -38,     6,    -2,     0,    21,\n",
              "           0,     3,    -1,     2,    -5,   -27,     0,     4,     7,\n",
              "           1,    18,     1,     0,     0,     0,     0,     2,     1,\n",
              "          -3,     0,     0,    -5,     7,     3,   132,     0,     4,\n",
              "          -5,    -1,     0,     9,     0,    67,    14,     3,     0,\n",
              "       -1493,     0,   -44,     3,     2,    12,    -7,    -2,     0,\n",
              "           0,    -5,    -4,    -1,    -3,     0,    22,    -1,    13,\n",
              "           0,   -19,    -9,    -1,     2,    -1,     1,   -11,    -8,\n",
              "          15,   -11,   -32,   -13,   -20,   -18,     1,    -3,    -1,\n",
              "         176,     0,     0,     0,     2,     5,    17,    -5,   -16])"
            ]
          },
          "metadata": {},
          "execution_count": 59
        }
      ]
    },
    {
      "cell_type": "code",
      "metadata": {
        "colab": {
          "base_uri": "https://localhost:8080/"
        },
        "id": "6iy2DBzh_sz_",
        "outputId": "affdcf82-db62-4adb-a579-d33b0acaa3aa"
      },
      "source": [
        "means[0].astype(int)"
      ],
      "execution_count": 60,
      "outputs": [
        {
          "output_type": "execute_result",
          "data": {
            "text/plain": [
              "array([  226,   184,   218,    12,   231,   128,   775,    61,     7,\n",
              "          71,    80,   370,     0,     3,     1,     1,     2,     3,\n",
              "           3,    -5,    -5,     2,  -714,   -70,     0,     3,     3,\n",
              "           3,   -72,     3,     0,     3, -2034,     1,     3,     3,\n",
              "          -1,     2,     3,     0,     0,     0,     2,    -1,    -9,\n",
              "          -1,     3,     3,   -11,    -7,     3,     0,    -3,  -246,\n",
              "           3,     3,     3,    -3,     0,     0,     3,     3,     2,\n",
              "           0,    -9,     2,    -7,   -31,     3,    -1,     0,     3,\n",
              "           0,     3,    -1,     1,    -4,   -27,     0,     3,     3,\n",
              "           3,     3,     3,     1,     0,     2,     0,     3,     1,\n",
              "           3,     0,     1,    -5,     3,     0,     3,     2,     3,\n",
              "          -4,    -1,     0,     3,     0,     3,     3,     2,     0,\n",
              "       -1408,     0,   -26,     3,     3,     3,     0,     0,     1,\n",
              "           1,    -2,    -5,    -1,    -3,     0,     3,    -1,     3,\n",
              "          -1,   -17,   -10,    -1,     1,    -1,     1,   -11,    -6,\n",
              "           3,   -11,   -35,   -11,   -21,   -17,     3,    -2,    -1,\n",
              "           3,     2,     0,     0,     2,     3,     3,    -4,   -12])"
            ]
          },
          "metadata": {},
          "execution_count": 60
        }
      ]
    },
    {
      "cell_type": "code",
      "metadata": {
        "id": "11HGMcCYS0Cr"
      },
      "source": [
        "pr = gmm.predict_proba(X_norm)\n",
        "pr_plot = np.zeros((n_samples, n_clusters))\n",
        "n = 0\n",
        "for i in np.unique(labels):\n",
        "  inds = np.where(labels == i)[0]\n",
        "  pr_plot[n:n+len(inds)] = pr[inds]\n",
        "  n += len(inds)"
      ],
      "execution_count": 61,
      "outputs": []
    },
    {
      "cell_type": "code",
      "metadata": {
        "colab": {
          "base_uri": "https://localhost:8080/",
          "height": 361
        },
        "id": "GWgD_7ijV6sE",
        "outputId": "0289f293-d007-439f-f80a-f90ceacaacf0"
      },
      "source": [
        "fig, ax = plt.subplots(figsize=(5,5))\n",
        "ax.imshow(pr_plot, aspect=\"auto\",cmap=\"binary\")\n",
        "ax.set(**{\n",
        "    \"xlabel\": \"Cell type\",\n",
        "    \"ylabel\": \"Cells\"\n",
        "})\n",
        "fig.show()"
      ],
      "execution_count": 62,
      "outputs": [
        {
          "output_type": "display_data",
          "data": {
            "image/png": "[encoded data removed]",
            "text/plain": [
              "<Figure size 360x360 with 1 Axes>"
            ]
          },
          "metadata": {
            "image/png": {
              "width": 375,
              "height": 344
            },
            "needs_background": "light"
          }
        }
      ]
    },
    {
      "cell_type": "markdown",
      "metadata": {
        "id": "_g2cvkPHxWVk"
      },
      "source": [
        "# Sampled"
      ]
    },
    {
      "cell_type": "code",
      "metadata": {
        "id": "0G6FjRhCwbee"
      },
      "source": [
        "n_samples_s = int(n_samples*0.01)\n",
        "sind = np.random.choice(n_samples, size=n_samples_s, replace=False)"
      ],
      "execution_count": 83,
      "outputs": []
    },
    {
      "cell_type": "code",
      "metadata": {
        "id": "t3y4ulMHxJm1"
      },
      "source": [
        "X_norm_s = X_norm[sind]\n",
        "z_s = z[sind]"
      ],
      "execution_count": 84,
      "outputs": []
    },
    {
      "cell_type": "code",
      "metadata": {
        "id": "NjXMRMk0xXg2",
        "outputId": "2aeeed49-dd8e-4585-bffa-0aaded1289e1",
        "colab": {
          "base_uri": "https://localhost:8080/"
        }
      },
      "source": [
        "centroids = np.ones((n_clusters, n_features))*1e-5\n",
        "\n",
        "for i in list(markers_ec.keys()):\n",
        "  for j in markers_ec[i]:\n",
        "    centroids[i][j] = X_max[j]\n",
        " \n",
        "tree = KDTree(centroids)\n",
        "nearest_dist, nearest_ind = tree.query(X_norm_s, k=1)\n",
        "\n",
        "# assign cells to clusters\n",
        "p = 0.95\n",
        "resp = np.ones((n_samples_s, n_clusters))*(1-p)/(n_clusters-1)\n",
        "resp[np.arange(n_samples_s), nd(nearest_ind)] = p\n",
        "\n",
        "# M step from GMM code\n",
        "weights_init, means_init, covariances = est_gaus_params(\n",
        "    X_norm_s, resp, reg_covar=gmm_params[\"reg_covar\"], covariance_type=\"full\")\n",
        "weights_init /= n_samples_s\n",
        "\n",
        "# set the precision\n",
        "precisions_init = make_precisions(covariances)\n",
        "print([np.allclose(i, i.T) for i in precisions_init])\n",
        "print([np.all(linalg.eigvalsh(i) > 0.0) for i in precisions_init])\n",
        "\n",
        "# actually used params\n",
        "nk = resp.sum(axis=0) + 10 * np.finfo(resp.dtype).eps\n",
        "means_init = np.dot(resp.T, X_norm_s) / nk[:, np.newaxis]\n",
        "uniform_weights = np.array([1./n_clusters]*n_clusters)\n",
        "identity_precisions = np.repeat(np.array([np.eye(X.shape[1])]), n_clusters, 0)"
      ],
      "execution_count": 85,
      "outputs": [
        {
          "output_type": "stream",
          "name": "stdout",
          "text": [
            "[False, False, False, False, False, False, False, False, False, False]\n",
            "[False, False, False, False, False, False, False, False, False, False]\n"
          ]
        }
      ]
    },
    {
      "cell_type": "code",
      "metadata": {
        "id": "3WA_JiFfxrxt",
        "outputId": "96234195-6299-478d-a8ca-a617e096bf7f",
        "colab": {
          "base_uri": "https://localhost:8080/"
        }
      },
      "source": [
        "params = {**gmm_params, \n",
        "          \"means_init\": means_init, # centroids,\n",
        "          \"weights_init\": uniform_weights, \n",
        "          \"precisions_init\": identity_precisions\n",
        "          }\n",
        "print(json.dumps(params, indent=4, default=str))\n",
        "\n",
        "gmm = ImprovedGaussianMixture(**params)\n",
        "\n",
        "labels = gmm.fit_predict(X_norm_s, B=markers_ec)\n",
        "means = gmm.means_\n",
        "print(\"Rand score: \", rand_score(z_s, labels))"
      ],
      "execution_count": 86,
      "outputs": [
        {
          "output_type": "stream",
          "name": "stdout",
          "text": [
            "{\n",
            "    \"n_components\": 10,\n",
            "    \"means_init\": \"[[ 359.7993055   224.58486009  220.52320538 ...  -46.60148585\\n   -12.73625429    0.89924581]\\n [-166.10998485  -41.74983386   48.21343947 ...  -77.65438683\\n    -5.56717304  -62.33170858]\\n [ -21.7931328   -75.65774746  -52.06293704 ...    9.144561\\n   -62.32567148    7.85726169]\\n ...\\n [  -2.81269621   40.90278829  -54.56718227 ...  -14.60625082\\n    55.0669873   -29.07224579]\\n [ -23.8187792   -19.50735902   15.61310161 ...   63.63250666\\n   -69.55739143  -28.64804898]\\n [ 144.10617323   16.56088016  -58.10118707 ...  196.91984813\\n   110.0908707   291.64844233]]\",\n",
            "    \"weights_init\": \"[0.1 0.1 0.1 0.1 0.1 0.1 0.1 0.1 0.1 0.1]\",\n",
            "    \"precisions_init\": \"[[[1. 0. 0. ... 0. 0. 0.]\\n  [0. 1. 0. ... 0. 0. 0.]\\n  [0. 0. 1. ... 0. 0. 0.]\\n  ...\\n  [0. 0. 0. ... 1. 0. 0.]\\n  [0. 0. 0. ... 0. 1. 0.]\\n  [0. 0. 0. ... 0. 0. 1.]]\\n\\n [[1. 0. 0. ... 0. 0. 0.]\\n  [0. 1. 0. ... 0. 0. 0.]\\n  [0. 0. 1. ... 0. 0. 0.]\\n  ...\\n  [0. 0. 0. ... 1. 0. 0.]\\n  [0. 0. 0. ... 0. 1. 0.]\\n  [0. 0. 0. ... 0. 0. 1.]]\\n\\n [[1. 0. 0. ... 0. 0. 0.]\\n  [0. 1. 0. ... 0. 0. 0.]\\n  [0. 0. 1. ... 0. 0. 0.]\\n  ...\\n  [0. 0. 0. ... 1. 0. 0.]\\n  [0. 0. 0. ... 0. 1. 0.]\\n  [0. 0. 0. ... 0. 0. 1.]]\\n\\n ...\\n\\n [[1. 0. 0. ... 0. 0. 0.]\\n  [0. 1. 0. ... 0. 0. 0.]\\n  [0. 0. 1. ... 0. 0. 0.]\\n  ...\\n  [0. 0. 0. ... 1. 0. 0.]\\n  [0. 0. 0. ... 0. 1. 0.]\\n  [0. 0. 0. ... 0. 0. 1.]]\\n\\n [[1. 0. 0. ... 0. 0. 0.]\\n  [0. 1. 0. ... 0. 0. 0.]\\n  [0. 0. 1. ... 0. 0. 0.]\\n  ...\\n  [0. 0. 0. ... 1. 0. 0.]\\n  [0. 0. 0. ... 0. 1. 0.]\\n  [0. 0. 0. ... 0. 0. 1.]]\\n\\n [[1. 0. 0. ... 0. 0. 0.]\\n  [0. 1. 0. ... 0. 0. 0.]\\n  [0. 0. 1. ... 0. 0. 0.]\\n  ...\\n  [0. 0. 0. ... 1. 0. 0.]\\n  [0. 0. 0. ... 0. 1. 0.]\\n  [0. 0. 0. ... 0. 0. 1.]]]\",\n",
            "    \"random_state\": 0,\n",
            "    \"reg_covar\": 1e-08,\n",
            "    \"verbose\": 2,\n",
            "    \"n_init\": 1,\n",
            "    \"max_iter\": 100,\n",
            "    \"tol\": 0.001,\n",
            "    \"init_params\": \"random\"\n",
            "}\n",
            "Initialization 0\n",
            "Initialization converged: True\t time lapse 0.06266s\t ll 1173.01806\n",
            "Rand score:  0.9942857142857143\n"
          ]
        }
      ]
    },
    {
      "cell_type": "code",
      "metadata": {
        "id": "J8AbOpiaySDF",
        "outputId": "5e19bf23-8729-4946-cec0-63fe6cea23ce",
        "colab": {
          "base_uri": "https://localhost:8080/"
        }
      },
      "source": [
        "X.shape"
      ],
      "execution_count": 87,
      "outputs": [
        {
          "output_type": "execute_result",
          "data": {
            "text/plain": [
              "(5000, 153)"
            ]
          },
          "metadata": {},
          "execution_count": 87
        }
      ]
    },
    {
      "cell_type": "markdown",
      "metadata": {
        "id": "vy3QX7Ljqn-b"
      },
      "source": [
        "# Testing the means adjustment"
      ]
    },
    {
      "cell_type": "code",
      "metadata": {
        "id": "TPTen1JdmhBD",
        "outputId": "f42942c2-6a18-4505-e934-27bd684db829",
        "colab": {
          "base_uri": "https://localhost:8080/"
        }
      },
      "source": [
        "means = np.random.randint(-100,100,size=(n_clusters, n_features))\n",
        "\n",
        "for bidx, b in enumerate(B):\n",
        "  m = b.astype(bool)\n",
        "  means[bidx][m] = np.random.randint(10,100, size=m.sum())\n",
        "\n",
        "before = means[0]\n",
        "print(before)"
      ],
      "execution_count": 63,
      "outputs": [
        {
          "output_type": "stream",
          "name": "stdout",
          "text": [
            "[ 12  70  46  11  14  14  57  83  95  11  87  93 -90  37 -86 -27 -25 -49\n",
            "  41  23 -47  69  92  73 -77 -37 -21 -39  -3 -10 -17  86 -63  31 -55 -69\n",
            " -15  57  23 -76 -18  39  84  56 -68 -72 -91   4  72 -83 -45 -20 -82  39\n",
            " -93 -42 -70 -38  83  56 -93 -81  -6  91  72 -96 -16   9  70  88 -33  89\n",
            " -84 -25  34 -66  16  56 -60  75 -26  18  29  72  64  11  74 -97  79  92\n",
            " -74 -31 -99  71 -59   3 -28   7  78 -22  23   4 -40  46 -63 -17 -29  88\n",
            "  72  29 -24  74 -68  10  84 -27 -34 -87  94   9 -77  12   0 -28  96 -91\n",
            " -87  95 -10  -1  93  41  82  13  51 -86  73  19 -66  48  63  57 -79 -88\n",
            " -51 -57  -6  24  84  18 -48   3  37]\n"
          ]
        }
      ]
    },
    {
      "cell_type": "code",
      "metadata": {
        "id": "5S505PdHV6nT"
      },
      "source": [
        "ct_mins = [means[i][B[i].astype(bool)].min() for i in range(means.shape[0])]\n",
        "marker_gene_indices = [set(B[i]) for i in range(means.shape[0])]\n",
        "# modify based on the min/f\n",
        "f = 2.\n",
        "for idx, i in enumerate(means):\n",
        "    ct_min = ct_mins[idx]\n",
        "    betas = means[idx]\n",
        "    for jdx, b in enumerate(betas):\n",
        "        if jdx not in marker_gene_indices[idx]:\n",
        "            new = min(b, ct_min / f)\n",
        "            means[idx][jdx] = new"
      ],
      "execution_count": 64,
      "outputs": []
    },
    {
      "cell_type": "code",
      "metadata": {
        "id": "30vC6wGLnNVZ",
        "outputId": "8d7fb2b5-51e9-47d2-d707-b0a5a7eda401",
        "colab": {
          "base_uri": "https://localhost:8080/"
        }
      },
      "source": [
        "print(np.array(list(zip(before, means[0]))))"
      ],
      "execution_count": 65,
      "outputs": [
        {
          "output_type": "stream",
          "name": "stdout",
          "text": [
            "[[ 12  12]\n",
            " [ 70  70]\n",
            " [  5   5]\n",
            " [  5   5]\n",
            " [  5   5]\n",
            " [  5   5]\n",
            " [  5   5]\n",
            " [  5   5]\n",
            " [  5   5]\n",
            " [  5   5]\n",
            " [  5   5]\n",
            " [  5   5]\n",
            " [-90 -90]\n",
            " [  5   5]\n",
            " [-86 -86]\n",
            " [-27 -27]\n",
            " [-25 -25]\n",
            " [-49 -49]\n",
            " [  5   5]\n",
            " [  5   5]\n",
            " [-47 -47]\n",
            " [  5   5]\n",
            " [  5   5]\n",
            " [  5   5]\n",
            " [-77 -77]\n",
            " [-37 -37]\n",
            " [-21 -21]\n",
            " [-39 -39]\n",
            " [ -3  -3]\n",
            " [-10 -10]\n",
            " [-17 -17]\n",
            " [  5   5]\n",
            " [-63 -63]\n",
            " [  5   5]\n",
            " [-55 -55]\n",
            " [-69 -69]\n",
            " [-15 -15]\n",
            " [  5   5]\n",
            " [  5   5]\n",
            " [-76 -76]\n",
            " [-18 -18]\n",
            " [  5   5]\n",
            " [  5   5]\n",
            " [  5   5]\n",
            " [-68 -68]\n",
            " [-72 -72]\n",
            " [-91 -91]\n",
            " [  4   4]\n",
            " [  5   5]\n",
            " [-83 -83]\n",
            " [-45 -45]\n",
            " [-20 -20]\n",
            " [-82 -82]\n",
            " [  5   5]\n",
            " [-93 -93]\n",
            " [-42 -42]\n",
            " [-70 -70]\n",
            " [-38 -38]\n",
            " [  5   5]\n",
            " [  5   5]\n",
            " [-93 -93]\n",
            " [-81 -81]\n",
            " [ -6  -6]\n",
            " [  5   5]\n",
            " [  5   5]\n",
            " [-96 -96]\n",
            " [-16 -16]\n",
            " [  5   5]\n",
            " [  5   5]\n",
            " [  5   5]\n",
            " [-33 -33]\n",
            " [  5   5]\n",
            " [-84 -84]\n",
            " [-25 -25]\n",
            " [  5   5]\n",
            " [-66 -66]\n",
            " [  5   5]\n",
            " [  5   5]\n",
            " [-60 -60]\n",
            " [  5   5]\n",
            " [-26 -26]\n",
            " [  5   5]\n",
            " [  5   5]\n",
            " [  5   5]\n",
            " [  5   5]\n",
            " [  5   5]\n",
            " [  5   5]\n",
            " [-97 -97]\n",
            " [  5   5]\n",
            " [  5   5]\n",
            " [-74 -74]\n",
            " [-31 -31]\n",
            " [-99 -99]\n",
            " [  5   5]\n",
            " [-59 -59]\n",
            " [  3   3]\n",
            " [-28 -28]\n",
            " [  5   5]\n",
            " [  5   5]\n",
            " [-22 -22]\n",
            " [  5   5]\n",
            " [  4   4]\n",
            " [-40 -40]\n",
            " [  5   5]\n",
            " [-63 -63]\n",
            " [-17 -17]\n",
            " [-29 -29]\n",
            " [  5   5]\n",
            " [  5   5]\n",
            " [  5   5]\n",
            " [-24 -24]\n",
            " [  5   5]\n",
            " [-68 -68]\n",
            " [  5   5]\n",
            " [  5   5]\n",
            " [-27 -27]\n",
            " [-34 -34]\n",
            " [-87 -87]\n",
            " [  5   5]\n",
            " [  5   5]\n",
            " [-77 -77]\n",
            " [  5   5]\n",
            " [  0   0]\n",
            " [-28 -28]\n",
            " [  5   5]\n",
            " [-91 -91]\n",
            " [-87 -87]\n",
            " [  5   5]\n",
            " [-10 -10]\n",
            " [ -1  -1]\n",
            " [  5   5]\n",
            " [  5   5]\n",
            " [  5   5]\n",
            " [  5   5]\n",
            " [  5   5]\n",
            " [-86 -86]\n",
            " [  5   5]\n",
            " [  5   5]\n",
            " [-66 -66]\n",
            " [  5   5]\n",
            " [  5   5]\n",
            " [  5   5]\n",
            " [-79 -79]\n",
            " [-88 -88]\n",
            " [-51 -51]\n",
            " [-57 -57]\n",
            " [ -6  -6]\n",
            " [  5   5]\n",
            " [  5   5]\n",
            " [  5   5]\n",
            " [-48 -48]\n",
            " [  3   3]\n",
            " [  5   5]]\n"
          ]
        }
      ]
    },
    {
      "cell_type": "markdown",
      "metadata": {
        "id": "jsSMkqaMn3cB"
      },
      "source": [
        "problem: adjusting values of the centers of the gaussians (derived from mean centered data) "
      ]
    },
    {
      "cell_type": "code",
      "metadata": {
        "id": "bbdsoaNPn1CW"
      },
      "source": [
        ""
      ],
      "execution_count": 65,
      "outputs": []
    },
    {
      "cell_type": "markdown",
      "metadata": {
        "id": "akS7kObRC_1n"
      },
      "source": [
        "# Random stuff"
      ]
    },
    {
      "cell_type": "code",
      "metadata": {
        "id": "xPP-g6Vf4qeQ"
      },
      "source": [
        "# !rm -rf covariances/ means.txt weights.txt\n",
        "# !mkdir -p covariances\n",
        "# fs = [open(f\"./covariances/data_{i}.txt\", 'w') for i in range(covariances.shape[0])]\n",
        "# for idx, c in enumerate(covariances):\n",
        "#     np.savetxt(fs[idx], c)\n",
        "\n",
        "# with open(\"means.txt\", 'w') as f:\n",
        "#   np.savetxt(f, centroids)\n",
        "\n",
        "# with open(\"weights.txt\", 'w') as f:\n",
        "#   np.savetxt(f, weights)\n",
        "\n",
        "# !tar -cvf covariances.tar.gz covariances"
      ],
      "execution_count": 66,
      "outputs": []
    },
    {
      "cell_type": "code",
      "metadata": {
        "colab": {
          "base_uri": "https://localhost:8080/",
          "height": 330
        },
        "id": "Rm6jcb0dhkCa",
        "outputId": "b2bfb716-40e8-47af-9846-31214aea0652"
      },
      "source": [
        "D = np.array(\n",
        "    [[1,1],\n",
        "     [1,2],\n",
        "     [1,3],\n",
        "     [2,1],\n",
        "     [4,1],\n",
        "     [4,2],\n",
        "     [5,1],\n",
        "     [5,2],\n",
        "     [4,5]])\n",
        "col = [0,0,0,0,1,1,1,1,1]\n",
        "\n",
        "fig, axs = plt.subplots(figsize=(10,5), ncols=2)\n",
        "\n",
        "means = D.mean(0)\n",
        "\n",
        "## standard\n",
        "ax = axs[0]\n",
        "D_norm = D - D.mean(0)\n",
        "D_max = D_norm.max(0)\n",
        "\n",
        "x = D[:,0]\n",
        "y = D[:,1]\n",
        "\n",
        "ax.scatter(x,y, c=col, cmap=\"tab20b\")\n",
        "\n",
        "ax.axhline(0, linestyle=\"--\", color='lightgray', zorder=-1)\n",
        "ax.axvline(0, linestyle=\"--\", color='lightgray', zorder=-1)\n",
        "\n",
        "ax.scatter(D_max[0], 0, color=\"red\")\n",
        "ax.scatter(0, D_max[1], color=\"blue\")\n",
        "\n",
        "ax.set(**{\n",
        "    \"xlim\": (-5,5),\n",
        "    \"ylim\": (-5,5)\n",
        "})\n",
        "\n",
        "## subtract mean\n",
        "ax = axs[1]\n",
        "x = D_norm[:,0]\n",
        "y = D_norm[:,1]\n",
        "\n",
        "ax.scatter(x,y, c=col, cmap=\"tab20b\", marker=\"*\")\n",
        "\n",
        "ax.axhline(0, linestyle=\"--\", color='lightgray', zorder=-1)\n",
        "ax.axvline(0, linestyle=\"--\", color='lightgray', zorder=-1)\n",
        "\n",
        "ax.scatter(D_max[0], 0, color=\"red\")\n",
        "ax.scatter(0, D_max[1], color=\"blue\")\n",
        "\n",
        "ax.set(**{\n",
        "    \"xlim\": (-5,5),\n",
        "    \"ylim\": (-5,5)\n",
        "})\n",
        "\n",
        "fig.show()"
      ],
      "execution_count": 67,
      "outputs": [
        {
          "output_type": "display_data",
          "data": {
            "image/png": "[encoded data removed]",
            "text/plain": [
              "<Figure size 720x360 with 2 Axes>"
            ]
          },
          "metadata": {
            "image/png": {
              "width": 624,
              "height": 313
            },
            "needs_background": "light"
          }
        }
      ]
    },
    {
      "cell_type": "code",
      "metadata": {
        "id": "b3RXB7X_HkAp"
      },
      "source": [
        ""
      ],
      "execution_count": 67,
      "outputs": []
    }
  ]
}