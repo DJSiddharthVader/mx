{
  "nbformat": 4,
  "nbformat_minor": 0,
  "metadata": {
    "colab": {
      "name": "gmm_sim.ipynb",
      "provenance": [],
      "authorship_tag": "ABX9TyNyr+T9n6kBk6dQd7ibYxpU",
      "include_colab_link": true
    },
    "kernelspec": {
      "name": "python3",
      "display_name": "Python 3"
    },
    "language_info": {
      "name": "python"
    }
  },
  "cells": [
    {
      "cell_type": "markdown",
      "metadata": {
        "id": "view-in-github",
        "colab_type": "text"
      },
      "source": [
        "<a href=\"https://colab.research.google.com/github/sbooeshaghi/mx/blob/master/test/gmm_sim.ipynb\" target=\"_parent\"><img src=\"https://colab.research.google.com/assets/colab-badge.svg\" alt=\"Open In Colab\"/></a>"
      ]
    },
    {
      "cell_type": "code",
      "metadata": {
        "colab": {
          "base_uri": "https://localhost:8080/"
        },
        "id": "lRHcc5VIANWY",
        "outputId": "aef0512c-1abd-4d5f-bfc2-b738537fc0d3"
      },
      "source": [
        "!pip install --quiet -U scikit-learn kb_python anndata\n",
        "!python -m pip show scikit-learn"
      ],
      "execution_count": 1,
      "outputs": [
        {
          "output_type": "stream",
          "name": "stdout",
          "text": [
            "\u001b[K     |████████████████████████████████| 23.1 MB 2.5 MB/s \n",
            "\u001b[K     |████████████████████████████████| 7.4 MB 24.8 MB/s \n",
            "\u001b[K     |████████████████████████████████| 127 kB 41.7 MB/s \n",
            "\u001b[K     |████████████████████████████████| 41 kB 83 kB/s \n",
            "\u001b[K     |████████████████████████████████| 51.7 MB 16 kB/s \n",
            "\u001b[K     |████████████████████████████████| 23.9 MB 1.5 MB/s \n",
            "\u001b[K     |████████████████████████████████| 2.0 MB 39.1 MB/s \n",
            "\u001b[K     |████████████████████████████████| 48 kB 4.9 MB/s \n",
            "\u001b[K     |████████████████████████████████| 3.3 MB 26.7 MB/s \n",
            "\u001b[K     |████████████████████████████████| 12.3 MB 11.8 MB/s \n",
            "\u001b[K     |████████████████████████████████| 26.3 MB 91 kB/s \n",
            "\u001b[K     |████████████████████████████████| 80 kB 7.6 MB/s \n",
            "\u001b[K     |████████████████████████████████| 1.1 MB 54.5 MB/s \n",
            "\u001b[K     |████████████████████████████████| 63 kB 2.0 MB/s \n",
            "\u001b[?25h  Building wheel for kb-python (setup.py) ... \u001b[?25l\u001b[?25hdone\n",
            "  Building wheel for loompy (setup.py) ... \u001b[?25l\u001b[?25hdone\n",
            "  Building wheel for ngs-tools (setup.py) ... \u001b[?25l\u001b[?25hdone\n",
            "  Building wheel for umap-learn (setup.py) ... \u001b[?25l\u001b[?25hdone\n",
            "  Building wheel for pynndescent (setup.py) ... \u001b[?25l\u001b[?25hdone\n",
            "  Building wheel for numpy-groupies (setup.py) ... \u001b[?25l\u001b[?25hdone\n",
            "  Building wheel for sinfo (setup.py) ... \u001b[?25l\u001b[?25hdone\n",
            "Name: scikit-learn\n",
            "Version: 1.0\n",
            "Summary: A set of python modules for machine learning and data mining\n",
            "Home-page: http://scikit-learn.org\n",
            "Author: None\n",
            "Author-email: None\n",
            "License: new BSD\n",
            "Location: /usr/local/lib/python3.7/dist-packages\n",
            "Requires: joblib, numpy, threadpoolctl, scipy\n",
            "Required-by: yellowbrick, umap-learn, sklearn, sklearn-pandas, scanpy, pynndescent, mlxtend, lightgbm, librosa, kb-python, imbalanced-learn\n"
          ]
        }
      ]
    },
    {
      "cell_type": "code",
      "metadata": {
        "colab": {
          "base_uri": "https://localhost:8080/"
        },
        "id": "2H0l6cckAVS5",
        "outputId": "5232eb47-33b1-461b-ef31-292840f63f84"
      },
      "source": [
        "!git clone https://github.com/sbooeshaghi/sim.git"
      ],
      "execution_count": 2,
      "outputs": [
        {
          "output_type": "stream",
          "name": "stdout",
          "text": [
            "Cloning into 'sim'...\n",
            "remote: Enumerating objects: 7, done.\u001b[K\n",
            "remote: Counting objects: 100% (7/7), done.\u001b[K\n",
            "remote: Compressing objects: 100% (7/7), done.\u001b[K\n",
            "remote: Total 7 (delta 0), reused 7 (delta 0), pack-reused 0\u001b[K\n",
            "Unpacking objects: 100% (7/7), done.\n"
          ]
        }
      ]
    },
    {
      "cell_type": "code",
      "metadata": {
        "id": "cFYS2fujkGKy"
      },
      "source": [
        "# !wget -O adata.h5ad.gz https://caltech.box.com/shared/static/py9exhbzwxe1c6wch4foh2fpokxml3sp.gz"
      ],
      "execution_count": 3,
      "outputs": []
    },
    {
      "cell_type": "code",
      "metadata": {
        "id": "CT5Hse_wASJ1"
      },
      "source": [
        "import anndata\n",
        "import numpy as np\n",
        "import pandas as pd\n",
        "import matplotlib.pyplot as plt\n",
        "from kb_python.utils import import_matrix_as_anndata\n",
        "\n",
        "from scipy.io import mmread, mmwrite\n",
        "from scipy.spatial.distance import cdist\n",
        "from collections import defaultdict\n",
        "\n",
        "from sklearn.metrics import adjusted_rand_score, rand_score\n",
        "from sklearn.datasets import make_blobs\n",
        "from sklearn.preprocessing import normalize\n",
        "from sklearn.mixture import GaussianMixture as dumbGaussianMixture\n",
        "from sklearn.cluster import KMeans as KMeans\n",
        "from sklearn.mixture._gaussian_mixture import _estimate_gaussian_parameters as est_gaus_params #_compute_precision_cholesky\n",
        "from sklearn.neighbors import KDTree\n",
        "\n",
        "def nd(arr):\n",
        "    return np.asarray(arr).reshape(-1)\n",
        "\n",
        "fsize=20\n",
        "\n",
        "plt.rcParams.update({'font.size': fsize})\n",
        "%config InlineBackend.figure_format = 'retina'"
      ],
      "execution_count": 139,
      "outputs": []
    },
    {
      "cell_type": "code",
      "metadata": {
        "id": "s2yqAmAKDib-"
      },
      "source": [
        "# preprocess splatter file into markers file\n",
        "def write_markers(fname, markers):\n",
        "    with open(fname, \"w\") as f:\n",
        "        for k, v in markers.items():\n",
        "            f.write(f\"{k}\\t\")\n",
        "            n = len(v)\n",
        "            for idx, i in enumerate(v):\n",
        "                f.write(f\"{i}\")\n",
        "                if idx < n - 1:\n",
        "                    f.write(\",\")\n",
        "            f.write(\"\\n\")"
      ],
      "execution_count": 5,
      "outputs": []
    },
    {
      "cell_type": "code",
      "metadata": {
        "id": "giwl0iSWkY5u"
      },
      "source": [
        "n_sample = 20\n",
        "\n",
        "df = pd.read_csv(\"sim/genes_metadata.txt\")\n",
        "# splatter get marker genes\n",
        "markers = defaultdict(list)\n",
        "for i in range(1,11):\n",
        "    genes = df[df[f\"DEFacGroup{i}\"] > 1.5].sample(n_sample, random_state=3)[\"Gene\"].values\n",
        "    for j in genes:\n",
        "        markers[f\"group{i}\"].append(j)\n",
        "write_markers(\"markers.txt\", markers)"
      ],
      "execution_count": 6,
      "outputs": []
    },
    {
      "cell_type": "code",
      "metadata": {
        "id": "KU6mba9MGAyJ"
      },
      "source": [
        "def write_dict(fname, d):\n",
        "  inv_d = {v:k for k,v in d.items()}\n",
        "  with open(fname, \"w\") as f:\n",
        "    for idx in range(len(d)):\n",
        "      f.write(f'{inv_d[idx]}\\n')"
      ],
      "execution_count": 7,
      "outputs": []
    },
    {
      "cell_type": "code",
      "metadata": {
        "id": "LZmUx-okAUMP"
      },
      "source": [
        "def read_markers(fname, markers_ec=defaultdict(list), celltype=defaultdict(), marker_genes=defaultdict()):\n",
        "  with open(fname, \"r\") as f:\n",
        "    for idx, line in enumerate(f.readlines()):\n",
        "      ct, genes = line.strip().split('\\t')\n",
        "      celltype[ct] = idx\n",
        "      \n",
        "      # two things\n",
        "      # 1. make marker_genes list\n",
        "      # 2. make markers_ec\n",
        "      for g in genes.split(','):\n",
        "        gidx = len(marker_genes)\n",
        "        \n",
        "        # check if the gene has been added already\n",
        "        if g in marker_genes.keys(): # gene repeated\n",
        "          gidx = marker_genes[g]\n",
        "        else:\n",
        "          marker_genes[g] = gidx\n",
        "        \n",
        "        # for the cell type index, add the marker gene index \n",
        "        markers_ec[celltype[ct]].append(marker_genes[g])\n",
        "      \n",
        "      # sort the marker genes\n",
        "      markers_ec[celltype[ct]] = sorted(markers_ec[celltype[ct]])"
      ],
      "execution_count": 8,
      "outputs": []
    },
    {
      "cell_type": "code",
      "metadata": {
        "id": "ERYKj5sIByei"
      },
      "source": [
        "markers_ec=defaultdict(list)\n",
        "celltypes=defaultdict()\n",
        "marker_genes=defaultdict()\n",
        "read_markers(\"markers.txt\", markers_ec, celltypes, marker_genes)"
      ],
      "execution_count": 9,
      "outputs": []
    },
    {
      "cell_type": "code",
      "metadata": {
        "id": "xXwAzVf4D5is"
      },
      "source": [
        "write_markers(\"markers.ec\", markers_ec)\n",
        "write_dict(\"types.txt\", celltypes)\n",
        "write_dict(\"marker_genes.txt\", marker_genes)"
      ],
      "execution_count": 10,
      "outputs": []
    },
    {
      "cell_type": "code",
      "metadata": {
        "id": "tJaioUtwFNWN"
      },
      "source": [
        "# # simple way to verify that the markers are consistent\n",
        "# mg_inv = {v:k for k,v in marker_genes.items()}\n",
        "# i = 1\n",
        "# for idx in markers_ec[i]:\n",
        "#   check = mg_inv[idx] in markers[f\"group{i+1}\"]\n",
        "#   if not check:\n",
        "#     print(\"bad\")"
      ],
      "execution_count": 11,
      "outputs": []
    },
    {
      "cell_type": "code",
      "metadata": {
        "id": "dSbA6_-NlDAN"
      },
      "source": [
        "# !gunzip adata.h5ad.gz"
      ],
      "execution_count": 12,
      "outputs": []
    },
    {
      "cell_type": "code",
      "metadata": {
        "id": "7HpzaXApk9E3"
      },
      "source": [
        "# adata = anndata.read_h5ad(\"adata.h5ad\")\n",
        "# mmwrite(\"matrix.mtx\", adata.X.astype(int))\n",
        "# adata.obs.to_csv(\"barcodes.txt\", header=False, index=True, columns=[])\n",
        "# adata.var.to_csv(\"genes.txt\", header=False, index=True, columns=[])\n",
        "# adata.obs.to_csv(\"labels.txt\", header=False, index=True, columns=[\"cell_type\"], sep=\"\\t\")"
      ],
      "execution_count": 13,
      "outputs": []
    },
    {
      "cell_type": "markdown",
      "metadata": {
        "id": "i_LF4AnPMlSK"
      },
      "source": [
        "# Select the marker genes from the matrix and save the matrix"
      ]
    },
    {
      "cell_type": "code",
      "metadata": {
        "id": "ANR_bP2MIhSh"
      },
      "source": [
        "matrix_fname = \"sim/matrix.mtx\"\n",
        "mtx = mmread(matrix_fname).tocsr()"
      ],
      "execution_count": 14,
      "outputs": []
    },
    {
      "cell_type": "code",
      "metadata": {
        "id": "bz7Scm1JM2aL"
      },
      "source": [
        "genes = defaultdict()\n",
        "genes_fname = \"sim/genes.txt\"\n",
        "with open(genes_fname) as f:\n",
        "  for idx, line in enumerate(f.readlines()):\n",
        "    gene = line.strip()\n",
        "    genes[gene] = idx"
      ],
      "execution_count": 15,
      "outputs": []
    },
    {
      "cell_type": "code",
      "metadata": {
        "id": "qxWlrZ8TNAYM"
      },
      "source": [
        "mg_inv = {v:k for k,v in marker_genes.items()}\n",
        "\n",
        "sel = []\n",
        "for idx in range(len(mg_inv)):\n",
        "  # this maps the marker gene name index to the gene index\n",
        "  # in order of the marker_genes file\n",
        "  sel.append(genes[mg_inv[idx]])"
      ],
      "execution_count": 16,
      "outputs": []
    },
    {
      "cell_type": "code",
      "metadata": {
        "colab": {
          "base_uri": "https://localhost:8080/"
        },
        "id": "NgMjxxyPpibD",
        "outputId": "0c4a67a3-4d3e-42d3-fcc3-d938a4df6b8f"
      },
      "source": [
        "len(sel)"
      ],
      "execution_count": 17,
      "outputs": [
        {
          "output_type": "execute_result",
          "data": {
            "text/plain": [
              "180"
            ]
          },
          "metadata": {},
          "execution_count": 17
        }
      ]
    },
    {
      "cell_type": "code",
      "metadata": {
        "colab": {
          "base_uri": "https://localhost:8080/"
        },
        "id": "sMxdC8WKMqY7",
        "outputId": "1ea7dfef-9889-4250-dc9a-883983482c4c"
      },
      "source": [
        "a = np.array([[1,2,2],\n",
        "              [2,1,1],\n",
        "              [0,1,2],\n",
        "              [1,3,1]])\n",
        "# numpy selects the columns in order\n",
        "print(a)\n",
        "print(a[:,[2,0,1]])"
      ],
      "execution_count": 18,
      "outputs": [
        {
          "output_type": "stream",
          "name": "stdout",
          "text": [
            "[[1 2 2]\n",
            " [2 1 1]\n",
            " [0 1 2]\n",
            " [1 3 1]]\n",
            "[[2 1 2]\n",
            " [1 2 1]\n",
            " [2 0 1]\n",
            " [1 1 3]]\n"
          ]
        }
      ]
    },
    {
      "cell_type": "code",
      "metadata": {
        "id": "q6eUIPGLPIUk"
      },
      "source": [
        "mmwrite(\"matrix_select.mtx\", mtx[:,sel])"
      ],
      "execution_count": 19,
      "outputs": []
    },
    {
      "cell_type": "markdown",
      "metadata": {
        "id": "pXFiwwTwQJFz"
      },
      "source": [
        "# Test out the GMM"
      ]
    },
    {
      "cell_type": "code",
      "metadata": {
        "id": "ZlxOecVtPgYg",
        "cellView": "form"
      },
      "source": [
        "#@title sklearn/mixture/_base.py\n",
        "\n",
        "\"\"\"Base class for mixture models.\"\"\"\n",
        "\n",
        "# sklearn/mixture/_base.py\n",
        "\n",
        "# Author: Wei Xue <xuewei4d@gmail.com>\n",
        "# Modified by Thierry Guillemot <thierry.guillemot.work@gmail.com>\n",
        "# License: BSD 3 clause\n",
        "\n",
        "import warnings\n",
        "from abc import ABCMeta, abstractmethod\n",
        "from time import time\n",
        "\n",
        "import numpy as np\n",
        "from scipy.special import logsumexp\n",
        "\n",
        "from sklearn import cluster\n",
        "from sklearn.base import BaseEstimator\n",
        "from sklearn.base import DensityMixin\n",
        "from sklearn.exceptions import ConvergenceWarning\n",
        "from sklearn.utils import check_random_state\n",
        "from sklearn.utils.validation import check_is_fitted\n",
        "\n",
        "\n",
        "def _check_shape(param, param_shape, name):\n",
        "    \"\"\"Validate the shape of the input parameter 'param'.\n",
        "\n",
        "    Parameters\n",
        "    ----------\n",
        "    param : array\n",
        "\n",
        "    param_shape : tuple\n",
        "\n",
        "    name : str\n",
        "    \"\"\"\n",
        "    param = np.array(param)\n",
        "    if param.shape != param_shape:\n",
        "        raise ValueError(\n",
        "            \"The parameter '%s' should have the shape of %s, but got %s\" %\n",
        "            (name, param_shape, param.shape))\n",
        "\n",
        "\n",
        "class BaseMixture(DensityMixin, BaseEstimator, metaclass=ABCMeta):\n",
        "    \"\"\"Base class for mixture models.\n",
        "\n",
        "    This abstract class specifies an interface for all mixture classes and\n",
        "    provides basic common methods for mixture models.\n",
        "    \"\"\"\n",
        "    def __init__(\n",
        "        self,\n",
        "        n_components,\n",
        "        tol,\n",
        "        reg_covar,\n",
        "        max_iter,\n",
        "        n_init,\n",
        "        init_params,\n",
        "        random_state,\n",
        "        warm_start,\n",
        "        verbose,\n",
        "        verbose_interval,\n",
        "    ):\n",
        "        self.n_components = n_components\n",
        "        self.tol = tol\n",
        "        self.reg_covar = reg_covar\n",
        "        self.max_iter = max_iter\n",
        "        self.n_init = n_init\n",
        "        self.init_params = init_params\n",
        "        self.random_state = random_state\n",
        "        self.warm_start = warm_start\n",
        "        self.verbose = verbose\n",
        "        self.verbose_interval = verbose_interval\n",
        "\n",
        "    def _check_initial_parameters(self, X):\n",
        "        \"\"\"Check values of the basic parameters.\n",
        "\n",
        "        Parameters\n",
        "        ----------\n",
        "        X : array-like of shape (n_samples, n_features)\n",
        "        \"\"\"\n",
        "        if self.n_components < 1:\n",
        "            raise ValueError(\"Invalid value for 'n_components': %d \"\n",
        "                             \"Estimation requires at least one component\" %\n",
        "                             self.n_components)\n",
        "\n",
        "        if self.tol < 0.0:\n",
        "            raise ValueError(\"Invalid value for 'tol': %.5f \"\n",
        "                             \"Tolerance used by the EM must be non-negative\" %\n",
        "                             self.tol)\n",
        "\n",
        "        if self.n_init < 1:\n",
        "            raise ValueError(\n",
        "                \"Invalid value for 'n_init': %d Estimation requires at least one run\"\n",
        "                % self.n_init)\n",
        "\n",
        "        if self.max_iter < 1:\n",
        "            raise ValueError(\"Invalid value for 'max_iter': %d \"\n",
        "                             \"Estimation requires at least one iteration\" %\n",
        "                             self.max_iter)\n",
        "\n",
        "        if self.reg_covar < 0.0:\n",
        "            raise ValueError(\"Invalid value for 'reg_covar': %.5f \"\n",
        "                             \"regularization on covariance must be \"\n",
        "                             \"non-negative\" % self.reg_covar)\n",
        "\n",
        "        # Check all the parameters values of the derived class\n",
        "        self._check_parameters(X)\n",
        "\n",
        "    @abstractmethod\n",
        "    def _check_parameters(self, X):\n",
        "        \"\"\"Check initial parameters of the derived class.\n",
        "\n",
        "        Parameters\n",
        "        ----------\n",
        "        X : array-like of shape  (n_samples, n_features)\n",
        "        \"\"\"\n",
        "        pass\n",
        "\n",
        "    def _initialize_parameters(self, X, random_state, B=None):\n",
        "        \"\"\"Initialize the model parameters.\n",
        "\n",
        "        Parameters\n",
        "        ----------\n",
        "        X : array-like of shape  (n_samples, n_features)\n",
        "\n",
        "        random_state : RandomState\n",
        "            A random number generator instance that controls the random seed\n",
        "            used for the method chosen to initialize the parameters.\n",
        "        \"\"\"\n",
        "        n_samples, _ = X.shape\n",
        "\n",
        "        if self.init_params == \"kmeans\":\n",
        "            resp = np.zeros((n_samples, self.n_components))\n",
        "            label = (cluster.KMeans(n_clusters=self.n_components,\n",
        "                                    n_init=1,\n",
        "                                    random_state=random_state).fit(X).labels_)\n",
        "            resp[np.arange(n_samples), label] = 1\n",
        "        elif self.init_params == \"random\":\n",
        "            resp = random_state.rand(n_samples, self.n_components)\n",
        "            resp /= resp.sum(axis=1)[:, np.newaxis]\n",
        "        else:\n",
        "            raise ValueError(\"Unimplemented initialization method '%s'\" %\n",
        "                             self.init_params)\n",
        "\n",
        "        self._initialize(X, resp, B)\n",
        "\n",
        "    @abstractmethod\n",
        "    def _initialize(self, X, resp, B=None):\n",
        "        \"\"\"Initialize the model parameters of the derived class.\n",
        "\n",
        "        Parameters\n",
        "        ----------\n",
        "        X : array-like of shape  (n_samples, n_features)\n",
        "\n",
        "        resp : array-like of shape (n_samples, n_components)\n",
        "        \"\"\"\n",
        "        pass\n",
        "\n",
        "    def fit(self, X, y=None):\n",
        "        \"\"\"Estimate model parameters with the EM algorithm.\n",
        "\n",
        "        The method fits the model ``n_init`` times and sets the parameters with\n",
        "        which the model has the largest likelihood or lower bound. Within each\n",
        "        trial, the method iterates between E-step and M-step for ``max_iter``\n",
        "        times until the change of likelihood or lower bound is less than\n",
        "        ``tol``, otherwise, a ``ConvergenceWarning`` is raised.\n",
        "        If ``warm_start`` is ``True``, then ``n_init`` is ignored and a single\n",
        "        initialization is performed upon the first call. Upon consecutive\n",
        "        calls, training starts where it left off.\n",
        "\n",
        "        Parameters\n",
        "        ----------\n",
        "        X : array-like of shape (n_samples, n_features)\n",
        "            List of n_features-dimensional data points. Each row\n",
        "            corresponds to a single data point.\n",
        "\n",
        "        y : Ignored\n",
        "            Not used, present for API consistency by convention.\n",
        "\n",
        "        Returns\n",
        "        -------\n",
        "        self : object\n",
        "            The fitted mixture.\n",
        "        \"\"\"\n",
        "        self.fit_predict(X, y)\n",
        "        return self\n",
        "\n",
        "    def fit_predict(self, X, y=None, B=None):\n",
        "        \"\"\"Estimate model parameters using X and predict the labels for X.\n",
        "\n",
        "        The method fits the model n_init times and sets the parameters with\n",
        "        which the model has the largest likelihood or lower bound. Within each\n",
        "        trial, the method iterates between E-step and M-step for `max_iter`\n",
        "        times until the change of likelihood or lower bound is less than\n",
        "        `tol`, otherwise, a :class:`~sklearn.exceptions.ConvergenceWarning` is\n",
        "        raised. After fitting, it predicts the most probable label for the\n",
        "        input data points.\n",
        "\n",
        "        .. versionadded:: 0.20\n",
        "\n",
        "        Parameters\n",
        "        ----------\n",
        "        X : array-like of shape (n_samples, n_features)\n",
        "            List of n_features-dimensional data points. Each row\n",
        "            corresponds to a single data point.\n",
        "\n",
        "        y : Ignored\n",
        "            Not used, present for API consistency by convention.\n",
        "\n",
        "        Returns\n",
        "        -------\n",
        "        labels : array, shape (n_samples,)\n",
        "            Component labels.\n",
        "        \"\"\"\n",
        "        X = self._validate_data(X,\n",
        "                                dtype=[np.float64, np.float32],\n",
        "                                ensure_min_samples=2)\n",
        "        if X.shape[0] < self.n_components:\n",
        "            raise ValueError(\"Expected n_samples >= n_components \"\n",
        "                             f\"but got n_components = {self.n_components}, \"\n",
        "                             f\"n_samples = {X.shape[0]}\")\n",
        "        self._check_initial_parameters(X)\n",
        "\n",
        "        # if we enable warm_start, we will have a unique initialisation\n",
        "        do_init = not (self.warm_start and hasattr(self, \"converged_\"))\n",
        "        n_init = self.n_init if do_init else 1\n",
        "\n",
        "        max_lower_bound = -np.inf\n",
        "        self.converged_ = False\n",
        "\n",
        "        random_state = check_random_state(self.random_state)\n",
        "\n",
        "        n_samples, _ = X.shape\n",
        "        for init in range(n_init):\n",
        "            self._print_verbose_msg_init_beg(init)\n",
        "\n",
        "            if do_init:\n",
        "                self._initialize_parameters(X, random_state, B=B)\n",
        "\n",
        "            lower_bound = -np.inf if do_init else self.lower_bound_\n",
        "\n",
        "            for n_iter in range(1, self.max_iter + 1):\n",
        "                prev_lower_bound = lower_bound\n",
        "\n",
        "                log_prob_norm, log_resp = self._e_step(X)\n",
        "                self._m_step(X, log_resp, B)\n",
        "                lower_bound = self._compute_lower_bound(\n",
        "                    log_resp, log_prob_norm)\n",
        "\n",
        "                change = lower_bound - prev_lower_bound\n",
        "                self._print_verbose_msg_iter_end(n_iter, change)\n",
        "\n",
        "                if abs(change) < self.tol:\n",
        "                    self.converged_ = True\n",
        "                    break\n",
        "\n",
        "            self._print_verbose_msg_init_end(lower_bound)\n",
        "\n",
        "            if lower_bound > max_lower_bound or max_lower_bound == -np.inf:\n",
        "                max_lower_bound = lower_bound\n",
        "                best_params = self._get_parameters()\n",
        "                best_n_iter = n_iter\n",
        "\n",
        "        if not self.converged_:\n",
        "            warnings.warn(\n",
        "                \"Initialization %d did not converge. \"\n",
        "                \"Try different init parameters, \"\n",
        "                \"or increase max_iter, tol \"\n",
        "                \"or check for degenerate data.\" % (init + 1),\n",
        "                ConvergenceWarning,\n",
        "            )\n",
        "\n",
        "        self._set_parameters(best_params)\n",
        "        self.n_iter_ = best_n_iter\n",
        "        self.lower_bound_ = max_lower_bound\n",
        "\n",
        "        # Always do a final e-step to guarantee that the labels returned by\n",
        "        # fit_predict(X) are always consistent with fit(X).predict(X)\n",
        "        # for any value of max_iter and tol (and any random_state).\n",
        "        _, log_resp = self._e_step(X)\n",
        "\n",
        "        return log_resp.argmax(axis=1)\n",
        "\n",
        "    def _e_step(self, X):\n",
        "        \"\"\"E step.\n",
        "\n",
        "        Parameters\n",
        "        ----------\n",
        "        X : array-like of shape (n_samples, n_features)\n",
        "\n",
        "        Returns\n",
        "        -------\n",
        "        log_prob_norm : float\n",
        "            Mean of the logarithms of the probabilities of each sample in X\n",
        "\n",
        "        log_responsibility : array, shape (n_samples, n_components)\n",
        "            Logarithm of the posterior probabilities (or responsibilities) of\n",
        "            the point of each sample in X.\n",
        "        \"\"\"\n",
        "        log_prob_norm, log_resp = self._estimate_log_prob_resp(X)\n",
        "        return np.mean(log_prob_norm), log_resp\n",
        "\n",
        "    @abstractmethod\n",
        "    def _m_step(self, X, log_resp, B=None):\n",
        "        \"\"\"M step.\n",
        "\n",
        "        Parameters\n",
        "        ----------\n",
        "        X : array-like of shape (n_samples, n_features)\n",
        "\n",
        "        log_resp : array-like of shape (n_samples, n_components)\n",
        "            Logarithm of the posterior probabilities (or responsibilities) of\n",
        "            the point of each sample in X.\n",
        "        \"\"\"\n",
        "        pass\n",
        "\n",
        "    @abstractmethod\n",
        "    def _get_parameters(self):\n",
        "        pass\n",
        "\n",
        "    @abstractmethod\n",
        "    def _set_parameters(self, params):\n",
        "        pass\n",
        "\n",
        "    def score_samples(self, X):\n",
        "        \"\"\"Compute the log-likelihood of each sample.\n",
        "\n",
        "        Parameters\n",
        "        ----------\n",
        "        X : array-like of shape (n_samples, n_features)\n",
        "            List of n_features-dimensional data points. Each row\n",
        "            corresponds to a single data point.\n",
        "\n",
        "        Returns\n",
        "        -------\n",
        "        log_prob : array, shape (n_samples,)\n",
        "            Log-likelihood of each sample in `X` under the current model.\n",
        "        \"\"\"\n",
        "        check_is_fitted(self)\n",
        "        X = self._validate_data(X, reset=False)\n",
        "\n",
        "        return logsumexp(self._estimate_weighted_log_prob(X), axis=1)\n",
        "\n",
        "    def score(self, X, y=None):\n",
        "        \"\"\"Compute the per-sample average log-likelihood of the given data X.\n",
        "\n",
        "        Parameters\n",
        "        ----------\n",
        "        X : array-like of shape (n_samples, n_dimensions)\n",
        "            List of n_features-dimensional data points. Each row\n",
        "            corresponds to a single data point.\n",
        "\n",
        "        y : Ignored\n",
        "            Not used, present for API consistency by convention.\n",
        "\n",
        "        Returns\n",
        "        -------\n",
        "        log_likelihood : float\n",
        "            Log-likelihood of `X` under the Gaussian mixture model.\n",
        "        \"\"\"\n",
        "        return self.score_samples(X).mean()\n",
        "\n",
        "    def predict(self, X):\n",
        "        \"\"\"Predict the labels for the data samples in X using trained model.\n",
        "\n",
        "        Parameters\n",
        "        ----------\n",
        "        X : array-like of shape (n_samples, n_features)\n",
        "            List of n_features-dimensional data points. Each row\n",
        "            corresponds to a single data point.\n",
        "\n",
        "        Returns\n",
        "        -------\n",
        "        labels : array, shape (n_samples,)\n",
        "            Component labels.\n",
        "        \"\"\"\n",
        "        check_is_fitted(self)\n",
        "        X = self._validate_data(X, reset=False)\n",
        "        return self._estimate_weighted_log_prob(X).argmax(axis=1)\n",
        "\n",
        "    def predict_proba(self, X):\n",
        "        \"\"\"Evaluate the components' density for each sample.\n",
        "\n",
        "        Parameters\n",
        "        ----------\n",
        "        X : array-like of shape (n_samples, n_features)\n",
        "            List of n_features-dimensional data points. Each row\n",
        "            corresponds to a single data point.\n",
        "\n",
        "        Returns\n",
        "        -------\n",
        "        resp : array, shape (n_samples, n_components)\n",
        "            Density of each Gaussian component for each sample in X.\n",
        "        \"\"\"\n",
        "        check_is_fitted(self)\n",
        "        X = self._validate_data(X, reset=False)\n",
        "        _, log_resp = self._estimate_log_prob_resp(X)\n",
        "        return np.exp(log_resp)\n",
        "\n",
        "    def sample(self, n_samples=1):\n",
        "        \"\"\"Generate random samples from the fitted Gaussian distribution.\n",
        "\n",
        "        Parameters\n",
        "        ----------\n",
        "        n_samples : int, default=1\n",
        "            Number of samples to generate.\n",
        "\n",
        "        Returns\n",
        "        -------\n",
        "        X : array, shape (n_samples, n_features)\n",
        "            Randomly generated sample.\n",
        "\n",
        "        y : array, shape (nsamples,)\n",
        "            Component labels.\n",
        "        \"\"\"\n",
        "        check_is_fitted(self)\n",
        "\n",
        "        if n_samples < 1:\n",
        "            raise ValueError(\n",
        "                \"Invalid value for 'n_samples': %d . The sampling requires at \"\n",
        "                \"least one sample.\" % (self.n_components))\n",
        "\n",
        "        _, n_features = self.means_.shape\n",
        "        rng = check_random_state(self.random_state)\n",
        "        n_samples_comp = rng.multinomial(n_samples, self.weights_)\n",
        "\n",
        "        if self.covariance_type == \"full\":\n",
        "            X = np.vstack([\n",
        "                rng.multivariate_normal(mean, covariance, int(sample))\n",
        "                for (mean, covariance, sample\n",
        "                     ) in zip(self.means_, self.covariances_, n_samples_comp)\n",
        "            ])\n",
        "        elif self.covariance_type == \"tied\":\n",
        "            X = np.vstack([\n",
        "                rng.multivariate_normal(mean, self.covariances_, int(sample))\n",
        "                for (mean, sample) in zip(self.means_, n_samples_comp)\n",
        "            ])\n",
        "        else:\n",
        "            X = np.vstack([\n",
        "                mean + rng.randn(sample, n_features) * np.sqrt(covariance)\n",
        "                for (mean, covariance, sample\n",
        "                     ) in zip(self.means_, self.covariances_, n_samples_comp)\n",
        "            ])\n",
        "\n",
        "        y = np.concatenate([\n",
        "            np.full(sample, j, dtype=int)\n",
        "            for j, sample in enumerate(n_samples_comp)\n",
        "        ])\n",
        "\n",
        "        return (X, y)\n",
        "\n",
        "    def _estimate_weighted_log_prob(self, X):\n",
        "        \"\"\"Estimate the weighted log-probabilities, log P(X | Z) + log weights.\n",
        "\n",
        "        Parameters\n",
        "        ----------\n",
        "        X : array-like of shape (n_samples, n_features)\n",
        "\n",
        "        Returns\n",
        "        -------\n",
        "        weighted_log_prob : array, shape (n_samples, n_component)\n",
        "        \"\"\"\n",
        "        return self._estimate_log_prob(X) + self._estimate_log_weights()\n",
        "\n",
        "    @abstractmethod\n",
        "    def _estimate_log_weights(self):\n",
        "        \"\"\"Estimate log-weights in EM algorithm, E[ log pi ] in VB algorithm.\n",
        "\n",
        "        Returns\n",
        "        -------\n",
        "        log_weight : array, shape (n_components, )\n",
        "        \"\"\"\n",
        "        pass\n",
        "\n",
        "    @abstractmethod\n",
        "    def _estimate_log_prob(self, X):\n",
        "        \"\"\"Estimate the log-probabilities log P(X | Z).\n",
        "\n",
        "        Compute the log-probabilities per each component for each sample.\n",
        "\n",
        "        Parameters\n",
        "        ----------\n",
        "        X : array-like of shape (n_samples, n_features)\n",
        "\n",
        "        Returns\n",
        "        -------\n",
        "        log_prob : array, shape (n_samples, n_component)\n",
        "        \"\"\"\n",
        "        pass\n",
        "\n",
        "    def _estimate_log_prob_resp(self, X):\n",
        "        \"\"\"Estimate log probabilities and responsibilities for each sample.\n",
        "\n",
        "        Compute the log probabilities, weighted log probabilities per\n",
        "        component and responsibilities for each sample in X with respect to\n",
        "        the current state of the model.\n",
        "\n",
        "        Parameters\n",
        "        ----------\n",
        "        X : array-like of shape (n_samples, n_features)\n",
        "\n",
        "        Returns\n",
        "        -------\n",
        "        log_prob_norm : array, shape (n_samples,)\n",
        "            log p(X)\n",
        "\n",
        "        log_responsibilities : array, shape (n_samples, n_components)\n",
        "            logarithm of the responsibilities\n",
        "        \"\"\"\n",
        "        weighted_log_prob = self._estimate_weighted_log_prob(X)\n",
        "        log_prob_norm = logsumexp(weighted_log_prob, axis=1)\n",
        "        with np.errstate(under=\"ignore\"):\n",
        "            # ignore underflow\n",
        "            log_resp = weighted_log_prob - log_prob_norm[:, np.newaxis]\n",
        "        return log_prob_norm, log_resp\n",
        "\n",
        "    def _print_verbose_msg_init_beg(self, n_init):\n",
        "        \"\"\"Print verbose message on initialization.\"\"\"\n",
        "        if self.verbose == 1:\n",
        "            print(\"Initialization %d\" % n_init)\n",
        "        elif self.verbose >= 2:\n",
        "            print(\"Initialization %d\" % n_init)\n",
        "            self._init_prev_time = time()\n",
        "            self._iter_prev_time = self._init_prev_time\n",
        "\n",
        "    def _print_verbose_msg_iter_end(self, n_iter, diff_ll):\n",
        "        \"\"\"Print verbose message on initialization.\"\"\"\n",
        "        if n_iter % self.verbose_interval == 0:\n",
        "            if self.verbose == 1:\n",
        "                print(\"  Iteration %d\" % n_iter)\n",
        "            elif self.verbose >= 2:\n",
        "                cur_time = time()\n",
        "                print(\"  Iteration %d\\t time lapse %.5fs\\t ll change %.5f\" %\n",
        "                      (n_iter, cur_time - self._iter_prev_time, diff_ll))\n",
        "                self._iter_prev_time = cur_time\n",
        "\n",
        "    def _print_verbose_msg_init_end(self, ll):\n",
        "        \"\"\"Print verbose message on the end of iteration.\"\"\"\n",
        "        if self.verbose == 1:\n",
        "            print(\"Initialization converged: %s\" % self.converged_)\n",
        "        elif self.verbose >= 2:\n",
        "            print(\"Initialization converged: %s\\t time lapse %.5fs\\t ll %.5f\" %\n",
        "                  (self.converged_, time() - self._init_prev_time, ll))"
      ],
      "execution_count": 20,
      "outputs": []
    },
    {
      "cell_type": "code",
      "metadata": {
        "id": "3hy995UuP95A",
        "cellView": "form"
      },
      "source": [
        "#@title sklearn/mixture/_gaussian_mixture.py \n",
        "\n",
        "\"\"\"Gaussian Mixture Model.\"\"\"\n",
        "\n",
        "# sklearn/mixture/_gaussian_mixture.py \n",
        "\n",
        "# Author: Wei Xue <xuewei4d@gmail.com>\n",
        "# Modified by Thierry Guillemot <thierry.guillemot.work@gmail.com>\n",
        "# License: BSD 3 clause\n",
        "\n",
        "import numpy as np\n",
        "\n",
        "from scipy import linalg\n",
        "\n",
        "# from ._base import BaseMixture, _check_shape these come from cell above\n",
        "from sklearn.utils import check_array\n",
        "from sklearn.utils.extmath import row_norms\n",
        "\n",
        "###############################################################################\n",
        "# Gaussian mixture shape checkers used by the GaussianMixture class\n",
        "\n",
        "\n",
        "def _check_weights(weights, n_components):\n",
        "    \"\"\"Check the user provided 'weights'.\n",
        "\n",
        "    Parameters\n",
        "    ----------\n",
        "    weights : array-like of shape (n_components,)\n",
        "        The proportions of components of each mixture.\n",
        "\n",
        "    n_components : int\n",
        "        Number of components.\n",
        "\n",
        "    Returns\n",
        "    -------\n",
        "    weights : array, shape (n_components,)\n",
        "    \"\"\"\n",
        "    weights = check_array(weights,\n",
        "                          dtype=[np.float64, np.float32],\n",
        "                          ensure_2d=False)\n",
        "    _check_shape(weights, (n_components, ), \"weights\")\n",
        "\n",
        "    # check range\n",
        "    if any(np.less(weights, 0.0)) or any(np.greater(weights, 1.0)):\n",
        "        raise ValueError(\"The parameter 'weights' should be in the range \"\n",
        "                         \"[0, 1], but got max value %.5f, min value %.5f\" %\n",
        "                         (np.min(weights), np.max(weights)))\n",
        "\n",
        "    # check normalization\n",
        "    if not np.allclose(np.abs(1.0 - np.sum(weights)), 0.0):\n",
        "        raise ValueError(\n",
        "            \"The parameter 'weights' should be normalized, but got sum(weights) = %.5f\"\n",
        "            % np.sum(weights))\n",
        "    return weights\n",
        "\n",
        "\n",
        "def _check_means(means, n_components, n_features):\n",
        "    \"\"\"Validate the provided 'means'.\n",
        "\n",
        "    Parameters\n",
        "    ----------\n",
        "    means : array-like of shape (n_components, n_features)\n",
        "        The centers of the current components.\n",
        "\n",
        "    n_components : int\n",
        "        Number of components.\n",
        "\n",
        "    n_features : int\n",
        "        Number of features.\n",
        "\n",
        "    Returns\n",
        "    -------\n",
        "    means : array, (n_components, n_features)\n",
        "    \"\"\"\n",
        "    means = check_array(means, dtype=[np.float64, np.float32], ensure_2d=False)\n",
        "    _check_shape(means, (n_components, n_features), \"means\")\n",
        "    return means\n",
        "\n",
        "\n",
        "def _check_precision_positivity(precision, covariance_type):\n",
        "    \"\"\"Check a precision vector is positive-definite.\"\"\"\n",
        "    if np.any(np.less_equal(precision, 0.0)):\n",
        "        raise ValueError(\"'%s precision' should be positive\" % covariance_type)\n",
        "\n",
        "\n",
        "def _check_precision_matrix(precision, covariance_type):\n",
        "    \"\"\"Check a precision matrix is symmetric and positive-definite.\"\"\"\n",
        "    if not (np.allclose(precision, precision.T)\n",
        "            and np.all(linalg.eigvalsh(precision) > 0.0)):\n",
        "        raise ValueError(\n",
        "            \"'%s precision' should be symmetric, positive-definite\" %\n",
        "            covariance_type)\n",
        "\n",
        "\n",
        "def _check_precisions_full(precisions, covariance_type):\n",
        "    \"\"\"Check the precision matrices are symmetric and positive-definite.\"\"\"\n",
        "    for prec in precisions:\n",
        "        _check_precision_matrix(prec, covariance_type)\n",
        "\n",
        "\n",
        "def _check_precisions(precisions, covariance_type, n_components, n_features):\n",
        "    \"\"\"Validate user provided precisions.\n",
        "\n",
        "    Parameters\n",
        "    ----------\n",
        "    precisions : array-like\n",
        "        'full' : shape of (n_components, n_features, n_features)\n",
        "        'tied' : shape of (n_features, n_features)\n",
        "        'diag' : shape of (n_components, n_features)\n",
        "        'spherical' : shape of (n_components,)\n",
        "\n",
        "    covariance_type : str\n",
        "\n",
        "    n_components : int\n",
        "        Number of components.\n",
        "\n",
        "    n_features : int\n",
        "        Number of features.\n",
        "\n",
        "    Returns\n",
        "    -------\n",
        "    precisions : array\n",
        "    \"\"\"\n",
        "    precisions = check_array(\n",
        "        precisions,\n",
        "        dtype=[np.float64, np.float32],\n",
        "        ensure_2d=False,\n",
        "        allow_nd=covariance_type == \"full\",\n",
        "    )\n",
        "\n",
        "    precisions_shape = {\n",
        "        \"full\": (n_components, n_features, n_features),\n",
        "        \"tied\": (n_features, n_features),\n",
        "        \"diag\": (n_components, n_features),\n",
        "        \"spherical\": (n_components, ),\n",
        "    }\n",
        "    _check_shape(precisions, precisions_shape[covariance_type],\n",
        "                 \"%s precision\" % covariance_type)\n",
        "\n",
        "    _check_precisions = {\n",
        "        \"full\": _check_precisions_full,\n",
        "        \"tied\": _check_precision_matrix,\n",
        "        \"diag\": _check_precision_positivity,\n",
        "        \"spherical\": _check_precision_positivity,\n",
        "    }\n",
        "    _check_precisions[covariance_type](precisions, covariance_type)\n",
        "    return precisions\n",
        "\n",
        "\n",
        "###############################################################################\n",
        "# Gaussian mixture parameters estimators (used by the M-Step)\n",
        "\n",
        "\n",
        "def _estimate_gaussian_covariances_full(resp, X, nk, means, reg_covar):\n",
        "    \"\"\"Estimate the full covariance matrices.\n",
        "\n",
        "    Parameters\n",
        "    ----------\n",
        "    resp : array-like of shape (n_samples, n_components)\n",
        "\n",
        "    X : array-like of shape (n_samples, n_features)\n",
        "\n",
        "    nk : array-like of shape (n_components,)\n",
        "\n",
        "    means : array-like of shape (n_components, n_features)\n",
        "\n",
        "    reg_covar : float\n",
        "\n",
        "    Returns\n",
        "    -------\n",
        "    covariances : array, shape (n_components, n_features, n_features)\n",
        "        The covariance matrix of the current components.\n",
        "    \"\"\"\n",
        "    n_components, n_features = means.shape\n",
        "    covariances = np.empty((n_components, n_features, n_features))\n",
        "    for k in range(n_components):\n",
        "        diff = X - means[k]\n",
        "        covariances[k] = np.dot(resp[:, k] * diff.T, diff) / nk[k]\n",
        "        covariances[k].flat[::n_features + 1] += reg_covar\n",
        "    return covariances\n",
        "\n",
        "\n",
        "def _estimate_gaussian_covariances_tied(resp, X, nk, means, reg_covar):\n",
        "    \"\"\"Estimate the tied covariance matrix.\n",
        "\n",
        "    Parameters\n",
        "    ----------\n",
        "    resp : array-like of shape (n_samples, n_components)\n",
        "\n",
        "    X : array-like of shape (n_samples, n_features)\n",
        "\n",
        "    nk : array-like of shape (n_components,)\n",
        "\n",
        "    means : array-like of shape (n_components, n_features)\n",
        "\n",
        "    reg_covar : float\n",
        "\n",
        "    Returns\n",
        "    -------\n",
        "    covariance : array, shape (n_features, n_features)\n",
        "        The tied covariance matrix of the components.\n",
        "    \"\"\"\n",
        "    avg_X2 = np.dot(X.T, X)\n",
        "    avg_means2 = np.dot(nk * means.T, means)\n",
        "    covariance = avg_X2 - avg_means2\n",
        "    covariance /= nk.sum()\n",
        "    covariance.flat[::len(covariance) + 1] += reg_covar\n",
        "    return covariance\n",
        "\n",
        "\n",
        "def _estimate_gaussian_covariances_diag(resp, X, nk, means, reg_covar):\n",
        "    \"\"\"Estimate the diagonal covariance vectors.\n",
        "\n",
        "    Parameters\n",
        "    ----------\n",
        "    responsibilities : array-like of shape (n_samples, n_components)\n",
        "\n",
        "    X : array-like of shape (n_samples, n_features)\n",
        "\n",
        "    nk : array-like of shape (n_components,)\n",
        "\n",
        "    means : array-like of shape (n_components, n_features)\n",
        "\n",
        "    reg_covar : float\n",
        "\n",
        "    Returns\n",
        "    -------\n",
        "    covariances : array, shape (n_components, n_features)\n",
        "        The covariance vector of the current components.\n",
        "    \"\"\"\n",
        "    avg_X2 = np.dot(resp.T, X * X) / nk[:, np.newaxis]\n",
        "    avg_means2 = means**2\n",
        "    avg_X_means = means * np.dot(resp.T, X) / nk[:, np.newaxis]\n",
        "    return avg_X2 - 2 * avg_X_means + avg_means2 + reg_covar\n",
        "\n",
        "\n",
        "def _estimate_gaussian_covariances_spherical(resp, X, nk, means, reg_covar):\n",
        "    \"\"\"Estimate the spherical variance values.\n",
        "\n",
        "    Parameters\n",
        "    ----------\n",
        "    responsibilities : array-like of shape (n_samples, n_components)\n",
        "\n",
        "    X : array-like of shape (n_samples, n_features)\n",
        "\n",
        "    nk : array-like of shape (n_components,)\n",
        "\n",
        "    means : array-like of shape (n_components, n_features)\n",
        "\n",
        "    reg_covar : float\n",
        "\n",
        "    Returns\n",
        "    -------\n",
        "    variances : array, shape (n_components,)\n",
        "        The variance values of each components.\n",
        "    \"\"\"\n",
        "    return _estimate_gaussian_covariances_diag(resp, X, nk, means,\n",
        "                                               reg_covar).mean(1)\n",
        "\n",
        "\n",
        "def _estimate_gaussian_parameters(X, resp, reg_covar, covariance_type, B=None):\n",
        "    \"\"\"Estimate the Gaussian distribution parameters.\n",
        "\n",
        "    Parameters\n",
        "    ----------\n",
        "    X : array-like of shape (n_samples, n_features)\n",
        "        The input data array.\n",
        "\n",
        "    resp : array-like of shape (n_samples, n_components)\n",
        "        The responsibilities for each data sample in X.\n",
        "\n",
        "    reg_covar : float\n",
        "        The regularization added to the diagonal of the covariance matrices.\n",
        "\n",
        "    covariance_type : {'full', 'tied', 'diag', 'spherical'}\n",
        "        The type of precision matrices.\n",
        "\n",
        "    Returns\n",
        "    -------\n",
        "    nk : array-like of shape (n_components,)\n",
        "        The numbers of data samples in the current components.\n",
        "\n",
        "    means : array-like of shape (n_components, n_features)\n",
        "        The centers of the current components.\n",
        "\n",
        "    covariances : array-like\n",
        "        The covariance matrix of the current components.\n",
        "        The shape depends of the covariance_type.\n",
        "    \"\"\"\n",
        "    print(\"Doing the thing..\")\n",
        "    nk = resp.sum(axis=0) + 10 * np.finfo(resp.dtype).eps\n",
        "    means = np.dot(resp.T, X) / nk[:, np.newaxis]\n",
        "\n",
        "    # get the mins for the marker genes\n",
        "    # ct_mins = [means[:, i].min() for i in B]\n",
        "    # marker_gene_indices = [set(np.where(i)[0]) for i in B]\n",
        "    ct_mins = [means[:,B[i]].min() for i in range(means.shape[0])]\n",
        "    marker_gene_indices = [set(B[i]) for i in range(means.shape[0])]\n",
        "    # modify based on the min/f\n",
        "    f = 2.\n",
        "    for idx, i in enumerate(means):\n",
        "        ct_min = ct_mins[idx]\n",
        "        betas = means[idx]\n",
        "        for jdx, b in enumerate(betas):\n",
        "            if jdx not in marker_gene_indices[idx]:\n",
        "                new = min(b, ct_min / f)\n",
        "                means[idx][jdx] = new\n",
        "\n",
        "    covariances = {\n",
        "        \"full\": _estimate_gaussian_covariances_full,\n",
        "        \"tied\": _estimate_gaussian_covariances_tied,\n",
        "        \"diag\": _estimate_gaussian_covariances_diag,\n",
        "        \"spherical\": _estimate_gaussian_covariances_spherical,\n",
        "    }[covariance_type](resp, X, nk, means, reg_covar)\n",
        "    return nk, means, covariances\n",
        "\n",
        "\n",
        "def _compute_precision_cholesky(covariances, covariance_type):\n",
        "    \"\"\"Compute the Cholesky decomposition of the precisions.\n",
        "\n",
        "    Parameters\n",
        "    ----------\n",
        "    covariances : array-like\n",
        "        The covariance matrix of the current components.\n",
        "        The shape depends of the covariance_type.\n",
        "\n",
        "    covariance_type : {'full', 'tied', 'diag', 'spherical'}\n",
        "        The type of precision matrices.\n",
        "\n",
        "    Returns\n",
        "    -------\n",
        "    precisions_cholesky : array-like\n",
        "        The cholesky decomposition of sample precisions of the current\n",
        "        components. The shape depends of the covariance_type.\n",
        "    \"\"\"\n",
        "    estimate_precision_error_message = (\n",
        "        \"Fitting the mixture model failed because some components have \"\n",
        "        \"ill-defined empirical covariance (for instance caused by singleton \"\n",
        "        \"or collapsed samples). Try to decrease the number of components, \"\n",
        "        \"or increase reg_covar.\")\n",
        "\n",
        "    if covariance_type == \"full\":\n",
        "        n_components, n_features, _ = covariances.shape\n",
        "        precisions_chol = np.empty((n_components, n_features, n_features))\n",
        "        for k, covariance in enumerate(covariances):\n",
        "            try:\n",
        "                cov_chol = linalg.cholesky(covariance, lower=True)\n",
        "            except linalg.LinAlgError:\n",
        "                raise ValueError(estimate_precision_error_message)\n",
        "            precisions_chol[k] = linalg.solve_triangular(cov_chol,\n",
        "                                                         np.eye(n_features),\n",
        "                                                         lower=True).T\n",
        "    elif covariance_type == \"tied\":\n",
        "        _, n_features = covariances.shape\n",
        "        try:\n",
        "            cov_chol = linalg.cholesky(covariances, lower=True)\n",
        "        except linalg.LinAlgError:\n",
        "            raise ValueError(estimate_precision_error_message)\n",
        "        precisions_chol = linalg.solve_triangular(cov_chol,\n",
        "                                                  np.eye(n_features),\n",
        "                                                  lower=True).T\n",
        "    else:\n",
        "        if np.any(np.less_equal(covariances, 0.0)):\n",
        "            raise ValueError(estimate_precision_error_message)\n",
        "        precisions_chol = 1.0 / np.sqrt(covariances)\n",
        "    return precisions_chol\n",
        "\n",
        "\n",
        "###############################################################################\n",
        "# Gaussian mixture probability estimators\n",
        "def _compute_log_det_cholesky(matrix_chol, covariance_type, n_features):\n",
        "    \"\"\"Compute the log-det of the cholesky decomposition of matrices.\n",
        "\n",
        "    Parameters\n",
        "    ----------\n",
        "    matrix_chol : array-like\n",
        "        Cholesky decompositions of the matrices.\n",
        "        'full' : shape of (n_components, n_features, n_features)\n",
        "        'tied' : shape of (n_features, n_features)\n",
        "        'diag' : shape of (n_components, n_features)\n",
        "        'spherical' : shape of (n_components,)\n",
        "\n",
        "    covariance_type : {'full', 'tied', 'diag', 'spherical'}\n",
        "\n",
        "    n_features : int\n",
        "        Number of features.\n",
        "\n",
        "    Returns\n",
        "    -------\n",
        "    log_det_precision_chol : array-like of shape (n_components,)\n",
        "        The determinant of the precision matrix for each component.\n",
        "    \"\"\"\n",
        "    if covariance_type == \"full\":\n",
        "        n_components, _, _ = matrix_chol.shape\n",
        "        log_det_chol = np.sum(\n",
        "            np.log(matrix_chol.reshape(n_components, -1)[:, ::n_features + 1]),\n",
        "            1)\n",
        "\n",
        "    elif covariance_type == \"tied\":\n",
        "        log_det_chol = np.sum(np.log(np.diag(matrix_chol)))\n",
        "\n",
        "    elif covariance_type == \"diag\":\n",
        "        log_det_chol = np.sum(np.log(matrix_chol), axis=1)\n",
        "\n",
        "    else:\n",
        "        log_det_chol = n_features * (np.log(matrix_chol))\n",
        "\n",
        "    return log_det_chol\n",
        "\n",
        "\n",
        "def _estimate_log_gaussian_prob(X, means, precisions_chol, covariance_type):\n",
        "    \"\"\"Estimate the log Gaussian probability.\n",
        "\n",
        "    Parameters\n",
        "    ----------\n",
        "    X : array-like of shape (n_samples, n_features)\n",
        "\n",
        "    means : array-like of shape (n_components, n_features)\n",
        "\n",
        "    precisions_chol : array-like\n",
        "        Cholesky decompositions of the precision matrices.\n",
        "        'full' : shape of (n_components, n_features, n_features)\n",
        "        'tied' : shape of (n_features, n_features)\n",
        "        'diag' : shape of (n_components, n_features)\n",
        "        'spherical' : shape of (n_components,)\n",
        "\n",
        "    covariance_type : {'full', 'tied', 'diag', 'spherical'}\n",
        "\n",
        "    Returns\n",
        "    -------\n",
        "    log_prob : array, shape (n_samples, n_components)\n",
        "    \"\"\"\n",
        "    n_samples, n_features = X.shape\n",
        "    n_components, _ = means.shape\n",
        "    # det(precision_chol) is half of det(precision)\n",
        "    log_det = _compute_log_det_cholesky(precisions_chol, covariance_type,\n",
        "                                        n_features)\n",
        "\n",
        "    if covariance_type == \"full\":\n",
        "        log_prob = np.empty((n_samples, n_components))\n",
        "        for k, (mu, prec_chol) in enumerate(zip(means, precisions_chol)):\n",
        "            y = np.dot(X, prec_chol) - np.dot(mu, prec_chol)\n",
        "            log_prob[:, k] = np.sum(np.square(y), axis=1)\n",
        "\n",
        "    elif covariance_type == \"tied\":\n",
        "        log_prob = np.empty((n_samples, n_components))\n",
        "        for k, mu in enumerate(means):\n",
        "            y = np.dot(X, precisions_chol) - np.dot(mu, precisions_chol)\n",
        "            log_prob[:, k] = np.sum(np.square(y), axis=1)\n",
        "\n",
        "    elif covariance_type == \"diag\":\n",
        "        precisions = precisions_chol**2\n",
        "        log_prob = (np.sum((means**2 * precisions), 1) -\n",
        "                    2.0 * np.dot(X, (means * precisions).T) +\n",
        "                    np.dot(X**2, precisions.T))\n",
        "\n",
        "    elif covariance_type == \"spherical\":\n",
        "        precisions = precisions_chol**2\n",
        "        log_prob = (np.sum(means**2, 1) * precisions -\n",
        "                    2 * np.dot(X, means.T * precisions) +\n",
        "                    np.outer(row_norms(X, squared=True), precisions))\n",
        "    return -0.5 * (n_features * np.log(2 * np.pi) + log_prob) + log_det\n",
        "\n",
        "\n",
        "class GaussianMixture(BaseMixture):\n",
        "    \"\"\"Gaussian Mixture.\n",
        "\n",
        "    Representation of a Gaussian mixture model probability distribution.\n",
        "    This class allows to estimate the parameters of a Gaussian mixture\n",
        "    distribution.\n",
        "\n",
        "    Read more in the :ref:`User Guide <gmm>`.\n",
        "\n",
        "    .. versionadded:: 0.18\n",
        "\n",
        "    Parameters\n",
        "    ----------\n",
        "    n_components : int, default=1\n",
        "        The number of mixture components.\n",
        "\n",
        "    covariance_type : {'full', 'tied', 'diag', 'spherical'}, default='full'\n",
        "        String describing the type of covariance parameters to use.\n",
        "        Must be one of:\n",
        "\n",
        "        'full'\n",
        "            each component has its own general covariance matrix\n",
        "        'tied'\n",
        "            all components share the same general covariance matrix\n",
        "        'diag'\n",
        "            each component has its own diagonal covariance matrix\n",
        "        'spherical'\n",
        "            each component has its own single variance\n",
        "\n",
        "    tol : float, default=1e-3\n",
        "        The convergence threshold. EM iterations will stop when the\n",
        "        lower bound average gain is below this threshold.\n",
        "\n",
        "    reg_covar : float, default=1e-6\n",
        "        Non-negative regularization added to the diagonal of covariance.\n",
        "        Allows to assure that the covariance matrices are all positive.\n",
        "\n",
        "    max_iter : int, default=100\n",
        "        The number of EM iterations to perform.\n",
        "\n",
        "    n_init : int, default=1\n",
        "        The number of initializations to perform. The best results are kept.\n",
        "\n",
        "    init_params : {'kmeans', 'random'}, default='kmeans'\n",
        "        The method used to initialize the weights, the means and the\n",
        "        precisions.\n",
        "        Must be one of::\n",
        "\n",
        "            'kmeans' : responsibilities are initialized using kmeans.\n",
        "            'random' : responsibilities are initialized randomly.\n",
        "\n",
        "    weights_init : array-like of shape (n_components, ), default=None\n",
        "        The user-provided initial weights.\n",
        "        If it is None, weights are initialized using the `init_params` method.\n",
        "\n",
        "    means_init : array-like of shape (n_components, n_features), default=None\n",
        "        The user-provided initial means,\n",
        "        If it is None, means are initialized using the `init_params` method.\n",
        "\n",
        "    precisions_init : array-like, default=None\n",
        "        The user-provided initial precisions (inverse of the covariance\n",
        "        matrices).\n",
        "        If it is None, precisions are initialized using the 'init_params'\n",
        "        method.\n",
        "        The shape depends on 'covariance_type'::\n",
        "\n",
        "            (n_components,)                        if 'spherical',\n",
        "            (n_features, n_features)               if 'tied',\n",
        "            (n_components, n_features)             if 'diag',\n",
        "            (n_components, n_features, n_features) if 'full'\n",
        "\n",
        "    random_state : int, RandomState instance or None, default=None\n",
        "        Controls the random seed given to the method chosen to initialize the\n",
        "        parameters (see `init_params`).\n",
        "        In addition, it controls the generation of random samples from the\n",
        "        fitted distribution (see the method `sample`).\n",
        "        Pass an int for reproducible output across multiple function calls.\n",
        "        See :term:`Glossary <random_state>`.\n",
        "\n",
        "    warm_start : bool, default=False\n",
        "        If 'warm_start' is True, the solution of the last fitting is used as\n",
        "        initialization for the next call of fit(). This can speed up\n",
        "        convergence when fit is called several times on similar problems.\n",
        "        In that case, 'n_init' is ignored and only a single initialization\n",
        "        occurs upon the first call.\n",
        "        See :term:`the Glossary <warm_start>`.\n",
        "\n",
        "    verbose : int, default=0\n",
        "        Enable verbose output. If 1 then it prints the current\n",
        "        initialization and each iteration step. If greater than 1 then\n",
        "        it prints also the log probability and the time needed\n",
        "        for each step.\n",
        "\n",
        "    verbose_interval : int, default=10\n",
        "        Number of iteration done before the next print.\n",
        "\n",
        "    Attributes\n",
        "    ----------\n",
        "    weights_ : array-like of shape (n_components,)\n",
        "        The weights of each mixture components.\n",
        "\n",
        "    means_ : array-like of shape (n_components, n_features)\n",
        "        The mean of each mixture component.\n",
        "\n",
        "    covariances_ : array-like\n",
        "        The covariance of each mixture component.\n",
        "        The shape depends on `covariance_type`::\n",
        "\n",
        "            (n_components,)                        if 'spherical',\n",
        "            (n_features, n_features)               if 'tied',\n",
        "            (n_components, n_features)             if 'diag',\n",
        "            (n_components, n_features, n_features) if 'full'\n",
        "\n",
        "    precisions_ : array-like\n",
        "        The precision matrices for each component in the mixture. A precision\n",
        "        matrix is the inverse of a covariance matrix. A covariance matrix is\n",
        "        symmetric positive definite so the mixture of Gaussian can be\n",
        "        equivalently parameterized by the precision matrices. Storing the\n",
        "        precision matrices instead of the covariance matrices makes it more\n",
        "        efficient to compute the log-likelihood of new samples at test time.\n",
        "        The shape depends on `covariance_type`::\n",
        "\n",
        "            (n_components,)                        if 'spherical',\n",
        "            (n_features, n_features)               if 'tied',\n",
        "            (n_components, n_features)             if 'diag',\n",
        "            (n_components, n_features, n_features) if 'full'\n",
        "\n",
        "    precisions_cholesky_ : array-like\n",
        "        The cholesky decomposition of the precision matrices of each mixture\n",
        "        component. A precision matrix is the inverse of a covariance matrix.\n",
        "        A covariance matrix is symmetric positive definite so the mixture of\n",
        "        Gaussian can be equivalently parameterized by the precision matrices.\n",
        "        Storing the precision matrices instead of the covariance matrices makes\n",
        "        it more efficient to compute the log-likelihood of new samples at test\n",
        "        time. The shape depends on `covariance_type`::\n",
        "\n",
        "            (n_components,)                        if 'spherical',\n",
        "            (n_features, n_features)               if 'tied',\n",
        "            (n_components, n_features)             if 'diag',\n",
        "            (n_components, n_features, n_features) if 'full'\n",
        "\n",
        "    converged_ : bool\n",
        "        True when convergence was reached in fit(), False otherwise.\n",
        "\n",
        "    n_iter_ : int\n",
        "        Number of step used by the best fit of EM to reach the convergence.\n",
        "\n",
        "    lower_bound_ : float\n",
        "        Lower bound value on the log-likelihood (of the training data with\n",
        "        respect to the model) of the best fit of EM.\n",
        "\n",
        "    n_features_in_ : int\n",
        "        Number of features seen during :term:`fit`.\n",
        "\n",
        "        .. versionadded:: 0.24\n",
        "\n",
        "    feature_names_in_ : ndarray of shape (`n_features_in_`,)\n",
        "        Names of features seen during :term:`fit`. Defined only when `X`\n",
        "        has feature names that are all strings.\n",
        "\n",
        "        .. versionadded:: 1.0\n",
        "\n",
        "    See Also\n",
        "    --------\n",
        "    BayesianGaussianMixture : Gaussian mixture model fit with a variational\n",
        "        inference.\n",
        "\n",
        "    Examples\n",
        "    --------\n",
        "    >>> import numpy as np\n",
        "    >>> from sklearn.mixture import GaussianMixture\n",
        "    >>> X = np.array([[1, 2], [1, 4], [1, 0], [10, 2], [10, 4], [10, 0]])\n",
        "    >>> gm = GaussianMixture(n_components=2, random_state=0).fit(X)\n",
        "    >>> gm.means_\n",
        "    array([[10.,  2.],\n",
        "           [ 1.,  2.]])\n",
        "    >>> gm.predict([[0, 0], [12, 3]])\n",
        "    array([1, 0])\n",
        "    \"\"\"\n",
        "    def __init__(\n",
        "        self,\n",
        "        n_components=1,\n",
        "        *,\n",
        "        covariance_type=\"full\",\n",
        "        tol=1e-3,\n",
        "        reg_covar=1e-6,\n",
        "        max_iter=100,\n",
        "        n_init=1,\n",
        "        init_params=\"kmeans\",\n",
        "        weights_init=None,\n",
        "        means_init=None,\n",
        "        precisions_init=None,\n",
        "        random_state=None,\n",
        "        warm_start=False,\n",
        "        verbose=0,\n",
        "        verbose_interval=10,\n",
        "    ):\n",
        "        super().__init__(\n",
        "            n_components=n_components,\n",
        "            tol=tol,\n",
        "            reg_covar=reg_covar,\n",
        "            max_iter=max_iter,\n",
        "            n_init=n_init,\n",
        "            init_params=init_params,\n",
        "            random_state=random_state,\n",
        "            warm_start=warm_start,\n",
        "            verbose=verbose,\n",
        "            verbose_interval=verbose_interval,\n",
        "        )\n",
        "\n",
        "        self.covariance_type = covariance_type\n",
        "        self.weights_init = weights_init\n",
        "        self.means_init = means_init\n",
        "        self.precisions_init = precisions_init\n",
        "\n",
        "    def _check_parameters(self, X):\n",
        "        \"\"\"Check the Gaussian mixture parameters are well defined.\"\"\"\n",
        "        _, n_features = X.shape\n",
        "        if self.covariance_type not in [\"spherical\", \"tied\", \"diag\", \"full\"]:\n",
        "            raise ValueError(\"Invalid value for 'covariance_type': %s \"\n",
        "                             \"'covariance_type' should be in \"\n",
        "                             \"['spherical', 'tied', 'diag', 'full']\" %\n",
        "                             self.covariance_type)\n",
        "\n",
        "        if self.weights_init is not None:\n",
        "            self.weights_init = _check_weights(self.weights_init,\n",
        "                                               self.n_components)\n",
        "\n",
        "        if self.means_init is not None:\n",
        "            self.means_init = _check_means(self.means_init, self.n_components,\n",
        "                                           n_features)\n",
        "\n",
        "        if self.precisions_init is not None:\n",
        "            self.precisions_init = _check_precisions(\n",
        "                self.precisions_init,\n",
        "                self.covariance_type,\n",
        "                self.n_components,\n",
        "                n_features,\n",
        "            )\n",
        "\n",
        "    def _initialize(self, X, resp, B=None):\n",
        "        \"\"\"Initialization of the Gaussian mixture parameters.\n",
        "\n",
        "        Parameters\n",
        "        ----------\n",
        "        X : array-like of shape (n_samples, n_features)\n",
        "\n",
        "        resp : array-like of shape (n_samples, n_components)\n",
        "        \"\"\"\n",
        "        n_samples, _ = X.shape\n",
        "\n",
        "        weights, means, covariances = _estimate_gaussian_parameters(\n",
        "            X, resp, self.reg_covar, self.covariance_type, B=B)\n",
        "        weights /= n_samples\n",
        "\n",
        "        self.weights_ = weights if self.weights_init is None else self.weights_init\n",
        "        self.means_ = means if self.means_init is None else self.means_init\n",
        "\n",
        "        if self.precisions_init is None:\n",
        "            self.covariances_ = covariances\n",
        "            self.precisions_cholesky_ = _compute_precision_cholesky(\n",
        "                covariances, self.covariance_type)\n",
        "        elif self.covariance_type == \"full\":\n",
        "            self.precisions_cholesky_ = np.array([\n",
        "                linalg.cholesky(prec_init, lower=True)\n",
        "                for prec_init in self.precisions_init\n",
        "            ])\n",
        "        elif self.covariance_type == \"tied\":\n",
        "            self.precisions_cholesky_ = linalg.cholesky(self.precisions_init,\n",
        "                                                        lower=True)\n",
        "        else:\n",
        "            self.precisions_cholesky_ = self.precisions_init\n",
        "\n",
        "    def _m_step(self, X, log_resp, B=None):\n",
        "        \"\"\"M step.\n",
        "\n",
        "        Parameters\n",
        "        ----------\n",
        "        X : array-like of shape (n_samples, n_features)\n",
        "\n",
        "        log_resp : array-like of shape (n_samples, n_components)\n",
        "            Logarithm of the posterior probabilities (or responsibilities) of\n",
        "            the point of each sample in X.\n",
        "        \"\"\"\n",
        "        n_samples, _ = X.shape\n",
        "        self.weights_, self.means_, self.covariances_ = _estimate_gaussian_parameters(\n",
        "            X, np.exp(log_resp), self.reg_covar, self.covariance_type, B=B)\n",
        "        self.weights_ /= n_samples\n",
        "        self.precisions_cholesky_ = _compute_precision_cholesky(\n",
        "            self.covariances_, self.covariance_type)\n",
        "\n",
        "    def _estimate_log_prob(self, X):\n",
        "        return _estimate_log_gaussian_prob(X, self.means_,\n",
        "                                           self.precisions_cholesky_,\n",
        "                                           self.covariance_type)\n",
        "\n",
        "    def _estimate_log_weights(self):\n",
        "        return np.log(self.weights_)\n",
        "\n",
        "    def _compute_lower_bound(self, _, log_prob_norm):\n",
        "        return log_prob_norm\n",
        "\n",
        "    def _get_parameters(self):\n",
        "        return (\n",
        "            self.weights_,\n",
        "            self.means_,\n",
        "            self.covariances_,\n",
        "            self.precisions_cholesky_,\n",
        "        )\n",
        "\n",
        "    def _set_parameters(self, params):\n",
        "        (\n",
        "            self.weights_,\n",
        "            self.means_,\n",
        "            self.covariances_,\n",
        "            self.precisions_cholesky_,\n",
        "        ) = params\n",
        "\n",
        "        # Attributes computation\n",
        "        _, n_features = self.means_.shape\n",
        "\n",
        "        if self.covariance_type == \"full\":\n",
        "            self.precisions_ = np.empty(self.precisions_cholesky_.shape)\n",
        "            for k, prec_chol in enumerate(self.precisions_cholesky_):\n",
        "                self.precisions_[k] = np.dot(prec_chol, prec_chol.T)\n",
        "\n",
        "        elif self.covariance_type == \"tied\":\n",
        "            self.precisions_ = np.dot(self.precisions_cholesky_,\n",
        "                                      self.precisions_cholesky_.T)\n",
        "        else:\n",
        "            self.precisions_ = self.precisions_cholesky_**2\n",
        "\n",
        "    def _n_parameters(self):\n",
        "        \"\"\"Return the number of free parameters in the model.\"\"\"\n",
        "        _, n_features = self.means_.shape\n",
        "        if self.covariance_type == \"full\":\n",
        "            cov_params = self.n_components * n_features * (n_features +\n",
        "                                                           1) / 2.0\n",
        "        elif self.covariance_type == \"diag\":\n",
        "            cov_params = self.n_components * n_features\n",
        "        elif self.covariance_type == \"tied\":\n",
        "            cov_params = n_features * (n_features + 1) / 2.0\n",
        "        elif self.covariance_type == \"spherical\":\n",
        "            cov_params = self.n_components\n",
        "        mean_params = n_features * self.n_components\n",
        "        return int(cov_params + mean_params + self.n_components - 1)\n",
        "\n",
        "    def bic(self, X):\n",
        "        \"\"\"Bayesian information criterion for the current model on the input X.\n",
        "\n",
        "        Parameters\n",
        "        ----------\n",
        "        X : array of shape (n_samples, n_dimensions)\n",
        "            The input samples.\n",
        "\n",
        "        Returns\n",
        "        -------\n",
        "        bic : float\n",
        "            The lower the better.\n",
        "        \"\"\"\n",
        "        return -2 * self.score(X) * X.shape[0] + self._n_parameters() * np.log(\n",
        "            X.shape[0])\n",
        "\n",
        "    def aic(self, X):\n",
        "        \"\"\"Akaike information criterion for the current model on the input X.\n",
        "\n",
        "        Parameters\n",
        "        ----------\n",
        "        X : array of shape (n_samples, n_dimensions)\n",
        "            The input samples.\n",
        "\n",
        "        Returns\n",
        "        -------\n",
        "        aic : float\n",
        "            The lower the better.\n",
        "        \"\"\"\n",
        "        return -2 * self.score(X) * X.shape[0] + 2 * self._n_parameters()"
      ],
      "execution_count": 21,
      "outputs": []
    },
    {
      "cell_type": "code",
      "metadata": {
        "id": "ectxGFd6QCRo"
      },
      "source": [
        "labels_fname = \"sim/labels.txt\"\n",
        "\n",
        "G = mmread(\"matrix_select.mtx\").toarray()\n",
        "mask = G.sum(1)>0\n",
        "G = G[mask]\n",
        "labels = pd.read_csv(labels_fname, sep=\"\\t\", header=None, names=[\"cell\", \"celltype\"])\n",
        "\n",
        "z = labels[\"celltype\"].astype(\"category\").cat.codes.values\n",
        "z = z[mask]\n",
        "\n",
        "n_clusters = np.unique(z).shape[0]\n",
        "n_features = G.shape[1]"
      ],
      "execution_count": 145,
      "outputs": []
    },
    {
      "cell_type": "code",
      "metadata": {
        "id": "r-GHBSCWQODy"
      },
      "source": [
        "# normG = np.log1p(normalize(G, norm=\"l1\"))* med[:,np.newaxis])\n",
        "X = normalize(G, norm=\"l1\")"
      ],
      "execution_count": 146,
      "outputs": []
    },
    {
      "cell_type": "code",
      "metadata": {
        "id": "mhRLqGmRQ3sK"
      },
      "source": [
        "gt_means = np.zeros((n_clusters, n_features))\n",
        "for i, g in enumerate(np.unique(z)):\n",
        "  gt_means[i] = (X[np.where(z==g)[0]].mean(0))"
      ],
      "execution_count": 147,
      "outputs": []
    },
    {
      "cell_type": "code",
      "metadata": {
        "id": "dwzebvRxRuM2",
        "outputId": "02f3905e-f124-42e8-a066-1a624b071a4b",
        "colab": {
          "base_uri": "https://localhost:8080/",
          "height": 292
        }
      },
      "source": [
        "plt.imshow(gt_means, aspect='auto', cmap=\"binary\")"
      ],
      "execution_count": 149,
      "outputs": [
        {
          "output_type": "execute_result",
          "data": {
            "text/plain": [
              "<matplotlib.image.AxesImage at 0x7f8677ce4750>"
            ]
          },
          "metadata": {},
          "execution_count": 149
        },
        {
          "output_type": "display_data",
          "data": {
            "image/png": "[encoded data removed]",
            "text/plain": [
              "<Figure size 432x288 with 1 Axes>"
            ]
          },
          "metadata": {
            "image/png": {
              "width": 368,
              "height": 258
            },
            "needs_background": "light"
          }
        }
      ]
    },
    {
      "cell_type": "markdown",
      "metadata": {
        "id": "0Nz2XdvGsyyk"
      },
      "source": [
        "## Modified Gaussian with standard KMeans"
      ]
    },
    {
      "cell_type": "code",
      "metadata": {
        "colab": {
          "base_uri": "https://localhost:8080/"
        },
        "id": "k2qscT9GQQsq",
        "outputId": "d28a5079-b33c-4f10-dd93-ff77bb93b111"
      },
      "source": [
        "%%time\n",
        "n_clusters = 10\n",
        "n_init = 1\n",
        "tol = 1e-3\n",
        "max_iter = 100\n",
        "reg_covar = 1e-8\n",
        "\n",
        "gmm = GaussianMixture(\n",
        "    n_components=n_clusters,\n",
        "    random_state=0,\n",
        "    reg_covar=reg_covar,\n",
        "    verbose=2,\n",
        "    n_init=n_init,\n",
        "    max_iter=max_iter,\n",
        "    tol=tol,\n",
        "    init_params=\"kmeans\")\n",
        "\n",
        "labels = gmm.fit_predict(X, B=markers_ec)\n",
        "means = gmm.means_\n",
        "print(rand_score(z, labels))"
      ],
      "execution_count": 186,
      "outputs": [
        {
          "output_type": "stream",
          "name": "stdout",
          "text": [
            "Initialization 0\n",
            "Doing the thing..\n",
            "Doing the thing..\n",
            "Doing the thing..\n",
            "Initialization converged: True\t time lapse 0.49838s\t ll 1406.04909\n",
            "0.9927868583330768\n",
            "CPU times: user 554 ms, sys: 498 ms, total: 1.05 s\n",
            "Wall time: 541 ms\n"
          ]
        }
      ]
    },
    {
      "cell_type": "code",
      "metadata": {
        "colab": {
          "base_uri": "https://localhost:8080/",
          "height": 330
        },
        "id": "R0Sq62xoYCfy",
        "outputId": "850dc1ee-9d84-4e56-ab77-dae0fa7636e2"
      },
      "source": [
        "fig, ax = plt.subplots(figsize=(5,5))\n",
        "ax.imshow(normalize(means, 'l1'), aspect=\"auto\", cmap=\"binary\")\n",
        "fig.show()"
      ],
      "execution_count": 187,
      "outputs": [
        {
          "output_type": "display_data",
          "data": {
            "image/png": "[encoded data removed]",
            "text/plain": [
              "<Figure size 360x360 with 1 Axes>"
            ]
          },
          "metadata": {
            "image/png": {
              "width": 313,
              "height": 313
            },
            "needs_background": "light"
          }
        }
      ]
    },
    {
      "cell_type": "code",
      "metadata": {
        "id": "fwMYvpiMSm34",
        "outputId": "5501fa7e-4c5f-40ca-8e3a-0fcb6a44523d",
        "colab": {
          "base_uri": "https://localhost:8080/",
          "height": 292
        }
      },
      "source": [
        "dist = cdist(gt_means, means)\n",
        "plt.imshow(dist, cmap='binary')"
      ],
      "execution_count": 188,
      "outputs": [
        {
          "output_type": "execute_result",
          "data": {
            "text/plain": [
              "<matplotlib.image.AxesImage at 0x7f867770ff10>"
            ]
          },
          "metadata": {},
          "execution_count": 188
        },
        {
          "output_type": "display_data",
          "data": {
            "image/png": "[encoded data removed]",
            "text/plain": [
              "<Figure size 432x288 with 1 Axes>"
            ]
          },
          "metadata": {
            "image/png": {
              "width": 275,
              "height": 258
            },
            "needs_background": "light"
          }
        }
      ]
    },
    {
      "cell_type": "code",
      "metadata": {
        "id": "ApjV2YbaSl4V",
        "outputId": "9bdcaab4-ffc1-4223-b01b-bb19ee67d98a",
        "colab": {
          "base_uri": "https://localhost:8080/"
        }
      },
      "source": [
        "dist[-1]"
      ],
      "execution_count": 167,
      "outputs": [
        {
          "output_type": "execute_result",
          "data": {
            "text/plain": [
              "array([0.99294127, 0.99205395, 0.99205395, 0.99205395, 0.99205391,\n",
              "       0.99205672, 0.99205687, 0.99207917, 0.99207782, 0.99386729])"
            ]
          },
          "metadata": {},
          "execution_count": 167
        }
      ]
    },
    {
      "cell_type": "markdown",
      "metadata": {
        "id": "Mem0j5xJM2B5"
      },
      "source": [
        "# Debugging gmm kmeans initialization"
      ]
    },
    {
      "cell_type": "code",
      "metadata": {
        "colab": {
          "base_uri": "https://localhost:8080/"
        },
        "id": "QRLQxOIwM3AH",
        "outputId": "18b8d835-7738-45fe-a75d-332c0a42bed8"
      },
      "source": [
        "# standard\n",
        "gmm = dumbGaussianMixture(\n",
        "    n_components=n_clusters,\n",
        "    random_state=0,\n",
        "    reg_covar=reg_covar,\n",
        "    verbose=2,\n",
        "    n_init=n_init,\n",
        "    max_iter=max_iter,\n",
        "    tol=tol,\n",
        "    init_params=\"kmeans\")\n",
        "\n",
        "labels = gmm.fit_predict(X)\n",
        "means = gmm.means_\n",
        "\n",
        "print(rand_score(z, labels))"
      ],
      "execution_count": 168,
      "outputs": [
        {
          "output_type": "stream",
          "name": "stdout",
          "text": [
            "Initialization 0\n",
            "Initialization converged: True\t time lapse 0.43602s\t ll 1414.35732\n",
            "0.9927868583330768\n"
          ]
        }
      ]
    },
    {
      "cell_type": "code",
      "metadata": {
        "colab": {
          "base_uri": "https://localhost:8080/",
          "height": 330
        },
        "id": "qu-SAnOVele8",
        "outputId": "11dc02c3-f05c-41ac-b55e-b4be96d4d6a1"
      },
      "source": [
        "fig, ax = plt.subplots(figsize=(5,5))\n",
        "ax.imshow(normalize(means, 'l1'), aspect=\"auto\", cmap=\"binary\")\n",
        "fig.show()"
      ],
      "execution_count": 169,
      "outputs": [
        {
          "output_type": "display_data",
          "data": {
            "image/png": "[encoded data removed]",
            "text/plain": [
              "<Figure size 360x360 with 1 Axes>"
            ]
          },
          "metadata": {
            "image/png": {
              "width": 313,
              "height": 313
            },
            "needs_background": "light"
          }
        }
      ]
    },
    {
      "cell_type": "code",
      "metadata": {
        "id": "HfBoyaEES32O",
        "outputId": "b26cc960-95fc-490e-fc2d-5422a94f3598",
        "colab": {
          "base_uri": "https://localhost:8080/",
          "height": 292
        }
      },
      "source": [
        "dist = cdist(gt_means, means)\n",
        "plt.imshow(dist, cmap='binary')"
      ],
      "execution_count": 170,
      "outputs": [
        {
          "output_type": "execute_result",
          "data": {
            "text/plain": [
              "<matplotlib.image.AxesImage at 0x7f8677b22fd0>"
            ]
          },
          "metadata": {},
          "execution_count": 170
        },
        {
          "output_type": "display_data",
          "data": {
            "image/png": "[encoded data removed]",
            "text/plain": [
              "<Figure size 432x288 with 1 Axes>"
            ]
          },
          "metadata": {
            "image/png": {
              "width": 275,
              "height": 258
            },
            "needs_background": "light"
          }
        }
      ]
    },
    {
      "cell_type": "markdown",
      "metadata": {
        "id": "cLUq6IEIsEXv"
      },
      "source": [
        "## Dumb Gausian with manual KMeans init"
      ]
    },
    {
      "cell_type": "code",
      "metadata": {
        "id": "gUyQbTX6Ks0H"
      },
      "source": [
        "def make_precisions(covariances):\n",
        "  n_components, n_features, _ = covariances.shape\n",
        "  precisions = np.empty((n_components, n_features, n_features))\n",
        "  for k, covariance in enumerate(covariances):\n",
        "      cov_chol = linalg.cholesky(covariance, lower=True)\n",
        "      # precisions[k] = linalg.solve(cov_chol,\n",
        "      #                              np.eye(n_features),\n",
        "      #                              lower=True).T\n",
        "      precisions[k] = linalg.inv(covariance)\n",
        "  return precisions"
      ],
      "execution_count": 171,
      "outputs": []
    },
    {
      "cell_type": "code",
      "metadata": {
        "colab": {
          "base_uri": "https://localhost:8080/"
        },
        "id": "BU92xNIEM4hw",
        "outputId": "60d66975-ef72-4d1e-dde3-15731fc3ab1a"
      },
      "source": [
        "# https://stackoverflow.com/a/63801808/13731947\n",
        "\n",
        "n_samples, n_features = X.shape\n",
        "\n",
        "## own kmeans initialization\n",
        "\n",
        "km = KMeans(n_clusters=n_clusters, n_init=1, random_state=0)\n",
        "km.fit(X)\n",
        "km_labels = km.labels_\n",
        "centroids = km.cluster_centers_\n",
        "\n",
        "# calculate the weights\n",
        "resp = np.zeros((n_samples, n_clusters))\n",
        "resp[np.arange(n_samples), km_labels] = 1\n",
        "\n",
        "# run gmm initialization of paramaters with given responsibilities and centroids\n",
        "\n",
        "weights, means, covariances = est_gaus_params(\n",
        "    X, resp, reg_covar=reg_covar, covariance_type=\"full\")\n",
        "weights /= n_samples\n",
        "\n",
        "# set the precision\n",
        "# the _compute_precision_cholesky uses a lower trangular solver that makes the matrices not symmetric\n",
        "precisions = make_precisions(covariances)\n",
        "\n",
        "print([np.allclose(i, i.T) for i in precisions])\n",
        "print([np.all(linalg.eigvalsh(i) > 0.0) for i in precisions])"
      ],
      "execution_count": 172,
      "outputs": [
        {
          "output_type": "stream",
          "name": "stdout",
          "text": [
            "[True, True, True, True, True, True, True, True, True, True]\n",
            "[True, True, True, True, True, True, True, True, True, True]\n"
          ]
        }
      ]
    },
    {
      "cell_type": "code",
      "metadata": {
        "colab": {
          "base_uri": "https://localhost:8080/"
        },
        "id": "FA5fszzGsDnZ",
        "outputId": "89ddb6e6-61c1-49e6-8dd1-bbe75234052d"
      },
      "source": [
        "# insert kmeans parameter estimates from above\n",
        "gmm = dumbGaussianMixture(\n",
        "    n_components=n_clusters,\n",
        "    means_init=centroids, # added\n",
        "    weights_init=weights, # added\n",
        "    precisions_init=precisions, # added\n",
        "    random_state=0,\n",
        "    reg_covar=reg_covar,\n",
        "    verbose=2,\n",
        "    n_init=n_init,\n",
        "    max_iter=max_iter,\n",
        "    tol=tol,\n",
        "    init_params=\"random\")\n",
        "\n",
        "labels = gmm.fit_predict(X)\n",
        "means = gmm.means_\n",
        "print(rand_score(z, labels))"
      ],
      "execution_count": 173,
      "outputs": [
        {
          "output_type": "stream",
          "name": "stdout",
          "text": [
            "Initialization 0\n",
            "Initialization converged: True\t time lapse 0.17656s\t ll 1414.35732\n",
            "0.9927868583330768\n"
          ]
        }
      ]
    },
    {
      "cell_type": "code",
      "metadata": {
        "colab": {
          "base_uri": "https://localhost:8080/",
          "height": 330
        },
        "id": "_H0lEcK1uNl5",
        "outputId": "ce860313-0979-4f98-bdad-58244c68f774"
      },
      "source": [
        "fig, ax = plt.subplots(figsize=(5,5))\n",
        "ax.imshow(normalize(means, 'l1'), aspect=\"auto\", cmap=\"binary\")\n",
        "fig.show()"
      ],
      "execution_count": 174,
      "outputs": [
        {
          "output_type": "display_data",
          "data": {
            "image/png": "[encoded data removed]",
            "text/plain": [
              "<Figure size 360x360 with 1 Axes>"
            ]
          },
          "metadata": {
            "image/png": {
              "width": 313,
              "height": 313
            },
            "needs_background": "light"
          }
        }
      ]
    },
    {
      "cell_type": "code",
      "metadata": {
        "id": "EKcMlH_fS-7y",
        "outputId": "f1073dbf-b1e3-4fa5-c726-f64b9c230397",
        "colab": {
          "base_uri": "https://localhost:8080/",
          "height": 292
        }
      },
      "source": [
        "dist = cdist(gt_means, means)\n",
        "plt.imshow(dist, cmap='binary')"
      ],
      "execution_count": 175,
      "outputs": [
        {
          "output_type": "execute_result",
          "data": {
            "text/plain": [
              "<matplotlib.image.AxesImage at 0x7f8677a20f10>"
            ]
          },
          "metadata": {},
          "execution_count": 175
        },
        {
          "output_type": "display_data",
          "data": {
            "image/png": "[encoded data removed]",
            "text/plain": [
              "<Figure size 432x288 with 1 Axes>"
            ]
          },
          "metadata": {
            "image/png": {
              "width": 275,
              "height": 258
            },
            "needs_background": "light"
          }
        }
      ]
    },
    {
      "cell_type": "code",
      "metadata": {
        "colab": {
          "base_uri": "https://localhost:8080/"
        },
        "id": "1_Vnstp5thMQ",
        "outputId": "570faf87-6f10-4519-9294-ee315eee50c8"
      },
      "source": [
        "# insert kmeans parameter estimates from above\n",
        "gmm = GaussianMixture(\n",
        "    n_components=n_clusters,\n",
        "    means_init=centroids, # added\n",
        "    weights_init=weights, # added\n",
        "    precisions_init=precisions, # added\n",
        "    random_state=0,\n",
        "    reg_covar=reg_covar,\n",
        "    verbose=2,\n",
        "    n_init=n_init,\n",
        "    max_iter=max_iter,\n",
        "    tol=tol,\n",
        "    init_params=\"random\")\n",
        "\n",
        "labels = gmm.fit_predict(X, B=markers_ec)\n",
        "means = gmm.means_\n",
        "\n",
        "print(rand_score(z, labels))"
      ],
      "execution_count": 176,
      "outputs": [
        {
          "output_type": "stream",
          "name": "stdout",
          "text": [
            "Initialization 0\n",
            "Doing the thing..\n",
            "Doing the thing..\n",
            "Doing the thing..\n",
            "Doing the thing..\n",
            "Initialization converged: True\t time lapse 0.30155s\t ll 1406.04909\n",
            "0.9927868583330768\n"
          ]
        }
      ]
    },
    {
      "cell_type": "code",
      "metadata": {
        "colab": {
          "base_uri": "https://localhost:8080/",
          "height": 330
        },
        "id": "wBVk1QACuLz1",
        "outputId": "372f476d-4555-4d2c-bfa5-a2d6e0192828"
      },
      "source": [
        "fig, ax = plt.subplots(figsize=(5,5))\n",
        "ax.imshow(normalize(means, 'l1'), aspect=\"auto\", cmap=\"binary\")\n",
        "fig.show()"
      ],
      "execution_count": 177,
      "outputs": [
        {
          "output_type": "display_data",
          "data": {
            "image/png": "[encoded data removed]",
            "text/plain": [
              "<Figure size 360x360 with 1 Axes>"
            ]
          },
          "metadata": {
            "image/png": {
              "width": 313,
              "height": 313
            },
            "needs_background": "light"
          }
        }
      ]
    },
    {
      "cell_type": "code",
      "metadata": {
        "id": "LCLwIA7XTBhP",
        "outputId": "19ff61d1-f4ee-465d-9d59-04a6f9b9ec53",
        "colab": {
          "base_uri": "https://localhost:8080/",
          "height": 292
        }
      },
      "source": [
        "dist = cdist(gt_means, means)\n",
        "plt.imshow(dist, cmap='binary')"
      ],
      "execution_count": 178,
      "outputs": [
        {
          "output_type": "execute_result",
          "data": {
            "text/plain": [
              "<matplotlib.image.AxesImage at 0x7f867795ac10>"
            ]
          },
          "metadata": {},
          "execution_count": 178
        },
        {
          "output_type": "display_data",
          "data": {
            "image/png": "[encoded data removed]",
            "text/plain": [
              "<Figure size 432x288 with 1 Axes>"
            ]
          },
          "metadata": {
            "image/png": {
              "width": 275,
              "height": 258
            },
            "needs_background": "light"
          }
        }
      ]
    },
    {
      "cell_type": "markdown",
      "metadata": {
        "id": "Vz6XBPaQsON6"
      },
      "source": [
        "## Dumb Gaussian with own initialization"
      ]
    },
    {
      "cell_type": "code",
      "metadata": {
        "colab": {
          "base_uri": "https://localhost:8080/"
        },
        "id": "vGdvznJX_yPq",
        "outputId": "0498168b-d635-4374-d287-abb109271de8"
      },
      "source": [
        "centroids = np.ones((n_clusters, n_features))*1e-5\n",
        "\n",
        "X_mean = X.mean(0)\n",
        "X_norm = X - X_mean\n",
        "X_max = X_norm.max(0)\n",
        "\n",
        "for i in list(markers_ec.keys()):\n",
        "  for j in markers_ec[i]:\n",
        "    centroids[i][j] = X_max[j]\n",
        " \n",
        "tree = KDTree(centroids)\n",
        "nearest_dist, nearest_ind = tree.query(X_norm, k=1)\n",
        "\n",
        "resp = np.zeros((n_samples, n_clusters))\n",
        "resp[np.arange(n_samples), nd(nearest_ind)] = 1\n",
        "\n",
        "weights, means, covariances = est_gaus_params(\n",
        "    X, resp, reg_covar=reg_covar, covariance_type=\"full\")\n",
        "weights /= n_samples\n",
        "\n",
        "# set the precision\n",
        "# the _compute_precision_cholesky uses a lower trangular solver that makes the matrices not symmetric\n",
        "# precisions = _compute_precision_cholesky(covariances, \"full\")\n",
        "\n",
        "precisions = make_precisions(covariances)\n",
        "print([np.allclose(i, i.T) for i in precisions])\n",
        "print([np.all(linalg.eigvalsh(i) > 0.0) for i in precisions])"
      ],
      "execution_count": 179,
      "outputs": [
        {
          "output_type": "stream",
          "name": "stdout",
          "text": [
            "[True, True, True, True, True, True, True, True, True, True]\n",
            "[True, True, True, True, True, True, True, True, True, True]\n"
          ]
        }
      ]
    },
    {
      "cell_type": "code",
      "metadata": {
        "colab": {
          "base_uri": "https://localhost:8080/"
        },
        "id": "FwqHkk0YLR55",
        "outputId": "3c6dd31f-3757-4d5d-80e5-d6d2b384dfb2"
      },
      "source": [
        "# insert kmeans parameter estimates from above\n",
        "gmm = dumbGaussianMixture(\n",
        "    n_components=n_clusters,\n",
        "    means_init=centroids, # added\n",
        "    weights_init=weights, # added\n",
        "    precisions_init=precisions, # added\n",
        "    random_state=0,\n",
        "    reg_covar=reg_covar,\n",
        "    verbose=2,\n",
        "    n_init=n_init,\n",
        "    max_iter=max_iter,\n",
        "    tol=tol,\n",
        "    init_params=\"random\")\n",
        "\n",
        "labels = gmm.fit_predict(X)\n",
        "means = gmm.means_\n",
        "\n",
        "print(rand_score(z, labels))"
      ],
      "execution_count": 180,
      "outputs": [
        {
          "output_type": "stream",
          "name": "stdout",
          "text": [
            "Initialization 0\n",
            "Initialization converged: True\t time lapse 0.26919s\t ll 1390.55882\n",
            "0.9807923169267707\n"
          ]
        }
      ]
    },
    {
      "cell_type": "code",
      "metadata": {
        "colab": {
          "base_uri": "https://localhost:8080/",
          "height": 330
        },
        "id": "62R7Fexn6jXF",
        "outputId": "0cba9988-3b1c-4995-e774-af51ed43e504"
      },
      "source": [
        "fig, ax = plt.subplots(figsize=(5,5))\n",
        "ax.imshow(normalize(means, 'l1'), aspect=\"auto\", cmap=\"binary\")\n",
        "fig.show()"
      ],
      "execution_count": 181,
      "outputs": [
        {
          "output_type": "display_data",
          "data": {
            "image/png": "[encoded data removed]",
            "text/plain": [
              "<Figure size 360x360 with 1 Axes>"
            ]
          },
          "metadata": {
            "image/png": {
              "width": 313,
              "height": 313
            },
            "needs_background": "light"
          }
        }
      ]
    },
    {
      "cell_type": "code",
      "metadata": {
        "id": "xggywjBxTKZ9",
        "outputId": "d8952744-8773-41d9-f1a5-7bd29ecd05e3",
        "colab": {
          "base_uri": "https://localhost:8080/",
          "height": 292
        }
      },
      "source": [
        "dist = cdist(gt_means, means)\n",
        "plt.imshow(dist, cmap='binary')"
      ],
      "execution_count": 182,
      "outputs": [
        {
          "output_type": "execute_result",
          "data": {
            "text/plain": [
              "<matplotlib.image.AxesImage at 0x7f8677896dd0>"
            ]
          },
          "metadata": {},
          "execution_count": 182
        },
        {
          "output_type": "display_data",
          "data": {
            "image/png": "[encoded data removed]",
            "text/plain": [
              "<Figure size 432x288 with 1 Axes>"
            ]
          },
          "metadata": {
            "image/png": {
              "width": 275,
              "height": 258
            },
            "needs_background": "light"
          }
        }
      ]
    },
    {
      "cell_type": "markdown",
      "metadata": {
        "id": "ftqsPsK0tZOh"
      },
      "source": [
        "## Gaussian with Manual Init"
      ]
    },
    {
      "cell_type": "code",
      "metadata": {
        "colab": {
          "base_uri": "https://localhost:8080/"
        },
        "id": "vs9krqm8si9K",
        "outputId": "70d93de8-dc9f-4388-ae21-964d987c340d"
      },
      "source": [
        "# insert kmeans parameter estimates from above\n",
        "gmm = GaussianMixture(\n",
        "    n_components=n_clusters,\n",
        "    means_init=centroids, # added\n",
        "    weights_init=weights, # added\n",
        "    precisions_init=precisions, # added\n",
        "    random_state=0,\n",
        "    reg_covar=reg_covar,\n",
        "    verbose=2,\n",
        "    n_init=n_init,\n",
        "    max_iter=max_iter,\n",
        "    tol=tol,\n",
        "    init_params=\"random\")\n",
        "\n",
        "labels = gmm.fit_predict(X, B=markers_ec)\n",
        "means = gmm.means_\n",
        "\n",
        "print(rand_score(z, labels))"
      ],
      "execution_count": 183,
      "outputs": [
        {
          "output_type": "stream",
          "name": "stdout",
          "text": [
            "Initialization 0\n",
            "Doing the thing..\n",
            "Doing the thing..\n",
            "Doing the thing..\n",
            "Doing the thing..\n",
            "Initialization converged: True\t time lapse 0.26452s\t ll 1386.51521\n",
            "0.9807923169267707\n"
          ]
        }
      ]
    },
    {
      "cell_type": "code",
      "metadata": {
        "colab": {
          "base_uri": "https://localhost:8080/",
          "height": 330
        },
        "id": "bynU9amvsi61",
        "outputId": "81e5e327-4a62-45f3-f66a-96b5e18cc5b5"
      },
      "source": [
        "fig, ax = plt.subplots(figsize=(5,5))\n",
        "ax.imshow(normalize(means, 'l1'), aspect=\"auto\", cmap=\"binary\")\n",
        "fig.show()"
      ],
      "execution_count": 184,
      "outputs": [
        {
          "output_type": "display_data",
          "data": {
            "image/png": "[encoded data removed]",
            "text/plain": [
              "<Figure size 360x360 with 1 Axes>"
            ]
          },
          "metadata": {
            "image/png": {
              "width": 313,
              "height": 313
            },
            "needs_background": "light"
          }
        }
      ]
    },
    {
      "cell_type": "code",
      "metadata": {
        "id": "HfEsioXjQk--",
        "outputId": "9cab3024-dcb6-4efb-a753-c0f0e23e69d9",
        "colab": {
          "base_uri": "https://localhost:8080/",
          "height": 292
        }
      },
      "source": [
        "dist = cdist(gt_means, means)\n",
        "plt.imshow(dist, cmap='binary')"
      ],
      "execution_count": 185,
      "outputs": [
        {
          "output_type": "execute_result",
          "data": {
            "text/plain": [
              "<matplotlib.image.AxesImage at 0x7f86777dd1d0>"
            ]
          },
          "metadata": {},
          "execution_count": 185
        },
        {
          "output_type": "display_data",
          "data": {
            "image/png": "[encoded data removed]",
            "text/plain": [
              "<Figure size 432x288 with 1 Axes>"
            ]
          },
          "metadata": {
            "image/png": {
              "width": 275,
              "height": 258
            },
            "needs_background": "light"
          }
        }
      ]
    },
    {
      "cell_type": "code",
      "metadata": {
        "colab": {
          "base_uri": "https://localhost:8080/"
        },
        "id": "KQ6wMxOVsiVZ",
        "outputId": "1bfa2edd-2d83-497f-b530-41c87b34a0ed"
      },
      "source": [
        "pd.Series(labels).value_counts().sort_values()"
      ],
      "execution_count": 136,
      "outputs": [
        {
          "output_type": "execute_result",
          "data": {
            "text/plain": [
              "7    34\n",
              "2    43\n",
              "5    50\n",
              "8    52\n",
              "1    56\n",
              "0    59\n",
              "3    60\n",
              "4    88\n",
              "dtype: int64"
            ]
          },
          "metadata": {},
          "execution_count": 136
        }
      ]
    },
    {
      "cell_type": "code",
      "metadata": {
        "colab": {
          "base_uri": "https://localhost:8080/"
        },
        "id": "HC2joqXVsiTE",
        "outputId": "9a6bfa85-fb6a-4361-e752-b6092e323684"
      },
      "source": [
        "pd.Series(z).value_counts().sort_values()"
      ],
      "execution_count": 138,
      "outputs": [
        {
          "output_type": "execute_result",
          "data": {
            "text/plain": [
              "8    34\n",
              "5    36\n",
              "3    43\n",
              "6    50\n",
              "9    52\n",
              "1    52\n",
              "2    56\n",
              "0    59\n",
              "4    60\n",
              "dtype: int64"
            ]
          },
          "metadata": {},
          "execution_count": 138
        }
      ]
    },
    {
      "cell_type": "code",
      "metadata": {
        "id": "bxcMAKDmsiQQ"
      },
      "source": [
        ""
      ],
      "execution_count": 103,
      "outputs": []
    },
    {
      "cell_type": "markdown",
      "metadata": {
        "id": "akS7kObRC_1n"
      },
      "source": [
        "## Random stuff"
      ]
    },
    {
      "cell_type": "code",
      "metadata": {
        "colab": {
          "base_uri": "https://localhost:8080/"
        },
        "id": "xPP-g6Vf4qeQ",
        "outputId": "869a53f3-987e-4a38-a432-09f7231145a6"
      },
      "source": [
        "!rm -rf covariances/ means.txt weights.txt\n",
        "!mkdir -p covariances\n",
        "fs = [open(f\"./covariances/data_{i}.txt\", 'w') for i in range(covariances.shape[0])]\n",
        "for idx, c in enumerate(covariances):\n",
        "    np.savetxt(fs[idx], c)\n",
        "\n",
        "with open(\"means.txt\", 'w') as f:\n",
        "  np.savetxt(f, centroids)\n",
        "\n",
        "with open(\"weights.txt\", 'w') as f:\n",
        "  np.savetxt(f, weights)\n",
        "\n",
        "!tar -cvf covariances.tar.gz covariances"
      ],
      "execution_count": 104,
      "outputs": [
        {
          "output_type": "stream",
          "name": "stdout",
          "text": [
            "covariances/\n",
            "covariances/data_2.txt\n",
            "covariances/data_4.txt\n",
            "covariances/data_5.txt\n",
            "covariances/data_6.txt\n",
            "covariances/data_0.txt\n",
            "covariances/data_9.txt\n",
            "covariances/data_7.txt\n",
            "covariances/data_8.txt\n",
            "covariances/data_1.txt\n",
            "covariances/data_3.txt\n"
          ]
        }
      ]
    },
    {
      "cell_type": "code",
      "metadata": {
        "id": "q_mTENlW8oje"
      },
      "source": [
        ""
      ],
      "execution_count": 106,
      "outputs": []
    },
    {
      "cell_type": "code",
      "metadata": {
        "colab": {
          "base_uri": "https://localhost:8080/"
        },
        "id": "4p8zai-T8feK",
        "outputId": "abad5e6c-4d0a-4d57-e305-7018f1528678"
      },
      "source": [
        "np.diagonal(d)"
      ],
      "execution_count": 107,
      "outputs": [
        {
          "output_type": "execute_result",
          "data": {
            "text/plain": [
              "array([0.02070836, 0.06517163, 0.12933863, 0.14832033, 0.29259531,\n",
              "       0.11538245, 0.02681598, 0.02501241, 0.12346781, 0.21094791])"
            ]
          },
          "metadata": {},
          "execution_count": 107
        }
      ]
    },
    {
      "cell_type": "code",
      "metadata": {
        "id": "8WM5LWUxhJQs"
      },
      "source": [
        "D = np.array(\n",
        "    [[1,1],\n",
        "     [1,2],\n",
        "     [1,3],\n",
        "     [2,1],\n",
        "     [4,1],\n",
        "     [4,2],\n",
        "     [5,1],\n",
        "     [5,2],\n",
        "     [4,5]])\n",
        "col = [0,0,0,0,1,1,1,1,1]"
      ],
      "execution_count": 108,
      "outputs": []
    },
    {
      "cell_type": "code",
      "metadata": {
        "colab": {
          "base_uri": "https://localhost:8080/",
          "height": 330
        },
        "id": "Rm6jcb0dhkCa",
        "outputId": "f3bae297-67ad-4e4f-f4f6-4fe4455d07b4"
      },
      "source": [
        "fig, axs = plt.subplots(figsize=(10,5), ncols=2)\n",
        "\n",
        "means = D.mean(0)\n",
        "\n",
        "## standard\n",
        "ax = axs[0]\n",
        "D_norm = D - D.mean(0)\n",
        "\n",
        "x = D[:,0]\n",
        "y = D[:,1]\n",
        "\n",
        "ax.scatter(x,y, c=col, cmap=\"tab20b\")\n",
        "\n",
        "ax.axhline(0, linestyle=\"--\", color='lightgray', zorder=-1)\n",
        "ax.axvline(0, linestyle=\"--\", color='lightgray', zorder=-1)\n",
        "\n",
        "ax.scatter(means[0], 0, color=\"red\")\n",
        "ax.scatter(0, means[1], color=\"blue\")\n",
        "\n",
        "ax.set(**{\n",
        "    \"xlim\": (-5,5),\n",
        "    \"ylim\": (-5,5)\n",
        "})\n",
        "\n",
        "## subtract mean\n",
        "ax = axs[1]\n",
        "x = D_norm[:,0]\n",
        "y = D_norm[:,1]\n",
        "\n",
        "ax.scatter(x,y, c=col, cmap=\"tab20b\", marker=\"*\")\n",
        "\n",
        "ax.axhline(0, linestyle=\"--\", color='lightgray', zorder=-1)\n",
        "ax.axvline(0, linestyle=\"--\", color='lightgray', zorder=-1)\n",
        "\n",
        "ax.scatter(means[0], 0, color=\"red\")\n",
        "ax.scatter(0, means[1], color=\"blue\")\n",
        "\n",
        "ax.set(**{\n",
        "    \"xlim\": (-5,5),\n",
        "    \"ylim\": (-5,5)\n",
        "})\n",
        "\n",
        "fig.show()"
      ],
      "execution_count": 44,
      "outputs": [
        {
          "output_type": "display_data",
          "data": {
            "image/png": "[encoded data removed]",
            "text/plain": [
              "<Figure size 720x360 with 2 Axes>"
            ]
          },
          "metadata": {
            "image/png": {
              "width": 624,
              "height": 313
            },
            "needs_background": "light"
          }
        }
      ]
    },
    {
      "cell_type": "code",
      "metadata": {
        "id": "NilJ8Eqb9Lz5"
      },
      "source": [
        ""
      ],
      "execution_count": null,
      "outputs": []
    }
  ]
}