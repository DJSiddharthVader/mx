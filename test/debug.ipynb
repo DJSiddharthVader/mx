{
  "nbformat": 4,
  "nbformat_minor": 0,
  "metadata": {
    "colab": {
      "name": "debug.ipynb",
      "provenance": [],
      "collapsed_sections": [
        "GpFuUCjXAHCM"
      ],
      "authorship_tag": "ABX9TyOiD5Tjt3wmnqzU2Qklj1YF",
      "include_colab_link": true
    },
    "kernelspec": {
      "name": "python3",
      "display_name": "Python 3"
    },
    "language_info": {
      "name": "python"
    }
  },
  "cells": [
    {
      "cell_type": "markdown",
      "metadata": {
        "id": "view-in-github",
        "colab_type": "text"
      },
      "source": [
        "<a href=\"https://colab.research.google.com/github/sbooeshaghi/mx/blob/master/test/debug.ipynb\" target=\"_parent\"><img src=\"https://colab.research.google.com/assets/colab-badge.svg\" alt=\"Open In Colab\"/></a>"
      ]
    },
    {
      "cell_type": "code",
      "metadata": {
        "colab": {
          "base_uri": "https://localhost:8080/"
        },
        "id": "f3sf1jbO4RY6",
        "outputId": "b38658af-f2e7-4631-9fb2-3f77fedcb635"
      },
      "source": [
        "!pip install --quiet -U scikit-learn kb_python anndata"
      ],
      "execution_count": 2,
      "outputs": [
        {
          "output_type": "stream",
          "name": "stdout",
          "text": [
            "\u001b[K     |████████████████████████████████| 23.1 MB 113.4 MB/s \n",
            "\u001b[K     |████████████████████████████████| 7.4 MB 16.8 MB/s \n",
            "\u001b[K     |████████████████████████████████| 127 kB 68.3 MB/s \n",
            "\u001b[K     |████████████████████████████████| 41 kB 105 kB/s \n",
            "\u001b[K     |████████████████████████████████| 51.7 MB 18 kB/s \n",
            "\u001b[K     |████████████████████████████████| 23.9 MB 1.4 MB/s \n",
            "\u001b[K     |████████████████████████████████| 2.0 MB 56.0 MB/s \n",
            "\u001b[K     |████████████████████████████████| 48 kB 4.4 MB/s \n",
            "\u001b[K     |████████████████████████████████| 3.3 MB 67.2 MB/s \n",
            "\u001b[K     |████████████████████████████████| 12.3 MB 13.0 MB/s \n",
            "\u001b[K     |████████████████████████████████| 26.3 MB 95 kB/s \n",
            "\u001b[K     |████████████████████████████████| 80 kB 8.1 MB/s \n",
            "\u001b[K     |████████████████████████████████| 1.1 MB 67.2 MB/s \n",
            "\u001b[K     |████████████████████████████████| 63 kB 2.0 MB/s \n",
            "\u001b[?25h  Building wheel for kb-python (setup.py) ... \u001b[?25l\u001b[?25hdone\n",
            "  Building wheel for loompy (setup.py) ... \u001b[?25l\u001b[?25hdone\n",
            "  Building wheel for ngs-tools (setup.py) ... \u001b[?25l\u001b[?25hdone\n",
            "  Building wheel for umap-learn (setup.py) ... \u001b[?25l\u001b[?25hdone\n",
            "  Building wheel for pynndescent (setup.py) ... \u001b[?25l\u001b[?25hdone\n",
            "  Building wheel for numpy-groupies (setup.py) ... \u001b[?25l\u001b[?25hdone\n",
            "  Building wheel for sinfo (setup.py) ... \u001b[?25l\u001b[?25hdone\n"
          ]
        }
      ]
    },
    {
      "cell_type": "code",
      "metadata": {
        "colab": {
          "base_uri": "https://localhost:8080/"
        },
        "id": "i3dZpiGf4UQz",
        "outputId": "a757697d-3106-44cf-b69d-cc8035fb4b3b"
      },
      "source": [
        "!git clone https://github.com/sbooeshaghi/sim.git"
      ],
      "execution_count": 3,
      "outputs": [
        {
          "output_type": "stream",
          "name": "stdout",
          "text": [
            "Cloning into 'sim'...\n",
            "remote: Enumerating objects: 47, done.\u001b[K\n",
            "remote: Counting objects: 100% (47/47), done.\u001b[K\n",
            "remote: Compressing objects: 100% (38/38), done.\u001b[K\n",
            "remote: Total 47 (delta 10), reused 46 (delta 9), pack-reused 0\u001b[K\n",
            "Unpacking objects: 100% (47/47), done.\n"
          ]
        }
      ]
    },
    {
      "cell_type": "code",
      "metadata": {
        "id": "VOq__Nef4Yua"
      },
      "source": [
        "!gunzip -r sim/*"
      ],
      "execution_count": 4,
      "outputs": []
    },
    {
      "cell_type": "code",
      "metadata": {
        "cellView": "form",
        "id": "F5SewR0P4ZUI"
      },
      "source": [
        "#@title sklearn/mixture/_base.py\n",
        "\n",
        "\"\"\"Base class for mixture models.\"\"\"\n",
        "\n",
        "# sklearn/mixture/_base.py\n",
        "\n",
        "# Author: Wei Xue <xuewei4d@gmail.com>\n",
        "# Modified by Thierry Guillemot <thierry.guillemot.work@gmail.com>\n",
        "# License: BSD 3 clause\n",
        "\n",
        "import warnings\n",
        "from abc import ABCMeta, abstractmethod\n",
        "from time import time\n",
        "\n",
        "import numpy as np\n",
        "from scipy.special import logsumexp\n",
        "\n",
        "from sklearn import cluster\n",
        "from sklearn.base import BaseEstimator\n",
        "from sklearn.base import DensityMixin\n",
        "from sklearn.exceptions import ConvergenceWarning\n",
        "from sklearn.utils import check_random_state\n",
        "from sklearn.utils.validation import check_is_fitted\n",
        "\n",
        "\n",
        "def _check_shape(param, param_shape, name):\n",
        "    \"\"\"Validate the shape of the input parameter 'param'.\n",
        "\n",
        "    Parameters\n",
        "    ----------\n",
        "    param : array\n",
        "\n",
        "    param_shape : tuple\n",
        "\n",
        "    name : str\n",
        "    \"\"\"\n",
        "    param = np.array(param)\n",
        "    if param.shape != param_shape:\n",
        "        raise ValueError(\n",
        "            \"The parameter '%s' should have the shape of %s, but got %s\" %\n",
        "            (name, param_shape, param.shape))\n",
        "\n",
        "\n",
        "class BaseMixture(DensityMixin, BaseEstimator, metaclass=ABCMeta):\n",
        "    \"\"\"Base class for mixture models.\n",
        "\n",
        "    This abstract class specifies an interface for all mixture classes and\n",
        "    provides basic common methods for mixture models.\n",
        "    \"\"\"\n",
        "    def __init__(\n",
        "        self,\n",
        "        n_components,\n",
        "        tol,\n",
        "        reg_covar,\n",
        "        max_iter,\n",
        "        n_init,\n",
        "        init_params,\n",
        "        random_state,\n",
        "        warm_start,\n",
        "        verbose,\n",
        "        verbose_interval,\n",
        "    ):\n",
        "        self.n_components = n_components\n",
        "        self.tol = tol\n",
        "        self.reg_covar = reg_covar\n",
        "        self.max_iter = max_iter\n",
        "        self.n_init = n_init\n",
        "        self.init_params = init_params\n",
        "        self.random_state = random_state\n",
        "        self.warm_start = warm_start\n",
        "        self.verbose = verbose\n",
        "        self.verbose_interval = verbose_interval\n",
        "\n",
        "    def _check_initial_parameters(self, X):\n",
        "        \"\"\"Check values of the basic parameters.\n",
        "\n",
        "        Parameters\n",
        "        ----------\n",
        "        X : array-like of shape (n_samples, n_features)\n",
        "        \"\"\"\n",
        "        if self.n_components < 1:\n",
        "            raise ValueError(\"Invalid value for 'n_components': %d \"\n",
        "                             \"Estimation requires at least one component\" %\n",
        "                             self.n_components)\n",
        "\n",
        "        if self.tol < 0.0:\n",
        "            raise ValueError(\"Invalid value for 'tol': %.5f \"\n",
        "                             \"Tolerance used by the EM must be non-negative\" %\n",
        "                             self.tol)\n",
        "\n",
        "        if self.n_init < 1:\n",
        "            raise ValueError(\n",
        "                \"Invalid value for 'n_init': %d Estimation requires at least one run\"\n",
        "                % self.n_init)\n",
        "\n",
        "        if self.max_iter < 1:\n",
        "            raise ValueError(\"Invalid value for 'max_iter': %d \"\n",
        "                             \"Estimation requires at least one iteration\" %\n",
        "                             self.max_iter)\n",
        "\n",
        "        if self.reg_covar < 0.0:\n",
        "            raise ValueError(\"Invalid value for 'reg_covar': %.5f \"\n",
        "                             \"regularization on covariance must be \"\n",
        "                             \"non-negative\" % self.reg_covar)\n",
        "\n",
        "        # Check all the parameters values of the derived class\n",
        "        self._check_parameters(X)\n",
        "\n",
        "    @abstractmethod\n",
        "    def _check_parameters(self, X):\n",
        "        \"\"\"Check initial parameters of the derived class.\n",
        "\n",
        "        Parameters\n",
        "        ----------\n",
        "        X : array-like of shape  (n_samples, n_features)\n",
        "        \"\"\"\n",
        "        pass\n",
        "\n",
        "    def _initialize_parameters(self, X, random_state, B=None, resp=None):\n",
        "        \"\"\"Initialize the model parameters.\n",
        "\n",
        "        Parameters\n",
        "        ----------\n",
        "        X : array-like of shape  (n_samples, n_features)\n",
        "\n",
        "        random_state : RandomState\n",
        "            A random number generator instance that controls the random seed\n",
        "            used for the method chosen to initialize the parameters.\n",
        "        \"\"\"\n",
        "        n_samples, _ = X.shape\n",
        "\n",
        "        if self.init_params == \"kmeans\":\n",
        "            resp = np.zeros((n_samples, self.n_components))\n",
        "            label = (cluster.KMeans(n_clusters=self.n_components,\n",
        "                                    n_init=1,\n",
        "                                    random_state=random_state).fit(X).labels_)\n",
        "            resp[np.arange(n_samples), label] = 1\n",
        "        elif self.init_params == \"random\":\n",
        "          if resp is None:\n",
        "            resp = random_state.rand(n_samples, self.n_components)\n",
        "            resp /= resp.sum(axis=1)[:, np.newaxis]\n",
        "        else:\n",
        "            raise ValueError(\"Unimplemented initialization method '%s'\" %\n",
        "                             self.init_params)\n",
        "\n",
        "        self._initialize(X, resp, B)\n",
        "\n",
        "    @abstractmethod\n",
        "    def _initialize(self, X, resp, B=None):\n",
        "        \"\"\"Initialize the model parameters of the derived class.\n",
        "\n",
        "        Parameters\n",
        "        ----------\n",
        "        X : array-like of shape  (n_samples, n_features)\n",
        "\n",
        "        resp : array-like of shape (n_samples, n_components)\n",
        "        \"\"\"\n",
        "        pass\n",
        "\n",
        "    def fit(self, X, y=None):\n",
        "        \"\"\"Estimate model parameters with the EM algorithm.\n",
        "\n",
        "        The method fits the model ``n_init`` times and sets the parameters with\n",
        "        which the model has the largest likelihood or lower bound. Within each\n",
        "        trial, the method iterates between E-step and M-step for ``max_iter``\n",
        "        times until the change of likelihood or lower bound is less than\n",
        "        ``tol``, otherwise, a ``ConvergenceWarning`` is raised.\n",
        "        If ``warm_start`` is ``True``, then ``n_init`` is ignored and a single\n",
        "        initialization is performed upon the first call. Upon consecutive\n",
        "        calls, training starts where it left off.\n",
        "\n",
        "        Parameters\n",
        "        ----------\n",
        "        X : array-like of shape (n_samples, n_features)\n",
        "            List of n_features-dimensional data points. Each row\n",
        "            corresponds to a single data point.\n",
        "\n",
        "        y : Ignored\n",
        "            Not used, present for API consistency by convention.\n",
        "\n",
        "        Returns\n",
        "        -------\n",
        "        self : object\n",
        "            The fitted mixture.\n",
        "        \"\"\"\n",
        "        self.fit_predict(X, y)\n",
        "        return self\n",
        "\n",
        "    def fit_predict(self, X, y=None, B=None, resp=None):\n",
        "        \"\"\"Estimate model parameters using X and predict the labels for X.\n",
        "\n",
        "        The method fits the model n_init times and sets the parameters with\n",
        "        which the model has the largest likelihood or lower bound. Within each\n",
        "        trial, the method iterates between E-step and M-step for `max_iter`\n",
        "        times until the change of likelihood or lower bound is less than\n",
        "        `tol`, otherwise, a :class:`~sklearn.exceptions.ConvergenceWarning` is\n",
        "        raised. After fitting, it predicts the most probable label for the\n",
        "        input data points.\n",
        "\n",
        "        .. versionadded:: 0.20\n",
        "\n",
        "        Parameters\n",
        "        ----------\n",
        "        X : array-like of shape (n_samples, n_features)\n",
        "            List of n_features-dimensional data points. Each row\n",
        "            corresponds to a single data point.\n",
        "\n",
        "        y : Ignored\n",
        "            Not used, present for API consistency by convention.\n",
        "\n",
        "        Returns\n",
        "        -------\n",
        "        labels : array, shape (n_samples,)\n",
        "            Component labels.\n",
        "        \"\"\"\n",
        "        X = self._validate_data(X,\n",
        "                                dtype=[np.float64, np.float32],\n",
        "                                ensure_min_samples=2)\n",
        "        if X.shape[0] < self.n_components:\n",
        "            raise ValueError(\"Expected n_samples >= n_components \"\n",
        "                             f\"but got n_components = {self.n_components}, \"\n",
        "                             f\"n_samples = {X.shape[0]}\")\n",
        "        self._check_initial_parameters(X)\n",
        "\n",
        "        # if we enable warm_start, we will have a unique initialisation\n",
        "        do_init = not (self.warm_start and hasattr(self, \"converged_\"))\n",
        "        n_init = self.n_init if do_init else 1\n",
        "\n",
        "        max_lower_bound = -np.inf\n",
        "        self.converged_ = False\n",
        "\n",
        "        random_state = check_random_state(self.random_state)\n",
        "\n",
        "        n_samples, _ = X.shape\n",
        "        for init in range(n_init):\n",
        "            self._print_verbose_msg_init_beg(init)\n",
        "\n",
        "            if do_init:\n",
        "                self._initialize_parameters(X, random_state, B=B, resp=resp)\n",
        "\n",
        "            lower_bound = -np.inf if do_init else self.lower_bound_\n",
        "\n",
        "            for n_iter in range(1, self.max_iter + 1):\n",
        "                prev_lower_bound = lower_bound\n",
        "\n",
        "                log_prob_norm, log_resp = self._e_step(X)\n",
        "                self._m_step(X, log_resp, B)\n",
        "                lower_bound = self._compute_lower_bound(\n",
        "                    log_resp, log_prob_norm)\n",
        "\n",
        "                change = lower_bound - prev_lower_bound\n",
        "                self._print_verbose_msg_iter_end(n_iter, change)\n",
        "\n",
        "                if abs(change) < self.tol:\n",
        "                    self.converged_ = True\n",
        "                    break\n",
        "\n",
        "            self._print_verbose_msg_init_end(lower_bound)\n",
        "\n",
        "            if lower_bound > max_lower_bound or max_lower_bound == -np.inf:\n",
        "                max_lower_bound = lower_bound\n",
        "                best_params = self._get_parameters()\n",
        "                best_n_iter = n_iter\n",
        "\n",
        "        if not self.converged_:\n",
        "            warnings.warn(\n",
        "                \"Initialization %d did not converge. \"\n",
        "                \"Try different init parameters, \"\n",
        "                \"or increase max_iter, tol \"\n",
        "                \"or check for degenerate data.\" % (init + 1),\n",
        "                ConvergenceWarning,\n",
        "            )\n",
        "\n",
        "        self._set_parameters(best_params)\n",
        "        self.n_iter_ = best_n_iter\n",
        "        self.lower_bound_ = max_lower_bound\n",
        "\n",
        "        # Always do a final e-step to guarantee that the labels returned by\n",
        "        # fit_predict(X) are always consistent with fit(X).predict(X)\n",
        "        # for any value of max_iter and tol (and any random_state).\n",
        "        _, log_resp = self._e_step(X)\n",
        "\n",
        "        return log_resp.argmax(axis=1)\n",
        "\n",
        "    def _e_step(self, X):\n",
        "        \"\"\"E step.\n",
        "\n",
        "        Parameters\n",
        "        ----------\n",
        "        X : array-like of shape (n_samples, n_features)\n",
        "\n",
        "        Returns\n",
        "        -------\n",
        "        log_prob_norm : float\n",
        "            Mean of the logarithms of the probabilities of each sample in X\n",
        "\n",
        "        log_responsibility : array, shape (n_samples, n_components)\n",
        "            Logarithm of the posterior probabilities (or responsibilities) of\n",
        "            the point of each sample in X.\n",
        "        \"\"\"\n",
        "        log_prob_norm, log_resp = self._estimate_log_prob_resp(X)\n",
        "        return np.mean(log_prob_norm), log_resp\n",
        "\n",
        "    @abstractmethod\n",
        "    def _m_step(self, X, log_resp, B=None):\n",
        "        \"\"\"M step.\n",
        "\n",
        "        Parameters\n",
        "        ----------\n",
        "        X : array-like of shape (n_samples, n_features)\n",
        "\n",
        "        log_resp : array-like of shape (n_samples, n_components)\n",
        "            Logarithm of the posterior probabilities (or responsibilities) of\n",
        "            the point of each sample in X.\n",
        "        \"\"\"\n",
        "        pass\n",
        "\n",
        "    @abstractmethod\n",
        "    def _get_parameters(self):\n",
        "        pass\n",
        "\n",
        "    @abstractmethod\n",
        "    def _set_parameters(self, params):\n",
        "        pass\n",
        "\n",
        "    def score_samples(self, X):\n",
        "        \"\"\"Compute the log-likelihood of each sample.\n",
        "\n",
        "        Parameters\n",
        "        ----------\n",
        "        X : array-like of shape (n_samples, n_features)\n",
        "            List of n_features-dimensional data points. Each row\n",
        "            corresponds to a single data point.\n",
        "\n",
        "        Returns\n",
        "        -------\n",
        "        log_prob : array, shape (n_samples,)\n",
        "            Log-likelihood of each sample in `X` under the current model.\n",
        "        \"\"\"\n",
        "        check_is_fitted(self)\n",
        "        X = self._validate_data(X, reset=False)\n",
        "\n",
        "        return logsumexp(self._estimate_weighted_log_prob(X), axis=1)\n",
        "\n",
        "    def score(self, X, y=None):\n",
        "        \"\"\"Compute the per-sample average log-likelihood of the given data X.\n",
        "\n",
        "        Parameters\n",
        "        ----------\n",
        "        X : array-like of shape (n_samples, n_dimensions)\n",
        "            List of n_features-dimensional data points. Each row\n",
        "            corresponds to a single data point.\n",
        "\n",
        "        y : Ignored\n",
        "            Not used, present for API consistency by convention.\n",
        "\n",
        "        Returns\n",
        "        -------\n",
        "        log_likelihood : float\n",
        "            Log-likelihood of `X` under the Gaussian mixture model.\n",
        "        \"\"\"\n",
        "        return self.score_samples(X).mean()\n",
        "\n",
        "    def predict(self, X):\n",
        "        \"\"\"Predict the labels for the data samples in X using trained model.\n",
        "\n",
        "        Parameters\n",
        "        ----------\n",
        "        X : array-like of shape (n_samples, n_features)\n",
        "            List of n_features-dimensional data points. Each row\n",
        "            corresponds to a single data point.\n",
        "\n",
        "        Returns\n",
        "        -------\n",
        "        labels : array, shape (n_samples,)\n",
        "            Component labels.\n",
        "        \"\"\"\n",
        "        check_is_fitted(self)\n",
        "        X = self._validate_data(X, reset=False)\n",
        "        return self._estimate_weighted_log_prob(X).argmax(axis=1)\n",
        "\n",
        "    def predict_proba(self, X):\n",
        "        \"\"\"Evaluate the components' density for each sample.\n",
        "\n",
        "        Parameters\n",
        "        ----------\n",
        "        X : array-like of shape (n_samples, n_features)\n",
        "            List of n_features-dimensional data points. Each row\n",
        "            corresponds to a single data point.\n",
        "\n",
        "        Returns\n",
        "        -------\n",
        "        resp : array, shape (n_samples, n_components)\n",
        "            Density of each Gaussian component for each sample in X.\n",
        "        \"\"\"\n",
        "        check_is_fitted(self)\n",
        "        X = self._validate_data(X, reset=False)\n",
        "        _, log_resp = self._estimate_log_prob_resp(X)\n",
        "        return np.exp(log_resp)\n",
        "\n",
        "    def sample(self, n_samples=1):\n",
        "        \"\"\"Generate random samples from the fitted Gaussian distribution.\n",
        "\n",
        "        Parameters\n",
        "        ----------\n",
        "        n_samples : int, default=1\n",
        "            Number of samples to generate.\n",
        "\n",
        "        Returns\n",
        "        -------\n",
        "        X : array, shape (n_samples, n_features)\n",
        "            Randomly generated sample.\n",
        "\n",
        "        y : array, shape (nsamples,)\n",
        "            Component labels.\n",
        "        \"\"\"\n",
        "        check_is_fitted(self)\n",
        "\n",
        "        if n_samples < 1:\n",
        "            raise ValueError(\n",
        "                \"Invalid value for 'n_samples': %d . The sampling requires at \"\n",
        "                \"least one sample.\" % (self.n_components))\n",
        "\n",
        "        _, n_features = self.means_.shape\n",
        "        rng = check_random_state(self.random_state)\n",
        "        n_samples_comp = rng.multinomial(n_samples, self.weights_)\n",
        "\n",
        "        if self.covariance_type == \"full\":\n",
        "            X = np.vstack([\n",
        "                rng.multivariate_normal(mean, covariance, int(sample))\n",
        "                for (mean, covariance, sample\n",
        "                     ) in zip(self.means_, self.covariances_, n_samples_comp)\n",
        "            ])\n",
        "        elif self.covariance_type == \"tied\":\n",
        "            X = np.vstack([\n",
        "                rng.multivariate_normal(mean, self.covariances_, int(sample))\n",
        "                for (mean, sample) in zip(self.means_, n_samples_comp)\n",
        "            ])\n",
        "        else:\n",
        "            X = np.vstack([\n",
        "                mean + rng.randn(sample, n_features) * np.sqrt(covariance)\n",
        "                for (mean, covariance, sample\n",
        "                     ) in zip(self.means_, self.covariances_, n_samples_comp)\n",
        "            ])\n",
        "\n",
        "        y = np.concatenate([\n",
        "            np.full(sample, j, dtype=int)\n",
        "            for j, sample in enumerate(n_samples_comp)\n",
        "        ])\n",
        "\n",
        "        return (X, y)\n",
        "\n",
        "    def _estimate_weighted_log_prob(self, X):\n",
        "        \"\"\"Estimate the weighted log-probabilities, log P(X | Z) + log weights.\n",
        "\n",
        "        Parameters\n",
        "        ----------\n",
        "        X : array-like of shape (n_samples, n_features)\n",
        "\n",
        "        Returns\n",
        "        -------\n",
        "        weighted_log_prob : array, shape (n_samples, n_component)\n",
        "        \"\"\"\n",
        "        return self._estimate_log_prob(X) + self._estimate_log_weights()\n",
        "\n",
        "    @abstractmethod\n",
        "    def _estimate_log_weights(self):\n",
        "        \"\"\"Estimate log-weights in EM algorithm, E[ log pi ] in VB algorithm.\n",
        "\n",
        "        Returns\n",
        "        -------\n",
        "        log_weight : array, shape (n_components, )\n",
        "        \"\"\"\n",
        "        pass\n",
        "\n",
        "    @abstractmethod\n",
        "    def _estimate_log_prob(self, X):\n",
        "        \"\"\"Estimate the log-probabilities log P(X | Z).\n",
        "\n",
        "        Compute the log-probabilities per each component for each sample.\n",
        "\n",
        "        Parameters\n",
        "        ----------\n",
        "        X : array-like of shape (n_samples, n_features)\n",
        "\n",
        "        Returns\n",
        "        -------\n",
        "        log_prob : array, shape (n_samples, n_component)\n",
        "        \"\"\"\n",
        "        pass\n",
        "\n",
        "    def _estimate_log_prob_resp(self, X):\n",
        "        \"\"\"Estimate log probabilities and responsibilities for each sample.\n",
        "\n",
        "        Compute the log probabilities, weighted log probabilities per\n",
        "        component and responsibilities for each sample in X with respect to\n",
        "        the current state of the model.\n",
        "\n",
        "        Parameters\n",
        "        ----------\n",
        "        X : array-like of shape (n_samples, n_features)\n",
        "\n",
        "        Returns\n",
        "        -------\n",
        "        log_prob_norm : array, shape (n_samples,)\n",
        "            log p(X)\n",
        "\n",
        "        log_responsibilities : array, shape (n_samples, n_components)\n",
        "            logarithm of the responsibilities\n",
        "        \"\"\"\n",
        "        weighted_log_prob = self._estimate_weighted_log_prob(X)\n",
        "        log_prob_norm = logsumexp(weighted_log_prob, axis=1)\n",
        "        with np.errstate(under=\"ignore\"):\n",
        "            # ignore underflow\n",
        "            log_resp = weighted_log_prob - log_prob_norm[:, np.newaxis]\n",
        "        return log_prob_norm, log_resp\n",
        "\n",
        "    def _print_verbose_msg_init_beg(self, n_init):\n",
        "        \"\"\"Print verbose message on initialization.\"\"\"\n",
        "        if self.verbose == 1:\n",
        "            print(\"Initialization %d\" % n_init)\n",
        "        elif self.verbose >= 2:\n",
        "            print(\"Initialization %d\" % n_init)\n",
        "            self._init_prev_time = time()\n",
        "            self._iter_prev_time = self._init_prev_time\n",
        "\n",
        "    def _print_verbose_msg_iter_end(self, n_iter, diff_ll):\n",
        "        \"\"\"Print verbose message on initialization.\"\"\"\n",
        "        if n_iter % self.verbose_interval == 0:\n",
        "            if self.verbose == 1:\n",
        "                print(\"  Iteration %d\" % n_iter)\n",
        "            elif self.verbose >= 2:\n",
        "                cur_time = time()\n",
        "                print(\"  Iteration %d\\t time lapse %.5fs\\t ll change %.5f\" %\n",
        "                      (n_iter, cur_time - self._iter_prev_time, diff_ll))\n",
        "                self._iter_prev_time = cur_time\n",
        "\n",
        "    def _print_verbose_msg_init_end(self, ll):\n",
        "        \"\"\"Print verbose message on the end of iteration.\"\"\"\n",
        "        if self.verbose == 1:\n",
        "            print(\"Initialization converged: %s\" % self.converged_)\n",
        "        elif self.verbose >= 2:\n",
        "            print(\"Initialization converged: %s\\t time lapse %.5fs\\t ll %.5f\" %\n",
        "                  (self.converged_, time() - self._init_prev_time, ll))"
      ],
      "execution_count": 5,
      "outputs": []
    },
    {
      "cell_type": "code",
      "metadata": {
        "cellView": "form",
        "id": "7nr95-JE5LKh"
      },
      "source": [
        "#@title sklearn/mixture/_gaussian_mixture.py \n",
        "\n",
        "\"\"\"Gaussian Mixture Model.\"\"\"\n",
        "\n",
        "# sklearn/mixture/_gaussian_mixture.py \n",
        "\n",
        "# Author: Wei Xue <xuewei4d@gmail.com>\n",
        "# Modified by Thierry Guillemot <thierry.guillemot.work@gmail.com>\n",
        "# License: BSD 3 clause\n",
        "\n",
        "import numpy as np\n",
        "\n",
        "from scipy import linalg\n",
        "\n",
        "# from ._base import BaseMixture, _check_shape these come from cell above\n",
        "from sklearn.utils import check_array\n",
        "from sklearn.utils.extmath import row_norms\n",
        "\n",
        "###############################################################################\n",
        "# Gaussian mixture shape checkers used by the GaussianMixture class\n",
        "\n",
        "\n",
        "def _check_weights(weights, n_components):\n",
        "    \"\"\"Check the user provided 'weights'.\n",
        "\n",
        "    Parameters\n",
        "    ----------\n",
        "    weights : array-like of shape (n_components,)\n",
        "        The proportions of components of each mixture.\n",
        "\n",
        "    n_components : int\n",
        "        Number of components.\n",
        "\n",
        "    Returns\n",
        "    -------\n",
        "    weights : array, shape (n_components,)\n",
        "    \"\"\"\n",
        "    weights = check_array(weights,\n",
        "                          dtype=[np.float64, np.float32],\n",
        "                          ensure_2d=False)\n",
        "    _check_shape(weights, (n_components, ), \"weights\")\n",
        "\n",
        "    # check range\n",
        "    if any(np.less(weights, 0.0)) or any(np.greater(weights, 1.0)):\n",
        "        raise ValueError(\"The parameter 'weights' should be in the range \"\n",
        "                         \"[0, 1], but got max value %.5f, min value %.5f\" %\n",
        "                         (np.min(weights), np.max(weights)))\n",
        "\n",
        "    # check normalization\n",
        "    if not np.allclose(np.abs(1.0 - np.sum(weights)), 0.0):\n",
        "        raise ValueError(\n",
        "            \"The parameter 'weights' should be normalized, but got sum(weights) = %.5f\"\n",
        "            % np.sum(weights))\n",
        "    return weights\n",
        "\n",
        "\n",
        "def _check_means(means, n_components, n_features):\n",
        "    \"\"\"Validate the provided 'means'.\n",
        "\n",
        "    Parameters\n",
        "    ----------\n",
        "    means : array-like of shape (n_components, n_features)\n",
        "        The centers of the current components.\n",
        "\n",
        "    n_components : int\n",
        "        Number of components.\n",
        "\n",
        "    n_features : int\n",
        "        Number of features.\n",
        "\n",
        "    Returns\n",
        "    -------\n",
        "    means : array, (n_components, n_features)\n",
        "    \"\"\"\n",
        "    means = check_array(means, dtype=[np.float64, np.float32], ensure_2d=False)\n",
        "    _check_shape(means, (n_components, n_features), \"means\")\n",
        "    return means\n",
        "\n",
        "\n",
        "def _check_precision_positivity(precision, covariance_type):\n",
        "    \"\"\"Check a precision vector is positive-definite.\"\"\"\n",
        "    if np.any(np.less_equal(precision, 0.0)):\n",
        "        raise ValueError(\"'%s precision' should be positive\" % covariance_type)\n",
        "\n",
        "\n",
        "def _check_precision_matrix(precision, covariance_type):\n",
        "    \"\"\"Check a precision matrix is symmetric and positive-definite.\"\"\"\n",
        "    if not (np.allclose(precision, precision.T)\n",
        "            and np.all(linalg.eigvalsh(precision) > 0.0)):\n",
        "        raise ValueError(\n",
        "            \"'%s precision' should be symmetric, positive-definite\" %\n",
        "            covariance_type)\n",
        "\n",
        "\n",
        "def _check_precisions_full(precisions, covariance_type):\n",
        "    \"\"\"Check the precision matrices are symmetric and positive-definite.\"\"\"\n",
        "    for prec in precisions:\n",
        "        _check_precision_matrix(prec, covariance_type)\n",
        "\n",
        "\n",
        "def _check_precisions(precisions, covariance_type, n_components, n_features):\n",
        "    \"\"\"Validate user provided precisions.\n",
        "\n",
        "    Parameters\n",
        "    ----------\n",
        "    precisions : array-like\n",
        "        'full' : shape of (n_components, n_features, n_features)\n",
        "        'tied' : shape of (n_features, n_features)\n",
        "        'diag' : shape of (n_components, n_features)\n",
        "        'spherical' : shape of (n_components,)\n",
        "\n",
        "    covariance_type : str\n",
        "\n",
        "    n_components : int\n",
        "        Number of components.\n",
        "\n",
        "    n_features : int\n",
        "        Number of features.\n",
        "\n",
        "    Returns\n",
        "    -------\n",
        "    precisions : array\n",
        "    \"\"\"\n",
        "    precisions = check_array(\n",
        "        precisions,\n",
        "        dtype=[np.float64, np.float32],\n",
        "        ensure_2d=False,\n",
        "        allow_nd=covariance_type == \"full\",\n",
        "    )\n",
        "\n",
        "    precisions_shape = {\n",
        "        \"full\": (n_components, n_features, n_features),\n",
        "        \"tied\": (n_features, n_features),\n",
        "        \"diag\": (n_components, n_features),\n",
        "        \"spherical\": (n_components, ),\n",
        "    }\n",
        "    _check_shape(precisions, precisions_shape[covariance_type],\n",
        "                 \"%s precision\" % covariance_type)\n",
        "\n",
        "    _check_precisions = {\n",
        "        \"full\": _check_precisions_full,\n",
        "        \"tied\": _check_precision_matrix,\n",
        "        \"diag\": _check_precision_positivity,\n",
        "        \"spherical\": _check_precision_positivity,\n",
        "    }\n",
        "    _check_precisions[covariance_type](precisions, covariance_type)\n",
        "    return precisions\n",
        "\n",
        "\n",
        "###############################################################################\n",
        "# Gaussian mixture parameters estimators (used by the M-Step)\n",
        "\n",
        "\n",
        "def _estimate_gaussian_covariances_full(resp, X, nk, means, reg_covar):\n",
        "    \"\"\"Estimate the full covariance matrices.\n",
        "\n",
        "    Parameters\n",
        "    ----------\n",
        "    resp : array-like of shape (n_samples, n_components)\n",
        "\n",
        "    X : array-like of shape (n_samples, n_features)\n",
        "\n",
        "    nk : array-like of shape (n_components,)\n",
        "\n",
        "    means : array-like of shape (n_components, n_features)\n",
        "\n",
        "    reg_covar : float\n",
        "\n",
        "    Returns\n",
        "    -------\n",
        "    covariances : array, shape (n_components, n_features, n_features)\n",
        "        The covariance matrix of the current components.\n",
        "    \"\"\"\n",
        "    n_components, n_features = means.shape\n",
        "    covariances = np.empty((n_components, n_features, n_features))\n",
        "    for k in range(n_components):\n",
        "        diff = X - means[k]\n",
        "        covariances[k] = np.dot(resp[:, k] * diff.T, diff) / nk[k]\n",
        "        covariances[k].flat[::n_features + 1] += reg_covar\n",
        "    return covariances\n",
        "\n",
        "\n",
        "def _estimate_gaussian_covariances_tied(resp, X, nk, means, reg_covar):\n",
        "    \"\"\"Estimate the tied covariance matrix.\n",
        "\n",
        "    Parameters\n",
        "    ----------\n",
        "    resp : array-like of shape (n_samples, n_components)\n",
        "\n",
        "    X : array-like of shape (n_samples, n_features)\n",
        "\n",
        "    nk : array-like of shape (n_components,)\n",
        "\n",
        "    means : array-like of shape (n_components, n_features)\n",
        "\n",
        "    reg_covar : float\n",
        "\n",
        "    Returns\n",
        "    -------\n",
        "    covariance : array, shape (n_features, n_features)\n",
        "        The tied covariance matrix of the components.\n",
        "    \"\"\"\n",
        "    avg_X2 = np.dot(X.T, X)\n",
        "    avg_means2 = np.dot(nk * means.T, means)\n",
        "    covariance = avg_X2 - avg_means2\n",
        "    covariance /= nk.sum()\n",
        "    covariance.flat[::len(covariance) + 1] += reg_covar\n",
        "    return covariance\n",
        "\n",
        "\n",
        "def _estimate_gaussian_covariances_diag(resp, X, nk, means, reg_covar):\n",
        "    \"\"\"Estimate the diagonal covariance vectors.\n",
        "\n",
        "    Parameters\n",
        "    ----------\n",
        "    responsibilities : array-like of shape (n_samples, n_components)\n",
        "\n",
        "    X : array-like of shape (n_samples, n_features)\n",
        "\n",
        "    nk : array-like of shape (n_components,)\n",
        "\n",
        "    means : array-like of shape (n_components, n_features)\n",
        "\n",
        "    reg_covar : float\n",
        "\n",
        "    Returns\n",
        "    -------\n",
        "    covariances : array, shape (n_components, n_features)\n",
        "        The covariance vector of the current components.\n",
        "    \"\"\"\n",
        "    avg_X2 = np.dot(resp.T, X * X) / nk[:, np.newaxis]\n",
        "    avg_means2 = means**2\n",
        "    avg_X_means = means * np.dot(resp.T, X) / nk[:, np.newaxis]\n",
        "    return avg_X2 - 2 * avg_X_means + avg_means2 + reg_covar\n",
        "\n",
        "\n",
        "def _estimate_gaussian_covariances_spherical(resp, X, nk, means, reg_covar):\n",
        "    \"\"\"Estimate the spherical variance values.\n",
        "\n",
        "    Parameters\n",
        "    ----------\n",
        "    responsibilities : array-like of shape (n_samples, n_components)\n",
        "\n",
        "    X : array-like of shape (n_samples, n_features)\n",
        "\n",
        "    nk : array-like of shape (n_components,)\n",
        "\n",
        "    means : array-like of shape (n_components, n_features)\n",
        "\n",
        "    reg_covar : float\n",
        "\n",
        "    Returns\n",
        "    -------\n",
        "    variances : array, shape (n_components,)\n",
        "        The variance values of each components.\n",
        "    \"\"\"\n",
        "    return _estimate_gaussian_covariances_diag(resp, X, nk, means,\n",
        "                                               reg_covar).mean(1)\n",
        "\n",
        "\n",
        "def _estimate_gaussian_parameters(X, resp, reg_covar, covariance_type, B=None):\n",
        "    \"\"\"Estimate the Gaussian distribution parameters.\n",
        "\n",
        "    Parameters\n",
        "    ----------\n",
        "    X : array-like of shape (n_samples, n_features)\n",
        "        The input data array.\n",
        "\n",
        "    resp : array-like of shape (n_samples, n_components)\n",
        "        The responsibilities for each data sample in X.\n",
        "\n",
        "    reg_covar : float\n",
        "        The regularization added to the diagonal of the covariance matrices.\n",
        "\n",
        "    covariance_type : {'full', 'tied', 'diag', 'spherical'}\n",
        "        The type of precision matrices.\n",
        "\n",
        "    Returns\n",
        "    -------\n",
        "    nk : array-like of shape (n_components,)\n",
        "        The numbers of data samples in the current components.\n",
        "\n",
        "    means : array-like of shape (n_components, n_features)\n",
        "        The centers of the current components.\n",
        "\n",
        "    covariances : array-like\n",
        "        The covariance matrix of the current components.\n",
        "        The shape depends of the covariance_type.\n",
        "    \"\"\"\n",
        "    # print(\"Doing the thing..\")\n",
        "    nk = resp.sum(axis=0) + 10 * np.finfo(resp.dtype).eps\n",
        "    means = np.dot(resp.T, X) / nk[:, np.newaxis]\n",
        "\n",
        "    # frankie\n",
        "    # get the mins for the marker genes\n",
        "    # ct_mins = [means[:, i].min() for i in B]\n",
        "    # marker_gene_indices = [set(np.where(i)[0]) for i in B]\n",
        "    ct_mins = [means[i][B[i]].min() for i in range(means.shape[0])]\n",
        "    marker_gene_indices = [set(B[i]) for i in range(means.shape[0])]\n",
        "    # modify based on the min/f\n",
        "    f = 2.\n",
        "    for idx, i in enumerate(means):\n",
        "        ct_min = ct_mins[idx]\n",
        "        betas = means[idx]\n",
        "        for jdx, b in enumerate(betas):\n",
        "            if jdx not in marker_gene_indices[idx]:\n",
        "                new = min(b, ct_min / f)\n",
        "                means[idx][jdx] = new\n",
        "\n",
        "    covariances = {\n",
        "        \"full\": _estimate_gaussian_covariances_full,\n",
        "        \"tied\": _estimate_gaussian_covariances_tied,\n",
        "        \"diag\": _estimate_gaussian_covariances_diag,\n",
        "        \"spherical\": _estimate_gaussian_covariances_spherical,\n",
        "    }[covariance_type](resp, X, nk, means, reg_covar)\n",
        "    return nk, means, covariances\n",
        "\n",
        "\n",
        "def _compute_precision_cholesky(covariances, covariance_type):\n",
        "    \"\"\"Compute the Cholesky decomposition of the precisions.\n",
        "\n",
        "    Parameters\n",
        "    ----------\n",
        "    covariances : array-like\n",
        "        The covariance matrix of the current components.\n",
        "        The shape depends of the covariance_type.\n",
        "\n",
        "    covariance_type : {'full', 'tied', 'diag', 'spherical'}\n",
        "        The type of precision matrices.\n",
        "\n",
        "    Returns\n",
        "    -------\n",
        "    precisions_cholesky : array-like\n",
        "        The cholesky decomposition of sample precisions of the current\n",
        "        components. The shape depends of the covariance_type.\n",
        "    \"\"\"\n",
        "    estimate_precision_error_message = (\n",
        "        \"Fitting the mixture model failed because some components have \"\n",
        "        \"ill-defined empirical covariance (for instance caused by singleton \"\n",
        "        \"or collapsed samples). Try to decrease the number of components, \"\n",
        "        \"or increase reg_covar.\")\n",
        "\n",
        "    if covariance_type == \"full\":\n",
        "        n_components, n_features, _ = covariances.shape\n",
        "        precisions_chol = np.empty((n_components, n_features, n_features))\n",
        "        for k, covariance in enumerate(covariances):\n",
        "            try:\n",
        "                cov_chol = linalg.cholesky(covariance, lower=True)\n",
        "            except linalg.LinAlgError:\n",
        "                raise ValueError(estimate_precision_error_message)\n",
        "            precisions_chol[k] = linalg.solve_triangular(cov_chol,\n",
        "                                                         np.eye(n_features),\n",
        "                                                         lower=True).T\n",
        "    elif covariance_type == \"tied\":\n",
        "        _, n_features = covariances.shape\n",
        "        try:\n",
        "            cov_chol = linalg.cholesky(covariances, lower=True)\n",
        "        except linalg.LinAlgError:\n",
        "            raise ValueError(estimate_precision_error_message)\n",
        "        precisions_chol = linalg.solve_triangular(cov_chol,\n",
        "                                                  np.eye(n_features),\n",
        "                                                  lower=True).T\n",
        "    else:\n",
        "        if np.any(np.less_equal(covariances, 0.0)):\n",
        "            raise ValueError(estimate_precision_error_message)\n",
        "        precisions_chol = 1.0 / np.sqrt(covariances)\n",
        "    return precisions_chol\n",
        "\n",
        "\n",
        "###############################################################################\n",
        "# Gaussian mixture probability estimators\n",
        "def _compute_log_det_cholesky(matrix_chol, covariance_type, n_features):\n",
        "    \"\"\"Compute the log-det of the cholesky decomposition of matrices.\n",
        "\n",
        "    Parameters\n",
        "    ----------\n",
        "    matrix_chol : array-like\n",
        "        Cholesky decompositions of the matrices.\n",
        "        'full' : shape of (n_components, n_features, n_features)\n",
        "        'tied' : shape of (n_features, n_features)\n",
        "        'diag' : shape of (n_components, n_features)\n",
        "        'spherical' : shape of (n_components,)\n",
        "\n",
        "    covariance_type : {'full', 'tied', 'diag', 'spherical'}\n",
        "\n",
        "    n_features : int\n",
        "        Number of features.\n",
        "\n",
        "    Returns\n",
        "    -------\n",
        "    log_det_precision_chol : array-like of shape (n_components,)\n",
        "        The determinant of the precision matrix for each component.\n",
        "    \"\"\"\n",
        "    if covariance_type == \"full\":\n",
        "        n_components, _, _ = matrix_chol.shape\n",
        "        log_det_chol = np.sum(\n",
        "            np.log(matrix_chol.reshape(n_components, -1)[:, ::n_features + 1]),\n",
        "            1)\n",
        "\n",
        "    elif covariance_type == \"tied\":\n",
        "        log_det_chol = np.sum(np.log(np.diag(matrix_chol)))\n",
        "\n",
        "    elif covariance_type == \"diag\":\n",
        "        log_det_chol = np.sum(np.log(matrix_chol), axis=1)\n",
        "\n",
        "    else:\n",
        "        log_det_chol = n_features * (np.log(matrix_chol))\n",
        "\n",
        "    return log_det_chol\n",
        "\n",
        "\n",
        "def _estimate_log_gaussian_prob(X, means, precisions_chol, covariance_type):\n",
        "    \"\"\"Estimate the log Gaussian probability.\n",
        "\n",
        "    Parameters\n",
        "    ----------\n",
        "    X : array-like of shape (n_samples, n_features)\n",
        "\n",
        "    means : array-like of shape (n_components, n_features)\n",
        "\n",
        "    precisions_chol : array-like\n",
        "        Cholesky decompositions of the precision matrices.\n",
        "        'full' : shape of (n_components, n_features, n_features)\n",
        "        'tied' : shape of (n_features, n_features)\n",
        "        'diag' : shape of (n_components, n_features)\n",
        "        'spherical' : shape of (n_components,)\n",
        "\n",
        "    covariance_type : {'full', 'tied', 'diag', 'spherical'}\n",
        "\n",
        "    Returns\n",
        "    -------\n",
        "    log_prob : array, shape (n_samples, n_components)\n",
        "    \"\"\"\n",
        "    n_samples, n_features = X.shape\n",
        "    n_components, _ = means.shape\n",
        "    # det(precision_chol) is half of det(precision)\n",
        "    log_det = _compute_log_det_cholesky(precisions_chol, covariance_type,\n",
        "                                        n_features)\n",
        "\n",
        "    if covariance_type == \"full\":\n",
        "        log_prob = np.empty((n_samples, n_components))\n",
        "        for k, (mu, prec_chol) in enumerate(zip(means, precisions_chol)):\n",
        "            y = np.dot(X, prec_chol) - np.dot(mu, prec_chol)\n",
        "            log_prob[:, k] = np.sum(np.square(y), axis=1)\n",
        "\n",
        "    elif covariance_type == \"tied\":\n",
        "        log_prob = np.empty((n_samples, n_components))\n",
        "        for k, mu in enumerate(means):\n",
        "            y = np.dot(X, precisions_chol) - np.dot(mu, precisions_chol)\n",
        "            log_prob[:, k] = np.sum(np.square(y), axis=1)\n",
        "\n",
        "    elif covariance_type == \"diag\":\n",
        "        precisions = precisions_chol**2\n",
        "        log_prob = (np.sum((means**2 * precisions), 1) -\n",
        "                    2.0 * np.dot(X, (means * precisions).T) +\n",
        "                    np.dot(X**2, precisions.T))\n",
        "\n",
        "    elif covariance_type == \"spherical\":\n",
        "        precisions = precisions_chol**2\n",
        "        log_prob = (np.sum(means**2, 1) * precisions -\n",
        "                    2 * np.dot(X, means.T * precisions) +\n",
        "                    np.outer(row_norms(X, squared=True), precisions))\n",
        "    return -0.5 * (n_features * np.log(2 * np.pi) + log_prob) + log_det\n",
        "\n",
        "\n",
        "class ImprovedGaussianMixture(BaseMixture):\n",
        "    \"\"\"Gaussian Mixture.\n",
        "\n",
        "    Representation of a Gaussian mixture model probability distribution.\n",
        "    This class allows to estimate the parameters of a Gaussian mixture\n",
        "    distribution.\n",
        "\n",
        "    Read more in the :ref:`User Guide <gmm>`.\n",
        "\n",
        "    .. versionadded:: 0.18\n",
        "\n",
        "    Parameters\n",
        "    ----------\n",
        "    n_components : int, default=1\n",
        "        The number of mixture components.\n",
        "\n",
        "    covariance_type : {'full', 'tied', 'diag', 'spherical'}, default='full'\n",
        "        String describing the type of covariance parameters to use.\n",
        "        Must be one of:\n",
        "\n",
        "        'full'\n",
        "            each component has its own general covariance matrix\n",
        "        'tied'\n",
        "            all components share the same general covariance matrix\n",
        "        'diag'\n",
        "            each component has its own diagonal covariance matrix\n",
        "        'spherical'\n",
        "            each component has its own single variance\n",
        "\n",
        "    tol : float, default=1e-3\n",
        "        The convergence threshold. EM iterations will stop when the\n",
        "        lower bound average gain is below this threshold.\n",
        "\n",
        "    reg_covar : float, default=1e-6\n",
        "        Non-negative regularization added to the diagonal of covariance.\n",
        "        Allows to assure that the covariance matrices are all positive.\n",
        "\n",
        "    max_iter : int, default=100\n",
        "        The number of EM iterations to perform.\n",
        "\n",
        "    n_init : int, default=1\n",
        "        The number of initializations to perform. The best results are kept.\n",
        "\n",
        "    init_params : {'kmeans', 'random'}, default='kmeans'\n",
        "        The method used to initialize the weights, the means and the\n",
        "        precisions.\n",
        "        Must be one of::\n",
        "\n",
        "            'kmeans' : responsibilities are initialized using kmeans.\n",
        "            'random' : responsibilities are initialized randomly.\n",
        "\n",
        "    weights_init : array-like of shape (n_components, ), default=None\n",
        "        The user-provided initial weights.\n",
        "        If it is None, weights are initialized using the `init_params` method.\n",
        "\n",
        "    means_init : array-like of shape (n_components, n_features), default=None\n",
        "        The user-provided initial means,\n",
        "        If it is None, means are initialized using the `init_params` method.\n",
        "\n",
        "    precisions_init : array-like, default=None\n",
        "        The user-provided initial precisions (inverse of the covariance\n",
        "        matrices).\n",
        "        If it is None, precisions are initialized using the 'init_params'\n",
        "        method.\n",
        "        The shape depends on 'covariance_type'::\n",
        "\n",
        "            (n_components,)                        if 'spherical',\n",
        "            (n_features, n_features)               if 'tied',\n",
        "            (n_components, n_features)             if 'diag',\n",
        "            (n_components, n_features, n_features) if 'full'\n",
        "\n",
        "    random_state : int, RandomState instance or None, default=None\n",
        "        Controls the random seed given to the method chosen to initialize the\n",
        "        parameters (see `init_params`).\n",
        "        In addition, it controls the generation of random samples from the\n",
        "        fitted distribution (see the method `sample`).\n",
        "        Pass an int for reproducible output across multiple function calls.\n",
        "        See :term:`Glossary <random_state>`.\n",
        "\n",
        "    warm_start : bool, default=False\n",
        "        If 'warm_start' is True, the solution of the last fitting is used as\n",
        "        initialization for the next call of fit(). This can speed up\n",
        "        convergence when fit is called several times on similar problems.\n",
        "        In that case, 'n_init' is ignored and only a single initialization\n",
        "        occurs upon the first call.\n",
        "        See :term:`the Glossary <warm_start>`.\n",
        "\n",
        "    verbose : int, default=0\n",
        "        Enable verbose output. If 1 then it prints the current\n",
        "        initialization and each iteration step. If greater than 1 then\n",
        "        it prints also the log probability and the time needed\n",
        "        for each step.\n",
        "\n",
        "    verbose_interval : int, default=10\n",
        "        Number of iteration done before the next print.\n",
        "\n",
        "    Attributes\n",
        "    ----------\n",
        "    weights_ : array-like of shape (n_components,)\n",
        "        The weights of each mixture components.\n",
        "\n",
        "    means_ : array-like of shape (n_components, n_features)\n",
        "        The mean of each mixture component.\n",
        "\n",
        "    covariances_ : array-like\n",
        "        The covariance of each mixture component.\n",
        "        The shape depends on `covariance_type`::\n",
        "\n",
        "            (n_components,)                        if 'spherical',\n",
        "            (n_features, n_features)               if 'tied',\n",
        "            (n_components, n_features)             if 'diag',\n",
        "            (n_components, n_features, n_features) if 'full'\n",
        "\n",
        "    precisions_ : array-like\n",
        "        The precision matrices for each component in the mixture. A precision\n",
        "        matrix is the inverse of a covariance matrix. A covariance matrix is\n",
        "        symmetric positive definite so the mixture of Gaussian can be\n",
        "        equivalently parameterized by the precision matrices. Storing the\n",
        "        precision matrices instead of the covariance matrices makes it more\n",
        "        efficient to compute the log-likelihood of new samples at test time.\n",
        "        The shape depends on `covariance_type`::\n",
        "\n",
        "            (n_components,)                        if 'spherical',\n",
        "            (n_features, n_features)               if 'tied',\n",
        "            (n_components, n_features)             if 'diag',\n",
        "            (n_components, n_features, n_features) if 'full'\n",
        "\n",
        "    precisions_cholesky_ : array-like\n",
        "        The cholesky decomposition of the precision matrices of each mixture\n",
        "        component. A precision matrix is the inverse of a covariance matrix.\n",
        "        A covariance matrix is symmetric positive definite so the mixture of\n",
        "        Gaussian can be equivalently parameterized by the precision matrices.\n",
        "        Storing the precision matrices instead of the covariance matrices makes\n",
        "        it more efficient to compute the log-likelihood of new samples at test\n",
        "        time. The shape depends on `covariance_type`::\n",
        "\n",
        "            (n_components,)                        if 'spherical',\n",
        "            (n_features, n_features)               if 'tied',\n",
        "            (n_components, n_features)             if 'diag',\n",
        "            (n_components, n_features, n_features) if 'full'\n",
        "\n",
        "    converged_ : bool\n",
        "        True when convergence was reached in fit(), False otherwise.\n",
        "\n",
        "    n_iter_ : int\n",
        "        Number of step used by the best fit of EM to reach the convergence.\n",
        "\n",
        "    lower_bound_ : float\n",
        "        Lower bound value on the log-likelihood (of the training data with\n",
        "        respect to the model) of the best fit of EM.\n",
        "\n",
        "    n_features_in_ : int\n",
        "        Number of features seen during :term:`fit`.\n",
        "\n",
        "        .. versionadded:: 0.24\n",
        "\n",
        "    feature_names_in_ : ndarray of shape (`n_features_in_`,)\n",
        "        Names of features seen during :term:`fit`. Defined only when `X`\n",
        "        has feature names that are all strings.\n",
        "\n",
        "        .. versionadded:: 1.0\n",
        "\n",
        "    See Also\n",
        "    --------\n",
        "    BayesianGaussianMixture : Gaussian mixture model fit with a variational\n",
        "        inference.\n",
        "\n",
        "    Examples\n",
        "    --------\n",
        "    >>> import numpy as np\n",
        "    >>> from sklearn.mixture import GaussianMixture\n",
        "    >>> X = np.array([[1, 2], [1, 4], [1, 0], [10, 2], [10, 4], [10, 0]])\n",
        "    >>> gm = GaussianMixture(n_components=2, random_state=0).fit(X)\n",
        "    >>> gm.means_\n",
        "    array([[10.,  2.],\n",
        "           [ 1.,  2.]])\n",
        "    >>> gm.predict([[0, 0], [12, 3]])\n",
        "    array([1, 0])\n",
        "    \"\"\"\n",
        "    def __init__(\n",
        "        self,\n",
        "        n_components=1,\n",
        "        *,\n",
        "        covariance_type=\"full\",\n",
        "        tol=1e-3,\n",
        "        reg_covar=1e-6,\n",
        "        max_iter=100,\n",
        "        n_init=1,\n",
        "        init_params=\"kmeans\",\n",
        "        weights_init=None,\n",
        "        means_init=None,\n",
        "        precisions_init=None,\n",
        "        random_state=None,\n",
        "        warm_start=False,\n",
        "        verbose=0,\n",
        "        verbose_interval=10,\n",
        "    ):\n",
        "        super().__init__(\n",
        "            n_components=n_components,\n",
        "            tol=tol,\n",
        "            reg_covar=reg_covar,\n",
        "            max_iter=max_iter,\n",
        "            n_init=n_init,\n",
        "            init_params=init_params,\n",
        "            random_state=random_state,\n",
        "            warm_start=warm_start,\n",
        "            verbose=verbose,\n",
        "            verbose_interval=verbose_interval,\n",
        "        )\n",
        "\n",
        "        self.covariance_type = covariance_type\n",
        "        self.weights_init = weights_init\n",
        "        self.means_init = means_init\n",
        "        self.precisions_init = precisions_init\n",
        "\n",
        "    def _check_parameters(self, X):\n",
        "        \"\"\"Check the Gaussian mixture parameters are well defined.\"\"\"\n",
        "        _, n_features = X.shape\n",
        "        if self.covariance_type not in [\"spherical\", \"tied\", \"diag\", \"full\"]:\n",
        "            raise ValueError(\"Invalid value for 'covariance_type': %s \"\n",
        "                             \"'covariance_type' should be in \"\n",
        "                             \"['spherical', 'tied', 'diag', 'full']\" %\n",
        "                             self.covariance_type)\n",
        "\n",
        "        if self.weights_init is not None:\n",
        "            self.weights_init = _check_weights(self.weights_init,\n",
        "                                               self.n_components)\n",
        "\n",
        "        if self.means_init is not None:\n",
        "            self.means_init = _check_means(self.means_init, self.n_components,\n",
        "                                           n_features)\n",
        "\n",
        "        if self.precisions_init is not None:\n",
        "            self.precisions_init = _check_precisions(\n",
        "                self.precisions_init,\n",
        "                self.covariance_type,\n",
        "                self.n_components,\n",
        "                n_features,\n",
        "            )\n",
        "\n",
        "    def _initialize(self, X, resp, B=None):\n",
        "        \"\"\"Initialization of the Gaussian mixture parameters.\n",
        "\n",
        "        Parameters\n",
        "        ----------\n",
        "        X : array-like of shape (n_samples, n_features)\n",
        "\n",
        "        resp : array-like of shape (n_samples, n_components)\n",
        "        \"\"\"\n",
        "        n_samples, _ = X.shape\n",
        "\n",
        "        weights, means, covariances = _estimate_gaussian_parameters(\n",
        "            X, resp, self.reg_covar, self.covariance_type, B=B)\n",
        "        weights /= n_samples\n",
        "\n",
        "        self.weights_ = weights if self.weights_init is None else self.weights_init\n",
        "        self.means_ = means if self.means_init is None else self.means_init\n",
        "\n",
        "        if self.precisions_init is None:\n",
        "            self.covariances_ = covariances\n",
        "            self.precisions_cholesky_ = _compute_precision_cholesky(\n",
        "                covariances, self.covariance_type)\n",
        "        elif self.covariance_type == \"full\":\n",
        "            self.precisions_cholesky_ = np.array([\n",
        "                linalg.cholesky(prec_init, lower=True)\n",
        "                for prec_init in self.precisions_init\n",
        "            ])\n",
        "        elif self.covariance_type == \"tied\":\n",
        "            self.precisions_cholesky_ = linalg.cholesky(self.precisions_init,\n",
        "                                                        lower=True)\n",
        "        else:\n",
        "            self.precisions_cholesky_ = self.precisions_init\n",
        "\n",
        "    def _m_step(self, X, log_resp, B=None):\n",
        "        \"\"\"M step.\n",
        "\n",
        "        Parameters\n",
        "        ----------\n",
        "        X : array-like of shape (n_samples, n_features)\n",
        "\n",
        "        log_resp : array-like of shape (n_samples, n_components)\n",
        "            Logarithm of the posterior probabilities (or responsibilities) of\n",
        "            the point of each sample in X.\n",
        "        \"\"\"\n",
        "        n_samples, _ = X.shape\n",
        "        self.weights_, self.means_, self.covariances_ = _estimate_gaussian_parameters(\n",
        "            X, np.exp(log_resp), self.reg_covar, self.covariance_type, B=B)\n",
        "        self.weights_ /= n_samples\n",
        "        self.precisions_cholesky_ = _compute_precision_cholesky(\n",
        "            self.covariances_, self.covariance_type)\n",
        "\n",
        "    def _estimate_log_prob(self, X):\n",
        "        return _estimate_log_gaussian_prob(X, self.means_,\n",
        "                                           self.precisions_cholesky_,\n",
        "                                           self.covariance_type)\n",
        "\n",
        "    def _estimate_log_weights(self):\n",
        "        return np.log(self.weights_)\n",
        "\n",
        "    def _compute_lower_bound(self, _, log_prob_norm):\n",
        "        return log_prob_norm\n",
        "\n",
        "    def _get_parameters(self):\n",
        "        return (\n",
        "            self.weights_,\n",
        "            self.means_,\n",
        "            self.covariances_,\n",
        "            self.precisions_cholesky_,\n",
        "        )\n",
        "\n",
        "    def _set_parameters(self, params):\n",
        "        (\n",
        "            self.weights_,\n",
        "            self.means_,\n",
        "            self.covariances_,\n",
        "            self.precisions_cholesky_,\n",
        "        ) = params\n",
        "\n",
        "        # Attributes computation\n",
        "        _, n_features = self.means_.shape\n",
        "\n",
        "        if self.covariance_type == \"full\":\n",
        "            self.precisions_ = np.empty(self.precisions_cholesky_.shape)\n",
        "            for k, prec_chol in enumerate(self.precisions_cholesky_):\n",
        "                self.precisions_[k] = np.dot(prec_chol, prec_chol.T)\n",
        "\n",
        "        elif self.covariance_type == \"tied\":\n",
        "            self.precisions_ = np.dot(self.precisions_cholesky_,\n",
        "                                      self.precisions_cholesky_.T)\n",
        "        else:\n",
        "            self.precisions_ = self.precisions_cholesky_**2\n",
        "\n",
        "    def _n_parameters(self):\n",
        "        \"\"\"Return the number of free parameters in the model.\"\"\"\n",
        "        _, n_features = self.means_.shape\n",
        "        if self.covariance_type == \"full\":\n",
        "            cov_params = self.n_components * n_features * (n_features +\n",
        "                                                           1) / 2.0\n",
        "        elif self.covariance_type == \"diag\":\n",
        "            cov_params = self.n_components * n_features\n",
        "        elif self.covariance_type == \"tied\":\n",
        "            cov_params = n_features * (n_features + 1) / 2.0\n",
        "        elif self.covariance_type == \"spherical\":\n",
        "            cov_params = self.n_components\n",
        "        mean_params = n_features * self.n_components\n",
        "        return int(cov_params + mean_params + self.n_components - 1)\n",
        "\n",
        "    def bic(self, X):\n",
        "        \"\"\"Bayesian information criterion for the current model on the input X.\n",
        "\n",
        "        Parameters\n",
        "        ----------\n",
        "        X : array of shape (n_samples, n_dimensions)\n",
        "            The input samples.\n",
        "\n",
        "        Returns\n",
        "        -------\n",
        "        bic : float\n",
        "            The lower the better.\n",
        "        \"\"\"\n",
        "        return -2 * self.score(X) * X.shape[0] + self._n_parameters() * np.log(\n",
        "            X.shape[0])\n",
        "\n",
        "    def aic(self, X):\n",
        "        \"\"\"Akaike information criterion for the current model on the input X.\n",
        "\n",
        "        Parameters\n",
        "        ----------\n",
        "        X : array of shape (n_samples, n_dimensions)\n",
        "            The input samples.\n",
        "\n",
        "        Returns\n",
        "        -------\n",
        "        aic : float\n",
        "            The lower the better.\n",
        "        \"\"\"\n",
        "        return -2 * self.score(X) * X.shape[0] + 2 * self._n_parameters()"
      ],
      "execution_count": 6,
      "outputs": []
    },
    {
      "cell_type": "code",
      "metadata": {
        "id": "sx_LRtGc5aWH"
      },
      "source": [
        "import json\n",
        "import numpy as np\n",
        "import pandas as pd\n",
        "import matplotlib.pyplot as plt\n",
        "\n",
        "from scipy.io import mmread, mmwrite\n",
        "from scipy.spatial.distance import cdist\n",
        "from collections import defaultdict\n",
        "\n",
        "from scipy.stats import entropy\n",
        "\n",
        "from sklearn.metrics import adjusted_rand_score, rand_score\n",
        "from sklearn.datasets import make_blobs\n",
        "from sklearn.preprocessing import normalize\n",
        "from sklearn.mixture import GaussianMixture as StandardGaussianMixture\n",
        "from sklearn.cluster import KMeans as KMeans\n",
        "from sklearn.mixture._gaussian_mixture import _estimate_gaussian_parameters as est_gaus_params \n",
        "from sklearn.metrics.pairwise import euclidean_distances\n",
        "from mpl_toolkits.axes_grid1 import make_axes_locatable\n",
        "from sklearn.neighbors import KDTree\n",
        "\n",
        "def nd(arr):\n",
        "    return np.asarray(arr).reshape(-1)\n",
        "\n",
        "def yex(ax):\n",
        "  lims = [\n",
        "      np.min([ax.get_xlim(), ax.get_ylim()]),  # min of both axes\n",
        "      np.max([ax.get_xlim(), ax.get_ylim()]),  # max of both axes\n",
        "  ]\n",
        "\n",
        "  # now plot both limits against eachother\n",
        "  ax.plot(lims, lims, 'k-', alpha=0.75, zorder=0)\n",
        "  ax.set(**{\n",
        "      \"xlim\": lims,\n",
        "      \"ylim\": lims,\n",
        "      \"aspect\": \"equal\"\n",
        "  })\n",
        "  return ax\n",
        "\n",
        "fsize=20\n",
        "\n",
        "plt.rcParams.update({'font.size': fsize})\n",
        "%config InlineBackend.figure_format = 'retina'"
      ],
      "execution_count": 7,
      "outputs": []
    },
    {
      "cell_type": "markdown",
      "metadata": {
        "id": "rXtmyiZB8fRJ"
      },
      "source": [
        "# Preprocess splatter"
      ]
    },
    {
      "cell_type": "code",
      "metadata": {
        "id": "x-2DlBol5fCX"
      },
      "source": [
        "# preprocess splatter file into markers file\n",
        "def write_markers(fname, markers):\n",
        "    with open(fname, \"w\") as f:\n",
        "        for k, v in markers.items():\n",
        "            f.write(f\"{k}\\t\")\n",
        "            n = len(v)\n",
        "            for idx, i in enumerate(v):\n",
        "                f.write(f\"{i}\")\n",
        "                if idx < n - 1:\n",
        "                    f.write(\",\")\n",
        "            f.write(\"\\n\")"
      ],
      "execution_count": 8,
      "outputs": []
    },
    {
      "cell_type": "code",
      "metadata": {
        "id": "VnCtIqMI5jVx"
      },
      "source": [
        "ds = \"1_evenCell_evenDE\"\n",
        "genes_metadata_fname = f\"sim/{ds}/genes_metadata.txt\"\n",
        "matrix_fname = f\"sim/{ds}/matrix.mtx\"\n",
        "genes_fname = f\"sim/{ds}/genes.txt\"\n",
        "labels_fname = f\"sim/{ds}/labels.txt\""
      ],
      "execution_count": 9,
      "outputs": []
    },
    {
      "cell_type": "code",
      "metadata": {
        "id": "OXaYskTI5pwC"
      },
      "source": [
        "df = pd.read_csv(genes_metadata_fname)"
      ],
      "execution_count": 10,
      "outputs": []
    },
    {
      "cell_type": "code",
      "metadata": {
        "id": "jo5-v0Gq5lBv"
      },
      "source": [
        "n_sample = 10\n",
        "\n",
        "# splatter get marker genes\n",
        "markers = defaultdict(list)\n",
        "groups = df.columns[df.columns.str.contains(\"DEFacGroup\")].values\n",
        "\n",
        "for group in groups:\n",
        "    # genes = df[df[f\"DEFacGroup{i}\"] > 1.5].sample(n_sample, random_state=0)[\"Gene\"].values\n",
        "    genes = df[np.logical_and((df[group] > 1.7).values, (df[\"GeneMean\"] > 1e-3).values)][\"Gene\"].values\n",
        "    for j in genes:\n",
        "        markers[group].append(j)\n",
        "write_markers(\"markers.txt\", markers)"
      ],
      "execution_count": 11,
      "outputs": []
    },
    {
      "cell_type": "code",
      "metadata": {
        "colab": {
          "base_uri": "https://localhost:8080/"
        },
        "id": "ZJoFNJzw6HLX",
        "outputId": "d7f20ccd-a127-4dad-afb5-b3f4506d70d4"
      },
      "source": [
        "np.unique(sum(list(markers.values()), [])).shape[0]"
      ],
      "execution_count": 12,
      "outputs": [
        {
          "output_type": "execute_result",
          "data": {
            "text/plain": [
              "87"
            ]
          },
          "metadata": {},
          "execution_count": 12
        }
      ]
    },
    {
      "cell_type": "code",
      "metadata": {
        "id": "qdWMCTiF6JKP"
      },
      "source": [
        "def write_dict(fname, d):\n",
        "  inv_d = {v:k for k,v in d.items()}\n",
        "  with open(fname, \"w\") as f:\n",
        "    for idx in range(len(d)):\n",
        "      f.write(f'{inv_d[idx]}\\n')"
      ],
      "execution_count": 13,
      "outputs": []
    },
    {
      "cell_type": "markdown",
      "metadata": {
        "id": "PCL8Selo8hyZ"
      },
      "source": [
        "# Read in markers"
      ]
    },
    {
      "cell_type": "code",
      "metadata": {
        "id": "4t6KiOji6Kor"
      },
      "source": [
        "def read_markers(fname, markers_ec=defaultdict(list), celltype=defaultdict(), marker_genes=defaultdict()):\n",
        "  with open(fname, \"r\") as f:\n",
        "    for idx, line in enumerate(f.readlines()):\n",
        "      ct, genes = line.strip().split('\\t')\n",
        "      celltype[ct] = idx\n",
        "      \n",
        "      # two things\n",
        "      # 1. make marker_genes list\n",
        "      # 2. make markers_ec\n",
        "      for g in genes.split(','):\n",
        "        gidx = len(marker_genes)\n",
        "        \n",
        "        # check if the gene has been added already\n",
        "        if g in marker_genes.keys(): # gene repeated\n",
        "          gidx = marker_genes[g]\n",
        "        else:\n",
        "          marker_genes[g] = gidx\n",
        "        \n",
        "        # for the cell type index, add the marker gene index \n",
        "        markers_ec[celltype[ct]].append(marker_genes[g])\n",
        "      \n",
        "      # sort the marker genes\n",
        "      markers_ec[celltype[ct]] = sorted(markers_ec[celltype[ct]])"
      ],
      "execution_count": 14,
      "outputs": []
    },
    {
      "cell_type": "code",
      "metadata": {
        "id": "fKUJaYG-6MkR"
      },
      "source": [
        "markers_ec=defaultdict(list)\n",
        "celltypes=defaultdict()\n",
        "marker_genes=defaultdict()\n",
        "read_markers(\"markers.txt\", markers_ec, celltypes, marker_genes)\n",
        "\n",
        "write_markers(\"markers.ec\", markers_ec)\n",
        "write_dict(\"types.txt\", celltypes)\n",
        "write_dict(\"marker_genes.txt\", marker_genes)"
      ],
      "execution_count": 15,
      "outputs": []
    },
    {
      "cell_type": "code",
      "metadata": {
        "id": "v6SXb7L26PX7"
      },
      "source": [
        "mtx = mmread(matrix_fname).tocsr()"
      ],
      "execution_count": 16,
      "outputs": []
    },
    {
      "cell_type": "code",
      "metadata": {
        "id": "jJIcfxSL6SUk"
      },
      "source": [
        "genes = defaultdict()\n",
        "\n",
        "with open(genes_fname) as f:\n",
        "  for idx, line in enumerate(f.readlines()):\n",
        "    gene = line.strip()\n",
        "    genes[gene] = idx\n",
        "\n",
        "mg_inv = {v:k for k,v in marker_genes.items()}\n",
        "\n",
        "sel = []\n",
        "for idx in range(len(mg_inv)):\n",
        "  # this maps the marker gene name index to the gene index\n",
        "  # in order of the marker_genes file\n",
        "  sel.append(genes[mg_inv[idx]])"
      ],
      "execution_count": 17,
      "outputs": []
    },
    {
      "cell_type": "code",
      "metadata": {
        "colab": {
          "base_uri": "https://localhost:8080/"
        },
        "id": "NUnwE3to6VWR",
        "outputId": "fb9d0b0b-f2f7-4aea-cfc4-ac8f97640cdb"
      },
      "source": [
        "len(sel)"
      ],
      "execution_count": 18,
      "outputs": [
        {
          "output_type": "execute_result",
          "data": {
            "text/plain": [
              "87"
            ]
          },
          "metadata": {},
          "execution_count": 18
        }
      ]
    },
    {
      "cell_type": "code",
      "metadata": {
        "id": "Tpw7TW1I6YqQ"
      },
      "source": [
        "a = np.array(\n",
        "    [[1,1, 4],\n",
        "     [2,1, 3],\n",
        "     [2,3, 2]]\n",
        ")"
      ],
      "execution_count": 19,
      "outputs": []
    },
    {
      "cell_type": "code",
      "metadata": {
        "colab": {
          "base_uri": "https://localhost:8080/"
        },
        "id": "0dDueKfL6dqX",
        "outputId": "3dbadae4-e205-499a-bc51-f42a79967e7a"
      },
      "source": [
        "a[:,[2,1]]"
      ],
      "execution_count": 20,
      "outputs": [
        {
          "output_type": "execute_result",
          "data": {
            "text/plain": [
              "array([[4, 1],\n",
              "       [3, 1],\n",
              "       [2, 3]])"
            ]
          },
          "metadata": {},
          "execution_count": 20
        }
      ]
    },
    {
      "cell_type": "code",
      "metadata": {
        "id": "R25GriYt6WFl"
      },
      "source": [
        "mmwrite(\"matrix_select.mtx\", mtx[:,sel])"
      ],
      "execution_count": 21,
      "outputs": []
    },
    {
      "cell_type": "code",
      "metadata": {
        "id": "OnXWejRk68Bi"
      },
      "source": [
        "def mec2b(markers_ec):\n",
        "  n_clusters = len(list(markers_ec.keys()))\n",
        "  n_features = np.unique(sum(list(markers_ec.values()), [])).shape[0]\n",
        "  B = np.zeros((n_clusters, n_features))\n",
        "  for k,v in markers_ec.items():\n",
        "    B[k][v] = 1\n",
        "  return B"
      ],
      "execution_count": 22,
      "outputs": []
    },
    {
      "cell_type": "code",
      "metadata": {
        "id": "mlmZP6QJ8Ujd"
      },
      "source": [
        "B = mec2b(markers_ec).astype(bool)"
      ],
      "execution_count": 23,
      "outputs": []
    },
    {
      "cell_type": "code",
      "metadata": {
        "colab": {
          "base_uri": "https://localhost:8080/"
        },
        "id": "EEyToZiY8WNa",
        "outputId": "c74d88fd-2601-4c76-fb3a-baa7d46565a9"
      },
      "source": [
        "B.sum(1)"
      ],
      "execution_count": 24,
      "outputs": [
        {
          "output_type": "execute_result",
          "data": {
            "text/plain": [
              "array([12,  8, 10,  9,  8,  7,  8,  7, 10,  9])"
            ]
          },
          "metadata": {},
          "execution_count": 24
        }
      ]
    },
    {
      "cell_type": "code",
      "metadata": {
        "id": "pd-TNxMsGF0A"
      },
      "source": [
        ""
      ],
      "execution_count": null,
      "outputs": []
    },
    {
      "cell_type": "markdown",
      "metadata": {
        "id": "oUUf83VB8lt9"
      },
      "source": [
        "# Read in matrix"
      ]
    },
    {
      "cell_type": "code",
      "metadata": {
        "id": "qZbTp05avvqS"
      },
      "source": [
        "#@title compute real centroids and marker gene centroids\n",
        "\n",
        "def get_centroids(X, z):\n",
        "  clusters = np.sort(np.unique(z))\n",
        "  \n",
        "  n_clusters, = clusters.shape\n",
        "  _, n_features = X.shape\n",
        "\n",
        "  centroids = np.ones((n_clusters, n_features))\n",
        "  for i, g in enumerate(clusters):\n",
        "    centroids[i] = (X[np.where(z==g)[0]].mean(0))\n",
        "  return centroids\n",
        "\n",
        "def get_marker_centroids(X, markers_ec, method=\"mean\"):\n",
        "  n_clusters = len(list(markers_ec.keys()))\n",
        "  _, n_features = X.shape\n",
        "\n",
        "  marker_centroids = np.ones((n_clusters, n_features))*1e-5\n",
        "\n",
        "  for k, v in markers_ec.items():\n",
        "    submx = X[:, v]\n",
        "    if method == 'max':\n",
        "      repl = submx.max(0)\n",
        "    else:\n",
        "      repl = submx.mean(0)\n",
        "    marker_centroids[k][v] = repl\n",
        "  return marker_centroids"
      ],
      "execution_count": 72,
      "outputs": []
    },
    {
      "cell_type": "code",
      "metadata": {
        "colab": {
          "base_uri": "https://localhost:8080/"
        },
        "id": "ky8xtxff8nWT",
        "outputId": "380c8482-ce3f-4a89-ca98-85980f655b5b"
      },
      "source": [
        "G = mmread(\"matrix_select.mtx\").toarray()\n",
        "\n",
        "labels = pd.read_csv(labels_fname, sep=\"\\t\", header=None, names=[\"cell\", \"celltype\"])\n",
        "z = labels[\"celltype\"].astype(\"category\").cat.codes.values\n",
        "\n",
        "print(np.unique(z).shape[0], *G.shape, sep=\", \")\n",
        "\n",
        "count_mask          = G.sum(1)     > 0\n",
        "genes_detected_mask = (G>0).sum(1) > 0 \n",
        "cells_detected_mask = (G>0).sum(0) > 0 # handle when genes are dropped (remove from markers_ec)\n",
        "mask = np.logical_and(count_mask, genes_detected_mask)\n",
        "\n",
        "G = G[mask][:,cells_detected_mask]\n",
        "z = z[mask]\n",
        "\n",
        "n_clusters = np.unique(z).shape[0]\n",
        "n_samples, n_features = G.shape\n",
        "\n",
        "print(n_clusters, n_samples, n_features, sep=\", \")"
      ],
      "execution_count": 73,
      "outputs": [
        {
          "output_type": "stream",
          "name": "stdout",
          "text": [
            "10, 11843, 87\n",
            "10, 11843, 87\n"
          ]
        }
      ]
    },
    {
      "cell_type": "code",
      "metadata": {
        "id": "It5P4K_u-MFr"
      },
      "source": [
        "norm = 1\n",
        "\n",
        "X = normalize(G, norm=\"l1\")*norm\n",
        "\n",
        "# get the centroids for the existing data\n",
        "gt = {\n",
        "    \"X\": {\n",
        "        \"norm\": X,\n",
        "        \"center\": X - X.mean(0),\n",
        "        \"norm_log1p\": np.log1p(X),\n",
        "        \"norm_log1p_center\": np.log1p(X) - np.log1p(X).mean(0),\n",
        "        \"raw_center\": G - G.mean(0),\n",
        "        \"raw_log1p_center\": np.log1p(G) - np.log1p(G).mean(0)\n",
        "    }\n",
        "}\n",
        "\n",
        "gt.update({\n",
        "    \"centroids\": {\n",
        "        \"norm\": get_centroids(gt[\"X\"][\"norm\"], z), \n",
        "        \"center\": get_centroids(gt[\"X\"][\"center\"], z), \n",
        "        \"norm_log1p\": get_centroids(gt[\"X\"][\"norm_log1p\"], z),\n",
        "        \"norm_log1p_center\": get_centroids(gt[\"X\"][\"norm_log1p_center\"], z),\n",
        "        \"raw_center\": get_centroids(gt[\"X\"][\"raw_center\"], z),\n",
        "        \"raw_log1p_center\": get_centroids(gt[\"X\"][\"raw_log1p_center\"], z),\n",
        "        },\n",
        "      \"marker_centroids\":{\n",
        "          \"norm\": get_marker_centroids(gt[\"X\"][\"norm\"], markers_ec),\n",
        "          \"center\": get_marker_centroids(gt[\"X\"][\"center\"], markers_ec, \"max\"), # these will all be zero if using mean\n",
        "          \"norm_log1p\": get_marker_centroids(gt[\"X\"][\"norm_log1p\"], markers_ec),\n",
        "          \"norm_log1p_center\": get_marker_centroids(gt[\"X\"][\"norm_log1p_center\"], markers_ec, \"max\"),\n",
        "          \"raw_center\": get_marker_centroids(gt[\"X\"][\"raw_center\"], markers_ec, \"max\"),\n",
        "          \"raw_log1p_center\": get_marker_centroids(gt[\"X\"][\"raw_log1p_center\"], markers_ec, \"max\")\n",
        "      }\n",
        "    }\n",
        ")"
      ],
      "execution_count": 136,
      "outputs": []
    },
    {
      "cell_type": "code",
      "metadata": {
        "id": "xhuHdmYA-SK8"
      },
      "source": [
        "method = \"raw_log1p_center\"\n",
        "# log(G + 1) recommended by Huber.\n",
        "# for assignment we do\n",
        "# log(G + 1) - log(G + 1).mean(0)"
      ],
      "execution_count": 137,
      "outputs": []
    },
    {
      "cell_type": "code",
      "metadata": {
        "colab": {
          "base_uri": "https://localhost:8080/"
        },
        "id": "TsBlAI8uDVfC",
        "outputId": "8cd4e97f-3c08-4674-ea6c-df67dc6dbdc3"
      },
      "source": [
        "gt[\"X\"][method].shape"
      ],
      "execution_count": 163,
      "outputs": [
        {
          "output_type": "execute_result",
          "data": {
            "text/plain": [
              "(11843, 87)"
            ]
          },
          "metadata": {},
          "execution_count": 163
        }
      ]
    },
    {
      "cell_type": "code",
      "metadata": {
        "colab": {
          "base_uri": "https://localhost:8080/"
        },
        "id": "8ykOHQH0DfAk",
        "outputId": "aa70cf3d-a39a-48d5-9640-5b010d3acdfd"
      },
      "source": [
        "gt[\"X\"][method][:, markers_ec[6]].max(0)"
      ],
      "execution_count": 174,
      "outputs": [
        {
          "output_type": "execute_result",
          "data": {
            "text/plain": [
              "array([2.5377619 , 3.30864412, 3.39355931, 2.78120993, 2.84792885,\n",
              "       3.01400598, 2.43810276, 2.66102072])"
            ]
          },
          "metadata": {},
          "execution_count": 174
        }
      ]
    },
    {
      "cell_type": "code",
      "metadata": {
        "colab": {
          "base_uri": "https://localhost:8080/",
          "height": 300
        },
        "id": "bV6_L39wEZtY",
        "outputId": "24a94cb2-8f9a-4305-cb4c-9c7ca930afcd"
      },
      "source": [
        "g = 6\n",
        "plt.imshow(G[np.where(z == g)], aspect=\"auto\")\n",
        "plt.colorbar()"
      ],
      "execution_count": 207,
      "outputs": [
        {
          "output_type": "execute_result",
          "data": {
            "text/plain": [
              "<matplotlib.colorbar.Colorbar at 0x7fa21cb73110>"
            ]
          },
          "metadata": {},
          "execution_count": 207
        },
        {
          "output_type": "display_data",
          "data": {
            "image/png": "[encoded data removed]",
            "text/plain": [
              "<Figure size 432x288 with 2 Axes>"
            ]
          },
          "metadata": {
            "image/png": {
              "width": 425,
              "height": 266
            },
            "needs_background": "light"
          }
        }
      ]
    },
    {
      "cell_type": "markdown",
      "metadata": {
        "id": "2Q6hSJgcPAgY"
      },
      "source": [
        "the 6th cluster has low expression in the marker genes selected for it but has high expression in the marker genes not selected for it!"
      ]
    },
    {
      "cell_type": "code",
      "metadata": {
        "colab": {
          "base_uri": "https://localhost:8080/"
        },
        "id": "-ZJ-DesPOvc2",
        "outputId": "7019444f-bacd-4612-d57b-ef98ddfb9321"
      },
      "source": [
        "pd.Series(G[np.where(z == g)].argmax(1)).value_counts()"
      ],
      "execution_count": 211,
      "outputs": [
        {
          "output_type": "execute_result",
          "data": {
            "text/plain": [
              "49    925\n",
              "51    100\n",
              "50     91\n",
              "14     34\n",
              "18      5\n",
              "13      5\n",
              "42      2\n",
              "38      1\n",
              "35      1\n",
              "23      1\n",
              "21      1\n",
              "dtype: int64"
            ]
          },
          "metadata": {},
          "execution_count": 211
        }
      ]
    },
    {
      "cell_type": "code",
      "metadata": {
        "colab": {
          "base_uri": "https://localhost:8080/"
        },
        "id": "4t7J1-HYO1b3",
        "outputId": "962b3270-92bf-49d0-c45f-b0e80e7abc78"
      },
      "source": [
        "markers_ec[6]"
      ],
      "execution_count": 210,
      "outputs": [
        {
          "output_type": "execute_result",
          "data": {
            "text/plain": [
              "[53, 54, 55, 56, 57, 58, 59, 60]"
            ]
          },
          "metadata": {},
          "execution_count": 210
        }
      ]
    },
    {
      "cell_type": "code",
      "metadata": {
        "colab": {
          "base_uri": "https://localhost:8080/"
        },
        "id": "trozAPuqGOX5",
        "outputId": "3ec08ca9-c15d-40de-d91c-e684bb88ca1f"
      },
      "source": [
        "np.sum(G.sum(1) > 500)"
      ],
      "execution_count": 199,
      "outputs": [
        {
          "output_type": "execute_result",
          "data": {
            "text/plain": [
              "6238"
            ]
          },
          "metadata": {},
          "execution_count": 199
        }
      ]
    },
    {
      "cell_type": "code",
      "metadata": {
        "colab": {
          "base_uri": "https://localhost:8080/"
        },
        "id": "V1UVp2VaE4Ng",
        "outputId": "2dbd9782-41eb-43b1-eec6-2c9e81a5a128"
      },
      "source": [
        "g = 6\n",
        "G[np.where(z == g)][:, markers_ec[g]].sum()"
      ],
      "execution_count": 181,
      "outputs": [
        {
          "output_type": "execute_result",
          "data": {
            "text/plain": [
              "4825"
            ]
          },
          "metadata": {},
          "execution_count": 181
        }
      ]
    },
    {
      "cell_type": "code",
      "metadata": {
        "colab": {
          "base_uri": "https://localhost:8080/"
        },
        "id": "Yt3QsluZFAYW",
        "outputId": "16ac7bfa-a837-4975-8b5a-5d1a6bd41ce9"
      },
      "source": [
        "pd.Series([(g, G[np.where(z == g)][:, markers_ec[g]].sum()) for g in np.unique(z)])"
      ],
      "execution_count": 184,
      "outputs": [
        {
          "output_type": "execute_result",
          "data": {
            "text/plain": [
              "0    (0, 106094)\n",
              "1    (1, 172561)\n",
              "2     (2, 71802)\n",
              "3     (3, 49600)\n",
              "4     (4, 96553)\n",
              "5    (5, 203401)\n",
              "6      (6, 4825)\n",
              "7     (7, 39002)\n",
              "8     (8, 24327)\n",
              "9     (9, 82305)\n",
              "dtype: object"
            ]
          },
          "metadata": {},
          "execution_count": 184
        }
      ]
    },
    {
      "cell_type": "code",
      "metadata": {
        "colab": {
          "base_uri": "https://localhost:8080/",
          "height": 625
        },
        "cellView": "form",
        "id": "HPv7goOj_FFq",
        "outputId": "378eaa53-173f-4ee0-f760-ca290c53ef4f"
      },
      "source": [
        "#@title QC plots\n",
        "fig, axs = plt.subplots(figsize=(10,10), ncols=2, nrows=2)\n",
        "\n",
        "# Genes detected\n",
        "ax = axs[0, 0]\n",
        "x = np.sort(nd((gt[\"X\"][method]>0).sum(1)))[::-1]\n",
        "y = np.arange(gt[\"X\"][method].shape[0])\n",
        "\n",
        "ax.scatter(x,y, color=\"k\", s=0.5)\n",
        "\n",
        "ax.set(**{\n",
        "    \"xlabel\": \"Marker genes detected\",\n",
        "    \"ylabel\": \"Number of cells\"\n",
        "})\n",
        "\n",
        "##############\n",
        "ax = axs[0, 1]\n",
        "x = np.sort(nd(G.sum(1)))[::-1]\n",
        "\n",
        "ax.scatter(x,y, color=\"k\", s=0.5)\n",
        "\n",
        "ax.set(**{\n",
        "    \"xlabel\": \"UMI count\",\n",
        "    \"ylabel\": \"Marker genes detected\",\n",
        "    \"xscale\":\"log\",\n",
        "    \"yscale\": \"log\",\n",
        "    \"ylim\": 1\n",
        "})\n",
        "\n",
        "##############\n",
        "# Centroids\n",
        "ax = axs[1, 0]\n",
        "ax.imshow(gt[\"centroids\"][method], aspect=\"auto\")\n",
        "ax.set(**{\n",
        "    \"xlabel\": \"genes\",\n",
        "    \"ylabel\": \"cell type\"\n",
        "})\n",
        "\n",
        "# Norm Centroids\n",
        "ax = axs[1,1]\n",
        "ax.imshow(gt[\"centroids\"][method], aspect=\"auto\")\n",
        "ax.set(**{\n",
        "    \"xlabel\": \"genes\",\n",
        "    \"ylabel\": \"cell type\"\n",
        "})\n",
        "fig.show()"
      ],
      "execution_count": 138,
      "outputs": [
        {
          "output_type": "display_data",
          "data": {
            "image/png": "[encoded data removed]",
            "text/plain": [
              "<Figure size 720x720 with 4 Axes>"
            ]
          },
          "metadata": {
            "image/png": {
              "width": 668,
              "height": 608
            },
            "needs_background": "light"
          }
        }
      ]
    },
    {
      "cell_type": "markdown",
      "metadata": {
        "id": "ThHxU_be_6CA"
      },
      "source": [
        "# GMM"
      ]
    },
    {
      "cell_type": "markdown",
      "metadata": {
        "id": "GpFuUCjXAHCM"
      },
      "source": [
        "### Initialization"
      ]
    },
    {
      "cell_type": "code",
      "metadata": {
        "id": "koZYF0qsAKcB"
      },
      "source": [
        "tree = KDTree(gt[\"marker_centroids\"][method], metric=\"euclidean\")\n",
        "nearest_dist, nearest_ind = tree.query(gt[\"X\"][method], k=1)\n",
        "\n",
        "# assign cells to clusters\n",
        "p = 1\n",
        "resp = np.ones((n_samples, n_clusters))*(1-p)/(n_clusters-1)\n",
        "resp[np.arange(n_samples), nd(nearest_ind)] = p\n",
        "\n",
        "# initialize params\n",
        "nk = resp.sum(axis=0) + 10 * np.finfo(resp.dtype).eps\n",
        "\n",
        "means_init = np.dot(resp.T, gt[\"X\"][method]) / nk[:, np.newaxis]\n",
        "uniform_weights = np.array([1./n_clusters]*n_clusters)\n",
        "identity_precisions = np.repeat(np.array([np.eye(X.shape[1])]), n_clusters, 0)"
      ],
      "execution_count": 145,
      "outputs": []
    },
    {
      "cell_type": "code",
      "metadata": {
        "colab": {
          "base_uri": "https://localhost:8080/"
        },
        "id": "H_0EegeQ8qkB",
        "outputId": "234fd118-013b-4548-fb0b-c539c0291706"
      },
      "source": [
        "pd.Series(nd(nearest_ind)).value_counts()"
      ],
      "execution_count": 146,
      "outputs": [
        {
          "output_type": "execute_result",
          "data": {
            "text/plain": [
              "6    4597\n",
              "7    2626\n",
              "5    1245\n",
              "8     900\n",
              "4     876\n",
              "1     525\n",
              "3     292\n",
              "9     289\n",
              "2     271\n",
              "0     222\n",
              "dtype: int64"
            ]
          },
          "metadata": {},
          "execution_count": 146
        }
      ]
    },
    {
      "cell_type": "code",
      "metadata": {
        "id": "MmMBTFS9_I5i"
      },
      "source": [
        "gmm_params = {\n",
        "            \"n_components\": n_clusters,\n",
        "            \"means_init\": None, # to be added\n",
        "            \"weights_init\": None, # to be added\n",
        "            \"precisions_init\": None, # to be added\n",
        "            \"random_state\": 0,\n",
        "            \"reg_covar\": 1e-8,\n",
        "            \"verbose\": 2,\n",
        "            \"n_init\": 1,\n",
        "            \"max_iter\": 100,\n",
        "            \"tol\": 1e-3,\n",
        "            \"init_params\": \"random\"\n",
        "  }\n",
        "\n",
        "params = {**gmm_params, \n",
        "          \"means_init\": means_init, # centroids,\n",
        "          \"weights_init\": uniform_weights, \n",
        "          \"precisions_init\": identity_precisions\n",
        "          }\n",
        "\n",
        "gmm = ImprovedGaussianMixture(**params)"
      ],
      "execution_count": 147,
      "outputs": []
    },
    {
      "cell_type": "markdown",
      "metadata": {
        "id": "R7hrj_MSFaw4"
      },
      "source": [
        "### Gmm"
      ]
    },
    {
      "cell_type": "code",
      "metadata": {
        "colab": {
          "base_uri": "https://localhost:8080/"
        },
        "id": "QLF6X8I95r9K",
        "outputId": "f98f0523-f7ae-4d53-fbcf-1c4c779e122f"
      },
      "source": [
        "print(method, json.dumps(params, indent=4, default=str))\n",
        "\n",
        "labels = gmm.fit_predict(gt[\"X\"][method], B=markers_ec)\n",
        "means = gmm.means_\n",
        "prob = gmm.predict_proba(gt[\"X\"][method])\n",
        "entr = entropy(prob, axis=1)\n",
        "rand = rand_score(z, labels)\n",
        "dist = cdist(gt[\"centroids\"][method], means)#, metric=\"cityblock\")\n",
        "close = np.argmin(dist, axis=0)"
      ],
      "execution_count": 148,
      "outputs": [
        {
          "output_type": "stream",
          "name": "stdout",
          "text": [
            "raw_log1p_center {\n",
            "    \"n_components\": 10,\n",
            "    \"means_init\": \"[[ 5.78894881e-01  3.03321213e-01  1.63706681e+00  7.77200249e-01\\n   1.52397368e+00  1.25529580e+00  1.66441656e+00  1.88196387e+00\\n   1.38236659e+00  1.57968762e+00  1.77371788e+00  1.82465938e-01\\n   3.44836642e-01  9.35532101e-01  1.12680290e+00  4.00657476e-01\\n   1.03161311e+00  8.26748288e-01  1.02978080e+00  8.34445990e-01\\n   5.84518783e-01  4.10771093e-01  9.41991118e-01  9.26207668e-01\\n   6.93023023e-01  5.06814401e-01  6.94796931e-01  2.35680824e-01\\n   9.08276254e-01  6.61823189e-01  1.12293926e-01  7.94317920e-01\\n   1.01318096e+00  7.94180458e-01  1.49852636e-01  9.29100208e-01\\n   8.47815358e-02  5.34336207e-01  9.06859683e-01  9.11370942e-01\\n   9.27664991e-01  9.71006507e-01  1.00977985e+00  5.74278646e-01\\n   1.32784851e+00  2.50043365e-01  2.85953139e-01  5.37109896e-01\\n   8.23977660e-01  9.96806675e-01  1.04490678e+00  1.12661189e+00\\n   3.39470853e-01  2.76669237e-02  2.86191024e-01  5.86572045e-01\\n   5.39744170e-01  2.07351397e-01  1.13642468e-01  2.29474757e-02\\n   2.10565786e-01  4.06596747e-01  9.86282018e-01  8.11071879e-01\\n   4.99698671e-01  2.79090283e-01  1.23630444e-01  1.94138667e-01\\n   2.18905921e-01  2.36247996e-01  5.92563341e-02  9.67425556e-01\\n   8.85885687e-01  3.73002407e-02  7.37936279e-01  3.18123237e-01\\n   1.81496434e-01  8.03713653e-02  1.03683386e+00  9.57701183e-01\\n   8.93798247e-01  1.76239832e-01  7.42276856e-02  8.16406909e-01\\n   5.82167803e-02  4.70278817e-01  6.13232523e-01]\\n [ 1.35468703e-01  6.50422893e-02  5.56165710e-01  1.84498851e-01\\n   6.27950493e-01  4.32813265e-01  7.14118814e-01  6.21888574e-01\\n   2.39632793e-01  5.57791323e-01  5.44179570e-01  2.83648634e-02\\n   5.74089066e-01  1.99496425e+00  1.45976736e+00  8.61017192e-01\\n   1.28562432e+00  1.24650687e+00  1.39161332e+00  1.61514326e+00\\n   3.45648579e-01  2.07526280e-01  6.83564756e-01  6.48209002e-01\\n   4.51763505e-01  2.64453675e-01  4.19182887e-01  3.22503419e-01\\n   5.38013432e-01  3.74672160e-01  8.52367473e-02  5.52181047e-01\\n   6.54557792e-01  4.87666087e-01  7.82817637e-02  6.01925411e-01\\n   5.70456889e-02  3.45095128e-01  5.62868887e-01  1.06768114e+00\\n   6.14660835e-01  6.68605525e-01  7.02598345e-01  6.05858676e-02\\n   6.34216405e-01  8.97837737e-02  2.23173510e-01  2.79586330e-01\\n   5.24568075e-01  6.83474585e-01  7.14316978e-01  7.57457634e-01\\n   2.57498934e-01  1.83751177e-02  1.50169780e-01  2.98624898e-01\\n   2.78433365e-01  1.52536532e-01  5.64340850e-02  4.37517831e-02\\n   1.75489090e-01  2.90088216e-01  6.41979102e-01  6.01621668e-01\\n   2.94679595e-01  1.25709875e-01  2.13021365e-01  1.45302379e-01\\n   1.09453446e-01  1.26741529e-01  4.05653198e-02  6.31413250e-01\\n   5.75942708e-01  1.26639403e-02  4.42654477e-01  9.77125048e-02\\n   1.21934186e-01  3.35610860e-02  2.49227891e-01  6.20405198e-01\\n   5.68292113e-01  7.75257709e-02  3.12846608e-02  6.34696081e-01\\n   1.92687703e-02  5.23875353e-01  3.66090813e-01]\\n [ 2.73824823e-01  2.21789513e-01  4.08529844e-01  4.29279293e-01\\n   9.23197883e-01  6.42931346e-01  9.56697444e-01  9.19442475e-01\\n   4.72713605e-01  8.93451915e-01  8.31015823e-01  5.09873048e-02\\n   3.39361076e-01  9.23529797e-01  1.04011913e+00  4.07843573e-01\\n   9.92079480e-01  8.26365943e-01  1.01155292e+00  7.68551625e-01\\n   1.27117840e+00  1.22627102e+00  1.74561530e+00  1.90825031e+00\\n   1.33850211e+00  1.20717817e+00  1.47197143e+00  1.33279710e+00\\n   1.68052447e+00  1.21467341e+00  1.50854760e-01  8.62912571e-01\\n   8.52680479e-01  8.27224529e-01  1.27401761e-01  8.96473697e-01\\n   8.69566394e-02  3.88327785e-01  8.70605329e-01  9.16268037e-01\\n   9.36076376e-01  9.59101400e-01  9.39347901e-01  7.08351444e-01\\n   9.27286887e-01  1.79144248e-01  3.56503544e-01  4.28659200e-01\\n   8.17378035e-01  9.92209501e-01  9.96255663e-01  1.12536257e+00\\n   2.61322746e-01  3.36474204e-02  2.13900299e-01  4.27713241e-01\\n   4.47084939e-01  1.84334669e-01  1.47788935e-01  4.97892757e-02\\n   2.61904415e-01  4.19975212e-01  1.04319724e+00  9.07365371e-01\\n   4.80004415e-01  2.40126460e-01  3.63667988e-01  2.02786574e-01\\n   2.32836027e-01  2.28380531e-01  4.49603972e-02  1.07573726e+00\\n   8.92269091e-01  5.60330555e-02  6.36730283e-01  2.81995517e-01\\n   1.84821648e-01  6.05899456e-02  9.48979315e-01  8.94093714e-01\\n   8.80667254e-01  1.36295988e-01  1.04509595e-01  6.27605133e-01\\n   7.34005453e-02  4.76456723e-01  5.53354153e-01]\\n [ 1.61945743e-01  6.09249289e-02  4.99915486e-01  2.32942103e-01\\n   6.53172422e-01  4.57993059e-01  6.99256220e-01  7.22196524e-01\\n   3.11753522e-01  5.92300622e-01  5.65681522e-01  1.31733445e-02\\n   2.24656798e-01  6.51543495e-01  8.24480720e-01  2.52974391e-01\\n   7.27702111e-01  5.89285427e-01  8.21045440e-01  1.40512193e+00\\n   3.81035146e-01  2.72363526e-01  6.80794490e-01  7.03048259e-01\\n   5.38249569e-01  3.68556296e-01  3.57351088e-01  3.02833522e-01\\n   6.70524361e-01  4.15935501e-01  4.33660603e-01  1.39514079e+00\\n   1.52118581e+00  1.24972080e+00  3.96680325e-01  1.71117942e+00\\n   2.53342125e-01  1.32673645e+00  6.04439736e-01  6.28050737e-01\\n   4.51048034e-01  6.93806441e-01  7.16135653e-01  5.47242841e-01\\n   6.11560449e-01  9.74571373e-02  2.20561925e-01  3.19802420e-01\\n   5.94999824e-01  7.51419090e-01  7.32857410e-01  6.11806828e-01\\n   1.45599011e-01  1.66544150e-02  1.75084709e-01  2.83574502e-01\\n   2.60763338e-01  1.08544064e-01  8.43457954e-02  4.37648797e-02\\n   1.71753167e-01  2.27902005e-01  5.51937682e-01  6.78194533e-01\\n   3.42047748e-01  1.35421557e-01  1.83491528e-01  1.50118319e-01\\n   1.16530774e-01  1.33088580e-01  3.28725628e-02  7.06202215e-01\\n   6.35826782e-01  4.61743353e-02  5.10637450e-01  1.38304822e-01\\n   7.78518479e-02 -1.08440906e-03  7.83017501e-01  6.78762219e-01\\n   6.37771370e-01  1.39079705e-01  1.71367076e-01  6.43090043e-01\\n   2.49131566e-03  3.10640399e-01  3.97873427e-01]\\n [ 1.58474852e-01  7.31479306e-02  5.74342793e-01  1.79119430e-01\\n   6.08356605e-01  4.33020123e-01  7.13591789e-01  6.84303131e-01\\n   2.88738267e-01  5.39669667e-01  5.93090030e-01  3.68517685e-02\\n   1.53473758e-01  6.23779827e-01  7.54216742e-01  2.32788656e-01\\n   6.87920856e-01  4.96408758e-01  6.35502187e-01  4.85557923e-01\\n   3.82743415e-01  2.94733762e-01  6.55287560e-01  7.13840630e-01\\n   4.93954582e-01  3.17657431e-01  4.49697705e-01  5.05222955e-01\\n   5.49547623e-01  3.25704534e-01  8.41493538e-02  5.59156312e-01\\n   6.58854379e-01  5.08926654e-01  6.39774272e-02  6.61149307e-01\\n   6.58245533e-02  3.28318833e-01  1.22611595e+00  1.03846048e+00\\n   1.16216274e+00  1.41341382e+00  1.20913372e+00  1.22199758e+00\\n   1.32634364e+00  3.56792610e-01  1.96997687e-01  2.83762191e-01\\n   5.41947981e-01  6.77621731e-01  6.90888556e-01  7.20204035e-01\\n   1.19856073e-01  1.79029782e-02  1.11167734e-01  2.99844717e-01\\n   2.93380888e-01  9.20213760e-02  9.56785985e-02  5.11516303e-02\\n   1.58737747e-01  2.26915843e-01  6.63861365e-01  5.86470959e-01\\n   2.47446426e-01  1.07014003e-01  2.51778396e-01  1.13561029e-01\\n   1.47779405e-01  1.20358627e-01  2.40928698e-02  6.53164884e-01\\n   6.30012573e-01  3.09113765e-02  4.41222227e-01  1.41789171e-01\\n   1.10755715e-01  3.01524644e-02  7.38048415e-01  6.56650373e-01\\n   6.37181409e-01  1.23128004e-01  5.51146599e-02  6.22658007e-01\\n   3.45052720e-02  3.35020273e-01  4.08183670e-01]\\n [ 6.06524354e-02  2.89411618e-02  2.89905012e-01  1.00550790e-01\\n   3.26141377e-01  2.47926431e-01  4.13888791e-01  3.43787246e-01\\n   1.45557950e-01  2.89302157e-01  2.85695099e-01 -4.93240386e-03\\n   7.68588620e-02  3.25797960e-01  4.55397043e-01  7.28600628e-02\\n   3.55261803e-01  3.07798633e-01  4.36414404e-01  2.01008745e-01\\n   1.74055050e-01  9.63329774e-02  3.29173258e-01  3.84226792e-01\\n   2.27276298e-01  9.31471965e-02  2.01292472e-01  1.32283779e-01\\n   2.99061303e-01  1.69215821e-01  2.98483825e-02  2.91617150e-01\\n   3.68532759e-01  2.92635528e-01  3.38305230e-02  3.61157532e-01\\n   1.62474611e-02  1.19901259e-01  2.81188313e-01  3.36822919e-01\\n   2.79511404e-01  2.91732255e-01  3.61414168e-01  1.64081780e-01\\n   3.54326937e-01  3.25022611e-02  4.64537064e-01  5.46378555e-01\\n   7.81595994e-01  7.49944402e-01  9.13897338e-01  1.01206985e+00\\n   3.72050669e-01 -3.52943851e-03  2.27238830e-02  4.47388661e-02\\n   1.03026630e-01  2.42572667e-02  8.57847088e-03 -1.93306692e-03\\n   1.72867941e-02  5.36510829e-02  2.81162652e-01  2.39784311e-01\\n   9.50979140e-02  2.71920792e-02  4.68237220e-02  2.85768434e-02\\n   7.77372714e-02  3.84978819e-02  8.26403202e-03  3.38902704e-01\\n   3.06820511e-01  1.31796158e-02  1.73352962e-01  4.79667474e-02\\n   2.01672040e-02  1.17561240e-02  4.00707232e-01  6.11558958e-01\\n   3.37826169e-01  4.01358041e-02  1.01018536e-02  3.04671497e-01\\n   3.51359810e-03  9.64966236e-02  1.42461731e-01]\\n [-1.22497395e-01 -5.73879462e-02 -4.46664657e-01 -1.63979122e-01\\n  -4.85753386e-01 -3.57783515e-01 -6.22650776e-01 -5.86594028e-01\\n  -2.44955879e-01 -4.96923888e-01 -4.83314373e-01 -2.30845257e-02\\n  -1.60692518e-01 -6.59923003e-01 -6.56664993e-01 -2.29574683e-01\\n  -6.21814779e-01 -4.87342639e-01 -6.95904774e-01 -5.40975132e-01\\n  -3.02239571e-01 -2.44678205e-01 -5.75213735e-01 -6.50669666e-01\\n  -4.13666599e-01 -2.56702981e-01 -3.67693346e-01 -2.85844137e-01\\n  -4.35881345e-01 -3.12144023e-01 -6.69377158e-02 -4.77402726e-01\\n  -5.95190842e-01 -4.74498601e-01 -6.57239093e-02 -6.21114963e-01\\n  -4.34069080e-02 -2.77845714e-01 -5.56125936e-01 -5.97631305e-01\\n  -5.64678888e-01 -6.24497065e-01 -6.61788531e-01 -3.89693192e-01\\n  -6.58845917e-01 -1.06730022e-01 -1.89299876e-01 -2.84832022e-01\\n  -4.76235347e-01 -6.76455942e-01 -6.93150297e-01 -7.73188083e-01\\n  -1.62983969e-01 -5.30773922e-03 -5.22895941e-02 -1.15764287e-01\\n  -1.53478249e-01 -5.08173825e-02 -2.66694247e-02 -1.39883920e-02\\n  -6.02858230e-02 -2.87729661e-01 -7.71057483e-01 -7.50190675e-01\\n  -3.48575395e-01 -1.27345084e-01 -2.37870198e-01 -1.29553470e-01\\n  -1.41104488e-01 -1.23693411e-01 -2.95594773e-02 -6.28378161e-01\\n  -5.74875830e-01 -2.19896122e-02 -4.83230289e-01 -1.41350706e-01\\n  -9.66788784e-02 -3.03013901e-02 -6.51207570e-01 -6.27275292e-01\\n  -5.39266412e-01 -9.40827475e-02 -4.74398341e-02 -5.53744485e-01\\n  -2.05075672e-02 -2.72028561e-01 -3.28862079e-01]\\n [-1.94060895e-02 -1.10415266e-02  1.45269860e-02 -2.19836245e-02\\n  -3.13426359e-02  4.01586522e-04  8.11642807e-02  6.05008968e-02\\n  -2.08867939e-02  4.34584140e-02  1.97650616e-02 -3.17632979e-03\\n  -2.65495594e-02  5.66823528e-02  9.91510730e-02 -1.92074724e-02\\n   6.02675184e-02 -1.12525244e-02  1.03498502e-01  5.85215073e-03\\n   6.57094085e-03 -2.03357054e-02  6.41053081e-02  1.14379178e-01\\n   3.38579756e-02  5.47015802e-03  1.17809761e-02 -1.51797914e-02\\n  -1.03100714e-01 -1.82070938e-03 -2.45559108e-02  3.47141214e-02\\n   6.97461286e-02  2.13287098e-02 -1.64899557e-02  1.28262086e-01\\n  -1.52353613e-02 -6.00882450e-03  4.52329271e-03  1.49552363e-03\\n   3.44686903e-02  1.49365580e-02  7.07001695e-02 -3.20800147e-02\\n   5.02196811e-02 -2.13093931e-02 -9.46039965e-02 -6.57636800e-02\\n  -3.92944930e-02  7.84504701e-02  5.87865514e-02  6.23845224e-02\\n  -6.31654209e-02 -5.95275590e-03 -5.53348239e-02 -9.63857249e-02\\n  -6.26483344e-02 -3.04530435e-02 -3.28590830e-02 -1.31084500e-02\\n  -2.32783494e-02  2.41551437e-01  5.20651610e-01  6.18219908e-01\\n   3.10080120e-01  1.01083525e-01  1.94851730e-01  9.70916645e-02\\n  -3.72161926e-02 -3.60636574e-02 -2.53685341e-03  4.86417898e-02\\n   2.84753087e-02 -7.65166441e-03 -4.96939759e-04 -2.77288302e-02\\n  -2.62639153e-02 -7.44305865e-03  1.10979064e-01  4.30020542e-02\\n   4.51551379e-02 -1.22288138e-02 -3.07096850e-03  6.27159823e-02\\n  -5.34313357e-03 -3.48765490e-04  1.44880939e-02]\\n [ 2.63939795e-02  2.63488604e-03  8.03714855e-02  3.54575709e-02\\n   1.04775842e-01  2.64043867e-02  1.19630850e-01  1.26372994e-01\\n   2.64590916e-02  1.31266254e-01  8.23853053e-02  7.49716582e-04\\n  -8.53035304e-03  7.13297854e-02 -1.30246276e-01  2.42704155e-02\\n   1.00621560e-01  7.19237461e-02  1.44126914e-01  1.48111849e-02\\n  -5.70361468e-02  1.33106759e-01  9.13441412e-02  1.30614647e-01\\n   4.79885763e-02  6.76266357e-03  2.37409127e-02 -2.91259151e-02\\n   1.12701280e-01  3.47731773e-02 -1.73613925e-03 -1.50992693e-01\\n   9.83489497e-02  1.66027422e-01 -8.19889121e-03  4.67811930e-02\\n  -1.38543722e-02  1.13314655e-03  4.18657560e-02  6.77280166e-02\\n   6.16918879e-02  4.76810256e-02  9.62919244e-02 -3.56619646e-02\\n   5.42330330e-02 -1.03207345e-02 -3.62331744e-02 -2.01580052e-03\\n   1.19225740e-02  1.14030021e-01 -1.90432370e-02  1.53812801e-01\\n  -1.67416726e-02 -3.77545608e-03 -3.91796105e-02 -1.11308682e-01\\n  -5.98493411e-02 -2.87493165e-02 -2.73029386e-02 -5.73603537e-03\\n  -6.98672539e-02 -4.72851851e-02 -4.70991442e-03  1.53473929e-02\\n  -9.01143033e-02 -4.63871948e-02 -4.06322535e-02 -6.03519801e-02\\n   2.99336638e-01  2.87003559e-01  6.07866359e-02  6.09875038e-01\\n   5.97628657e-01  2.86688803e-02  8.66603967e-01  2.82866589e-01\\n   1.88121528e-01  6.15528051e-02  3.17677639e-01  4.24846786e-02\\n   8.94085871e-02 -6.04657985e-03  5.42988867e-03  1.10088880e-01\\n  -5.28323476e-03 -2.67231963e-02  4.97421492e-02]\\n [ 1.89825829e-01  3.78794395e-02  5.76735155e-01  1.51490383e-01\\n   5.99101313e-01  4.08468055e-01  6.68726029e-01  6.64910927e-01\\n   2.46066891e-01  5.55562384e-01  5.21332688e-01  5.04546287e-02\\n   1.74569341e-01  5.98616450e-01  3.76221296e-01  2.21254355e-01\\n   6.20856684e-01  5.29750032e-01  7.76652819e-01  4.52560294e-01\\n   3.61628024e-01  2.36255286e-01  5.88260903e-01  6.96107426e-01\\n   4.94572641e-01  2.74261951e-01  4.00939860e-01  3.51493068e-01\\n   6.36723882e-01  4.08869317e-01  8.89061472e-02  9.65419186e-01\\n   6.38801080e-01  4.99156182e-01  1.03562167e-01  6.32035992e-01\\n   9.62509157e-02  2.16921352e-01  6.00474387e-01  5.49606692e-01\\n   5.87279664e-01  5.47509401e-01  7.06050420e-01  4.21973022e-01\\n   6.48434698e-01  8.03381059e-02  2.03005642e-01  2.75070239e-01\\n  -6.81425864e-02  7.10498990e-01  7.44606977e-01  7.95061238e-01\\n   1.31824770e-01  8.20115137e-03  1.51580395e-01  2.81592345e-01\\n   2.60709330e-01  7.22398304e-02  6.72283646e-02  2.47454518e-02\\n  -6.72606232e-02  1.46852966e-01  8.65408634e-01  2.05018058e-01\\n   1.33129978e-01  5.31830931e-03  1.66465571e-01  1.44226629e-01\\n   1.64569871e-01  1.10433228e-01  7.26273495e-04  6.01837214e-01\\n   5.87116950e-01  2.86970661e-02  4.24084520e-01  1.56993218e-01\\n   1.55139216e-01  3.74680398e-02  1.46717344e+00  1.44286479e+00\\n   1.31325759e+00  5.35813879e-01  1.70023706e-01  1.67718252e+00\\n   1.20411685e-01  9.08660037e-01  1.03653372e+00]]\",\n",
            "    \"weights_init\": \"[0.1 0.1 0.1 0.1 0.1 0.1 0.1 0.1 0.1 0.1]\",\n",
            "    \"precisions_init\": \"[[[1. 0. 0. ... 0. 0. 0.]\\n  [0. 1. 0. ... 0. 0. 0.]\\n  [0. 0. 1. ... 0. 0. 0.]\\n  ...\\n  [0. 0. 0. ... 1. 0. 0.]\\n  [0. 0. 0. ... 0. 1. 0.]\\n  [0. 0. 0. ... 0. 0. 1.]]\\n\\n [[1. 0. 0. ... 0. 0. 0.]\\n  [0. 1. 0. ... 0. 0. 0.]\\n  [0. 0. 1. ... 0. 0. 0.]\\n  ...\\n  [0. 0. 0. ... 1. 0. 0.]\\n  [0. 0. 0. ... 0. 1. 0.]\\n  [0. 0. 0. ... 0. 0. 1.]]\\n\\n [[1. 0. 0. ... 0. 0. 0.]\\n  [0. 1. 0. ... 0. 0. 0.]\\n  [0. 0. 1. ... 0. 0. 0.]\\n  ...\\n  [0. 0. 0. ... 1. 0. 0.]\\n  [0. 0. 0. ... 0. 1. 0.]\\n  [0. 0. 0. ... 0. 0. 1.]]\\n\\n ...\\n\\n [[1. 0. 0. ... 0. 0. 0.]\\n  [0. 1. 0. ... 0. 0. 0.]\\n  [0. 0. 1. ... 0. 0. 0.]\\n  ...\\n  [0. 0. 0. ... 1. 0. 0.]\\n  [0. 0. 0. ... 0. 1. 0.]\\n  [0. 0. 0. ... 0. 0. 1.]]\\n\\n [[1. 0. 0. ... 0. 0. 0.]\\n  [0. 1. 0. ... 0. 0. 0.]\\n  [0. 0. 1. ... 0. 0. 0.]\\n  ...\\n  [0. 0. 0. ... 1. 0. 0.]\\n  [0. 0. 0. ... 0. 1. 0.]\\n  [0. 0. 0. ... 0. 0. 1.]]\\n\\n [[1. 0. 0. ... 0. 0. 0.]\\n  [0. 1. 0. ... 0. 0. 0.]\\n  [0. 0. 1. ... 0. 0. 0.]\\n  ...\\n  [0. 0. 0. ... 1. 0. 0.]\\n  [0. 0. 0. ... 0. 1. 0.]\\n  [0. 0. 0. ... 0. 0. 1.]]]\",\n",
            "    \"random_state\": 0,\n",
            "    \"reg_covar\": 1e-08,\n",
            "    \"verbose\": 2,\n",
            "    \"n_init\": 1,\n",
            "    \"max_iter\": 100,\n",
            "    \"tol\": 0.001,\n",
            "    \"init_params\": \"random\"\n",
            "}\n",
            "Initialization 0\n",
            "  Iteration 10\t time lapse 3.02059s\t ll change 0.40984\n",
            "  Iteration 20\t time lapse 3.00080s\t ll change 0.00214\n",
            "Initialization converged: True\t time lapse 6.92099s\t ll -16.05973\n"
          ]
        }
      ]
    },
    {
      "cell_type": "code",
      "metadata": {
        "colab": {
          "base_uri": "https://localhost:8080/"
        },
        "id": "GqmuACDT5YoY",
        "outputId": "838ca93e-e721-4af4-ed40-edb44a4deaba"
      },
      "source": [
        "print(\"Rand score: \", rand)\n",
        "print(\"Closest : \", close)"
      ],
      "execution_count": 149,
      "outputs": [
        {
          "output_type": "stream",
          "name": "stdout",
          "text": [
            "Rand score:  0.5485051047095463\n",
            "Closest :  [0 2 3 4 5 6 7 8 9 1]\n"
          ]
        }
      ]
    },
    {
      "cell_type": "code",
      "metadata": {
        "colab": {
          "base_uri": "https://localhost:8080/"
        },
        "id": "zfJCveFtBwjb",
        "outputId": "f85fc67c-6c85-40f4-c71e-1fbdf9750313"
      },
      "source": [
        "pd.Series(labels).value_counts()"
      ],
      "execution_count": 152,
      "outputs": [
        {
          "output_type": "execute_result",
          "data": {
            "text/plain": [
              "6    7460\n",
              "7    1990\n",
              "8    1406\n",
              "0     231\n",
              "2     166\n",
              "3     135\n",
              "5     131\n",
              "4     127\n",
              "1     101\n",
              "9      96\n",
              "dtype: int64"
            ]
          },
          "metadata": {},
          "execution_count": 152
        }
      ]
    },
    {
      "cell_type": "code",
      "metadata": {
        "colab": {
          "base_uri": "https://localhost:8080/"
        },
        "id": "OG7htEspBz6Z",
        "outputId": "c26af112-98c1-4c8b-b03d-ff436bc61138"
      },
      "source": [
        "pd.Series(z).value_counts()"
      ],
      "execution_count": 153,
      "outputs": [
        {
          "output_type": "execute_result",
          "data": {
            "text/plain": [
              "4    1228\n",
              "0    1198\n",
              "2    1196\n",
              "9    1193\n",
              "5    1184\n",
              "8    1183\n",
              "1    1181\n",
              "3    1178\n",
              "6    1166\n",
              "7    1136\n",
              "dtype: int64"
            ]
          },
          "metadata": {},
          "execution_count": 153
        }
      ]
    },
    {
      "cell_type": "code",
      "metadata": {
        "colab": {
          "base_uri": "https://localhost:8080/",
          "height": 1000
        },
        "cellView": "form",
        "id": "VXDtCkQJAoig",
        "outputId": "3e407bfa-286d-4e22-db24-aa862c7b6fb9"
      },
      "source": [
        "#@title Check centroids\n",
        "fig, axs = plt.subplots(figsize=(10,15), ncols=2, nrows=3, constrained_layout=True)\n",
        "\n",
        "ax = axs[0,0]\n",
        "im = ax.imshow(gt[\"centroids\"][method], aspect=\"auto\")\n",
        "ax.set(**{\n",
        "    \"xlabel\": \"genes\",\n",
        "    \"ylabel\": \"cell type\",\n",
        "    \"title\": \"Cell type centroids\"\n",
        "})\n",
        "\n",
        "divider = make_axes_locatable(ax)\n",
        "cax = divider.append_axes(\"right\", size=\"5%\", pad=0.05)\n",
        "\n",
        "plt.colorbar(im, cax=cax)\n",
        "\n",
        "\n",
        "ax = axs[0,1]\n",
        "im = ax.imshow(gt[\"marker_centroids\"][method], aspect=\"auto\")\n",
        "ax.set(**{\n",
        "    \"xlabel\": \"genes\",\n",
        "    \"ylabel\": \"cell type\",\n",
        "    \"title\": \"Marker-derived centroids\"\n",
        "})\n",
        "\n",
        "divider = make_axes_locatable(ax)\n",
        "cax = divider.append_axes(\"right\", size=\"5%\", pad=0.05)\n",
        "\n",
        "plt.colorbar(im, cax=cax)\n",
        "\n",
        "ax = axs[1,0]\n",
        "im = ax.imshow(means_init, aspect=\"auto\")\n",
        "ax.set(**{\n",
        "    \"xlabel\": \"genes\",\n",
        "    \"ylabel\": \"cell type\",\n",
        "    \"title\": \"Initialized means\"\n",
        "})\n",
        "\n",
        "divider = make_axes_locatable(ax)\n",
        "cax = divider.append_axes(\"right\", size=\"5%\", pad=0.05)\n",
        "\n",
        "plt.colorbar(im, cax=cax)\n",
        "\n",
        "ax = axs[1,1]\n",
        "im = ax.imshow(means, aspect=\"auto\")\n",
        "ax.set(**{\n",
        "    \"xlabel\": \"genes\",\n",
        "    \"ylabel\": \"cell type\",\n",
        "    \"title\": \"GMM centroids\"\n",
        "})\n",
        "\n",
        "divider = make_axes_locatable(ax)\n",
        "cax = divider.append_axes(\"right\", size=\"5%\", pad=0.05)\n",
        "\n",
        "plt.colorbar(im, cax=cax)\n",
        "\n",
        "\n",
        "ax = axs[2,0]\n",
        "ax.matshow(dist, cmap='Reds')\n",
        "ax.set(**{\n",
        "    \"xlabel\":\"computed means\",\n",
        "    \"ylabel\": \"true means\",\n",
        "    \"title\": \"Dist of means(real, gmm) \"\n",
        "    })\n",
        "\n",
        "\n",
        "\n",
        "\n",
        "\n",
        "fig.show()"
      ],
      "execution_count": 150,
      "outputs": [
        {
          "output_type": "display_data",
          "data": {
            "image/png": "[encoded data removed]",
            "text/plain": [
              "<Figure size 720x1080 with 10 Axes>"
            ]
          },
          "metadata": {
            "image/png": {
              "width": 745,
              "height": 1088
            },
            "needs_background": "light"
          }
        }
      ]
    },
    {
      "cell_type": "code",
      "metadata": {
        "colab": {
          "base_uri": "https://localhost:8080/"
        },
        "id": "jRX5gzQcH-pW",
        "outputId": "1ac8cfe0-3281-4925-bcb9-e784bdbbeb22"
      },
      "source": [
        "[gt[\"centroids\"][method][i][markers_ec[i]].min() for i in range(gt[\"centroids\"][method].shape[0])]"
      ],
      "execution_count": 151,
      "outputs": [
        {
          "output_type": "execute_result",
          "data": {
            "text/plain": [
              "[0.02897267176401254,\n",
              " -0.40975106399877725,\n",
              " -0.1585204580571924,\n",
              " -0.14940834314165635,\n",
              " -0.22154758049136106,\n",
              " -0.1337003018651442,\n",
              " -0.07144935261434411,\n",
              " -0.13161372463814835,\n",
              " -0.04847897122912384,\n",
              " -0.08231467611437748]"
            ]
          },
          "metadata": {},
          "execution_count": 151
        }
      ]
    },
    {
      "cell_type": "code",
      "metadata": {
        "colab": {
          "base_uri": "https://localhost:8080/"
        },
        "id": "gO3qtjVeI6DY",
        "outputId": "e28a5141-7f9b-4ed6-b961-ded153dd4fe9"
      },
      "source": [
        "group = 0\n",
        "gmtx = gt[\"X\"][method][np.where(z==group)[0]]"
      ],
      "execution_count": 155,
      "outputs": [
        {
          "output_type": "execute_result",
          "data": {
            "text/plain": [
              "array([[-0.22650028, -0.10241326, -0.45422591, ..., -0.0406403 ,\n",
              "        -0.59672554,  0.34713774],\n",
              "       [-0.22650028,  0.99619902,  0.46206482, ..., -0.0406403 ,\n",
              "        -0.59672554,  0.34713774],\n",
              "       [ 0.872112  ,  1.97702828,  2.46354482, ..., -0.0406403 ,\n",
              "         0.09642164,  1.7334321 ],\n",
              "       ...,\n",
              "       [-0.22650028, -0.10241326,  2.21992274, ..., -0.0406403 ,\n",
              "         0.09642164,  0.63481981],\n",
              "       [ 1.38293763, -0.10241326,  0.93206845, ..., -0.0406403 ,\n",
              "         0.09642164,  0.63481981],\n",
              "       [-0.22650028, -0.10241326,  2.31836281, ...,  0.65250688,\n",
              "         0.78956882,  1.04028492]])"
            ]
          },
          "metadata": {},
          "execution_count": 155
        }
      ]
    },
    {
      "cell_type": "code",
      "metadata": {
        "colab": {
          "base_uri": "https://localhost:8080/"
        },
        "id": "A1c-83pPCVEB",
        "outputId": "6f6bfec1-b506-4947-c0b7-658d695204df"
      },
      "source": [
        "gt[\"centroids\"][method][0]"
      ],
      "execution_count": 159,
      "outputs": [
        {
          "output_type": "execute_result",
          "data": {
            "text/plain": [
              "array([ 0.1432926 ,  0.07209796,  0.4822387 ,  0.13519892,  0.47243275,\n",
              "        0.31114339,  0.50217838,  0.74226224,  0.36689448,  0.52048426,\n",
              "        0.5883215 ,  0.02897267, -0.02409914, -0.13995138,  0.01584323,\n",
              "       -0.0606185 , -0.06840636, -0.07641068, -0.02405775, -0.17500621,\n",
              "        0.01387387, -0.02820689, -0.08793247, -0.10115059, -0.06096104,\n",
              "       -0.03240442, -0.03445412, -0.20045331,  0.00251179, -0.02199902,\n",
              "       -0.00162297, -0.06947428, -0.07449701, -0.08354606, -0.00698479,\n",
              "       -0.14425417, -0.00226054, -0.03553488, -0.0477761 , -0.10064041,\n",
              "       -0.05557229, -0.05570729, -0.05801762, -0.0441464 ,  0.17804978,\n",
              "       -0.00928999, -0.03783637, -0.03333086, -0.00483372, -0.05111019,\n",
              "       -0.04642381,  0.03339135, -0.00688547, -0.00101771, -0.00455389,\n",
              "       -0.04876666, -0.02788949, -0.03588497, -0.01192217, -0.00621669,\n",
              "       -0.01589636, -0.06065971, -0.09792165, -0.05152298, -0.03381799,\n",
              "        0.0064996 , -0.13314673, -0.01701588, -0.02424061, -0.04055476,\n",
              "       -0.00343594, -0.06166413, -0.05638337, -0.004769  , -0.08635625,\n",
              "       -0.02268193, -0.01418769, -0.00478848, -0.0610935 , -0.10188476,\n",
              "       -0.07039074, -0.00949331, -0.01354227, -0.16231335, -0.01080334,\n",
              "       -0.05709941, -0.06602131])"
            ]
          },
          "metadata": {},
          "execution_count": 159
        }
      ]
    },
    {
      "cell_type": "code",
      "metadata": {
        "colab": {
          "base_uri": "https://localhost:8080/"
        },
        "id": "MleYaTHuI2av",
        "outputId": "b4054b25-5682-4d68-80de-4afd62d0f92d"
      },
      "source": [
        "X[np.where(z==0)[0]][0].astype(int)"
      ],
      "execution_count": 39,
      "outputs": [
        {
          "output_type": "execute_result",
          "data": {
            "text/plain": [
              "array([    0,     0,   460,     0,  1382,     0,  1843,  2304,   921,\n",
              "         460,  2764,     0,     0,  8755,  6912,     0,  1843,   460,\n",
              "        7834,     0,     0,     0,   460,  5529,     0,     0,     0,\n",
              "           0,     0,     0,     0,     0,     0,   460,     0,  5069,\n",
              "           0,   460,   921,     0,   460,  1843,  1382,  2764,  2304,\n",
              "           0,     0,  1382,     0, 16129,  1843, 10138,     0,     0,\n",
              "           0,     0,     0,     0,     0,     0,     0,     0,  2764,\n",
              "        1843,     0,     0,     0,     0,     0,     0,     0,  1382,\n",
              "           0,     0,     0,     0,     0,     0,  3225,   460,   460,\n",
              "           0,     0,  1843,     0,     0,   921])"
            ]
          },
          "metadata": {},
          "execution_count": 39
        }
      ]
    },
    {
      "cell_type": "code",
      "metadata": {
        "colab": {
          "base_uri": "https://localhost:8080/"
        },
        "id": "9h_7Rd4ZItVk",
        "outputId": "0bd4f097-6a4c-4504-e93b-497929e712e5"
      },
      "source": [
        "gt[\"X\"][method][np.where(z==0)[0]][0].astype(int)"
      ],
      "execution_count": 41,
      "outputs": [
        {
          "output_type": "execute_result",
          "data": {
            "text/plain": [
              "array([  -60,   -23,   -94,   -94,   709,  -306,   -19,   933,   740,\n",
              "        -279,  2107,   -15,   -87,  1319, -1263,  -159,   -80,  -170,\n",
              "        2708, -1028,  -238,  -200,  -934,   155,  -425,  -198,  -335,\n",
              "        -223,  -660,  -233,   -35,  -704, -1612,  -175,   -35,  2833,\n",
              "         -18,   233,  -202, -1473,  -522,   340, -2747,  2305,  -117,\n",
              "         -50,   -98,  1215,  -489,  3476, -4136,  4556,   -77,    -8,\n",
              "         -79,  -205,  -153,   -52,   -34,   -12,   -65,  -153,  -124,\n",
              "         279,  -212,   -59,  -108,   -56,   -62,   -60,   -10,   122,\n",
              "        -947,    -7,  -467,   -68,   -45,   -14,  -531, -1572,  -460,\n",
              "         -46,   -22,   777,   -10,  -189,   660])"
            ]
          },
          "metadata": {},
          "execution_count": 41
        }
      ]
    },
    {
      "cell_type": "code",
      "metadata": {
        "id": "4OMoBh6NAgLb"
      },
      "source": [
        "ct_mins = [means[i][markers_ec[i]].min() for i in range(means.shape[0])]\n",
        "marker_gene_indices = [set(markers_ec[i]) for i in range(means.shape[0])]\n",
        "# modify based on the min/f\n",
        "f = 2.\n",
        "for idx, i in enumerate(means):\n",
        "    ct_min = ct_mins[idx]\n",
        "    betas = means[idx]\n",
        "    for jdx, b in enumerate(betas):\n",
        "        if jdx not in marker_gene_indices[idx]:\n",
        "            new = min(b, ct_min / f)\n",
        "            means[idx][jdx] = new"
      ],
      "execution_count": null,
      "outputs": []
    },
    {
      "cell_type": "code",
      "metadata": {
        "id": "ElVYupqxBSl1"
      },
      "source": [
        "ct_mins"
      ],
      "execution_count": null,
      "outputs": []
    },
    {
      "cell_type": "code",
      "metadata": {
        "id": "BpkWA0qMBLkH"
      },
      "source": [
        "means[1][B[1].astype(bool)]"
      ],
      "execution_count": null,
      "outputs": []
    },
    {
      "cell_type": "code",
      "metadata": {
        "id": "IYEODPSIBMoR"
      },
      "source": [
        "means_init[1].astype(int)"
      ],
      "execution_count": null,
      "outputs": []
    },
    {
      "cell_type": "code",
      "metadata": {
        "id": "6E9kTYeNBf-r"
      },
      "source": [
        "centroids[1].astype(int)"
      ],
      "execution_count": null,
      "outputs": []
    },
    {
      "cell_type": "code",
      "metadata": {
        "id": "-cCbaxInBw1h"
      },
      "source": [
        "resp.sum(0)"
      ],
      "execution_count": null,
      "outputs": []
    },
    {
      "cell_type": "code",
      "metadata": {
        "id": "KYUxHfJsDbYj"
      },
      "source": [
        ""
      ],
      "execution_count": null,
      "outputs": []
    }
  ]
}