{
  "nbformat": 4,
  "nbformat_minor": 0,
  "metadata": {
    "colab": {
      "name": "debug.ipynb",
      "provenance": [],
      "collapsed_sections": [
        "GpFuUCjXAHCM"
      ],
      "authorship_tag": "ABX9TyP6zkA4HaBUMPmvKmDuvr7v",
      "include_colab_link": true
    },
    "kernelspec": {
      "name": "python3",
      "display_name": "Python 3"
    },
    "language_info": {
      "name": "python"
    }
  },
  "cells": [
    {
      "cell_type": "markdown",
      "metadata": {
        "id": "view-in-github",
        "colab_type": "text"
      },
      "source": [
        "<a href=\"https://colab.research.google.com/github/sbooeshaghi/mx/blob/master/test/debug.ipynb\" target=\"_parent\"><img src=\"https://colab.research.google.com/assets/colab-badge.svg\" alt=\"Open In Colab\"/></a>"
      ]
    },
    {
      "cell_type": "code",
      "metadata": {
        "colab": {
          "base_uri": "https://localhost:8080/"
        },
        "id": "f3sf1jbO4RY6",
        "outputId": "f0017af3-8551-4d3e-ad5c-2ef9dbe7650f"
      },
      "source": [
        "!pip install --quiet -U scikit-learn kb_python anndata"
      ],
      "execution_count": 1,
      "outputs": [
        {
          "output_type": "stream",
          "name": "stdout",
          "text": [
            "\u001b[K     |████████████████████████████████| 23.1 MB 5.0 kB/s \n",
            "\u001b[K     |████████████████████████████████| 7.4 MB 10.1 MB/s \n",
            "\u001b[K     |████████████████████████████████| 127 kB 54.9 MB/s \n",
            "\u001b[K     |████████████████████████████████| 41 kB 96 kB/s \n",
            "\u001b[K     |████████████████████████████████| 51.7 MB 18 kB/s \n",
            "\u001b[K     |████████████████████████████████| 23.9 MB 9.8 kB/s \n",
            "\u001b[K     |████████████████████████████████| 2.0 MB 51.7 MB/s \n",
            "\u001b[K     |████████████████████████████████| 48 kB 4.9 MB/s \n",
            "\u001b[K     |████████████████████████████████| 3.3 MB 37.6 MB/s \n",
            "\u001b[K     |████████████████████████████████| 12.3 MB 44.4 MB/s \n",
            "\u001b[K     |████████████████████████████████| 26.3 MB 91 kB/s \n",
            "\u001b[K     |████████████████████████████████| 80 kB 8.3 MB/s \n",
            "\u001b[K     |████████████████████████████████| 1.1 MB 71.4 MB/s \n",
            "\u001b[K     |████████████████████████████████| 63 kB 1.9 MB/s \n",
            "\u001b[?25h  Building wheel for kb-python (setup.py) ... \u001b[?25l\u001b[?25hdone\n",
            "  Building wheel for loompy (setup.py) ... \u001b[?25l\u001b[?25hdone\n",
            "  Building wheel for ngs-tools (setup.py) ... \u001b[?25l\u001b[?25hdone\n",
            "  Building wheel for umap-learn (setup.py) ... \u001b[?25l\u001b[?25hdone\n",
            "  Building wheel for pynndescent (setup.py) ... \u001b[?25l\u001b[?25hdone\n",
            "  Building wheel for numpy-groupies (setup.py) ... \u001b[?25l\u001b[?25hdone\n",
            "  Building wheel for sinfo (setup.py) ... \u001b[?25l\u001b[?25hdone\n"
          ]
        }
      ]
    },
    {
      "cell_type": "code",
      "metadata": {
        "colab": {
          "base_uri": "https://localhost:8080/"
        },
        "id": "i3dZpiGf4UQz",
        "outputId": "885a4dc0-b9dc-46ce-c1df-23fb32451504"
      },
      "source": [
        "!git clone https://github.com/sbooeshaghi/sim.git"
      ],
      "execution_count": 2,
      "outputs": [
        {
          "output_type": "stream",
          "name": "stdout",
          "text": [
            "Cloning into 'sim'...\n",
            "remote: Enumerating objects: 47, done.\u001b[K\n",
            "remote: Counting objects: 100% (47/47), done.\u001b[K\n",
            "remote: Compressing objects: 100% (38/38), done.\u001b[K\n",
            "remote: Total 47 (delta 10), reused 46 (delta 9), pack-reused 0\u001b[K\n",
            "Unpacking objects: 100% (47/47), done.\n"
          ]
        }
      ]
    },
    {
      "cell_type": "code",
      "metadata": {
        "id": "VOq__Nef4Yua"
      },
      "source": [
        "!gunzip -r sim/*"
      ],
      "execution_count": 3,
      "outputs": []
    },
    {
      "cell_type": "code",
      "metadata": {
        "cellView": "form",
        "id": "F5SewR0P4ZUI"
      },
      "source": [
        "#@title sklearn/mixture/_base.py\n",
        "\n",
        "\"\"\"Base class for mixture models.\"\"\"\n",
        "\n",
        "# sklearn/mixture/_base.py\n",
        "\n",
        "# Author: Wei Xue <xuewei4d@gmail.com>\n",
        "# Modified by Thierry Guillemot <thierry.guillemot.work@gmail.com>\n",
        "# License: BSD 3 clause\n",
        "\n",
        "import warnings\n",
        "from abc import ABCMeta, abstractmethod\n",
        "from time import time\n",
        "\n",
        "import numpy as np\n",
        "from scipy.special import logsumexp\n",
        "\n",
        "from sklearn import cluster\n",
        "from sklearn.base import BaseEstimator\n",
        "from sklearn.base import DensityMixin\n",
        "from sklearn.exceptions import ConvergenceWarning\n",
        "from sklearn.utils import check_random_state\n",
        "from sklearn.utils.validation import check_is_fitted\n",
        "\n",
        "\n",
        "def _check_shape(param, param_shape, name):\n",
        "    \"\"\"Validate the shape of the input parameter 'param'.\n",
        "\n",
        "    Parameters\n",
        "    ----------\n",
        "    param : array\n",
        "\n",
        "    param_shape : tuple\n",
        "\n",
        "    name : str\n",
        "    \"\"\"\n",
        "    param = np.array(param)\n",
        "    if param.shape != param_shape:\n",
        "        raise ValueError(\n",
        "            \"The parameter '%s' should have the shape of %s, but got %s\" %\n",
        "            (name, param_shape, param.shape))\n",
        "\n",
        "\n",
        "class BaseMixture(DensityMixin, BaseEstimator, metaclass=ABCMeta):\n",
        "    \"\"\"Base class for mixture models.\n",
        "\n",
        "    This abstract class specifies an interface for all mixture classes and\n",
        "    provides basic common methods for mixture models.\n",
        "    \"\"\"\n",
        "    def __init__(\n",
        "        self,\n",
        "        n_components,\n",
        "        tol,\n",
        "        reg_covar,\n",
        "        max_iter,\n",
        "        n_init,\n",
        "        init_params,\n",
        "        random_state,\n",
        "        warm_start,\n",
        "        verbose,\n",
        "        verbose_interval,\n",
        "    ):\n",
        "        self.n_components = n_components\n",
        "        self.tol = tol\n",
        "        self.reg_covar = reg_covar\n",
        "        self.max_iter = max_iter\n",
        "        self.n_init = n_init\n",
        "        self.init_params = init_params\n",
        "        self.random_state = random_state\n",
        "        self.warm_start = warm_start\n",
        "        self.verbose = verbose\n",
        "        self.verbose_interval = verbose_interval\n",
        "\n",
        "    def _check_initial_parameters(self, X):\n",
        "        \"\"\"Check values of the basic parameters.\n",
        "\n",
        "        Parameters\n",
        "        ----------\n",
        "        X : array-like of shape (n_samples, n_features)\n",
        "        \"\"\"\n",
        "        if self.n_components < 1:\n",
        "            raise ValueError(\"Invalid value for 'n_components': %d \"\n",
        "                             \"Estimation requires at least one component\" %\n",
        "                             self.n_components)\n",
        "\n",
        "        if self.tol < 0.0:\n",
        "            raise ValueError(\"Invalid value for 'tol': %.5f \"\n",
        "                             \"Tolerance used by the EM must be non-negative\" %\n",
        "                             self.tol)\n",
        "\n",
        "        if self.n_init < 1:\n",
        "            raise ValueError(\n",
        "                \"Invalid value for 'n_init': %d Estimation requires at least one run\"\n",
        "                % self.n_init)\n",
        "\n",
        "        if self.max_iter < 1:\n",
        "            raise ValueError(\"Invalid value for 'max_iter': %d \"\n",
        "                             \"Estimation requires at least one iteration\" %\n",
        "                             self.max_iter)\n",
        "\n",
        "        if self.reg_covar < 0.0:\n",
        "            raise ValueError(\"Invalid value for 'reg_covar': %.5f \"\n",
        "                             \"regularization on covariance must be \"\n",
        "                             \"non-negative\" % self.reg_covar)\n",
        "\n",
        "        # Check all the parameters values of the derived class\n",
        "        self._check_parameters(X)\n",
        "\n",
        "    @abstractmethod\n",
        "    def _check_parameters(self, X):\n",
        "        \"\"\"Check initial parameters of the derived class.\n",
        "\n",
        "        Parameters\n",
        "        ----------\n",
        "        X : array-like of shape  (n_samples, n_features)\n",
        "        \"\"\"\n",
        "        pass\n",
        "\n",
        "    def _initialize_parameters(self, X, random_state, B=None, resp=None):\n",
        "        \"\"\"Initialize the model parameters.\n",
        "\n",
        "        Parameters\n",
        "        ----------\n",
        "        X : array-like of shape  (n_samples, n_features)\n",
        "\n",
        "        random_state : RandomState\n",
        "            A random number generator instance that controls the random seed\n",
        "            used for the method chosen to initialize the parameters.\n",
        "        \"\"\"\n",
        "        n_samples, _ = X.shape\n",
        "\n",
        "        if self.init_params == \"kmeans\":\n",
        "            resp = np.zeros((n_samples, self.n_components))\n",
        "            label = (cluster.KMeans(n_clusters=self.n_components,\n",
        "                                    n_init=1,\n",
        "                                    random_state=random_state).fit(X).labels_)\n",
        "            resp[np.arange(n_samples), label] = 1\n",
        "        elif self.init_params == \"random\":\n",
        "          if resp is None:\n",
        "            resp = random_state.rand(n_samples, self.n_components)\n",
        "            resp /= resp.sum(axis=1)[:, np.newaxis]\n",
        "        else:\n",
        "            raise ValueError(\"Unimplemented initialization method '%s'\" %\n",
        "                             self.init_params)\n",
        "\n",
        "        self._initialize(X, resp, B)\n",
        "\n",
        "    @abstractmethod\n",
        "    def _initialize(self, X, resp, B=None):\n",
        "        \"\"\"Initialize the model parameters of the derived class.\n",
        "\n",
        "        Parameters\n",
        "        ----------\n",
        "        X : array-like of shape  (n_samples, n_features)\n",
        "\n",
        "        resp : array-like of shape (n_samples, n_components)\n",
        "        \"\"\"\n",
        "        pass\n",
        "\n",
        "    def fit(self, X, y=None):\n",
        "        \"\"\"Estimate model parameters with the EM algorithm.\n",
        "\n",
        "        The method fits the model ``n_init`` times and sets the parameters with\n",
        "        which the model has the largest likelihood or lower bound. Within each\n",
        "        trial, the method iterates between E-step and M-step for ``max_iter``\n",
        "        times until the change of likelihood or lower bound is less than\n",
        "        ``tol``, otherwise, a ``ConvergenceWarning`` is raised.\n",
        "        If ``warm_start`` is ``True``, then ``n_init`` is ignored and a single\n",
        "        initialization is performed upon the first call. Upon consecutive\n",
        "        calls, training starts where it left off.\n",
        "\n",
        "        Parameters\n",
        "        ----------\n",
        "        X : array-like of shape (n_samples, n_features)\n",
        "            List of n_features-dimensional data points. Each row\n",
        "            corresponds to a single data point.\n",
        "\n",
        "        y : Ignored\n",
        "            Not used, present for API consistency by convention.\n",
        "\n",
        "        Returns\n",
        "        -------\n",
        "        self : object\n",
        "            The fitted mixture.\n",
        "        \"\"\"\n",
        "        self.fit_predict(X, y)\n",
        "        return self\n",
        "\n",
        "    def fit_predict(self, X, y=None, B=None, resp=None):\n",
        "        \"\"\"Estimate model parameters using X and predict the labels for X.\n",
        "\n",
        "        The method fits the model n_init times and sets the parameters with\n",
        "        which the model has the largest likelihood or lower bound. Within each\n",
        "        trial, the method iterates between E-step and M-step for `max_iter`\n",
        "        times until the change of likelihood or lower bound is less than\n",
        "        `tol`, otherwise, a :class:`~sklearn.exceptions.ConvergenceWarning` is\n",
        "        raised. After fitting, it predicts the most probable label for the\n",
        "        input data points.\n",
        "\n",
        "        .. versionadded:: 0.20\n",
        "\n",
        "        Parameters\n",
        "        ----------\n",
        "        X : array-like of shape (n_samples, n_features)\n",
        "            List of n_features-dimensional data points. Each row\n",
        "            corresponds to a single data point.\n",
        "\n",
        "        y : Ignored\n",
        "            Not used, present for API consistency by convention.\n",
        "\n",
        "        Returns\n",
        "        -------\n",
        "        labels : array, shape (n_samples,)\n",
        "            Component labels.\n",
        "        \"\"\"\n",
        "        X = self._validate_data(X,\n",
        "                                dtype=[np.float64, np.float32],\n",
        "                                ensure_min_samples=2)\n",
        "        if X.shape[0] < self.n_components:\n",
        "            raise ValueError(\"Expected n_samples >= n_components \"\n",
        "                             f\"but got n_components = {self.n_components}, \"\n",
        "                             f\"n_samples = {X.shape[0]}\")\n",
        "        self._check_initial_parameters(X)\n",
        "\n",
        "        # if we enable warm_start, we will have a unique initialisation\n",
        "        do_init = not (self.warm_start and hasattr(self, \"converged_\"))\n",
        "        n_init = self.n_init if do_init else 1\n",
        "\n",
        "        max_lower_bound = -np.inf\n",
        "        self.converged_ = False\n",
        "\n",
        "        random_state = check_random_state(self.random_state)\n",
        "\n",
        "        n_samples, _ = X.shape\n",
        "        for init in range(n_init):\n",
        "            self._print_verbose_msg_init_beg(init)\n",
        "\n",
        "            if do_init:\n",
        "                self._initialize_parameters(X, random_state, B=B, resp=resp)\n",
        "\n",
        "            lower_bound = -np.inf if do_init else self.lower_bound_\n",
        "\n",
        "            for n_iter in range(1, self.max_iter + 1):\n",
        "                prev_lower_bound = lower_bound\n",
        "\n",
        "                log_prob_norm, log_resp = self._e_step(X)\n",
        "                self._m_step(X, log_resp, B)\n",
        "                lower_bound = self._compute_lower_bound(\n",
        "                    log_resp, log_prob_norm)\n",
        "\n",
        "                change = lower_bound - prev_lower_bound\n",
        "                self._print_verbose_msg_iter_end(n_iter, change)\n",
        "\n",
        "                if abs(change) < self.tol:\n",
        "                    self.converged_ = True\n",
        "                    break\n",
        "\n",
        "            self._print_verbose_msg_init_end(lower_bound)\n",
        "\n",
        "            if lower_bound > max_lower_bound or max_lower_bound == -np.inf:\n",
        "                max_lower_bound = lower_bound\n",
        "                best_params = self._get_parameters()\n",
        "                best_n_iter = n_iter\n",
        "\n",
        "        if not self.converged_:\n",
        "            warnings.warn(\n",
        "                \"Initialization %d did not converge. \"\n",
        "                \"Try different init parameters, \"\n",
        "                \"or increase max_iter, tol \"\n",
        "                \"or check for degenerate data.\" % (init + 1),\n",
        "                ConvergenceWarning,\n",
        "            )\n",
        "\n",
        "        self._set_parameters(best_params)\n",
        "        self.n_iter_ = best_n_iter\n",
        "        self.lower_bound_ = max_lower_bound\n",
        "\n",
        "        # Always do a final e-step to guarantee that the labels returned by\n",
        "        # fit_predict(X) are always consistent with fit(X).predict(X)\n",
        "        # for any value of max_iter and tol (and any random_state).\n",
        "        _, log_resp = self._e_step(X)\n",
        "\n",
        "        return log_resp.argmax(axis=1)\n",
        "\n",
        "    def _e_step(self, X):\n",
        "        \"\"\"E step.\n",
        "\n",
        "        Parameters\n",
        "        ----------\n",
        "        X : array-like of shape (n_samples, n_features)\n",
        "\n",
        "        Returns\n",
        "        -------\n",
        "        log_prob_norm : float\n",
        "            Mean of the logarithms of the probabilities of each sample in X\n",
        "\n",
        "        log_responsibility : array, shape (n_samples, n_components)\n",
        "            Logarithm of the posterior probabilities (or responsibilities) of\n",
        "            the point of each sample in X.\n",
        "        \"\"\"\n",
        "        log_prob_norm, log_resp = self._estimate_log_prob_resp(X)\n",
        "        return np.mean(log_prob_norm), log_resp\n",
        "\n",
        "    @abstractmethod\n",
        "    def _m_step(self, X, log_resp, B=None):\n",
        "        \"\"\"M step.\n",
        "\n",
        "        Parameters\n",
        "        ----------\n",
        "        X : array-like of shape (n_samples, n_features)\n",
        "\n",
        "        log_resp : array-like of shape (n_samples, n_components)\n",
        "            Logarithm of the posterior probabilities (or responsibilities) of\n",
        "            the point of each sample in X.\n",
        "        \"\"\"\n",
        "        pass\n",
        "\n",
        "    @abstractmethod\n",
        "    def _get_parameters(self):\n",
        "        pass\n",
        "\n",
        "    @abstractmethod\n",
        "    def _set_parameters(self, params):\n",
        "        pass\n",
        "\n",
        "    def score_samples(self, X):\n",
        "        \"\"\"Compute the log-likelihood of each sample.\n",
        "\n",
        "        Parameters\n",
        "        ----------\n",
        "        X : array-like of shape (n_samples, n_features)\n",
        "            List of n_features-dimensional data points. Each row\n",
        "            corresponds to a single data point.\n",
        "\n",
        "        Returns\n",
        "        -------\n",
        "        log_prob : array, shape (n_samples,)\n",
        "            Log-likelihood of each sample in `X` under the current model.\n",
        "        \"\"\"\n",
        "        check_is_fitted(self)\n",
        "        X = self._validate_data(X, reset=False)\n",
        "\n",
        "        return logsumexp(self._estimate_weighted_log_prob(X), axis=1)\n",
        "\n",
        "    def score(self, X, y=None):\n",
        "        \"\"\"Compute the per-sample average log-likelihood of the given data X.\n",
        "\n",
        "        Parameters\n",
        "        ----------\n",
        "        X : array-like of shape (n_samples, n_dimensions)\n",
        "            List of n_features-dimensional data points. Each row\n",
        "            corresponds to a single data point.\n",
        "\n",
        "        y : Ignored\n",
        "            Not used, present for API consistency by convention.\n",
        "\n",
        "        Returns\n",
        "        -------\n",
        "        log_likelihood : float\n",
        "            Log-likelihood of `X` under the Gaussian mixture model.\n",
        "        \"\"\"\n",
        "        return self.score_samples(X).mean()\n",
        "\n",
        "    def predict(self, X):\n",
        "        \"\"\"Predict the labels for the data samples in X using trained model.\n",
        "\n",
        "        Parameters\n",
        "        ----------\n",
        "        X : array-like of shape (n_samples, n_features)\n",
        "            List of n_features-dimensional data points. Each row\n",
        "            corresponds to a single data point.\n",
        "\n",
        "        Returns\n",
        "        -------\n",
        "        labels : array, shape (n_samples,)\n",
        "            Component labels.\n",
        "        \"\"\"\n",
        "        check_is_fitted(self)\n",
        "        X = self._validate_data(X, reset=False)\n",
        "        return self._estimate_weighted_log_prob(X).argmax(axis=1)\n",
        "\n",
        "    def predict_proba(self, X):\n",
        "        \"\"\"Evaluate the components' density for each sample.\n",
        "\n",
        "        Parameters\n",
        "        ----------\n",
        "        X : array-like of shape (n_samples, n_features)\n",
        "            List of n_features-dimensional data points. Each row\n",
        "            corresponds to a single data point.\n",
        "\n",
        "        Returns\n",
        "        -------\n",
        "        resp : array, shape (n_samples, n_components)\n",
        "            Density of each Gaussian component for each sample in X.\n",
        "        \"\"\"\n",
        "        check_is_fitted(self)\n",
        "        X = self._validate_data(X, reset=False)\n",
        "        _, log_resp = self._estimate_log_prob_resp(X)\n",
        "        return np.exp(log_resp)\n",
        "\n",
        "    def sample(self, n_samples=1):\n",
        "        \"\"\"Generate random samples from the fitted Gaussian distribution.\n",
        "\n",
        "        Parameters\n",
        "        ----------\n",
        "        n_samples : int, default=1\n",
        "            Number of samples to generate.\n",
        "\n",
        "        Returns\n",
        "        -------\n",
        "        X : array, shape (n_samples, n_features)\n",
        "            Randomly generated sample.\n",
        "\n",
        "        y : array, shape (nsamples,)\n",
        "            Component labels.\n",
        "        \"\"\"\n",
        "        check_is_fitted(self)\n",
        "\n",
        "        if n_samples < 1:\n",
        "            raise ValueError(\n",
        "                \"Invalid value for 'n_samples': %d . The sampling requires at \"\n",
        "                \"least one sample.\" % (self.n_components))\n",
        "\n",
        "        _, n_features = self.means_.shape\n",
        "        rng = check_random_state(self.random_state)\n",
        "        n_samples_comp = rng.multinomial(n_samples, self.weights_)\n",
        "\n",
        "        if self.covariance_type == \"full\":\n",
        "            X = np.vstack([\n",
        "                rng.multivariate_normal(mean, covariance, int(sample))\n",
        "                for (mean, covariance, sample\n",
        "                     ) in zip(self.means_, self.covariances_, n_samples_comp)\n",
        "            ])\n",
        "        elif self.covariance_type == \"tied\":\n",
        "            X = np.vstack([\n",
        "                rng.multivariate_normal(mean, self.covariances_, int(sample))\n",
        "                for (mean, sample) in zip(self.means_, n_samples_comp)\n",
        "            ])\n",
        "        else:\n",
        "            X = np.vstack([\n",
        "                mean + rng.randn(sample, n_features) * np.sqrt(covariance)\n",
        "                for (mean, covariance, sample\n",
        "                     ) in zip(self.means_, self.covariances_, n_samples_comp)\n",
        "            ])\n",
        "\n",
        "        y = np.concatenate([\n",
        "            np.full(sample, j, dtype=int)\n",
        "            for j, sample in enumerate(n_samples_comp)\n",
        "        ])\n",
        "\n",
        "        return (X, y)\n",
        "\n",
        "    def _estimate_weighted_log_prob(self, X):\n",
        "        \"\"\"Estimate the weighted log-probabilities, log P(X | Z) + log weights.\n",
        "\n",
        "        Parameters\n",
        "        ----------\n",
        "        X : array-like of shape (n_samples, n_features)\n",
        "\n",
        "        Returns\n",
        "        -------\n",
        "        weighted_log_prob : array, shape (n_samples, n_component)\n",
        "        \"\"\"\n",
        "        return self._estimate_log_prob(X) + self._estimate_log_weights()\n",
        "\n",
        "    @abstractmethod\n",
        "    def _estimate_log_weights(self):\n",
        "        \"\"\"Estimate log-weights in EM algorithm, E[ log pi ] in VB algorithm.\n",
        "\n",
        "        Returns\n",
        "        -------\n",
        "        log_weight : array, shape (n_components, )\n",
        "        \"\"\"\n",
        "        pass\n",
        "\n",
        "    @abstractmethod\n",
        "    def _estimate_log_prob(self, X):\n",
        "        \"\"\"Estimate the log-probabilities log P(X | Z).\n",
        "\n",
        "        Compute the log-probabilities per each component for each sample.\n",
        "\n",
        "        Parameters\n",
        "        ----------\n",
        "        X : array-like of shape (n_samples, n_features)\n",
        "\n",
        "        Returns\n",
        "        -------\n",
        "        log_prob : array, shape (n_samples, n_component)\n",
        "        \"\"\"\n",
        "        pass\n",
        "\n",
        "    def _estimate_log_prob_resp(self, X):\n",
        "        \"\"\"Estimate log probabilities and responsibilities for each sample.\n",
        "\n",
        "        Compute the log probabilities, weighted log probabilities per\n",
        "        component and responsibilities for each sample in X with respect to\n",
        "        the current state of the model.\n",
        "\n",
        "        Parameters\n",
        "        ----------\n",
        "        X : array-like of shape (n_samples, n_features)\n",
        "\n",
        "        Returns\n",
        "        -------\n",
        "        log_prob_norm : array, shape (n_samples,)\n",
        "            log p(X)\n",
        "\n",
        "        log_responsibilities : array, shape (n_samples, n_components)\n",
        "            logarithm of the responsibilities\n",
        "        \"\"\"\n",
        "        weighted_log_prob = self._estimate_weighted_log_prob(X)\n",
        "        log_prob_norm = logsumexp(weighted_log_prob, axis=1)\n",
        "        with np.errstate(under=\"ignore\"):\n",
        "            # ignore underflow\n",
        "            log_resp = weighted_log_prob - log_prob_norm[:, np.newaxis]\n",
        "        return log_prob_norm, log_resp\n",
        "\n",
        "    def _print_verbose_msg_init_beg(self, n_init):\n",
        "        \"\"\"Print verbose message on initialization.\"\"\"\n",
        "        if self.verbose == 1:\n",
        "            print(\"Initialization %d\" % n_init)\n",
        "        elif self.verbose >= 2:\n",
        "            print(\"Initialization %d\" % n_init)\n",
        "            self._init_prev_time = time()\n",
        "            self._iter_prev_time = self._init_prev_time\n",
        "\n",
        "    def _print_verbose_msg_iter_end(self, n_iter, diff_ll):\n",
        "        \"\"\"Print verbose message on initialization.\"\"\"\n",
        "        if n_iter % self.verbose_interval == 0:\n",
        "            if self.verbose == 1:\n",
        "                print(\"  Iteration %d\" % n_iter)\n",
        "            elif self.verbose >= 2:\n",
        "                cur_time = time()\n",
        "                print(\"  Iteration %d\\t time lapse %.5fs\\t ll change %.5f\" %\n",
        "                      (n_iter, cur_time - self._iter_prev_time, diff_ll))\n",
        "                self._iter_prev_time = cur_time\n",
        "\n",
        "    def _print_verbose_msg_init_end(self, ll):\n",
        "        \"\"\"Print verbose message on the end of iteration.\"\"\"\n",
        "        if self.verbose == 1:\n",
        "            print(\"Initialization converged: %s\" % self.converged_)\n",
        "        elif self.verbose >= 2:\n",
        "            print(\"Initialization converged: %s\\t time lapse %.5fs\\t ll %.5f\" %\n",
        "                  (self.converged_, time() - self._init_prev_time, ll))"
      ],
      "execution_count": 4,
      "outputs": []
    },
    {
      "cell_type": "code",
      "metadata": {
        "cellView": "form",
        "id": "7nr95-JE5LKh"
      },
      "source": [
        "#@title sklearn/mixture/_gaussian_mixture.py \n",
        "\n",
        "\"\"\"Gaussian Mixture Model.\"\"\"\n",
        "\n",
        "# sklearn/mixture/_gaussian_mixture.py \n",
        "\n",
        "# Author: Wei Xue <xuewei4d@gmail.com>\n",
        "# Modified by Thierry Guillemot <thierry.guillemot.work@gmail.com>\n",
        "# License: BSD 3 clause\n",
        "\n",
        "import numpy as np\n",
        "\n",
        "from scipy import linalg\n",
        "\n",
        "# from ._base import BaseMixture, _check_shape these come from cell above\n",
        "from sklearn.utils import check_array\n",
        "from sklearn.utils.extmath import row_norms\n",
        "\n",
        "###############################################################################\n",
        "# Gaussian mixture shape checkers used by the GaussianMixture class\n",
        "\n",
        "\n",
        "def _check_weights(weights, n_components):\n",
        "    \"\"\"Check the user provided 'weights'.\n",
        "\n",
        "    Parameters\n",
        "    ----------\n",
        "    weights : array-like of shape (n_components,)\n",
        "        The proportions of components of each mixture.\n",
        "\n",
        "    n_components : int\n",
        "        Number of components.\n",
        "\n",
        "    Returns\n",
        "    -------\n",
        "    weights : array, shape (n_components,)\n",
        "    \"\"\"\n",
        "    weights = check_array(weights,\n",
        "                          dtype=[np.float64, np.float32],\n",
        "                          ensure_2d=False)\n",
        "    _check_shape(weights, (n_components, ), \"weights\")\n",
        "\n",
        "    # check range\n",
        "    if any(np.less(weights, 0.0)) or any(np.greater(weights, 1.0)):\n",
        "        raise ValueError(\"The parameter 'weights' should be in the range \"\n",
        "                         \"[0, 1], but got max value %.5f, min value %.5f\" %\n",
        "                         (np.min(weights), np.max(weights)))\n",
        "\n",
        "    # check normalization\n",
        "    if not np.allclose(np.abs(1.0 - np.sum(weights)), 0.0):\n",
        "        raise ValueError(\n",
        "            \"The parameter 'weights' should be normalized, but got sum(weights) = %.5f\"\n",
        "            % np.sum(weights))\n",
        "    return weights\n",
        "\n",
        "\n",
        "def _check_means(means, n_components, n_features):\n",
        "    \"\"\"Validate the provided 'means'.\n",
        "\n",
        "    Parameters\n",
        "    ----------\n",
        "    means : array-like of shape (n_components, n_features)\n",
        "        The centers of the current components.\n",
        "\n",
        "    n_components : int\n",
        "        Number of components.\n",
        "\n",
        "    n_features : int\n",
        "        Number of features.\n",
        "\n",
        "    Returns\n",
        "    -------\n",
        "    means : array, (n_components, n_features)\n",
        "    \"\"\"\n",
        "    means = check_array(means, dtype=[np.float64, np.float32], ensure_2d=False)\n",
        "    _check_shape(means, (n_components, n_features), \"means\")\n",
        "    return means\n",
        "\n",
        "\n",
        "def _check_precision_positivity(precision, covariance_type):\n",
        "    \"\"\"Check a precision vector is positive-definite.\"\"\"\n",
        "    if np.any(np.less_equal(precision, 0.0)):\n",
        "        raise ValueError(\"'%s precision' should be positive\" % covariance_type)\n",
        "\n",
        "\n",
        "def _check_precision_matrix(precision, covariance_type):\n",
        "    \"\"\"Check a precision matrix is symmetric and positive-definite.\"\"\"\n",
        "    if not (np.allclose(precision, precision.T)\n",
        "            and np.all(linalg.eigvalsh(precision) > 0.0)):\n",
        "        raise ValueError(\n",
        "            \"'%s precision' should be symmetric, positive-definite\" %\n",
        "            covariance_type)\n",
        "\n",
        "\n",
        "def _check_precisions_full(precisions, covariance_type):\n",
        "    \"\"\"Check the precision matrices are symmetric and positive-definite.\"\"\"\n",
        "    for prec in precisions:\n",
        "        _check_precision_matrix(prec, covariance_type)\n",
        "\n",
        "\n",
        "def _check_precisions(precisions, covariance_type, n_components, n_features):\n",
        "    \"\"\"Validate user provided precisions.\n",
        "\n",
        "    Parameters\n",
        "    ----------\n",
        "    precisions : array-like\n",
        "        'full' : shape of (n_components, n_features, n_features)\n",
        "        'tied' : shape of (n_features, n_features)\n",
        "        'diag' : shape of (n_components, n_features)\n",
        "        'spherical' : shape of (n_components,)\n",
        "\n",
        "    covariance_type : str\n",
        "\n",
        "    n_components : int\n",
        "        Number of components.\n",
        "\n",
        "    n_features : int\n",
        "        Number of features.\n",
        "\n",
        "    Returns\n",
        "    -------\n",
        "    precisions : array\n",
        "    \"\"\"\n",
        "    precisions = check_array(\n",
        "        precisions,\n",
        "        dtype=[np.float64, np.float32],\n",
        "        ensure_2d=False,\n",
        "        allow_nd=covariance_type == \"full\",\n",
        "    )\n",
        "\n",
        "    precisions_shape = {\n",
        "        \"full\": (n_components, n_features, n_features),\n",
        "        \"tied\": (n_features, n_features),\n",
        "        \"diag\": (n_components, n_features),\n",
        "        \"spherical\": (n_components, ),\n",
        "    }\n",
        "    _check_shape(precisions, precisions_shape[covariance_type],\n",
        "                 \"%s precision\" % covariance_type)\n",
        "\n",
        "    _check_precisions = {\n",
        "        \"full\": _check_precisions_full,\n",
        "        \"tied\": _check_precision_matrix,\n",
        "        \"diag\": _check_precision_positivity,\n",
        "        \"spherical\": _check_precision_positivity,\n",
        "    }\n",
        "    _check_precisions[covariance_type](precisions, covariance_type)\n",
        "    return precisions\n",
        "\n",
        "\n",
        "###############################################################################\n",
        "# Gaussian mixture parameters estimators (used by the M-Step)\n",
        "\n",
        "\n",
        "def _estimate_gaussian_covariances_full(resp, X, nk, means, reg_covar):\n",
        "    \"\"\"Estimate the full covariance matrices.\n",
        "\n",
        "    Parameters\n",
        "    ----------\n",
        "    resp : array-like of shape (n_samples, n_components)\n",
        "\n",
        "    X : array-like of shape (n_samples, n_features)\n",
        "\n",
        "    nk : array-like of shape (n_components,)\n",
        "\n",
        "    means : array-like of shape (n_components, n_features)\n",
        "\n",
        "    reg_covar : float\n",
        "\n",
        "    Returns\n",
        "    -------\n",
        "    covariances : array, shape (n_components, n_features, n_features)\n",
        "        The covariance matrix of the current components.\n",
        "    \"\"\"\n",
        "    n_components, n_features = means.shape\n",
        "    covariances = np.empty((n_components, n_features, n_features))\n",
        "    for k in range(n_components):\n",
        "        diff = X - means[k]\n",
        "        covariances[k] = np.dot(resp[:, k] * diff.T, diff) / nk[k]\n",
        "        covariances[k].flat[::n_features + 1] += reg_covar\n",
        "    return covariances\n",
        "\n",
        "\n",
        "def _estimate_gaussian_covariances_tied(resp, X, nk, means, reg_covar):\n",
        "    \"\"\"Estimate the tied covariance matrix.\n",
        "\n",
        "    Parameters\n",
        "    ----------\n",
        "    resp : array-like of shape (n_samples, n_components)\n",
        "\n",
        "    X : array-like of shape (n_samples, n_features)\n",
        "\n",
        "    nk : array-like of shape (n_components,)\n",
        "\n",
        "    means : array-like of shape (n_components, n_features)\n",
        "\n",
        "    reg_covar : float\n",
        "\n",
        "    Returns\n",
        "    -------\n",
        "    covariance : array, shape (n_features, n_features)\n",
        "        The tied covariance matrix of the components.\n",
        "    \"\"\"\n",
        "    avg_X2 = np.dot(X.T, X)\n",
        "    avg_means2 = np.dot(nk * means.T, means)\n",
        "    covariance = avg_X2 - avg_means2\n",
        "    covariance /= nk.sum()\n",
        "    covariance.flat[::len(covariance) + 1] += reg_covar\n",
        "    return covariance\n",
        "\n",
        "\n",
        "def _estimate_gaussian_covariances_diag(resp, X, nk, means, reg_covar):\n",
        "    \"\"\"Estimate the diagonal covariance vectors.\n",
        "\n",
        "    Parameters\n",
        "    ----------\n",
        "    responsibilities : array-like of shape (n_samples, n_components)\n",
        "\n",
        "    X : array-like of shape (n_samples, n_features)\n",
        "\n",
        "    nk : array-like of shape (n_components,)\n",
        "\n",
        "    means : array-like of shape (n_components, n_features)\n",
        "\n",
        "    reg_covar : float\n",
        "\n",
        "    Returns\n",
        "    -------\n",
        "    covariances : array, shape (n_components, n_features)\n",
        "        The covariance vector of the current components.\n",
        "    \"\"\"\n",
        "    avg_X2 = np.dot(resp.T, X * X) / nk[:, np.newaxis]\n",
        "    avg_means2 = means**2\n",
        "    avg_X_means = means * np.dot(resp.T, X) / nk[:, np.newaxis]\n",
        "    return avg_X2 - 2 * avg_X_means + avg_means2 + reg_covar\n",
        "\n",
        "\n",
        "def _estimate_gaussian_covariances_spherical(resp, X, nk, means, reg_covar):\n",
        "    \"\"\"Estimate the spherical variance values.\n",
        "\n",
        "    Parameters\n",
        "    ----------\n",
        "    responsibilities : array-like of shape (n_samples, n_components)\n",
        "\n",
        "    X : array-like of shape (n_samples, n_features)\n",
        "\n",
        "    nk : array-like of shape (n_components,)\n",
        "\n",
        "    means : array-like of shape (n_components, n_features)\n",
        "\n",
        "    reg_covar : float\n",
        "\n",
        "    Returns\n",
        "    -------\n",
        "    variances : array, shape (n_components,)\n",
        "        The variance values of each components.\n",
        "    \"\"\"\n",
        "    return _estimate_gaussian_covariances_diag(resp, X, nk, means,\n",
        "                                               reg_covar).mean(1)\n",
        "\n",
        "\n",
        "def _estimate_gaussian_parameters(X, resp, reg_covar, covariance_type, B=None):\n",
        "    \"\"\"Estimate the Gaussian distribution parameters.\n",
        "\n",
        "    Parameters\n",
        "    ----------\n",
        "    X : array-like of shape (n_samples, n_features)\n",
        "        The input data array.\n",
        "\n",
        "    resp : array-like of shape (n_samples, n_components)\n",
        "        The responsibilities for each data sample in X.\n",
        "\n",
        "    reg_covar : float\n",
        "        The regularization added to the diagonal of the covariance matrices.\n",
        "\n",
        "    covariance_type : {'full', 'tied', 'diag', 'spherical'}\n",
        "        The type of precision matrices.\n",
        "\n",
        "    Returns\n",
        "    -------\n",
        "    nk : array-like of shape (n_components,)\n",
        "        The numbers of data samples in the current components.\n",
        "\n",
        "    means : array-like of shape (n_components, n_features)\n",
        "        The centers of the current components.\n",
        "\n",
        "    covariances : array-like\n",
        "        The covariance matrix of the current components.\n",
        "        The shape depends of the covariance_type.\n",
        "    \"\"\"\n",
        "    # print(\"Doing the thing..\")\n",
        "    nk = resp.sum(axis=0) + 10 * np.finfo(resp.dtype).eps\n",
        "    means = np.dot(resp.T, X) / nk[:, np.newaxis]\n",
        "\n",
        "    # frankie\n",
        "    # get the mins for the marker genes\n",
        "    # ct_mins = [means[:, i].min() for i in B]\n",
        "    # marker_gene_indices = [set(np.where(i)[0]) for i in B]\n",
        "    ct_mins = [means[i][B[i]].min() for i in range(means.shape[0])]\n",
        "    marker_gene_indices = [set(B[i]) for i in range(means.shape[0])]\n",
        "    # modify based on the min/f\n",
        "    f = 2.\n",
        "    for idx, i in enumerate(means):\n",
        "        ct_min = ct_mins[idx]\n",
        "        betas = means[idx]\n",
        "        for jdx, b in enumerate(betas):\n",
        "            if jdx not in marker_gene_indices[idx]:\n",
        "                new = min(b, ct_min / f)\n",
        "                means[idx][jdx] = new\n",
        "\n",
        "    covariances = {\n",
        "        \"full\": _estimate_gaussian_covariances_full,\n",
        "        \"tied\": _estimate_gaussian_covariances_tied,\n",
        "        \"diag\": _estimate_gaussian_covariances_diag,\n",
        "        \"spherical\": _estimate_gaussian_covariances_spherical,\n",
        "    }[covariance_type](resp, X, nk, means, reg_covar)\n",
        "    return nk, means, covariances\n",
        "\n",
        "\n",
        "def _compute_precision_cholesky(covariances, covariance_type):\n",
        "    \"\"\"Compute the Cholesky decomposition of the precisions.\n",
        "\n",
        "    Parameters\n",
        "    ----------\n",
        "    covariances : array-like\n",
        "        The covariance matrix of the current components.\n",
        "        The shape depends of the covariance_type.\n",
        "\n",
        "    covariance_type : {'full', 'tied', 'diag', 'spherical'}\n",
        "        The type of precision matrices.\n",
        "\n",
        "    Returns\n",
        "    -------\n",
        "    precisions_cholesky : array-like\n",
        "        The cholesky decomposition of sample precisions of the current\n",
        "        components. The shape depends of the covariance_type.\n",
        "    \"\"\"\n",
        "    estimate_precision_error_message = (\n",
        "        \"Fitting the mixture model failed because some components have \"\n",
        "        \"ill-defined empirical covariance (for instance caused by singleton \"\n",
        "        \"or collapsed samples). Try to decrease the number of components, \"\n",
        "        \"or increase reg_covar.\")\n",
        "\n",
        "    if covariance_type == \"full\":\n",
        "        n_components, n_features, _ = covariances.shape\n",
        "        precisions_chol = np.empty((n_components, n_features, n_features))\n",
        "        for k, covariance in enumerate(covariances):\n",
        "            try:\n",
        "                cov_chol = linalg.cholesky(covariance, lower=True)\n",
        "            except linalg.LinAlgError:\n",
        "                raise ValueError(estimate_precision_error_message)\n",
        "            precisions_chol[k] = linalg.solve_triangular(cov_chol,\n",
        "                                                         np.eye(n_features),\n",
        "                                                         lower=True).T\n",
        "    elif covariance_type == \"tied\":\n",
        "        _, n_features = covariances.shape\n",
        "        try:\n",
        "            cov_chol = linalg.cholesky(covariances, lower=True)\n",
        "        except linalg.LinAlgError:\n",
        "            raise ValueError(estimate_precision_error_message)\n",
        "        precisions_chol = linalg.solve_triangular(cov_chol,\n",
        "                                                  np.eye(n_features),\n",
        "                                                  lower=True).T\n",
        "    else:\n",
        "        if np.any(np.less_equal(covariances, 0.0)):\n",
        "            raise ValueError(estimate_precision_error_message)\n",
        "        precisions_chol = 1.0 / np.sqrt(covariances)\n",
        "    return precisions_chol\n",
        "\n",
        "\n",
        "###############################################################################\n",
        "# Gaussian mixture probability estimators\n",
        "def _compute_log_det_cholesky(matrix_chol, covariance_type, n_features):\n",
        "    \"\"\"Compute the log-det of the cholesky decomposition of matrices.\n",
        "\n",
        "    Parameters\n",
        "    ----------\n",
        "    matrix_chol : array-like\n",
        "        Cholesky decompositions of the matrices.\n",
        "        'full' : shape of (n_components, n_features, n_features)\n",
        "        'tied' : shape of (n_features, n_features)\n",
        "        'diag' : shape of (n_components, n_features)\n",
        "        'spherical' : shape of (n_components,)\n",
        "\n",
        "    covariance_type : {'full', 'tied', 'diag', 'spherical'}\n",
        "\n",
        "    n_features : int\n",
        "        Number of features.\n",
        "\n",
        "    Returns\n",
        "    -------\n",
        "    log_det_precision_chol : array-like of shape (n_components,)\n",
        "        The determinant of the precision matrix for each component.\n",
        "    \"\"\"\n",
        "    if covariance_type == \"full\":\n",
        "        n_components, _, _ = matrix_chol.shape\n",
        "        log_det_chol = np.sum(\n",
        "            np.log(matrix_chol.reshape(n_components, -1)[:, ::n_features + 1]),\n",
        "            1)\n",
        "\n",
        "    elif covariance_type == \"tied\":\n",
        "        log_det_chol = np.sum(np.log(np.diag(matrix_chol)))\n",
        "\n",
        "    elif covariance_type == \"diag\":\n",
        "        log_det_chol = np.sum(np.log(matrix_chol), axis=1)\n",
        "\n",
        "    else:\n",
        "        log_det_chol = n_features * (np.log(matrix_chol))\n",
        "\n",
        "    return log_det_chol\n",
        "\n",
        "\n",
        "def _estimate_log_gaussian_prob(X, means, precisions_chol, covariance_type):\n",
        "    \"\"\"Estimate the log Gaussian probability.\n",
        "\n",
        "    Parameters\n",
        "    ----------\n",
        "    X : array-like of shape (n_samples, n_features)\n",
        "\n",
        "    means : array-like of shape (n_components, n_features)\n",
        "\n",
        "    precisions_chol : array-like\n",
        "        Cholesky decompositions of the precision matrices.\n",
        "        'full' : shape of (n_components, n_features, n_features)\n",
        "        'tied' : shape of (n_features, n_features)\n",
        "        'diag' : shape of (n_components, n_features)\n",
        "        'spherical' : shape of (n_components,)\n",
        "\n",
        "    covariance_type : {'full', 'tied', 'diag', 'spherical'}\n",
        "\n",
        "    Returns\n",
        "    -------\n",
        "    log_prob : array, shape (n_samples, n_components)\n",
        "    \"\"\"\n",
        "    n_samples, n_features = X.shape\n",
        "    n_components, _ = means.shape\n",
        "    # det(precision_chol) is half of det(precision)\n",
        "    log_det = _compute_log_det_cholesky(precisions_chol, covariance_type,\n",
        "                                        n_features)\n",
        "\n",
        "    if covariance_type == \"full\":\n",
        "        log_prob = np.empty((n_samples, n_components))\n",
        "        for k, (mu, prec_chol) in enumerate(zip(means, precisions_chol)):\n",
        "            y = np.dot(X, prec_chol) - np.dot(mu, prec_chol)\n",
        "            log_prob[:, k] = np.sum(np.square(y), axis=1)\n",
        "\n",
        "    elif covariance_type == \"tied\":\n",
        "        log_prob = np.empty((n_samples, n_components))\n",
        "        for k, mu in enumerate(means):\n",
        "            y = np.dot(X, precisions_chol) - np.dot(mu, precisions_chol)\n",
        "            log_prob[:, k] = np.sum(np.square(y), axis=1)\n",
        "\n",
        "    elif covariance_type == \"diag\":\n",
        "        precisions = precisions_chol**2\n",
        "        log_prob = (np.sum((means**2 * precisions), 1) -\n",
        "                    2.0 * np.dot(X, (means * precisions).T) +\n",
        "                    np.dot(X**2, precisions.T))\n",
        "\n",
        "    elif covariance_type == \"spherical\":\n",
        "        precisions = precisions_chol**2\n",
        "        log_prob = (np.sum(means**2, 1) * precisions -\n",
        "                    2 * np.dot(X, means.T * precisions) +\n",
        "                    np.outer(row_norms(X, squared=True), precisions))\n",
        "    return -0.5 * (n_features * np.log(2 * np.pi) + log_prob) + log_det\n",
        "\n",
        "\n",
        "class ImprovedGaussianMixture(BaseMixture):\n",
        "    \"\"\"Gaussian Mixture.\n",
        "\n",
        "    Representation of a Gaussian mixture model probability distribution.\n",
        "    This class allows to estimate the parameters of a Gaussian mixture\n",
        "    distribution.\n",
        "\n",
        "    Read more in the :ref:`User Guide <gmm>`.\n",
        "\n",
        "    .. versionadded:: 0.18\n",
        "\n",
        "    Parameters\n",
        "    ----------\n",
        "    n_components : int, default=1\n",
        "        The number of mixture components.\n",
        "\n",
        "    covariance_type : {'full', 'tied', 'diag', 'spherical'}, default='full'\n",
        "        String describing the type of covariance parameters to use.\n",
        "        Must be one of:\n",
        "\n",
        "        'full'\n",
        "            each component has its own general covariance matrix\n",
        "        'tied'\n",
        "            all components share the same general covariance matrix\n",
        "        'diag'\n",
        "            each component has its own diagonal covariance matrix\n",
        "        'spherical'\n",
        "            each component has its own single variance\n",
        "\n",
        "    tol : float, default=1e-3\n",
        "        The convergence threshold. EM iterations will stop when the\n",
        "        lower bound average gain is below this threshold.\n",
        "\n",
        "    reg_covar : float, default=1e-6\n",
        "        Non-negative regularization added to the diagonal of covariance.\n",
        "        Allows to assure that the covariance matrices are all positive.\n",
        "\n",
        "    max_iter : int, default=100\n",
        "        The number of EM iterations to perform.\n",
        "\n",
        "    n_init : int, default=1\n",
        "        The number of initializations to perform. The best results are kept.\n",
        "\n",
        "    init_params : {'kmeans', 'random'}, default='kmeans'\n",
        "        The method used to initialize the weights, the means and the\n",
        "        precisions.\n",
        "        Must be one of::\n",
        "\n",
        "            'kmeans' : responsibilities are initialized using kmeans.\n",
        "            'random' : responsibilities are initialized randomly.\n",
        "\n",
        "    weights_init : array-like of shape (n_components, ), default=None\n",
        "        The user-provided initial weights.\n",
        "        If it is None, weights are initialized using the `init_params` method.\n",
        "\n",
        "    means_init : array-like of shape (n_components, n_features), default=None\n",
        "        The user-provided initial means,\n",
        "        If it is None, means are initialized using the `init_params` method.\n",
        "\n",
        "    precisions_init : array-like, default=None\n",
        "        The user-provided initial precisions (inverse of the covariance\n",
        "        matrices).\n",
        "        If it is None, precisions are initialized using the 'init_params'\n",
        "        method.\n",
        "        The shape depends on 'covariance_type'::\n",
        "\n",
        "            (n_components,)                        if 'spherical',\n",
        "            (n_features, n_features)               if 'tied',\n",
        "            (n_components, n_features)             if 'diag',\n",
        "            (n_components, n_features, n_features) if 'full'\n",
        "\n",
        "    random_state : int, RandomState instance or None, default=None\n",
        "        Controls the random seed given to the method chosen to initialize the\n",
        "        parameters (see `init_params`).\n",
        "        In addition, it controls the generation of random samples from the\n",
        "        fitted distribution (see the method `sample`).\n",
        "        Pass an int for reproducible output across multiple function calls.\n",
        "        See :term:`Glossary <random_state>`.\n",
        "\n",
        "    warm_start : bool, default=False\n",
        "        If 'warm_start' is True, the solution of the last fitting is used as\n",
        "        initialization for the next call of fit(). This can speed up\n",
        "        convergence when fit is called several times on similar problems.\n",
        "        In that case, 'n_init' is ignored and only a single initialization\n",
        "        occurs upon the first call.\n",
        "        See :term:`the Glossary <warm_start>`.\n",
        "\n",
        "    verbose : int, default=0\n",
        "        Enable verbose output. If 1 then it prints the current\n",
        "        initialization and each iteration step. If greater than 1 then\n",
        "        it prints also the log probability and the time needed\n",
        "        for each step.\n",
        "\n",
        "    verbose_interval : int, default=10\n",
        "        Number of iteration done before the next print.\n",
        "\n",
        "    Attributes\n",
        "    ----------\n",
        "    weights_ : array-like of shape (n_components,)\n",
        "        The weights of each mixture components.\n",
        "\n",
        "    means_ : array-like of shape (n_components, n_features)\n",
        "        The mean of each mixture component.\n",
        "\n",
        "    covariances_ : array-like\n",
        "        The covariance of each mixture component.\n",
        "        The shape depends on `covariance_type`::\n",
        "\n",
        "            (n_components,)                        if 'spherical',\n",
        "            (n_features, n_features)               if 'tied',\n",
        "            (n_components, n_features)             if 'diag',\n",
        "            (n_components, n_features, n_features) if 'full'\n",
        "\n",
        "    precisions_ : array-like\n",
        "        The precision matrices for each component in the mixture. A precision\n",
        "        matrix is the inverse of a covariance matrix. A covariance matrix is\n",
        "        symmetric positive definite so the mixture of Gaussian can be\n",
        "        equivalently parameterized by the precision matrices. Storing the\n",
        "        precision matrices instead of the covariance matrices makes it more\n",
        "        efficient to compute the log-likelihood of new samples at test time.\n",
        "        The shape depends on `covariance_type`::\n",
        "\n",
        "            (n_components,)                        if 'spherical',\n",
        "            (n_features, n_features)               if 'tied',\n",
        "            (n_components, n_features)             if 'diag',\n",
        "            (n_components, n_features, n_features) if 'full'\n",
        "\n",
        "    precisions_cholesky_ : array-like\n",
        "        The cholesky decomposition of the precision matrices of each mixture\n",
        "        component. A precision matrix is the inverse of a covariance matrix.\n",
        "        A covariance matrix is symmetric positive definite so the mixture of\n",
        "        Gaussian can be equivalently parameterized by the precision matrices.\n",
        "        Storing the precision matrices instead of the covariance matrices makes\n",
        "        it more efficient to compute the log-likelihood of new samples at test\n",
        "        time. The shape depends on `covariance_type`::\n",
        "\n",
        "            (n_components,)                        if 'spherical',\n",
        "            (n_features, n_features)               if 'tied',\n",
        "            (n_components, n_features)             if 'diag',\n",
        "            (n_components, n_features, n_features) if 'full'\n",
        "\n",
        "    converged_ : bool\n",
        "        True when convergence was reached in fit(), False otherwise.\n",
        "\n",
        "    n_iter_ : int\n",
        "        Number of step used by the best fit of EM to reach the convergence.\n",
        "\n",
        "    lower_bound_ : float\n",
        "        Lower bound value on the log-likelihood (of the training data with\n",
        "        respect to the model) of the best fit of EM.\n",
        "\n",
        "    n_features_in_ : int\n",
        "        Number of features seen during :term:`fit`.\n",
        "\n",
        "        .. versionadded:: 0.24\n",
        "\n",
        "    feature_names_in_ : ndarray of shape (`n_features_in_`,)\n",
        "        Names of features seen during :term:`fit`. Defined only when `X`\n",
        "        has feature names that are all strings.\n",
        "\n",
        "        .. versionadded:: 1.0\n",
        "\n",
        "    See Also\n",
        "    --------\n",
        "    BayesianGaussianMixture : Gaussian mixture model fit with a variational\n",
        "        inference.\n",
        "\n",
        "    Examples\n",
        "    --------\n",
        "    >>> import numpy as np\n",
        "    >>> from sklearn.mixture import GaussianMixture\n",
        "    >>> X = np.array([[1, 2], [1, 4], [1, 0], [10, 2], [10, 4], [10, 0]])\n",
        "    >>> gm = GaussianMixture(n_components=2, random_state=0).fit(X)\n",
        "    >>> gm.means_\n",
        "    array([[10.,  2.],\n",
        "           [ 1.,  2.]])\n",
        "    >>> gm.predict([[0, 0], [12, 3]])\n",
        "    array([1, 0])\n",
        "    \"\"\"\n",
        "    def __init__(\n",
        "        self,\n",
        "        n_components=1,\n",
        "        *,\n",
        "        covariance_type=\"full\",\n",
        "        tol=1e-3,\n",
        "        reg_covar=1e-6,\n",
        "        max_iter=100,\n",
        "        n_init=1,\n",
        "        init_params=\"kmeans\",\n",
        "        weights_init=None,\n",
        "        means_init=None,\n",
        "        precisions_init=None,\n",
        "        random_state=None,\n",
        "        warm_start=False,\n",
        "        verbose=0,\n",
        "        verbose_interval=10,\n",
        "    ):\n",
        "        super().__init__(\n",
        "            n_components=n_components,\n",
        "            tol=tol,\n",
        "            reg_covar=reg_covar,\n",
        "            max_iter=max_iter,\n",
        "            n_init=n_init,\n",
        "            init_params=init_params,\n",
        "            random_state=random_state,\n",
        "            warm_start=warm_start,\n",
        "            verbose=verbose,\n",
        "            verbose_interval=verbose_interval,\n",
        "        )\n",
        "\n",
        "        self.covariance_type = covariance_type\n",
        "        self.weights_init = weights_init\n",
        "        self.means_init = means_init\n",
        "        self.precisions_init = precisions_init\n",
        "\n",
        "    def _check_parameters(self, X):\n",
        "        \"\"\"Check the Gaussian mixture parameters are well defined.\"\"\"\n",
        "        _, n_features = X.shape\n",
        "        if self.covariance_type not in [\"spherical\", \"tied\", \"diag\", \"full\"]:\n",
        "            raise ValueError(\"Invalid value for 'covariance_type': %s \"\n",
        "                             \"'covariance_type' should be in \"\n",
        "                             \"['spherical', 'tied', 'diag', 'full']\" %\n",
        "                             self.covariance_type)\n",
        "\n",
        "        if self.weights_init is not None:\n",
        "            self.weights_init = _check_weights(self.weights_init,\n",
        "                                               self.n_components)\n",
        "\n",
        "        if self.means_init is not None:\n",
        "            self.means_init = _check_means(self.means_init, self.n_components,\n",
        "                                           n_features)\n",
        "\n",
        "        if self.precisions_init is not None:\n",
        "            self.precisions_init = _check_precisions(\n",
        "                self.precisions_init,\n",
        "                self.covariance_type,\n",
        "                self.n_components,\n",
        "                n_features,\n",
        "            )\n",
        "\n",
        "    def _initialize(self, X, resp, B=None):\n",
        "        \"\"\"Initialization of the Gaussian mixture parameters.\n",
        "\n",
        "        Parameters\n",
        "        ----------\n",
        "        X : array-like of shape (n_samples, n_features)\n",
        "\n",
        "        resp : array-like of shape (n_samples, n_components)\n",
        "        \"\"\"\n",
        "        n_samples, _ = X.shape\n",
        "\n",
        "        weights, means, covariances = _estimate_gaussian_parameters(\n",
        "            X, resp, self.reg_covar, self.covariance_type, B=B)\n",
        "        weights /= n_samples\n",
        "\n",
        "        self.weights_ = weights if self.weights_init is None else self.weights_init\n",
        "        self.means_ = means if self.means_init is None else self.means_init\n",
        "\n",
        "        if self.precisions_init is None:\n",
        "            self.covariances_ = covariances\n",
        "            self.precisions_cholesky_ = _compute_precision_cholesky(\n",
        "                covariances, self.covariance_type)\n",
        "        elif self.covariance_type == \"full\":\n",
        "            self.precisions_cholesky_ = np.array([\n",
        "                linalg.cholesky(prec_init, lower=True)\n",
        "                for prec_init in self.precisions_init\n",
        "            ])\n",
        "        elif self.covariance_type == \"tied\":\n",
        "            self.precisions_cholesky_ = linalg.cholesky(self.precisions_init,\n",
        "                                                        lower=True)\n",
        "        else:\n",
        "            self.precisions_cholesky_ = self.precisions_init\n",
        "\n",
        "    def _m_step(self, X, log_resp, B=None):\n",
        "        \"\"\"M step.\n",
        "\n",
        "        Parameters\n",
        "        ----------\n",
        "        X : array-like of shape (n_samples, n_features)\n",
        "\n",
        "        log_resp : array-like of shape (n_samples, n_components)\n",
        "            Logarithm of the posterior probabilities (or responsibilities) of\n",
        "            the point of each sample in X.\n",
        "        \"\"\"\n",
        "        n_samples, _ = X.shape\n",
        "        self.weights_, self.means_, self.covariances_ = _estimate_gaussian_parameters(\n",
        "            X, np.exp(log_resp), self.reg_covar, self.covariance_type, B=B)\n",
        "        self.weights_ /= n_samples\n",
        "        self.precisions_cholesky_ = _compute_precision_cholesky(\n",
        "            self.covariances_, self.covariance_type)\n",
        "\n",
        "    def _estimate_log_prob(self, X):\n",
        "        return _estimate_log_gaussian_prob(X, self.means_,\n",
        "                                           self.precisions_cholesky_,\n",
        "                                           self.covariance_type)\n",
        "\n",
        "    def _estimate_log_weights(self):\n",
        "        return np.log(self.weights_)\n",
        "\n",
        "    def _compute_lower_bound(self, _, log_prob_norm):\n",
        "        return log_prob_norm\n",
        "\n",
        "    def _get_parameters(self):\n",
        "        return (\n",
        "            self.weights_,\n",
        "            self.means_,\n",
        "            self.covariances_,\n",
        "            self.precisions_cholesky_,\n",
        "        )\n",
        "\n",
        "    def _set_parameters(self, params):\n",
        "        (\n",
        "            self.weights_,\n",
        "            self.means_,\n",
        "            self.covariances_,\n",
        "            self.precisions_cholesky_,\n",
        "        ) = params\n",
        "\n",
        "        # Attributes computation\n",
        "        _, n_features = self.means_.shape\n",
        "\n",
        "        if self.covariance_type == \"full\":\n",
        "            self.precisions_ = np.empty(self.precisions_cholesky_.shape)\n",
        "            for k, prec_chol in enumerate(self.precisions_cholesky_):\n",
        "                self.precisions_[k] = np.dot(prec_chol, prec_chol.T)\n",
        "\n",
        "        elif self.covariance_type == \"tied\":\n",
        "            self.precisions_ = np.dot(self.precisions_cholesky_,\n",
        "                                      self.precisions_cholesky_.T)\n",
        "        else:\n",
        "            self.precisions_ = self.precisions_cholesky_**2\n",
        "\n",
        "    def _n_parameters(self):\n",
        "        \"\"\"Return the number of free parameters in the model.\"\"\"\n",
        "        _, n_features = self.means_.shape\n",
        "        if self.covariance_type == \"full\":\n",
        "            cov_params = self.n_components * n_features * (n_features +\n",
        "                                                           1) / 2.0\n",
        "        elif self.covariance_type == \"diag\":\n",
        "            cov_params = self.n_components * n_features\n",
        "        elif self.covariance_type == \"tied\":\n",
        "            cov_params = n_features * (n_features + 1) / 2.0\n",
        "        elif self.covariance_type == \"spherical\":\n",
        "            cov_params = self.n_components\n",
        "        mean_params = n_features * self.n_components\n",
        "        return int(cov_params + mean_params + self.n_components - 1)\n",
        "\n",
        "    def bic(self, X):\n",
        "        \"\"\"Bayesian information criterion for the current model on the input X.\n",
        "\n",
        "        Parameters\n",
        "        ----------\n",
        "        X : array of shape (n_samples, n_dimensions)\n",
        "            The input samples.\n",
        "\n",
        "        Returns\n",
        "        -------\n",
        "        bic : float\n",
        "            The lower the better.\n",
        "        \"\"\"\n",
        "        return -2 * self.score(X) * X.shape[0] + self._n_parameters() * np.log(\n",
        "            X.shape[0])\n",
        "\n",
        "    def aic(self, X):\n",
        "        \"\"\"Akaike information criterion for the current model on the input X.\n",
        "\n",
        "        Parameters\n",
        "        ----------\n",
        "        X : array of shape (n_samples, n_dimensions)\n",
        "            The input samples.\n",
        "\n",
        "        Returns\n",
        "        -------\n",
        "        aic : float\n",
        "            The lower the better.\n",
        "        \"\"\"\n",
        "        return -2 * self.score(X) * X.shape[0] + 2 * self._n_parameters()"
      ],
      "execution_count": 5,
      "outputs": []
    },
    {
      "cell_type": "code",
      "metadata": {
        "id": "sx_LRtGc5aWH"
      },
      "source": [
        "import json\n",
        "import numpy as np\n",
        "import pandas as pd\n",
        "import matplotlib.pyplot as plt\n",
        "\n",
        "from scipy.io import mmread, mmwrite\n",
        "from scipy.spatial.distance import cdist\n",
        "from collections import defaultdict\n",
        "\n",
        "from scipy.stats import entropy\n",
        "\n",
        "from sklearn.metrics import adjusted_rand_score, rand_score\n",
        "from sklearn.datasets import make_blobs\n",
        "from sklearn.preprocessing import normalize\n",
        "from sklearn.mixture import GaussianMixture as StandardGaussianMixture\n",
        "from sklearn.cluster import KMeans as KMeans\n",
        "from sklearn.mixture._gaussian_mixture import _estimate_gaussian_parameters as est_gaus_params \n",
        "from sklearn.metrics.pairwise import euclidean_distances\n",
        "\n",
        "from sklearn.neighbors import KDTree\n",
        "\n",
        "def nd(arr):\n",
        "    return np.asarray(arr).reshape(-1)\n",
        "\n",
        "def yex(ax):\n",
        "  lims = [\n",
        "      np.min([ax.get_xlim(), ax.get_ylim()]),  # min of both axes\n",
        "      np.max([ax.get_xlim(), ax.get_ylim()]),  # max of both axes\n",
        "  ]\n",
        "\n",
        "  # now plot both limits against eachother\n",
        "  ax.plot(lims, lims, 'k-', alpha=0.75, zorder=0)\n",
        "  ax.set(**{\n",
        "      \"xlim\": lims,\n",
        "      \"ylim\": lims,\n",
        "      \"aspect\": \"equal\"\n",
        "  })\n",
        "  return ax\n",
        "\n",
        "fsize=20\n",
        "\n",
        "plt.rcParams.update({'font.size': fsize})\n",
        "%config InlineBackend.figure_format = 'retina'"
      ],
      "execution_count": 6,
      "outputs": []
    },
    {
      "cell_type": "markdown",
      "metadata": {
        "id": "rXtmyiZB8fRJ"
      },
      "source": [
        "# Preprocess splatter"
      ]
    },
    {
      "cell_type": "code",
      "metadata": {
        "id": "x-2DlBol5fCX"
      },
      "source": [
        "# preprocess splatter file into markers file\n",
        "def write_markers(fname, markers):\n",
        "    with open(fname, \"w\") as f:\n",
        "        for k, v in markers.items():\n",
        "            f.write(f\"{k}\\t\")\n",
        "            n = len(v)\n",
        "            for idx, i in enumerate(v):\n",
        "                f.write(f\"{i}\")\n",
        "                if idx < n - 1:\n",
        "                    f.write(\",\")\n",
        "            f.write(\"\\n\")"
      ],
      "execution_count": 7,
      "outputs": []
    },
    {
      "cell_type": "code",
      "metadata": {
        "id": "VnCtIqMI5jVx"
      },
      "source": [
        "ds = \"1_evenCell_evenDE\"\n",
        "genes_metadata_fname = f\"sim/{ds}/genes_metadata.txt\"\n",
        "matrix_fname = f\"sim/{ds}/matrix.mtx\"\n",
        "genes_fname = f\"sim/{ds}/genes.txt\"\n",
        "labels_fname = f\"sim/{ds}/labels.txt\""
      ],
      "execution_count": 8,
      "outputs": []
    },
    {
      "cell_type": "code",
      "metadata": {
        "id": "OXaYskTI5pwC"
      },
      "source": [
        "df = pd.read_csv(genes_metadata_fname)"
      ],
      "execution_count": 9,
      "outputs": []
    },
    {
      "cell_type": "code",
      "metadata": {
        "id": "jo5-v0Gq5lBv"
      },
      "source": [
        "n_sample = 10\n",
        "\n",
        "# splatter get marker genes\n",
        "markers = defaultdict(list)\n",
        "groups = df.columns[df.columns.str.contains(\"DEFacGroup\")].values\n",
        "\n",
        "for group in groups:\n",
        "    # genes = df[df[f\"DEFacGroup{i}\"] > 1.5].sample(n_sample, random_state=0)[\"Gene\"].values\n",
        "    genes = df[np.logical_and((df[group] > 1.7).values, (df[\"GeneMean\"] > 1e-3).values)][\"Gene\"].values\n",
        "    for j in genes:\n",
        "        markers[group].append(j)\n",
        "write_markers(\"markers.txt\", markers)"
      ],
      "execution_count": 10,
      "outputs": []
    },
    {
      "cell_type": "code",
      "metadata": {
        "colab": {
          "base_uri": "https://localhost:8080/"
        },
        "id": "ZJoFNJzw6HLX",
        "outputId": "7495bcfc-3f18-4491-8e1d-69e116e5047c"
      },
      "source": [
        "np.unique(sum(list(markers.values()), [])).shape[0]"
      ],
      "execution_count": 11,
      "outputs": [
        {
          "output_type": "execute_result",
          "data": {
            "text/plain": [
              "87"
            ]
          },
          "metadata": {},
          "execution_count": 11
        }
      ]
    },
    {
      "cell_type": "code",
      "metadata": {
        "id": "qdWMCTiF6JKP"
      },
      "source": [
        "def write_dict(fname, d):\n",
        "  inv_d = {v:k for k,v in d.items()}\n",
        "  with open(fname, \"w\") as f:\n",
        "    for idx in range(len(d)):\n",
        "      f.write(f'{inv_d[idx]}\\n')"
      ],
      "execution_count": 12,
      "outputs": []
    },
    {
      "cell_type": "markdown",
      "metadata": {
        "id": "PCL8Selo8hyZ"
      },
      "source": [
        "# Read in markers"
      ]
    },
    {
      "cell_type": "code",
      "metadata": {
        "id": "4t6KiOji6Kor"
      },
      "source": [
        "def read_markers(fname, markers_ec=defaultdict(list), celltype=defaultdict(), marker_genes=defaultdict()):\n",
        "  with open(fname, \"r\") as f:\n",
        "    for idx, line in enumerate(f.readlines()):\n",
        "      ct, genes = line.strip().split('\\t')\n",
        "      celltype[ct] = idx\n",
        "      \n",
        "      # two things\n",
        "      # 1. make marker_genes list\n",
        "      # 2. make markers_ec\n",
        "      for g in genes.split(','):\n",
        "        gidx = len(marker_genes)\n",
        "        \n",
        "        # check if the gene has been added already\n",
        "        if g in marker_genes.keys(): # gene repeated\n",
        "          gidx = marker_genes[g]\n",
        "        else:\n",
        "          marker_genes[g] = gidx\n",
        "        \n",
        "        # for the cell type index, add the marker gene index \n",
        "        markers_ec[celltype[ct]].append(marker_genes[g])\n",
        "      \n",
        "      # sort the marker genes\n",
        "      markers_ec[celltype[ct]] = sorted(markers_ec[celltype[ct]])"
      ],
      "execution_count": 13,
      "outputs": []
    },
    {
      "cell_type": "code",
      "metadata": {
        "id": "fKUJaYG-6MkR"
      },
      "source": [
        "markers_ec=defaultdict(list)\n",
        "celltypes=defaultdict()\n",
        "marker_genes=defaultdict()\n",
        "read_markers(\"markers.txt\", markers_ec, celltypes, marker_genes)\n",
        "\n",
        "write_markers(\"markers.ec\", markers_ec)\n",
        "write_dict(\"types.txt\", celltypes)\n",
        "write_dict(\"marker_genes.txt\", marker_genes)"
      ],
      "execution_count": 14,
      "outputs": []
    },
    {
      "cell_type": "code",
      "metadata": {
        "id": "v6SXb7L26PX7"
      },
      "source": [
        "mtx = mmread(matrix_fname).tocsr()"
      ],
      "execution_count": 15,
      "outputs": []
    },
    {
      "cell_type": "code",
      "metadata": {
        "id": "jJIcfxSL6SUk"
      },
      "source": [
        "genes = defaultdict()\n",
        "\n",
        "with open(genes_fname) as f:\n",
        "  for idx, line in enumerate(f.readlines()):\n",
        "    gene = line.strip()\n",
        "    genes[gene] = idx\n",
        "\n",
        "mg_inv = {v:k for k,v in marker_genes.items()}\n",
        "\n",
        "sel = []\n",
        "for idx in range(len(mg_inv)):\n",
        "  # this maps the marker gene name index to the gene index\n",
        "  # in order of the marker_genes file\n",
        "  sel.append(genes[mg_inv[idx]])"
      ],
      "execution_count": 16,
      "outputs": []
    },
    {
      "cell_type": "code",
      "metadata": {
        "colab": {
          "base_uri": "https://localhost:8080/"
        },
        "id": "NUnwE3to6VWR",
        "outputId": "9ea75745-cd22-44d6-c1d9-a902103137d5"
      },
      "source": [
        "len(sel)"
      ],
      "execution_count": 17,
      "outputs": [
        {
          "output_type": "execute_result",
          "data": {
            "text/plain": [
              "87"
            ]
          },
          "metadata": {},
          "execution_count": 17
        }
      ]
    },
    {
      "cell_type": "code",
      "metadata": {
        "id": "Tpw7TW1I6YqQ"
      },
      "source": [
        "a = np.array(\n",
        "    [[1,1, 4],\n",
        "     [2,1, 3],\n",
        "     [2,3, 2]]\n",
        ")"
      ],
      "execution_count": 18,
      "outputs": []
    },
    {
      "cell_type": "code",
      "metadata": {
        "colab": {
          "base_uri": "https://localhost:8080/"
        },
        "id": "0dDueKfL6dqX",
        "outputId": "78823ad0-7f4e-404a-8a04-8180c59d2063"
      },
      "source": [
        "a[:,[2,1]]"
      ],
      "execution_count": 19,
      "outputs": [
        {
          "output_type": "execute_result",
          "data": {
            "text/plain": [
              "array([[4, 1],\n",
              "       [3, 1],\n",
              "       [2, 3]])"
            ]
          },
          "metadata": {},
          "execution_count": 19
        }
      ]
    },
    {
      "cell_type": "code",
      "metadata": {
        "id": "R25GriYt6WFl"
      },
      "source": [
        "mmwrite(\"matrix_select.mtx\", mtx[:,sel])"
      ],
      "execution_count": 20,
      "outputs": []
    },
    {
      "cell_type": "code",
      "metadata": {
        "id": "OnXWejRk68Bi"
      },
      "source": [
        "def mec2b(markers_ec):\n",
        "  n_clusters = len(list(markers_ec.keys()))\n",
        "  n_features = np.unique(sum(list(markers_ec.values()), [])).shape[0]\n",
        "  B = np.zeros((n_clusters, n_features))\n",
        "  for k,v in markers_ec.items():\n",
        "    B[k][v] = 1\n",
        "  return B"
      ],
      "execution_count": 21,
      "outputs": []
    },
    {
      "cell_type": "code",
      "metadata": {
        "id": "mlmZP6QJ8Ujd"
      },
      "source": [
        "B = mec2b(markers_ec).astype(bool)"
      ],
      "execution_count": 63,
      "outputs": []
    },
    {
      "cell_type": "code",
      "metadata": {
        "colab": {
          "base_uri": "https://localhost:8080/"
        },
        "id": "EEyToZiY8WNa",
        "outputId": "a85c8df5-90f2-4781-ca03-604d1683da35"
      },
      "source": [
        "B.sum(1)"
      ],
      "execution_count": 64,
      "outputs": [
        {
          "output_type": "execute_result",
          "data": {
            "text/plain": [
              "array([12,  8, 10,  9,  8,  7,  8,  7, 10,  9])"
            ]
          },
          "metadata": {},
          "execution_count": 64
        }
      ]
    },
    {
      "cell_type": "markdown",
      "metadata": {
        "id": "oUUf83VB8lt9"
      },
      "source": [
        "# Read in matrix"
      ]
    },
    {
      "cell_type": "code",
      "metadata": {
        "id": "qZbTp05avvqS"
      },
      "source": [
        "def get_centroids(X, z):\n",
        "  clusters = np.sort(np.unique(z))\n",
        "  \n",
        "  n_clusters, = clusters.shape\n",
        "  _, n_features = X.shape\n",
        "\n",
        "  centroids = np.zeros((n_clusters, n_features))\n",
        "  for i, g in enumerate(clusters):\n",
        "    centroids[i] = (X[np.where(z==g)[0]].mean(0))\n",
        "  return centroids\n",
        "\n",
        "def get_marker_centroids(X, markers_ec, method=\"mean\"):\n",
        "  n_clusters = len(list(markers_ec.keys()))\n",
        "  _, n_features = X.shape\n",
        "\n",
        "  marker_centroids = np.zeros((n_clusters, n_features))*1e-5\n",
        "\n",
        "  for k, v in markers_ec.items():\n",
        "    submx = X[:, v]\n",
        "    if method == 'max':\n",
        "      repl = submx.max(0)\n",
        "    else:\n",
        "      repl = submx.mean(0)\n",
        "    marker_centroids[k][v] = repl\n",
        "    # for j in markers_ec[i]:\n",
        "    #   # centroids[i][j] = X_max[j]\n",
        "    #   centroids[i][j] = m[j]\n",
        "  return marker_centroids"
      ],
      "execution_count": 196,
      "outputs": []
    },
    {
      "cell_type": "code",
      "metadata": {
        "colab": {
          "base_uri": "https://localhost:8080/"
        },
        "id": "ky8xtxff8nWT",
        "outputId": "dc9ddad6-ac5b-4131-b5d4-002c1cd79495"
      },
      "source": [
        "G = mmread(\"matrix_select.mtx\").toarray()\n",
        "\n",
        "labels = pd.read_csv(labels_fname, sep=\"\\t\", header=None, names=[\"cell\", \"celltype\"])\n",
        "z = labels[\"celltype\"].astype(\"category\").cat.codes.values\n",
        "\n",
        "print(np.unique(z).shape[0], *G.shape, sep=\", \")\n",
        "\n",
        "count_mask          = G.sum(1)     > 0\n",
        "genes_detected_mask = (G>0).sum(1) > 0 \n",
        "cells_detected_mask = (G>0).sum(0) > 0 # handle when genes are dropped (remove from markers_ec)\n",
        "mask = np.logical_and(count_mask, genes_detected_mask)\n",
        "\n",
        "G = G[mask][:,cells_detected_mask]\n",
        "z = z[mask]\n",
        "\n",
        "n_clusters = np.unique(z).shape[0]\n",
        "n_samples, n_features = G.shape\n",
        "\n",
        "X = normalize(G, norm=\"l1\")\n",
        "\n",
        "print(n_clusters, n_samples, n_features, sep=\", \")\n",
        "\n"
      ],
      "execution_count": 219,
      "outputs": [
        {
          "output_type": "stream",
          "name": "stdout",
          "text": [
            "10, 11843, 87\n",
            "10, 11843, 87\n"
          ]
        }
      ]
    },
    {
      "cell_type": "code",
      "metadata": {
        "id": "It5P4K_u-MFr"
      },
      "source": [
        "# get the centroids for the existing data\n",
        "gt = {\n",
        "    \"X\": {\n",
        "        \"norm\": X,\n",
        "        \"center\": X - X.mean(0),\n",
        "        \"log1p\": np.log1p(X)\n",
        "    }\n",
        "}\n",
        "\n",
        "gt.update({\n",
        "    \"centroids\": {\n",
        "        \"norm\": get_centroids(gt[\"X\"][\"norm\"], z), \n",
        "        \"center\": get_centroids(gt[\"X\"][\"center\"], z), \n",
        "        \"log1p\": get_centroids(gt[\"X\"][\"log1p\"], z)\n",
        "        },\n",
        "      \"marker_centroids\":{\n",
        "          \"norm\": get_marker_centroids(gt[\"X\"][\"norm\"], markers_ec),\n",
        "          \"center\": get_marker_centroids(gt[\"X\"][\"center\"], markers_ec, \"max\"), # these will all be zero if using mean\n",
        "          \"log1p\": get_marker_centroids(gt[\"X\"][\"log1p\"], markers_ec)\n",
        "      }\n",
        "    }\n",
        ")"
      ],
      "execution_count": 220,
      "outputs": []
    },
    {
      "cell_type": "code",
      "metadata": {
        "colab": {
          "base_uri": "https://localhost:8080/"
        },
        "id": "UXgwJaKyxzFK",
        "outputId": "fea0a3a8-11f9-4143-c166-752b381d07f0"
      },
      "source": [
        "gt.keys()"
      ],
      "execution_count": 221,
      "outputs": [
        {
          "output_type": "execute_result",
          "data": {
            "text/plain": [
              "dict_keys(['X', 'centroids', 'marker_centroids'])"
            ]
          },
          "metadata": {},
          "execution_count": 221
        }
      ]
    },
    {
      "cell_type": "code",
      "metadata": {
        "id": "xhuHdmYA-SK8"
      },
      "source": [
        "method = \"log1p\""
      ],
      "execution_count": 222,
      "outputs": []
    },
    {
      "cell_type": "code",
      "metadata": {
        "colab": {
          "base_uri": "https://localhost:8080/",
          "height": 625
        },
        "cellView": "form",
        "id": "HPv7goOj_FFq",
        "outputId": "a6f5a9e0-c1f9-4138-fd88-b2373d273843"
      },
      "source": [
        "#@title QC plots\n",
        "fig, axs = plt.subplots(figsize=(10,10), ncols=2, nrows=2)\n",
        "\n",
        "# Genes detected\n",
        "ax = axs[0, 0]\n",
        "x = np.sort(nd((gt[\"X\"][method]>0).sum(1)))[::-1]\n",
        "y = np.arange(gt[\"X\"][method].shape[0])\n",
        "\n",
        "ax.scatter(x,y, color=\"k\", s=0.5)\n",
        "\n",
        "ax.set(**{\n",
        "    \"xlabel\": \"Marker genes detected\",\n",
        "    \"ylabel\": \"Number of cells\"\n",
        "})\n",
        "\n",
        "##############\n",
        "ax = axs[0, 1]\n",
        "x = np.sort(nd(G.sum(1)))[::-1]\n",
        "\n",
        "ax.scatter(x,y, color=\"k\", s=0.5)\n",
        "\n",
        "ax.set(**{\n",
        "    \"xlabel\": \"UMI count\",\n",
        "    \"ylabel\": \"Marker genes detected\",\n",
        "    \"xscale\":\"log\",\n",
        "    \"yscale\": \"log\",\n",
        "    \"ylim\": 1\n",
        "})\n",
        "\n",
        "##############\n",
        "# Centroids\n",
        "ax = axs[1, 0]\n",
        "ax.imshow(gt[\"centroids\"][method], aspect=\"auto\")\n",
        "ax.set(**{\n",
        "    \"xlabel\": \"genes\",\n",
        "    \"ylabel\": \"cell type\"\n",
        "})\n",
        "\n",
        "# Norm Centroids\n",
        "ax = axs[1,1]\n",
        "ax.imshow(gt[\"centroids\"][method], aspect=\"auto\")\n",
        "ax.set(**{\n",
        "    \"xlabel\": \"genes\",\n",
        "    \"ylabel\": \"cell type\"\n",
        "})\n",
        "fig.show()"
      ],
      "execution_count": 218,
      "outputs": [
        {
          "output_type": "display_data",
          "data": {
            "image/png": "[encoded data removed]",
            "text/plain": [
              "<Figure size 720x720 with 4 Axes>"
            ]
          },
          "metadata": {
            "image/png": {
              "width": 668,
              "height": 608
            },
            "needs_background": "light"
          }
        }
      ]
    },
    {
      "cell_type": "markdown",
      "metadata": {
        "id": "ThHxU_be_6CA"
      },
      "source": [
        "# GMM"
      ]
    },
    {
      "cell_type": "markdown",
      "metadata": {
        "id": "GpFuUCjXAHCM"
      },
      "source": [
        "## Manual initialization"
      ]
    },
    {
      "cell_type": "code",
      "metadata": {
        "id": "koZYF0qsAKcB"
      },
      "source": [
        "tree = KDTree(gt[\"marker_centroids\"][method])\n",
        "nearest_dist, nearest_ind = tree.query(gt[\"X\"][method], k=1)\n",
        "\n",
        "# assign cells to clusters\n",
        "p = 1\n",
        "resp = np.ones((n_samples, n_clusters))*(1-p)/(n_clusters-1)\n",
        "resp[np.arange(n_samples), nd(nearest_ind)] = p\n",
        "\n",
        "# initialize params\n",
        "nk = resp.sum(axis=0) + 10 * np.finfo(resp.dtype).eps\n",
        "\n",
        "means_init = np.dot(resp.T, gt[\"X\"][method]) / nk[:, np.newaxis]\n",
        "uniform_weights = np.array([1./n_clusters]*n_clusters)\n",
        "identity_precisions = np.repeat(np.array([np.eye(X.shape[1])]), n_clusters, 0)"
      ],
      "execution_count": 223,
      "outputs": []
    },
    {
      "cell_type": "markdown",
      "metadata": {
        "id": "nsCrw_V4ATNh"
      },
      "source": [
        "## Running the gmm"
      ]
    },
    {
      "cell_type": "code",
      "metadata": {
        "colab": {
          "base_uri": "https://localhost:8080/"
        },
        "id": "MmMBTFS9_I5i",
        "outputId": "53a8f803-a65f-4b3b-e070-e486615f46b0"
      },
      "source": [
        "gmm_params = {\n",
        "            \"n_components\": n_clusters,\n",
        "            \"means_init\": None, # to be added\n",
        "            \"weights_init\": None, # to be added\n",
        "            \"precisions_init\": None, # to be added\n",
        "            \"random_state\": 0,\n",
        "            \"reg_covar\": 1e-8,\n",
        "            \"verbose\": 2,\n",
        "            \"n_init\": 1,\n",
        "            \"max_iter\": 100,\n",
        "            \"tol\": 1e-3,\n",
        "            \"init_params\": \"random\"\n",
        "  }\n",
        "\n",
        "params = {**gmm_params, \n",
        "          \"means_init\": means_init, # centroids,\n",
        "          \"weights_init\": uniform_weights, \n",
        "          \"precisions_init\": identity_precisions\n",
        "          }\n",
        "\n",
        "print(json.dumps(params, indent=4, default=str))\n",
        "gmm = ImprovedGaussianMixture(**params)"
      ],
      "execution_count": 224,
      "outputs": [
        {
          "output_type": "stream",
          "name": "stdout",
          "text": [
            "{\n",
            "    \"n_components\": 10,\n",
            "    \"means_init\": \"[[0.00000000e+00 0.00000000e+00 0.00000000e+00 0.00000000e+00\\n  0.00000000e+00 8.58374369e-03 9.84400728e-02 1.70944334e-02\\n  0.00000000e+00 2.55333020e-02 0.00000000e+00 0.00000000e+00\\n  0.00000000e+00 3.39015517e-02 1.70944334e-02 1.70944334e-02\\n  0.00000000e+00 0.00000000e+00 1.70944334e-02 2.55333020e-02\\n  0.00000000e+00 0.00000000e+00 4.22003545e-02 4.22003545e-02\\n  0.00000000e+00 0.00000000e+00 0.00000000e+00 1.70944334e-02\\n  0.00000000e+00 0.00000000e+00 0.00000000e+00 0.00000000e+00\\n  1.70944334e-02 0.00000000e+00 0.00000000e+00 8.26917158e-02\\n  0.00000000e+00 0.00000000e+00 0.00000000e+00 8.58374369e-03\\n  2.55333020e-02 7.47235462e-02 2.55333020e-02 0.00000000e+00\\n  1.70944334e-02 0.00000000e+00 0.00000000e+00 0.00000000e+00\\n  0.00000000e+00 4.22003545e-02 5.85941643e-02 6.66913745e-02\\n  0.00000000e+00 0.00000000e+00 0.00000000e+00 0.00000000e+00\\n  0.00000000e+00 0.00000000e+00 0.00000000e+00 0.00000000e+00\\n  0.00000000e+00 0.00000000e+00 0.00000000e+00 2.55333020e-02\\n  8.58374369e-03 0.00000000e+00 0.00000000e+00 0.00000000e+00\\n  0.00000000e+00 0.00000000e+00 0.00000000e+00 8.58374369e-03\\n  8.58374369e-03 0.00000000e+00 0.00000000e+00 0.00000000e+00\\n  8.58374369e-03 0.00000000e+00 3.39015517e-02 4.22003545e-02\\n  1.70944334e-02 0.00000000e+00 0.00000000e+00 4.22003545e-02\\n  0.00000000e+00 0.00000000e+00 0.00000000e+00]\\n [5.67009781e-04 1.99335592e-04 5.39843900e-03 8.93298096e-04\\n  6.41921483e-03 2.93595177e-03 1.73284528e-02 1.30947463e-02\\n  1.76477039e-03 7.14999016e-03 6.04735378e-03 1.61353623e-04\\n  9.39907214e-04 1.07308707e-01 1.08017684e-01 1.77543587e-03\\n  2.13022753e-02 6.95062541e-03 6.08819648e-02 1.30043348e-02\\n  2.25211211e-03 1.79738271e-03 1.32801323e-02 4.72527585e-02\\n  3.96179382e-03 1.82641307e-03 3.23476192e-03 2.10286733e-03\\n  6.37992607e-03 2.18384955e-03 3.25609046e-04 6.70721426e-03\\n  1.56289492e-02 6.03174847e-03 3.66458801e-04 2.15058774e-02\\n  1.74132964e-04 2.18868222e-03 1.08088810e-02 1.55540890e-02\\n  9.37104988e-03 1.37891999e-02 3.82120511e-02 3.99463425e-03\\n  2.27039450e-02 4.83890109e-04 8.68362517e-04 1.48079073e-03\\n  4.59643820e-03 8.77103348e-02 4.62636940e-02 4.04069910e-02\\n  7.15155931e-04 8.66834985e-05 7.80574623e-04 1.97170637e-03\\n  1.44210258e-03 5.13277633e-04 3.11735374e-04 1.26211676e-04\\n  6.32014709e-04 1.46645709e-03 2.64022797e-02 1.50135593e-02\\n  2.03438285e-03 5.48954947e-04 1.03438495e-03 5.74853201e-04\\n  5.51252790e-04 5.72190284e-04 1.00942129e-04 1.14111500e-02\\n  8.71830224e-03 7.24840132e-05 4.14967957e-03 5.76644873e-04\\n  4.57872193e-04 1.06966494e-04 3.10029620e-02 1.75318320e-02\\n  8.35080684e-03 3.70904200e-04 2.06891564e-04 9.42324008e-03\\n  8.16854517e-05 1.86939398e-03 2.45441347e-03]\\n [6.88475528e-04 2.34583649e-04 3.41329691e-03 1.11473271e-03\\n  6.14368697e-03 2.31966637e-03 1.74288340e-02 1.11614877e-02\\n  1.54808102e-03 6.26749272e-03 6.01442683e-03 2.22669371e-04\\n  9.32317491e-04 5.23880641e-02 6.11006039e-02 1.75156780e-03\\n  1.71716489e-02 5.38700294e-03 4.03245610e-02 9.23729583e-03\\n  4.66805410e-03 3.93190877e-03 2.75628888e-02 1.54068934e-01\\n  6.98451513e-03 3.57258101e-03 5.94765560e-03 4.13435366e-03\\n  1.19287496e-02 3.23879620e-03 1.31210268e-04 5.88352529e-03\\n  1.53984691e-02 5.88657087e-03 3.48172186e-04 1.80624639e-02\\n  2.98282587e-04 1.85722917e-03 9.22836935e-03 1.14237713e-02\\n  1.17245580e-02 1.52661430e-02 3.52106905e-02 5.00877861e-03\\n  2.34355136e-02 4.79032638e-04 9.84834347e-04 1.26880894e-03\\n  4.34957628e-03 7.85154698e-02 4.75960238e-02 4.05425200e-02\\n  8.61169365e-04 8.34348706e-05 5.52631504e-04 1.91310772e-03\\n  2.14722446e-03 4.80021328e-04 2.65015867e-04 4.70880276e-05\\n  9.94175732e-04 1.38649566e-03 2.84602179e-02 1.55805871e-02\\n  1.76431939e-03 7.68888284e-04 1.41601406e-03 5.93144602e-04\\n  3.15764019e-04 5.97107000e-04 1.02111502e-04 1.30952426e-02\\n  1.04396525e-02 1.12787822e-04 4.51762528e-03 9.85976042e-04\\n  4.63634395e-04 7.63685853e-04 3.42472055e-02 2.07819767e-02\\n  9.02802050e-03 4.79436729e-04 1.94423617e-04 7.07713891e-03\\n  3.68127194e-05 1.76784921e-03 1.92974425e-03]\\n [0.00000000e+00 0.00000000e+00 0.00000000e+00 0.00000000e+00\\n  0.00000000e+00 0.00000000e+00 4.25596144e-02 4.25596144e-02\\n  0.00000000e+00 0.00000000e+00 0.00000000e+00 0.00000000e+00\\n  0.00000000e+00 0.00000000e+00 6.31789016e-02 0.00000000e+00\\n  0.00000000e+00 0.00000000e+00 0.00000000e+00 0.00000000e+00\\n  0.00000000e+00 0.00000000e+00 0.00000000e+00 8.33816089e-02\\n  0.00000000e+00 0.00000000e+00 0.00000000e+00 0.00000000e+00\\n  0.00000000e+00 0.00000000e+00 0.00000000e+00 8.33816089e-02\\n  0.00000000e+00 0.00000000e+00 0.00000000e+00 1.78691789e-01\\n  0.00000000e+00 0.00000000e+00 2.15062052e-02 0.00000000e+00\\n  8.33816089e-02 0.00000000e+00 4.25596144e-02 0.00000000e+00\\n  2.15062052e-02 0.00000000e+00 0.00000000e+00 0.00000000e+00\\n  0.00000000e+00 0.00000000e+00 6.31789016e-02 1.03184236e-01\\n  0.00000000e+00 0.00000000e+00 0.00000000e+00 0.00000000e+00\\n  0.00000000e+00 0.00000000e+00 0.00000000e+00 0.00000000e+00\\n  0.00000000e+00 0.00000000e+00 2.15062052e-02 0.00000000e+00\\n  0.00000000e+00 0.00000000e+00 0.00000000e+00 0.00000000e+00\\n  0.00000000e+00 0.00000000e+00 0.00000000e+00 4.25596144e-02\\n  0.00000000e+00 0.00000000e+00 0.00000000e+00 0.00000000e+00\\n  0.00000000e+00 0.00000000e+00 6.31789016e-02 0.00000000e+00\\n  0.00000000e+00 0.00000000e+00 0.00000000e+00 0.00000000e+00\\n  0.00000000e+00 0.00000000e+00 0.00000000e+00]\\n [7.79871006e-04 2.63714887e-04 5.90492106e-03 8.11227451e-04\\n  7.47070168e-03 3.06482363e-03 1.91334267e-02 1.07485144e-02\\n  2.00081680e-03 8.69568368e-03 7.97772613e-03 4.42769457e-05\\n  5.06247663e-04 4.54182868e-02 5.41045686e-02 1.77659260e-03\\n  1.80316358e-02 5.88078346e-03 3.24105353e-02 6.63180742e-03\\n  1.76702376e-03 2.13167153e-03 1.34278495e-02 4.82984847e-02\\n  5.07421771e-03 3.35077392e-03 4.00890024e-03 3.61663015e-03\\n  5.09933453e-03 3.17685623e-03 2.47712676e-04 7.38736190e-03\\n  1.48057207e-02 4.97739356e-03 4.16199301e-04 2.36281488e-02\\n  0.00000000e+00 2.84685490e-03 2.04063457e-02 2.26214807e-02\\n  1.55297090e-02 4.03591445e-02 1.06971133e-01 8.73336278e-03\\n  5.02045307e-02 3.58921176e-04 8.39687004e-04 1.45077604e-03\\n  4.23126849e-03 7.25156243e-02 4.03631733e-02 4.01454609e-02\\n  1.08967181e-03 2.11221341e-04 6.20913204e-04 1.71114727e-03\\n  1.08172050e-03 6.43989038e-04 2.64179716e-04 1.66015405e-04\\n  1.03825418e-03 1.10588318e-03 2.85228294e-02 1.64197524e-02\\n  1.88720716e-03 1.08978157e-03 1.28196581e-03 7.15273868e-04\\n  4.61777531e-04 3.47483165e-04 8.04665984e-05 1.35502277e-02\\n  8.81943036e-03 9.78550904e-05 5.05793400e-03 6.14297215e-04\\n  3.69620662e-04 3.09219110e-04 3.88210922e-02 2.15303123e-02\\n  7.34474113e-03 2.78235688e-04 3.75492698e-05 1.14190021e-02\\n  1.18861271e-04 1.89128887e-03 2.09139587e-03]\\n [6.11135789e-04 2.47705435e-04 5.58481469e-03 9.62282922e-04\\n  6.79295337e-03 3.10031328e-03 1.87895564e-02 1.38113120e-02\\n  1.83229594e-03 7.44087359e-03 6.68700649e-03 1.52420842e-04\\n  8.37337774e-04 5.53167949e-02 6.53303756e-02 1.49559855e-03\\n  1.79892969e-02 6.00167886e-03 4.50755707e-02 8.99218911e-03\\n  2.38016732e-03 2.02761227e-03 1.36967559e-02 5.17859318e-02\\n  4.28618305e-03 1.99939850e-03 3.32712557e-03 2.21647789e-03\\n  6.50101912e-03 2.34973059e-03 3.65896769e-04 7.11860039e-03\\n  1.60664923e-02 6.46663486e-03 3.49668582e-04 2.22161326e-02\\n  1.84706726e-04 2.30203607e-03 1.12143865e-02 1.41141124e-02\\n  9.78345853e-03 1.48503591e-02 4.03569776e-02 4.72274724e-03\\n  2.38712517e-02 5.18445777e-04 1.03177662e-03 1.75867062e-03\\n  5.01520887e-03 1.33361068e-01 6.31151418e-02 6.00234233e-02\\n  7.96215647e-04 7.56451379e-05 8.08127741e-04 2.08544028e-03\\n  1.55421877e-03 5.33648843e-04 3.59337825e-04 1.19547805e-04\\n  6.44545532e-04 1.56440614e-03 2.89982034e-02 1.55429075e-02\\n  2.15853820e-03 5.98908600e-04 1.08832519e-03 5.58165063e-04\\n  6.63730470e-04 6.18454197e-04 1.12434777e-04 1.29117802e-02\\n  9.68038540e-03 7.79051028e-05 4.85773594e-03 7.25248791e-04\\n  4.49723649e-04 1.46479402e-04 3.88727063e-02 2.09941582e-02\\n  9.49094505e-03 5.01351864e-04 2.38537203e-04 1.10565792e-02\\n  1.11623202e-04 1.89165686e-03 2.67950161e-03]\\n [0.00000000e+00 0.00000000e+00 0.00000000e+00 0.00000000e+00\\n  0.00000000e+00 0.00000000e+00 0.00000000e+00 0.00000000e+00\\n  0.00000000e+00 0.00000000e+00 0.00000000e+00 0.00000000e+00\\n  0.00000000e+00 0.00000000e+00 0.00000000e+00 0.00000000e+00\\n  0.00000000e+00 0.00000000e+00 0.00000000e+00 0.00000000e+00\\n  0.00000000e+00 0.00000000e+00 0.00000000e+00 0.00000000e+00\\n  0.00000000e+00 0.00000000e+00 0.00000000e+00 0.00000000e+00\\n  0.00000000e+00 0.00000000e+00 0.00000000e+00 0.00000000e+00\\n  0.00000000e+00 0.00000000e+00 0.00000000e+00 0.00000000e+00\\n  0.00000000e+00 0.00000000e+00 0.00000000e+00 0.00000000e+00\\n  0.00000000e+00 0.00000000e+00 0.00000000e+00 0.00000000e+00\\n  0.00000000e+00 0.00000000e+00 0.00000000e+00 0.00000000e+00\\n  0.00000000e+00 0.00000000e+00 0.00000000e+00 0.00000000e+00\\n  0.00000000e+00 0.00000000e+00 0.00000000e+00 0.00000000e+00\\n  0.00000000e+00 0.00000000e+00 0.00000000e+00 0.00000000e+00\\n  0.00000000e+00 0.00000000e+00 0.00000000e+00 0.00000000e+00\\n  0.00000000e+00 0.00000000e+00 0.00000000e+00 0.00000000e+00\\n  0.00000000e+00 0.00000000e+00 0.00000000e+00 0.00000000e+00\\n  0.00000000e+00 0.00000000e+00 0.00000000e+00 0.00000000e+00\\n  0.00000000e+00 0.00000000e+00 0.00000000e+00 0.00000000e+00\\n  0.00000000e+00 0.00000000e+00 0.00000000e+00 0.00000000e+00\\n  0.00000000e+00 0.00000000e+00 0.00000000e+00]\\n [0.00000000e+00 0.00000000e+00 6.43838804e-03 6.66706177e-03\\n  1.29199254e-03 1.02137561e-02 7.00652706e-03 2.01694272e-02\\n  0.00000000e+00 1.29199254e-03 3.99730127e-02 0.00000000e+00\\n  1.00648225e-02 2.98868283e-02 6.72295916e-02 0.00000000e+00\\n  1.85483386e-02 4.29810014e-03 5.41716827e-02 8.77282995e-03\\n  7.11571167e-03 0.00000000e+00 3.58686210e-03 4.81480687e-02\\n  2.15828679e-03 4.42489427e-03 0.00000000e+00 0.00000000e+00\\n  0.00000000e+00 2.01349376e-03 0.00000000e+00 1.87510260e-02\\n  7.12298895e-03 0.00000000e+00 0.00000000e+00 1.87387354e-02\\n  0.00000000e+00 0.00000000e+00 2.73291872e-03 5.51404187e-03\\n  4.01826859e-03 1.33681935e-02 3.37836532e-02 7.21501222e-04\\n  4.23945846e-02 0.00000000e+00 1.29199254e-03 7.78064936e-03\\n  1.29199254e-03 6.30863880e-02 3.64659222e-02 1.86118706e-02\\n  0.00000000e+00 0.00000000e+00 0.00000000e+00 7.21501222e-04\\n  0.00000000e+00 0.00000000e+00 0.00000000e+00 7.21501222e-04\\n  0.00000000e+00 0.00000000e+00 1.42696308e-01 6.05640636e-02\\n  0.00000000e+00 1.63456898e-02 0.00000000e+00 0.00000000e+00\\n  0.00000000e+00 0.00000000e+00 0.00000000e+00 1.49812392e-02\\n  8.59048167e-03 0.00000000e+00 7.21501222e-04 0.00000000e+00\\n  0.00000000e+00 0.00000000e+00 4.78308737e-02 6.72971244e-03\\n  7.58466288e-03 1.29199254e-03 0.00000000e+00 1.73445384e-02\\n  0.00000000e+00 4.07725631e-03 0.00000000e+00]\\n [0.00000000e+00 0.00000000e+00 0.00000000e+00 0.00000000e+00\\n  0.00000000e+00 0.00000000e+00 0.00000000e+00 0.00000000e+00\\n  0.00000000e+00 0.00000000e+00 0.00000000e+00 0.00000000e+00\\n  0.00000000e+00 0.00000000e+00 0.00000000e+00 0.00000000e+00\\n  0.00000000e+00 0.00000000e+00 0.00000000e+00 0.00000000e+00\\n  0.00000000e+00 0.00000000e+00 0.00000000e+00 0.00000000e+00\\n  0.00000000e+00 0.00000000e+00 0.00000000e+00 0.00000000e+00\\n  0.00000000e+00 0.00000000e+00 0.00000000e+00 0.00000000e+00\\n  0.00000000e+00 0.00000000e+00 0.00000000e+00 0.00000000e+00\\n  0.00000000e+00 0.00000000e+00 0.00000000e+00 0.00000000e+00\\n  0.00000000e+00 0.00000000e+00 0.00000000e+00 0.00000000e+00\\n  0.00000000e+00 0.00000000e+00 0.00000000e+00 0.00000000e+00\\n  0.00000000e+00 0.00000000e+00 0.00000000e+00 0.00000000e+00\\n  0.00000000e+00 0.00000000e+00 0.00000000e+00 0.00000000e+00\\n  0.00000000e+00 0.00000000e+00 0.00000000e+00 0.00000000e+00\\n  0.00000000e+00 0.00000000e+00 0.00000000e+00 0.00000000e+00\\n  0.00000000e+00 0.00000000e+00 0.00000000e+00 0.00000000e+00\\n  0.00000000e+00 0.00000000e+00 0.00000000e+00 0.00000000e+00\\n  0.00000000e+00 0.00000000e+00 0.00000000e+00 0.00000000e+00\\n  0.00000000e+00 0.00000000e+00 0.00000000e+00 0.00000000e+00\\n  0.00000000e+00 0.00000000e+00 0.00000000e+00 0.00000000e+00\\n  0.00000000e+00 0.00000000e+00 0.00000000e+00]\\n [1.34659463e-03 2.10698880e-04 8.50320637e-03 9.91143605e-04\\n  8.53637918e-03 5.05514024e-03 2.71231150e-02 9.98657182e-03\\n  9.12598245e-04 7.72449167e-03 1.34578996e-02 0.00000000e+00\\n  1.31013331e-03 5.42640509e-02 3.77668432e-02 1.06401704e-03\\n  1.63538347e-02 4.40598892e-03 3.57184780e-02 1.16486637e-02\\n  1.25844744e-03 3.97322097e-03 1.39410066e-02 4.57585128e-02\\n  4.40654969e-03 3.76392213e-04 3.26915128e-03 2.99347312e-03\\n  1.29779424e-02 5.87511076e-03 3.45274083e-05 8.81290623e-03\\n  1.73699010e-02 7.79074809e-03 7.34023200e-04 1.71251199e-02\\n  1.81745026e-04 3.53687459e-04 8.96578515e-03 1.63354374e-02\\n  1.10250692e-02 1.84166053e-02 4.20058311e-02 7.45352446e-03\\n  1.87636137e-02 7.47685320e-04 1.66238609e-03 5.07721385e-04\\n  2.02593983e-03 6.95150036e-02 4.34272080e-02 3.05059675e-02\\n  3.74373218e-04 0.00000000e+00 1.67831956e-04 2.00975446e-04\\n  4.17107722e-03 3.47324903e-04 1.17474387e-04 0.00000000e+00\\n  1.11959562e-03 2.52698204e-03 2.98899422e-02 1.48139956e-02\\n  3.29883030e-03 1.79775584e-04 2.03825045e-03 9.53127504e-04\\n  1.68352644e-03 1.17698574e-04 0.00000000e+00 1.11050255e-02\\n  1.33594817e-02 0.00000000e+00 5.66969749e-03 1.58069356e-03\\n  2.00755645e-03 0.00000000e+00 1.16734912e-01 4.76242263e-02\\n  1.62086654e-02 5.31450488e-05 3.72266197e-05 2.24028404e-02\\n  0.00000000e+00 4.99476098e-03 3.17556234e-03]]\",\n",
            "    \"weights_init\": \"[0.1 0.1 0.1 0.1 0.1 0.1 0.1 0.1 0.1 0.1]\",\n",
            "    \"precisions_init\": \"[[[1. 0. 0. ... 0. 0. 0.]\\n  [0. 1. 0. ... 0. 0. 0.]\\n  [0. 0. 1. ... 0. 0. 0.]\\n  ...\\n  [0. 0. 0. ... 1. 0. 0.]\\n  [0. 0. 0. ... 0. 1. 0.]\\n  [0. 0. 0. ... 0. 0. 1.]]\\n\\n [[1. 0. 0. ... 0. 0. 0.]\\n  [0. 1. 0. ... 0. 0. 0.]\\n  [0. 0. 1. ... 0. 0. 0.]\\n  ...\\n  [0. 0. 0. ... 1. 0. 0.]\\n  [0. 0. 0. ... 0. 1. 0.]\\n  [0. 0. 0. ... 0. 0. 1.]]\\n\\n [[1. 0. 0. ... 0. 0. 0.]\\n  [0. 1. 0. ... 0. 0. 0.]\\n  [0. 0. 1. ... 0. 0. 0.]\\n  ...\\n  [0. 0. 0. ... 1. 0. 0.]\\n  [0. 0. 0. ... 0. 1. 0.]\\n  [0. 0. 0. ... 0. 0. 1.]]\\n\\n ...\\n\\n [[1. 0. 0. ... 0. 0. 0.]\\n  [0. 1. 0. ... 0. 0. 0.]\\n  [0. 0. 1. ... 0. 0. 0.]\\n  ...\\n  [0. 0. 0. ... 1. 0. 0.]\\n  [0. 0. 0. ... 0. 1. 0.]\\n  [0. 0. 0. ... 0. 0. 1.]]\\n\\n [[1. 0. 0. ... 0. 0. 0.]\\n  [0. 1. 0. ... 0. 0. 0.]\\n  [0. 0. 1. ... 0. 0. 0.]\\n  ...\\n  [0. 0. 0. ... 1. 0. 0.]\\n  [0. 0. 0. ... 0. 1. 0.]\\n  [0. 0. 0. ... 0. 0. 1.]]\\n\\n [[1. 0. 0. ... 0. 0. 0.]\\n  [0. 1. 0. ... 0. 0. 0.]\\n  [0. 0. 1. ... 0. 0. 0.]\\n  ...\\n  [0. 0. 0. ... 1. 0. 0.]\\n  [0. 0. 0. ... 0. 1. 0.]\\n  [0. 0. 0. ... 0. 0. 1.]]]\",\n",
            "    \"random_state\": 0,\n",
            "    \"reg_covar\": 1e-08,\n",
            "    \"verbose\": 2,\n",
            "    \"n_init\": 1,\n",
            "    \"max_iter\": 100,\n",
            "    \"tol\": 0.001,\n",
            "    \"init_params\": \"random\"\n",
            "}\n"
          ]
        }
      ]
    },
    {
      "cell_type": "code",
      "metadata": {
        "colab": {
          "base_uri": "https://localhost:8080/"
        },
        "id": "QLF6X8I95r9K",
        "outputId": "88652ab4-a36f-4bb1-feac-71eefccd00a7"
      },
      "source": [
        "labels = gmm.fit_predict(gt[\"X\"][method], B=markers_ec)\n",
        "means = gmm.means_\n",
        "prob = gmm.predict_proba(gt[\"X\"][method])\n",
        "entr = entropy(prob, axis=1)\n",
        "rand = rand_score(z, labels)\n",
        "dist = cdist(gt[\"centroids\"][method], means)#, metric=\"cityblock\")\n",
        "close = np.argmin(dist, axis=0)"
      ],
      "execution_count": 225,
      "outputs": [
        {
          "output_type": "stream",
          "name": "stdout",
          "text": [
            "Initialization 0\n",
            "  Iteration 10\t time lapse 4.22527s\t ll change 0.40661\n",
            "  Iteration 20\t time lapse 4.02912s\t ll change 0.11980\n",
            "  Iteration 30\t time lapse 4.02120s\t ll change 0.13954\n",
            "Initialization converged: True\t time lapse 15.50254s\t ll 370.71083\n"
          ]
        }
      ]
    },
    {
      "cell_type": "code",
      "metadata": {
        "colab": {
          "base_uri": "https://localhost:8080/"
        },
        "id": "GqmuACDT5YoY",
        "outputId": "b9684f55-cc70-4cf4-c982-b49a0ef2751b"
      },
      "source": [
        "print(\"Rand score: \", rand)\n",
        "print(\"Closest : \", close)"
      ],
      "execution_count": 226,
      "outputs": [
        {
          "output_type": "stream",
          "name": "stdout",
          "text": [
            "Rand score:  0.7819673264762476\n",
            "Closest :  [0 2 3 4 5 6 9 9 9 1]\n"
          ]
        }
      ]
    },
    {
      "cell_type": "code",
      "metadata": {
        "colab": {
          "base_uri": "https://localhost:8080/",
          "height": 372
        },
        "id": "VXDtCkQJAoig",
        "outputId": "7c1bb25d-2216-43be-9713-2e3b5afd03ff"
      },
      "source": [
        "fig, axs = plt.subplots(figsize=(10,5), ncols=2)\n",
        "\n",
        "ax = axs[0]\n",
        "ax.matshow(dist, cmap='Reds')\n",
        "ax.set(**{\n",
        "    \"xlabel\":\"computed means\",\n",
        "    \"ylabel\": \"true means\"\n",
        "    })\n",
        "\n",
        "ax = axs[1]\n",
        "ax.imshow(means, aspect=\"auto\")\n",
        "ax.set(**{\n",
        "    \"xlabel\": \"genes\",\n",
        "    \"ylabel\": \"cell type\"\n",
        "})\n",
        "fig.show()"
      ],
      "execution_count": 227,
      "outputs": [
        {
          "output_type": "display_data",
          "data": {
            "image/png": "[encoded data removed]",
            "text/plain": [
              "<Figure size 720x360 with 2 Axes>"
            ]
          },
          "metadata": {
            "image/png": {
              "width": 616,
              "height": 355
            },
            "needs_background": "light"
          }
        }
      ]
    },
    {
      "cell_type": "code",
      "metadata": {
        "colab": {
          "base_uri": "https://localhost:8080/"
        },
        "id": "6bsAEh6eAEmU",
        "outputId": "f66fc56d-429a-4374-8f73-8d6d8e540b11"
      },
      "source": [
        "gt[\"centroids\"][method][0].astype(int)"
      ],
      "execution_count": 228,
      "outputs": [
        {
          "output_type": "execute_result",
          "data": {
            "text/plain": [
              "array([0, 0, 0, 0, 0, 0, 0, 0, 0, 0, 0, 0, 0, 0, 0, 0, 0, 0, 0, 0, 0, 0,\n",
              "       0, 0, 0, 0, 0, 0, 0, 0, 0, 0, 0, 0, 0, 0, 0, 0, 0, 0, 0, 0, 0, 0,\n",
              "       0, 0, 0, 0, 0, 0, 0, 0, 0, 0, 0, 0, 0, 0, 0, 0, 0, 0, 0, 0, 0, 0,\n",
              "       0, 0, 0, 0, 0, 0, 0, 0, 0, 0, 0, 0, 0, 0, 0, 0, 0, 0, 0, 0, 0])"
            ]
          },
          "metadata": {},
          "execution_count": 228
        }
      ]
    },
    {
      "cell_type": "code",
      "metadata": {
        "colab": {
          "base_uri": "https://localhost:8080/"
        },
        "id": "ibhOaoznAdu2",
        "outputId": "d4eae851-f38e-4d69-9981-273af7ee7fb5"
      },
      "source": [
        "means[0].astype(int)"
      ],
      "execution_count": 229,
      "outputs": [
        {
          "output_type": "execute_result",
          "data": {
            "text/plain": [
              "array([0, 0, 0, 0, 0, 0, 0, 0, 0, 0, 0, 0, 0, 0, 0, 0, 0, 0, 0, 0, 0, 0,\n",
              "       0, 0, 0, 0, 0, 0, 0, 0, 0, 0, 0, 0, 0, 0, 0, 0, 0, 0, 0, 0, 0, 0,\n",
              "       0, 0, 0, 0, 0, 0, 0, 0, 0, 0, 0, 0, 0, 0, 0, 0, 0, 0, 0, 0, 0, 0,\n",
              "       0, 0, 0, 0, 0, 0, 0, 0, 0, 0, 0, 0, 0, 0, 0, 0, 0, 0, 0, 0, 0])"
            ]
          },
          "metadata": {},
          "execution_count": 229
        }
      ]
    },
    {
      "cell_type": "code",
      "metadata": {
        "colab": {
          "base_uri": "https://localhost:8080/",
          "height": 292
        },
        "id": "t9skHuXUHebb",
        "outputId": "b23eeddb-b62b-4123-a7d7-bb4986b6fee3"
      },
      "source": [
        "plt.imshow(gt[\"centroids\"][method], aspect=\"auto\")"
      ],
      "execution_count": 230,
      "outputs": [
        {
          "output_type": "execute_result",
          "data": {
            "text/plain": [
              "<matplotlib.image.AxesImage at 0x7f8123f23d10>"
            ]
          },
          "metadata": {},
          "execution_count": 230
        },
        {
          "output_type": "display_data",
          "data": {
            "image/png": "[encoded data removed]",
            "text/plain": [
              "<Figure size 432x288 with 1 Axes>"
            ]
          },
          "metadata": {
            "image/png": {
              "width": 368,
              "height": 258
            },
            "needs_background": "light"
          }
        }
      ]
    },
    {
      "cell_type": "code",
      "metadata": {
        "colab": {
          "base_uri": "https://localhost:8080/",
          "height": 292
        },
        "id": "kwOv_C5sCf_P",
        "outputId": "f7a08e43-96cf-4880-f12d-e981689e7a2f"
      },
      "source": [
        "plt.imshow(means_init, aspect=\"auto\")"
      ],
      "execution_count": 231,
      "outputs": [
        {
          "output_type": "execute_result",
          "data": {
            "text/plain": [
              "<matplotlib.image.AxesImage at 0x7f8123f41890>"
            ]
          },
          "metadata": {},
          "execution_count": 231
        },
        {
          "output_type": "display_data",
          "data": {
            "image/png": "[encoded data removed]",
            "text/plain": [
              "<Figure size 432x288 with 1 Axes>"
            ]
          },
          "metadata": {
            "image/png": {
              "width": 368,
              "height": 258
            },
            "needs_background": "light"
          }
        }
      ]
    },
    {
      "cell_type": "code",
      "metadata": {
        "colab": {
          "base_uri": "https://localhost:8080/"
        },
        "id": "qAZy-0LZIG7M",
        "outputId": "525ea795-2679-4c70-f4d4-4323776396bd"
      },
      "source": [
        "centroids[0].astype(int)"
      ],
      "execution_count": 232,
      "outputs": [
        {
          "output_type": "execute_result",
          "data": {
            "text/plain": [
              "array([0, 0, 0, 0, 0, 0, 0, 1, 0, 0, 0, 0, 0, 0, 0, 0, 0, 0, 0, 0, 0, 0,\n",
              "       0, 0, 0, 0, 0, 0, 0, 0, 0, 0, 0, 0, 0, 0, 0, 0, 0, 0, 0, 0, 0, 0,\n",
              "       0, 0, 0, 0, 0, 0, 0, 0, 0, 0, 0, 0, 0, 0, 0, 0, 0, 0, 0, 0, 0, 0,\n",
              "       0, 0, 0, 0, 0, 0, 0, 0, 0, 0, 0, 0, 0, 0, 0, 0, 0, 0, 0, 0, 0])"
            ]
          },
          "metadata": {},
          "execution_count": 232
        }
      ]
    },
    {
      "cell_type": "code",
      "metadata": {
        "colab": {
          "base_uri": "https://localhost:8080/"
        },
        "id": "jRX5gzQcH-pW",
        "outputId": "2c5ae996-3d0f-488e-8a9f-3377def7fe03"
      },
      "source": [
        "[centroids[i][markers_ec[i]].min() for i in range(centroids.shape[0])]"
      ],
      "execution_count": 233,
      "outputs": [
        {
          "output_type": "execute_result",
          "data": {
            "text/plain": [
              "[0.1093398883877377,\n",
              " -0.6375596272347058,\n",
              " -0.5462086602455342,\n",
              " -0.26039903516903984,\n",
              " -0.23511839732320253,\n",
              " -0.3083394414201559,\n",
              " -0.1765265911288329,\n",
              " -0.03671714244617934,\n",
              " -0.04664190478299277,\n",
              " -0.0773611420562659]"
            ]
          },
          "metadata": {},
          "execution_count": 233
        }
      ]
    },
    {
      "cell_type": "code",
      "metadata": {
        "colab": {
          "base_uri": "https://localhost:8080/"
        },
        "id": "gO3qtjVeI6DY",
        "outputId": "be54daff-d616-4d3c-e8d5-63f67b9b7120"
      },
      "source": [
        "group = 0\n",
        "G[np.where(z==group)[0]][0].astype(int)#[B[group].astype(bool)]"
      ],
      "execution_count": 234,
      "outputs": [
        {
          "output_type": "execute_result",
          "data": {
            "text/plain": [
              "array([ 0,  0,  1,  0,  3,  0,  4,  5,  2,  1,  6,  0,  0, 19, 15,  0,  4,\n",
              "        1, 17,  0,  0,  0,  1, 12,  0,  0,  0,  0,  0,  0,  0,  0,  0,  1,\n",
              "        0, 11,  0,  1,  2,  0,  1,  4,  3,  6,  5,  0,  0,  3,  0, 35,  4,\n",
              "       22,  0,  0,  0,  0,  0,  0,  0,  0,  0,  0,  6,  4,  0,  0,  0,  0,\n",
              "        0,  0,  0,  3,  0,  0,  0,  0,  0,  0,  7,  1,  1,  0,  0,  4,  0,\n",
              "        0,  2])"
            ]
          },
          "metadata": {},
          "execution_count": 234
        }
      ]
    },
    {
      "cell_type": "code",
      "metadata": {
        "colab": {
          "base_uri": "https://localhost:8080/"
        },
        "id": "MleYaTHuI2av",
        "outputId": "3aca1eea-3ab2-4ca1-ea85-226c73def88c"
      },
      "source": [
        "X[np.where(z==0)[0]][0].astype(int)"
      ],
      "execution_count": 54,
      "outputs": [
        {
          "output_type": "execute_result",
          "data": {
            "text/plain": [
              "array([    0,     0,   460,     0,  1382,     0,  1843,  2304,   921,\n",
              "         460,  2764,     0,     0,  8755,  6912,     0,  1843,   460,\n",
              "        7834,     0,     0,     0,   460,  5529,     0,     0,     0,\n",
              "           0,     0,     0,     0,     0,     0,   460,     0,  5069,\n",
              "           0,   460,   921,     0,   460,  1843,  1382,  2764,  2304,\n",
              "           0,     0,  1382,     0, 16129,  1843, 10138,     0,     0,\n",
              "           0,     0,     0,     0,     0,     0,     0,     0,  2764,\n",
              "        1843,     0,     0,     0,     0,     0,     0,     0,  1382,\n",
              "           0,     0,     0,     0,     0,     0,  3225,   460,   460,\n",
              "           0,     0,  1843,     0,     0,   921])"
            ]
          },
          "metadata": {},
          "execution_count": 54
        }
      ]
    },
    {
      "cell_type": "code",
      "metadata": {
        "colab": {
          "base_uri": "https://localhost:8080/"
        },
        "id": "9h_7Rd4ZItVk",
        "outputId": "3c9bd25e-a363-4354-ceab-6aed4d74adeb"
      },
      "source": [
        "X_norm[np.where(z==0)[0]][0].astype(int)"
      ],
      "execution_count": 55,
      "outputs": [
        {
          "output_type": "execute_result",
          "data": {
            "text/plain": [
              "array([  -60,   -23,   -94,   -94,   709,  -306,   -19,   933,   740,\n",
              "        -279,  2107,   -15,   -87,  1319, -1263,  -159,   -80,  -170,\n",
              "        2708, -1028,  -238,  -200,  -934,   155,  -425,  -198,  -335,\n",
              "        -223,  -660,  -233,   -35,  -704, -1612,  -175,   -35,  2833,\n",
              "         -18,   233,  -202, -1473,  -522,   340, -2747,  2305,  -117,\n",
              "         -50,   -98,  1215,  -489,  3476, -4136,  4556,   -77,    -8,\n",
              "         -79,  -205,  -153,   -52,   -34,   -12,   -65,  -153,  -124,\n",
              "         279,  -212,   -59,  -108,   -56,   -62,   -60,   -10,   122,\n",
              "        -947,    -7,  -467,   -68,   -45,   -14,  -531, -1572,  -460,\n",
              "         -46,   -22,   777,   -10,  -189,   660])"
            ]
          },
          "metadata": {},
          "execution_count": 55
        }
      ]
    },
    {
      "cell_type": "code",
      "metadata": {
        "id": "4OMoBh6NAgLb"
      },
      "source": [
        "ct_mins = [means[i][markers_ec[i]].min() for i in range(means.shape[0])]\n",
        "marker_gene_indices = [set(markers_ec[i]) for i in range(means.shape[0])]\n",
        "# modify based on the min/f\n",
        "f = 2.\n",
        "for idx, i in enumerate(means):\n",
        "    ct_min = ct_mins[idx]\n",
        "    betas = means[idx]\n",
        "    for jdx, b in enumerate(betas):\n",
        "        if jdx not in marker_gene_indices[idx]:\n",
        "            new = min(b, ct_min / f)\n",
        "            means[idx][jdx] = new"
      ],
      "execution_count": 56,
      "outputs": []
    },
    {
      "cell_type": "code",
      "metadata": {
        "colab": {
          "base_uri": "https://localhost:8080/"
        },
        "id": "ElVYupqxBSl1",
        "outputId": "d7e3f8eb-473b-4674-d6dc-fa3492776182"
      },
      "source": [
        "ct_mins"
      ],
      "execution_count": 57,
      "outputs": [
        {
          "output_type": "execute_result",
          "data": {
            "text/plain": [
              "[-232.25916780512034,\n",
              " -1130.4137677066951,\n",
              " -763.0176216855664,\n",
              " -435.726385616939,\n",
              " -278.3951189777839,\n",
              " -99.65663887426552,\n",
              " -12.12409839152214,\n",
              " -12.363018492847164,\n",
              " 0.05869210020966874,\n",
              " 13.542963243455631]"
            ]
          },
          "metadata": {},
          "execution_count": 57
        }
      ]
    },
    {
      "cell_type": "code",
      "metadata": {
        "colab": {
          "base_uri": "https://localhost:8080/"
        },
        "id": "BpkWA0qMBLkH",
        "outputId": "73d79e6c-65fe-4e2e-a59f-3d1ea5f3a77c"
      },
      "source": [
        "means[1][B[1].astype(bool)]"
      ],
      "execution_count": 59,
      "outputs": [
        {
          "output_type": "execute_result",
          "data": {
            "text/plain": [
              "array([  -16.79812564, -1130.41376771,  -199.76495733,  -136.24236779,\n",
              "         312.30238046,   -89.28246248,  -202.59225044,  -435.63088243])"
            ]
          },
          "metadata": {},
          "execution_count": 59
        }
      ]
    },
    {
      "cell_type": "code",
      "metadata": {
        "colab": {
          "base_uri": "https://localhost:8080/"
        },
        "id": "IYEODPSIBMoR",
        "outputId": "ddd6429e-d081-4f21-fbc0-c69f02901285"
      },
      "source": [
        "means_init[1].astype(int)"
      ],
      "execution_count": 60,
      "outputs": [
        {
          "output_type": "execute_result",
          "data": {
            "text/plain": [
              "array([0, 0, 0, 0, 0, 0, 0, 0, 0, 0, 0, 0, 0, 0, 0, 0, 0, 0, 0, 0, 0, 0,\n",
              "       0, 0, 0, 0, 0, 0, 0, 0, 0, 0, 0, 0, 0, 0, 0, 0, 0, 0, 0, 0, 0, 0,\n",
              "       0, 0, 0, 0, 0, 0, 0, 0, 0, 0, 0, 0, 0, 0, 0, 0, 0, 0, 0, 0, 0, 0,\n",
              "       0, 0, 0, 0, 0, 0, 0, 0, 0, 0, 0, 0, 0, 0, 0, 0, 0, 0, 0, 0, 0])"
            ]
          },
          "metadata": {},
          "execution_count": 60
        }
      ]
    },
    {
      "cell_type": "code",
      "metadata": {
        "colab": {
          "base_uri": "https://localhost:8080/"
        },
        "id": "6E9kTYeNBf-r",
        "outputId": "bbebe99b-72cd-4824-f419-29d92cf23e27"
      },
      "source": [
        "centroids[1].astype(int)"
      ],
      "execution_count": 61,
      "outputs": [
        {
          "output_type": "execute_result",
          "data": {
            "text/plain": [
              "array([    0,     0,     0,     0,     0,     0,     0,     0,     0,\n",
              "           0,     0,     0,  4563, 35117, 30285,  6597, 16258, 10907,\n",
              "       26247, 20846,     0,     0,     0,     0,     0,     0,     0,\n",
              "           0,     0,     0,     0,     0,     0,     0,     0,     0,\n",
              "           0,     0,     0,     0,     0,     0,     0,     0,     0,\n",
              "           0,     0,     0,     0,     0,     0,     0,     0,     0,\n",
              "           0,     0,     0,     0,     0,     0,     0,     0,     0,\n",
              "           0,     0,     0,     0,     0,     0,     0,     0,     0,\n",
              "           0,     0,     0,     0,     0,     0,     0,     0,     0,\n",
              "           0,     0,     0,     0,     0,     0])"
            ]
          },
          "metadata": {},
          "execution_count": 61
        }
      ]
    },
    {
      "cell_type": "code",
      "metadata": {
        "colab": {
          "base_uri": "https://localhost:8080/"
        },
        "id": "-cCbaxInBw1h",
        "outputId": "b857b676-ff68-4157-c512-1e0ae010e19d"
      },
      "source": [
        "resp.sum(0)"
      ],
      "execution_count": 62,
      "outputs": [
        {
          "output_type": "execute_result",
          "data": {
            "text/plain": [
              "array([   65.79444444,    65.79444444,    65.79444444,    65.79444444,\n",
              "          65.79444444,    66.73888889, 11237.62777778,    66.73888889,\n",
              "          75.23888889,    67.68333333])"
            ]
          },
          "metadata": {},
          "execution_count": 62
        }
      ]
    },
    {
      "cell_type": "code",
      "metadata": {
        "id": "KYUxHfJsDbYj"
      },
      "source": [
        ""
      ],
      "execution_count": null,
      "outputs": []
    }
  ]
}